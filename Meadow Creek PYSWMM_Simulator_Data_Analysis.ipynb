{
 "cells": [
  {
   "cell_type": "code",
   "execution_count": 1,
   "metadata": {},
   "outputs": [],
   "source": [
    "import numpy as np\n",
    "import pandas as pd\n",
    "import matplotlib.pyplot as plt\n",
    "import random\n",
    "import pyswmm\n",
    "from pyswmm import Simulation, LidControls, LidGroups, Subcatchments, Nodes\n",
    "import os\n",
    "import swmm\n",
    "import swmmio as sio"
   ]
  },
  {
   "cell_type": "markdown",
   "metadata": {},
   "source": [
    "The following block of code will run a SWMM model and output a .txt report file. "
   ]
  },
  {
   "cell_type": "code",
   "execution_count": 2,
   "metadata": {},
   "outputs": [],
   "source": [
    "with Simulation(r\"C:\\Users\\R. Seth Herbst\\Desktop\\SWMM Programs and Files\\MeadowCreekSWMM\\Meadow_Creek_Hydrology_Model_UpdatedFeb2021.inp\", reportfile = r'C:\\Users\\R. Seth Herbst\\Desktop\\SWMM Programs and Files\\MeadowCreekSWMM\\Meadow_Creek_Hydrology_Model_UpdatedFeb2021.txt') as sim:\n",
    "                                       \n",
    "                    \n",
    "                    # 3 days in seconds - This will be used as the routing step\n",
    "                    control_time_step = 86400*3\n",
    "                    sim.step_advance(control_time_step)\n",
    "                       \n",
    "\n",
    "                # Run the simulation\n",
    "                    for step in sim:\n",
    "                        pass\n",
    "\n",
    "                    sim.report()\n",
    "                    sim.close()"
   ]
  },
  {
   "cell_type": "markdown",
   "metadata": {},
   "source": [
    "The following blocks access the time series data for subcatchment 73461 from our report file. "
   ]
  },
  {
   "cell_type": "code",
   "execution_count": 3,
   "metadata": {},
   "outputs": [],
   "source": [
    "# This is for Subcatchment 73461\n",
    "reportColumns = [str(i) for i in np.arange(0,7)]\n",
    "rpt_73461 = pd.read_csv(r\"C:\\Users\\R. Seth Herbst\\Desktop\\SWMM Programs and Files\\MeadowCreekSWMM\\Meadow_Creek_Hydrology_Model_UpdatedFeb2021.txt\", skiprows = 7375, nrows = 78, sep=\"   |    \", names = reportColumns, header = None, engine = 'python')\n",
    "rpt_73461.dropna(axis = 1, inplace = True); # This might be redundant\n",
    "# Check df.head before renaming the columns\n",
    "rpt_73461.rename(columns = {'0':'Date','2':'Precip (mm/hr)','3':'Losses (mm/hr)','4':'Runoff (CFS)','5':'Total Nitrogen (mg/L)','6':'Total Phosphorous (mg/L)'},inplace = True)"
   ]
  },
  {
   "cell_type": "code",
   "execution_count": 4,
   "metadata": {},
   "outputs": [
    {
     "data": {
      "text/html": [
       "<div>\n",
       "<style scoped>\n",
       "    .dataframe tbody tr th:only-of-type {\n",
       "        vertical-align: middle;\n",
       "    }\n",
       "\n",
       "    .dataframe tbody tr th {\n",
       "        vertical-align: top;\n",
       "    }\n",
       "\n",
       "    .dataframe thead th {\n",
       "        text-align: right;\n",
       "    }\n",
       "</style>\n",
       "<table border=\"1\" class=\"dataframe\">\n",
       "  <thead>\n",
       "    <tr style=\"text-align: right;\">\n",
       "      <th></th>\n",
       "      <th>Date</th>\n",
       "      <th>Precip (mm/hr)</th>\n",
       "      <th>Losses (mm/hr)</th>\n",
       "      <th>Runoff (CFS)</th>\n",
       "      <th>Total Nitrogen (mg/L)</th>\n",
       "      <th>Total Phosphorous (mg/L)</th>\n",
       "    </tr>\n",
       "  </thead>\n",
       "  <tbody>\n",
       "    <tr>\n",
       "      <th>0</th>\n",
       "      <td>01/01/2000 00:30:00</td>\n",
       "      <td>0.011</td>\n",
       "      <td>0.003</td>\n",
       "      <td>0.0000</td>\n",
       "      <td>0.000</td>\n",
       "      <td>0.0</td>\n",
       "    </tr>\n",
       "    <tr>\n",
       "      <th>1</th>\n",
       "      <td>01/01/2000 01:00:00</td>\n",
       "      <td>0.011</td>\n",
       "      <td>0.002</td>\n",
       "      <td>0.0182</td>\n",
       "      <td>0.792</td>\n",
       "      <td>0.0</td>\n",
       "    </tr>\n",
       "    <tr>\n",
       "      <th>2</th>\n",
       "      <td>01/01/2000 01:30:00</td>\n",
       "      <td>0.011</td>\n",
       "      <td>0.002</td>\n",
       "      <td>0.0247</td>\n",
       "      <td>0.878</td>\n",
       "      <td>0.0</td>\n",
       "    </tr>\n",
       "    <tr>\n",
       "      <th>3</th>\n",
       "      <td>01/01/2000 02:00:00</td>\n",
       "      <td>0.013</td>\n",
       "      <td>0.003</td>\n",
       "      <td>0.0279</td>\n",
       "      <td>0.914</td>\n",
       "      <td>0.0</td>\n",
       "    </tr>\n",
       "    <tr>\n",
       "      <th>4</th>\n",
       "      <td>01/01/2000 02:30:00</td>\n",
       "      <td>0.013</td>\n",
       "      <td>0.003</td>\n",
       "      <td>0.0326</td>\n",
       "      <td>0.911</td>\n",
       "      <td>0.0</td>\n",
       "    </tr>\n",
       "  </tbody>\n",
       "</table>\n",
       "</div>"
      ],
      "text/plain": [
       "                  Date  Precip (mm/hr)  Losses (mm/hr)  Runoff (CFS)  \\\n",
       "0  01/01/2000 00:30:00           0.011           0.003        0.0000   \n",
       "1  01/01/2000 01:00:00           0.011           0.002        0.0182   \n",
       "2  01/01/2000 01:30:00           0.011           0.002        0.0247   \n",
       "3  01/01/2000 02:00:00           0.013           0.003        0.0279   \n",
       "4  01/01/2000 02:30:00           0.013           0.003        0.0326   \n",
       "\n",
       "   Total Nitrogen (mg/L)  Total Phosphorous (mg/L)  \n",
       "0                  0.000                       0.0  \n",
       "1                  0.792                       0.0  \n",
       "2                  0.878                       0.0  \n",
       "3                  0.914                       0.0  \n",
       "4                  0.911                       0.0  "
      ]
     },
     "execution_count": 4,
     "metadata": {},
     "output_type": "execute_result"
    }
   ],
   "source": [
    "pd.set_option('max_columns', None)\n",
    "rpt_73461.head()"
   ]
  },
  {
   "cell_type": "code",
   "execution_count": 13,
   "metadata": {},
   "outputs": [
    {
     "data": {
      "text/plain": [
       "12.8466"
      ]
     },
     "execution_count": 13,
     "metadata": {},
     "output_type": "execute_result"
    }
   ],
   "source": [
    "#Peak flow value\n",
    "rpt_73461['Runoff (CFS)'].max()"
   ]
  },
  {
   "cell_type": "code",
   "execution_count": 12,
   "metadata": {},
   "outputs": [
    {
     "data": {
      "text/plain": [
       "0.5081399999999998"
      ]
     },
     "execution_count": 12,
     "metadata": {},
     "output_type": "execute_result"
    }
   ],
   "source": [
    "#Mean runoff CFS\n",
    "rpt_73461[rpt_73461['Runoff (CFS)']!=0]['Runoff (CFS)'].mean()"
   ]
  },
  {
   "cell_type": "code",
   "execution_count": 24,
   "metadata": {},
   "outputs": [
    {
     "data": {
      "text/plain": [
       "16.249958916583683"
      ]
     },
     "execution_count": 24,
     "metadata": {},
     "output_type": "execute_result"
    }
   ],
   "source": [
    "# Nitrogen Load EMC (mg/s)\n",
    "rpt_73461[rpt_73461['Total Nitrogen (mg/L)']!=0]['Total Nitrogen (mg/L)'].mean() * rpt_73461[rpt_73461['Runoff (CFS)']!=0]['Runoff (CFS)'].mean()*28.3168"
   ]
  },
  {
   "cell_type": "raw",
   "metadata": {},
   "source": [
    "Produce a rainfall-runoff graph"
   ]
  },
  {
   "cell_type": "code",
   "execution_count": 13,
   "metadata": {},
   "outputs": [
    {
     "data": {
      "image/png": "[encoded data removed]",
      "text/plain": [
       "<Figure size 432x360 with 2 Axes>"
      ]
     },
     "metadata": {
      "needs_background": "light"
     },
     "output_type": "display_data"
    }
   ],
   "source": [
    "fig,ax1 = plt.subplots(figsize=(6,5))\n",
    "line1 = ax1.plot(rpt_73461['Runoff (CMS)']); plt.ylim((-0.001,15)); plt.xlabel('Time Instances (Hours)'); plt.ylabel('Runoff (CMS)');\n",
    "ax1.legend(['Runoff'],loc='lower left'); ax2 = ax1.twinx(); line2 = ax2.plot(rpt_73461['Precip (mm/hr)'],color='orangered');\n",
    "plt.ylim((-0.01,1.4)); plt.ylabel('Precipitation (mm/hr)'); plt.gca().invert_yaxis(); ax2.grid(False); ax2.legend(['Precip'],loc='upper right');"
   ]
  }
 ],
 "metadata": {
  "kernelspec": {
   "display_name": "Python 3",
   "language": "python",
   "name": "python3"
  },
  "language_info": {
   "codemirror_mode": {
    "name": "ipython",
    "version": 3
   },
   "file_extension": ".py",
   "mimetype": "text/x-python",
   "name": "python",
   "nbconvert_exporter": "python",
   "pygments_lexer": "ipython3",
   "version": "3.8.5"
  }
 },
 "nbformat": 4,
 "nbformat_minor": 4
}
