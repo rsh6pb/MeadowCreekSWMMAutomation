{
 "cells": [
  {
   "cell_type": "markdown",
   "metadata": {},
   "source": [
    "# Required Python Libraries"
   ]
  },
  {
   "cell_type": "code",
   "execution_count": 1,
   "metadata": {},
   "outputs": [],
   "source": [
    "import numpy as np\n",
    "import pandas as pd\n",
    "import matplotlib.pyplot as plt\n",
    "import random\n",
    "import pyswmm\n",
    "from pyswmm import Simulation, LidControls, LidGroups, Subcatchments, Nodes\n",
    "import os\n",
    "import swmm\n",
    "import swmmio as sio"
   ]
  },
  {
   "cell_type": "markdown",
   "metadata": {},
   "source": [
    "# SUBBASIN DICTIONARIES (Dictionaries will be referenced throughout the code)"
   ]
  },
  {
   "cell_type": "code",
   "execution_count": 2,
   "metadata": {},
   "outputs": [],
   "source": [
    "#Subbasin LID Feasble Area Dictionaries\n",
    "raingarden_feasible_areas = {'72591': 55583.9368, '72631': 19815.3296, '72671': 44162.83, '72731': 21000.83666, '72781': 23024.24035, '72951': 43306.46711, '73081': 13920.64411, '73121': 23892.97048, '73171': 0.0, '73181': 3385.30813, '73201': 9353.089577, '73211': 12806.63365, '73301': 636.1767258, '73321': 671.0354, '73391': 9520.57, '73421': 0.0, '73461': 5787.304599, '73531': 20854.943, '73551': 11511.16, '73571': 8611.12}\n",
    "permeablepavement_feasible_areas = {'72591': 0.0, '72631': 3592.054222, '72671': 0.0, '72731': 9935.438827, '72781': 12553.53077, '72951': 14386.89196, '73081': 9687.51, '73121': 12827.45501, '73171': 9776.734992, '73181': 7534.73, '73201': 30138.92, '73211': 1076.39, '73301': 17222.24, '73321': 6647.736192, '73391': 1076.39, '73421': 7345.333808, '73461': 25833.36, '73531': 32600.9754, '73551': 0.0, '73571': 20832.98346}\n",
    "greenroof_feasible_areas = {'72591': 2152.78, '72631': 12921.38023, '72671': 1173.503467, '72731': 29062.53, '72781': 7534.73, '72951': 9687.51, '73081': 21384.84111, '73121': 9357.285313, '73171': 16289.43527, '73181': 6990.681118, '73201': 30615.11554, '73211': 1296.256317, '73301': 16630.5235, '73321': 26148.32693, '73391': 0.0, '73421': 20630.7033, '73461': 71257.33823, '73531': 52908.96152, '73551': 10049.59107, '73571': 37450.83357}\n",
    "bioretention_feasible_areas = {'72591': 1076.39, '72631': 1076.39, '72671': 1076.39, '72731': 3229.17, '72781': 7.996802699, '72951': 1068.393197, '73081': 0.0, '73121': 5381.95, '73171': 0.0, '73181': 0.0, '73201': 0.0, '73211': 0.0, '73301': 0.0, '73321': 0.0, '73391': 1076.39, '73421': 0.0, '73461': 0.0, '73531': 1076.39, '73551': 0.0, '73571': 4305.56}\n",
    "grassswale_feasible_areas = {'73081': 7534.73, '72671': 0.0, '72591': 2152.78, '72631': 3229.17, '72781': 0.0, '72731': 0.0, '72951': 10763.9, '73211': 0.0, '73181': 0.0, '73171': 0.0, '73121': 2152.78, '73201': 0.0, '73301': 0.0, '73321': 0.0, '73391': 10096.5382, '73461': 0.0, '73421': 0.0, '73551': 0.0, '73531': 0.0, '73571': 5177.4359}\n",
    "\n",
    "#Other LID Dictionaries\n",
    "raingarden_standard_surfaceareas = {'72591': 616.6014319, '72631': 871.622691, '72671': 699.6268099, '72731': 762.1321942, '72781': 695.4204566, '72951': 567.673537, '73081': 765.5796487, '73121': 816.0431198, '73171': 913.0600918, '73181': 1017.27915, '73201': 936.7333456, '73211': 598.6061559, '73301': 950.2543445, '73321': 1105.661561, '73391': 677.1456018, '73421': 1137.466808, '73461': 1138.968494, '73531': 1058.328457, '73551': 1058.44356, '73571': 1112.715481}\n",
    "bioretention_standard_surfaceareas = {'72591': 3212.817987, '72631': 4541.612969, '72671': 3645.423904, '72731': 3971.109854, '72781': 3623.50659, '72951': 2957.877903, '73081': 3989.072906, '73121': 4252.014151, '73171': 4757.523636, '73181': 5300.559781, '73201': 4880.873748, '73211': 3119.053128, '73301': 4951.325269, '73321': 5761.078663, '73391': 3528.284978, '73421': 5926.800739, '73461': 5934.625311, '73531': 5514.448276, '73551': 5515.048024, '73571': 5797.833294}\n",
    "grassswale_standard_surfaceareas = {'72591': 7460.877325, '72631': 10546.63456, '72671': 8465.4844, '72731': 9221.799549, '72781': 8414.587525, '72951': 6868.849797, '73081': 9263.513749, '73121': 9874.12175, '73171': 11048.02711, '73181': 12309.07771, '73201': 11334.47348, '73211': 7243.134487, '73301': 11498.07757, '73321': 13378.50489, '73391': 8193.461781, '73421': 13763.34838, '73461': 13781.51878, '73531': 12805.77433, '73551': 12807.16708, '73571': 13463.85732}\n",
    "\n",
    "\n",
    "#Other Subbasin Characteristic Dictionaries\n",
    "subbasin_areas = {'72591': 930398.04, '72631': 952047.36, '72671': 1011681.0, '72731': 954530.28, '72781': 1649965.68, '72951': 1785524.4, '73081': 1531569.6, '73121': 1481911.2, '73171': 677488.68, '73181': 626044.32, '73201': 922731.48, '73211': 1332718.2, '73301': 1379980.8, '73321': 629311.32, '73391': 762430.68, '73421': 672827.76, '73461': 708067.8, '73531': 677662.92, '73551': 603218.88, '73571': 368648.28}\n",
    "subbasin_imperv_areas = {'72591': 230720.106, '72631': 418386.7328, '72671': 294287.8861, '72731': 506340.1323, '72781': 530480.4658, '72951': 419348.2606, '73081': 545667.6171, '73121': 717393.2119, '73171': 390782.2455, '73181': 431162.9836, '73201': 494805.5288, '73211': 431094.3562, '73301': 632569.3989, '73321': 437044.1255, '73391': 164067.458, '73421': 504230.5799, '73461': 532764.3741, '73531': 469972.7883, '73551': 412975.7096, '73571': 253029.1199}\n",
    "subbasin_perv_areas = {'72591': 699677.934, '72631': 533660.6272, '72671': 717393.1139, '72731': 448190.1477, '72781': 1119485.214, '72951': 1366176.139, '73081': 985901.9829, '73121': 764517.9881, '73171': 286706.4345, '73181': 194881.3364, '73201': 427925.9512, '73211': 901623.8438, '73301': 747411.4011, '73321': 192267.1945, '73391': 598363.222, '73421': 168597.1801, '73461': 175303.4259, '73531': 207690.1317, '73551': 190243.1704, '73571': 115619.1601}\n",
    "subbasin_flowlengths = {'72591': 1094.586, '72631': 793.373, '72671': 1445.259, '72731': 1272.707, '72781': 1833.295, '72951': 915.654, '73081': 957.231, '73121': 4234.032, '73171': 615.899, '73181': 2086.814, '73201': 1419.587, '73211': 1665.898, '73301': 2759.962, '73321': 968.171, '73391': 476.519, '73421': 480.591, '73461': 708.068, '73531': 1042.558, '73551': 928.029, '73571': 1053.281}\n"
   ]
  },
  {
   "cell_type": "markdown",
   "metadata": {},
   "source": [
    "# LID Area Scenario Generator. Can only run one of these. Must Comment out the option that isnt being used!"
   ]
  },
  {
   "cell_type": "markdown",
   "metadata": {},
   "source": [
    "## Option 1: Manually Change in Block Below"
   ]
  },
  {
   "cell_type": "code",
   "execution_count": 3,
   "metadata": {},
   "outputs": [],
   "source": [
    "# raingarden_assigned_areas = {'72591': None, '72631': None, '72671': None, '72731': None, '72781': None, '72951': None, '73081': None, '73121': None, '73171': None, '73181': None, '73201': None, '73211': None, '73301': None, '73321': None, '73391': None, '73421': None, '73461': None, '73531': None, '73551': None, '73571': None}\n",
    "# permeablepavement_assigned_areas = {'72591': None, '72631': None, '72671': None, '72731': None, '72781': None, '72951': None, '73081': None, '73121': None, '73171': None, '73181': None, '73201': None, '73211': None, '73301': None, '73321': None, '73391': None, '73421': None, '73461': None, '73531': None, '73551': None, '73571': None}\n",
    "# greenroof_assigned_areas = {'72591': None, '72631': None, '72671': None, '72731': None, '72781': None, '72951': None, '73081': None, '73121': None, '73171': None, '73181': None, '73201': None, '73211': None, '73301': None, '73321': None, '73391': None, '73421': None, '73461': None, '73531': None, '73551': None, '73571': None}\n",
    "# bioretention_assigned_areas = {'72591': None, '72631': None, '72671': None, '72731': None, '72781': None, '72951': None, '73081': None, '73121': None, '73171': None, '73181': None, '73201': None, '73211': None, '73301': None, '73321': None, '73391': None, '73421': None, '73461': None, '73531': None, '73551': None, '73571': None}\n",
    "# grassswale_assigned_areas = {'72591': None, '72631': None, '72671': None, '72731': None, '72781': None, '72951': None, '73081': None, '73121': None, '73171': None, '73181': None, '73201': None, '73211': None, '73301': None, '73321': None, '73391': None, '73421': None, '73461': None, '73531': None, '73551': None, '73571': None}"
   ]
  },
  {
   "cell_type": "markdown",
   "metadata": {},
   "source": [
    "## Option 2: Random LID Area allocation"
   ]
  },
  {
   "cell_type": "code",
   "execution_count": 4,
   "metadata": {},
   "outputs": [],
   "source": [
    "#Generating random area allocation scenarios for each subcatchment. \n",
    "### Random LID scenario generator.  \n",
    "\n",
    "allocations_fractions_list = [1]\n",
    "\n",
    "for key in raingarden_feasible_areas:\n",
    "    raingarden_assigned_areas = raingarden_feasible_areas\n",
    "    raingarden_assigned_areas[key] *= random.choice(allocations_fractions_list)\n",
    "            \n",
    "\n",
    "for key in greenroof_feasible_areas:\n",
    "    greenroof_assigned_areas = greenroof_feasible_areas\n",
    "    greenroof_assigned_areas[key] *= random.choice(allocations_fractions_list)\n",
    "    \n",
    "    \n",
    "for key in permeablepavement_feasible_areas:\n",
    "    permeablepavement_assigned_areas = permeablepavement_feasible_areas\n",
    "    permeablepavement_assigned_areas[key] *= random.choice(allocations_fractions_list)\n",
    "    \n",
    "\n",
    "for key in bioretention_feasible_areas:\n",
    "    bioretention_assigned_areas = bioretention_feasible_areas\n",
    "    bioretention_assigned_areas[key] *= random.choice(allocations_fractions_list)\n",
    "    \n",
    "    \n",
    "for key in grassswale_feasible_areas:\n",
    "    grassswale_assigned_areas = grassswale_feasible_areas\n",
    "    grassswale_assigned_areas[key] *= random.choice(allocations_fractions_list)\n",
    "\n"
   ]
  },
  {
   "cell_type": "code",
   "execution_count": 5,
   "metadata": {},
   "outputs": [
    {
     "name": "stdout",
     "output_type": "stream",
     "text": [
      "{'72591': 0.0, '72631': 3592.054222, '72671': 0.0, '72731': 9935.438827, '72781': 12553.53077, '72951': 14386.89196, '73081': 9687.51, '73121': 12827.45501, '73171': 9776.734992, '73181': 7534.73, '73201': 30138.92, '73211': 1076.39, '73301': 17222.24, '73321': 6647.736192, '73391': 1076.39, '73421': 7345.333808, '73461': 25833.36, '73531': 32600.9754, '73551': 0.0, '73571': 20832.98346}\n"
     ]
    }
   ],
   "source": [
    "#print(raingarden_feasible_areas)\n",
    "print(permeablepavement_assigned_areas)"
   ]
  },
  {
   "cell_type": "code",
   "execution_count": null,
   "metadata": {},
   "outputs": [],
   "source": []
  },
  {
   "cell_type": "markdown",
   "metadata": {},
   "source": [
    "# Calculate total implemented LID areas for each subbasin"
   ]
  },
  {
   "cell_type": "code",
   "execution_count": 6,
   "metadata": {},
   "outputs": [
    {
     "name": "stdout",
     "output_type": "stream",
     "text": [
      "{'72591': 60965.8868, '72631': 40634.324051999996, '72671': 46412.723467, '72731': 63227.975486999996, '72781': 43120.497922699, '72951': 79213.16226699999, '73081': 52527.72522000001, '73121': 53612.44080299999, '73171': 26066.170262, '73181': 17910.719248, '73201': 70107.125117, '73211': 15179.279967, '73301': 34488.940225800005, '73321': 33467.098522, '73391': 21769.8882, '73421': 27976.037108, '73461': 102878.00282899999, '73531': 107441.26991999999, '73551': 21560.75107, '73571': 76377.93293}\n"
     ]
    }
   ],
   "source": [
    "subbasinlist = ['72591', '72631', '72671', '72731', '72781', '72951', '73081','73121','73171','73181', '73201', '73211', '73301', '73321', '73391', '73421', '73461', '73531', '73551','73571']\n",
    "lid_total_areas = dict.fromkeys(subbasinlist)\n",
    "\n",
    "for key in lid_total_areas:\n",
    "    lid_total_areas[key] = greenroof_assigned_areas[key] + permeablepavement_assigned_areas[key] + raingarden_assigned_areas[key] + bioretention_assigned_areas[key] + grassswale_assigned_areas[key]\n",
    "\n",
    "print(lid_total_areas)"
   ]
  },
  {
   "cell_type": "markdown",
   "metadata": {},
   "source": [
    "### Update impervious LID areas for each subbasin after LID implementation\n",
    "### This block appears periodically to reset the updated subbasin impervious area dictionary"
   ]
  },
  {
   "cell_type": "code",
   "execution_count": 7,
   "metadata": {
    "scrolled": true
   },
   "outputs": [
    {
     "name": "stdout",
     "output_type": "stream",
     "text": [
      "{'72591': 228567.326, '72631': 401873.298348, '72671': 293114.38263300003, '72731': 467342.16347300005, '72781': 510392.20503, '72951': 395273.85864, '73081': 514595.26599000004, '73121': 695208.471577, '73171': 364716.075238, '73181': 416637.572482, '73201': 434051.49325999996, '73211': 428721.70988299994, '73301': 598716.6354, '73321': 404248.06237800006, '73391': 162991.068, '73421': 476254.542792, '73461': 435673.67587000004, '73531': 384462.85138, '73551': 402926.11853, '73571': 194745.30286999998}\n"
     ]
    }
   ],
   "source": [
    "subbasindict = dict.fromkeys(subbasinlist)\n",
    "updated_sb_impervious_areas = subbasindict\n",
    "\n",
    "for key in updated_sb_impervious_areas:\n",
    "    updated_sb_impervious_areas[key] = subbasin_imperv_areas[key] - greenroof_assigned_areas[key] - permeablepavement_assigned_areas[key]\n",
    "print(updated_sb_impervious_areas)"
   ]
  },
  {
   "cell_type": "markdown",
   "metadata": {},
   "source": [
    "# Permeable Pavement LID Usage Editor Parameter Changes!\n",
    "## Permeable Pavement Percent Impervious Treated Calculation for each Subbasin"
   ]
  },
  {
   "cell_type": "code",
   "execution_count": 8,
   "metadata": {
    "scrolled": true
   },
   "outputs": [
    {
     "name": "stdout",
     "output_type": "stream",
     "text": [
      "{'72591': 0.0, '72631': 2.2345688533961026, '72671': 0.0, '72731': 5.314863286230113, '72781': 6.148962820299206, '72951': 9.099319146414272, '73081': 4.706373455147688, '73121': 4.6128087956488795, '73171': 6.7016068496707115, '73181': 4.52115369427317, '73201': 17.359069412270497, '73211': 0.6276740687413239, '73301': 7.191315132113331, '73321': 4.111173812989055, '73391': 1.6509953784706783, '73421': 3.855781492885418, '73461': 14.823801293716663, '73531': 21.199041261711823, '73551': 0.0, '73571': 26.743884387685107}\n"
     ]
    }
   ],
   "source": [
    "permeablepavement_percimpervtreated = subbasindict\n",
    "\n",
    "for key in permeablepavement_percimpervtreated:\n",
    "    permeablepavement_percimpervtreated[key] = ((permeablepavement_assigned_areas[key] * 2.5) / updated_sb_impervious_areas[key])*100\n",
    "print(permeablepavement_percimpervtreated)    "
   ]
  },
  {
   "cell_type": "markdown",
   "metadata": {},
   "source": [
    "# RainGarden LID Usage Editor Parameter Changes!"
   ]
  },
  {
   "cell_type": "markdown",
   "metadata": {},
   "source": [
    "## Percent of Impervious Area Treated Calculations for each Subbasin"
   ]
  },
  {
   "cell_type": "code",
   "execution_count": 9,
   "metadata": {
    "scrolled": true
   },
   "outputs": [
    {
     "name": "stdout",
     "output_type": "stream",
     "text": [
      "{'72591': 228567.326, '72631': 401873.298348, '72671': 293114.38263300003, '72731': 467342.16347300005, '72781': 510392.20503, '72951': 395273.85864, '73081': 514595.26599000004, '73121': 695208.471577, '73171': 364716.075238, '73181': 416637.572482, '73201': 434051.49325999996, '73211': 428721.70988299994, '73301': 598716.6354, '73321': 404248.06237800006, '73391': 162991.068, '73421': 476254.542792, '73461': 435673.67587000004, '73531': 384462.85138, '73551': 402926.11853, '73571': 194745.30286999998}\n"
     ]
    }
   ],
   "source": [
    "subbasindict = dict.fromkeys(subbasinlist)\n",
    "updated_sb_impervious_areas = subbasindict\n",
    "\n",
    "for key in updated_sb_impervious_areas:\n",
    "    updated_sb_impervious_areas[key] = subbasin_imperv_areas[key] - greenroof_assigned_areas[key] - permeablepavement_assigned_areas[key]\n",
    "print(updated_sb_impervious_areas)"
   ]
  },
  {
   "cell_type": "code",
   "execution_count": 10,
   "metadata": {
    "scrolled": false
   },
   "outputs": [
    {
     "name": "stdout",
     "output_type": "stream",
     "text": [
      "{'72591': 90.14564988719418, '72631': 22.733838626052933, '72671': 63.12341004529592, '72731': 27.555372702821327, '72781': 33.1083736917497, '72951': 76.28762710846604, '73081': 18.183142842992346, '73121': 29.279053888544286, '73171': 0.0, '73181': 3.3278064629556203, '73201': 9.984794094213784, '73211': 21.394089458945373, '73301': 0.6694804706572957, '73321': 0.6069085004574922, '73391': 14.059856513417879, '73421': 0.0, '73461': 5.081180585316524, '73531': 19.70554874723547, '73551': 10.875553912388112, '73571': 7.738833643494533}\n"
     ]
    }
   ],
   "source": [
    "totalunits = subbasindict\n",
    "\n",
    "for key in totalunits:\n",
    "    totalunits[key] = (raingarden_assigned_areas[key] / raingarden_standard_surfaceareas[key])\n",
    "print(totalunits)"
   ]
  },
  {
   "cell_type": "code",
   "execution_count": 11,
   "metadata": {
    "scrolled": true
   },
   "outputs": [
    {
     "name": "stdout",
     "output_type": "stream",
     "text": [
      "{'72591': 1963372.2545430893, '72631': 495143.0052754329, '72671': 1374827.870786545, '72731': 600156.0174674485, '72781': 721100.3790063084, '72951': 1661544.5184223903, '73081': 396028.8511203733, '73121': 637697.7936924945, '73171': 0.0, '73181': 72479.62476317341, '73201': 217468.81537197623, '73211': 465963.2684158302, '73301': 14581.284650915899, '73321': 13218.467139964181, '73391': 306223.6748622414, '73421': 0.0, '73461': 110668.1131481939, '73531': 429186.8517147885, '73551': 236869.56421181306, '73571': 168551.79675531093}\n"
     ]
    }
   ],
   "source": [
    "totaldrainageareatreated = subbasindict\n",
    "\n",
    "for key in totaldrainageareatreated:\n",
    "    totaldrainageareatreated[key] = totalunits[key] * 21780\n",
    "print(totaldrainageareatreated)"
   ]
  },
  {
   "cell_type": "code",
   "execution_count": 12,
   "metadata": {
    "scrolled": true
   },
   "outputs": [
    {
     "name": "stdout",
     "output_type": "stream",
     "text": [
      "{'72591': 490843.0636357723, '72631': 123785.75131885822, '72671': 343706.9676966363, '72731': 150039.00436686212, '72781': 180275.0947515771, '72951': 415386.1296055976, '73081': 99007.21278009332, '73121': 159424.44842312363, '73171': 0.0, '73181': 18119.906190793354, '73201': 54367.20384299406, '73211': 116490.81710395755, '73301': 3645.3211627289747, '73321': 3304.6167849910453, '73391': 76555.91871556034, '73421': 0.0, '73461': 27667.028287048473, '73531': 107296.71292869713, '73551': 59217.391052953266, '73571': 42137.94918882773}\n"
     ]
    }
   ],
   "source": [
    "raingarden_impervareatreated = subbasindict\n",
    "\n",
    "for key in raingarden_impervareatreated:\n",
    "    quarter = 0.25\n",
    "    raingarden_impervareatreated[key] = totaldrainageareatreated[key] * quarter\n",
    "print(raingarden_impervareatreated)"
   ]
  },
  {
   "cell_type": "code",
   "execution_count": 13,
   "metadata": {},
   "outputs": [
    {
     "name": "stdout",
     "output_type": "stream",
     "text": [
      "{'72591': 228567.326, '72631': 401873.298348, '72671': 293114.38263300003, '72731': 467342.16347300005, '72781': 510392.20503, '72951': 395273.85864, '73081': 514595.26599000004, '73121': 695208.471577, '73171': 364716.075238, '73181': 416637.572482, '73201': 434051.49325999996, '73211': 428721.70988299994, '73301': 598716.6354, '73321': 404248.06237800006, '73391': 162991.068, '73421': 476254.542792, '73461': 435673.67587000004, '73531': 384462.85138, '73551': 402926.11853, '73571': 194745.30286999998}\n"
     ]
    }
   ],
   "source": [
    "subbasindict = dict.fromkeys(subbasinlist)\n",
    "updated_sb_impervious_areas = subbasindict\n",
    "\n",
    "for key in updated_sb_impervious_areas:\n",
    "    updated_sb_impervious_areas[key] = subbasin_imperv_areas[key] - greenroof_assigned_areas[key] - permeablepavement_assigned_areas[key]\n",
    "print(updated_sb_impervious_areas)"
   ]
  },
  {
   "cell_type": "code",
   "execution_count": 14,
   "metadata": {
    "scrolled": true
   },
   "outputs": [
    {
     "name": "stdout",
     "output_type": "stream",
     "text": [
      "{'72591': 214.74769479333733, '72631': 30.802183630440318, '72671': 117.26035570454478, '72731': 32.1047438244956, '72781': 35.32089498525567, '72951': 105.08818646262034, '73081': 19.239821919002516, '73121': 22.931890927837475, '73171': 0.0, '73181': 4.349081164919707, '73201': 12.5255193651477, '73211': 27.171662740323647, '73301': 0.6088558338275587, '73321': 0.817472510703341, '73391': 46.969395105479244, '73421': 0.0, '73461': 6.350401646782991, '73531': 27.908213379670826, '73551': 14.696836052474524, '73571': 21.637466253528302}\n"
     ]
    }
   ],
   "source": [
    "raingarden_percimpervareatreated = subbasindict\n",
    "\n",
    "for key in raingarden_percimpervareatreated:\n",
    "    raingarden_percimpervareatreated[key] = (raingarden_impervareatreated[key]/updated_sb_impervious_areas[key])*100\n",
    "print(raingarden_percimpervareatreated)"
   ]
  },
  {
   "cell_type": "code",
   "execution_count": 15,
   "metadata": {},
   "outputs": [
    {
     "name": "stdout",
     "output_type": "stream",
     "text": [
      "{'72591': 100, '72631': 30.802183630440318, '72671': 100, '72731': 32.1047438244956, '72781': 35.32089498525567, '72951': 100, '73081': 19.239821919002516, '73121': 22.931890927837475, '73171': 0.0, '73181': 4.349081164919707, '73201': 12.5255193651477, '73211': 27.171662740323647, '73301': 0.6088558338275587, '73321': 0.817472510703341, '73391': 46.969395105479244, '73421': 0.0, '73461': 6.350401646782991, '73531': 27.908213379670826, '73551': 14.696836052474524, '73571': 21.637466253528302}\n"
     ]
    }
   ],
   "source": [
    "for key in raingarden_percimpervareatreated:\n",
    "    if raingarden_percimpervareatreated[key] > 100:\n",
    "        raingarden_percimpervareatreated[key] = 100\n",
    "print(raingarden_percimpervareatreated)"
   ]
  },
  {
   "cell_type": "markdown",
   "metadata": {},
   "source": [
    "## Calculations for RainGarden Percent Pervious Area Treated for each Subbasin"
   ]
  },
  {
   "cell_type": "code",
   "execution_count": 16,
   "metadata": {},
   "outputs": [
    {
     "name": "stdout",
     "output_type": "stream",
     "text": [
      "{'72591': 228567.326, '72631': 401873.298348, '72671': 293114.38263300003, '72731': 467342.16347300005, '72781': 510392.20503, '72951': 395273.85864, '73081': 514595.26599000004, '73121': 695208.471577, '73171': 364716.075238, '73181': 416637.572482, '73201': 434051.49325999996, '73211': 428721.70988299994, '73301': 598716.6354, '73321': 404248.06237800006, '73391': 162991.068, '73421': 476254.542792, '73461': 435673.67587000004, '73531': 384462.85138, '73551': 402926.11853, '73571': 194745.30286999998}\n"
     ]
    }
   ],
   "source": [
    "subbasindict = dict.fromkeys(subbasinlist)\n",
    "updated_sb_impervious_areas = subbasindict\n",
    "\n",
    "for key in updated_sb_impervious_areas:\n",
    "    updated_sb_impervious_areas[key] = subbasin_imperv_areas[key] - greenroof_assigned_areas[key] - permeablepavement_assigned_areas[key]\n",
    "print(updated_sb_impervious_areas)"
   ]
  },
  {
   "cell_type": "code",
   "execution_count": 17,
   "metadata": {},
   "outputs": [
    {
     "name": "stdout",
     "output_type": "stream",
     "text": [
      "{'72591': 90.14564988719418, '72631': 22.733838626052933, '72671': 63.12341004529592, '72731': 27.555372702821327, '72781': 33.1083736917497, '72951': 76.28762710846604, '73081': 18.183142842992346, '73121': 29.279053888544286, '73171': 0.0, '73181': 3.3278064629556203, '73201': 9.984794094213784, '73211': 21.394089458945373, '73301': 0.6694804706572957, '73321': 0.6069085004574922, '73391': 14.059856513417879, '73421': 0.0, '73461': 5.081180585316524, '73531': 19.70554874723547, '73551': 10.875553912388112, '73571': 7.738833643494533}\n"
     ]
    }
   ],
   "source": [
    "totalunits = subbasindict\n",
    "\n",
    "for key in totalunits:\n",
    "    totalunits[key] = (raingarden_assigned_areas[key] / raingarden_standard_surfaceareas[key])\n",
    "print(totalunits)"
   ]
  },
  {
   "cell_type": "code",
   "execution_count": 18,
   "metadata": {},
   "outputs": [
    {
     "name": "stdout",
     "output_type": "stream",
     "text": [
      "{'72591': 1963372.2545430893, '72631': 495143.0052754329, '72671': 1374827.870786545, '72731': 600156.0174674485, '72781': 721100.3790063084, '72951': 1661544.5184223903, '73081': 396028.8511203733, '73121': 637697.7936924945, '73171': 0.0, '73181': 72479.62476317341, '73201': 217468.81537197623, '73211': 465963.2684158302, '73301': 14581.284650915899, '73321': 13218.467139964181, '73391': 306223.6748622414, '73421': 0.0, '73461': 110668.1131481939, '73531': 429186.8517147885, '73551': 236869.56421181306, '73571': 168551.79675531093}\n"
     ]
    }
   ],
   "source": [
    "totaldrainageareatreated = subbasindict\n",
    "\n",
    "for key in totaldrainageareatreated:\n",
    "    totaldrainageareatreated[key] = totalunits[key] * 21780\n",
    "print(totaldrainageareatreated)"
   ]
  },
  {
   "cell_type": "code",
   "execution_count": 19,
   "metadata": {
    "scrolled": false
   },
   "outputs": [
    {
     "name": "stdout",
     "output_type": "stream",
     "text": [
      "{'72591': 1472529.190907317, '72631': 371357.25395657466, '72671': 1031120.9030899089, '72731': 450117.01310058637, '72781': 540825.2842547313, '72951': 1246158.3888167928, '73081': 297021.63834028, '73121': 478273.3452693709, '73171': 0.0, '73181': 54359.718572380065, '73201': 163101.61152898218, '73211': 349472.4513118727, '73301': 10935.963488186924, '73321': 9913.850354973136, '73391': 229667.75614668103, '73421': 0.0, '73461': 83001.08486114541, '73531': 321890.1387860914, '73551': 177652.1731588598, '73571': 126413.8475664832}\n"
     ]
    }
   ],
   "source": [
    "raingarden_pervareatreated = subbasindict\n",
    "\n",
    "for key in raingarden_pervareatreated:\n",
    "    threequarter = 0.75\n",
    "    raingarden_pervareatreated[key] = totaldrainageareatreated[key] * threequarter\n",
    "print(raingarden_pervareatreated)"
   ]
  },
  {
   "cell_type": "code",
   "execution_count": 20,
   "metadata": {},
   "outputs": [
    {
     "name": "stdout",
     "output_type": "stream",
     "text": [
      "{'72591': 210.4581435760009, '72631': 69.58678137920809, '72671': 143.7316421235736, '72731': 100.42992140957907, '72781': 48.31017663219724, '72951': 91.21506028709764, '73081': 30.12689329081174, '73121': 62.55880864987733, '73171': 0.0, '73181': 27.893752976326606, '73201': 38.114447387826985, '73211': 38.760338218095455, '73301': 1.463178575024673, '73321': 5.156288040065585, '73391': 38.38266586288972, '73421': 0.0, '73461': 47.34709800166284, '73531': 154.98576468286356, '73551': 93.38162982951414, '73571': 109.3364174736668}\n"
     ]
    }
   ],
   "source": [
    "raingarden_percpervareatreated = subbasindict\n",
    "\n",
    "for key in raingarden_percimpervareatreated:\n",
    "    raingarden_percpervareatreated[key] = (raingarden_pervareatreated[key]/subbasin_perv_areas[key])*100\n",
    "print(raingarden_percpervareatreated)"
   ]
  },
  {
   "cell_type": "code",
   "execution_count": 21,
   "metadata": {},
   "outputs": [
    {
     "name": "stdout",
     "output_type": "stream",
     "text": [
      "{'72591': 100, '72631': 69.58678137920809, '72671': 100, '72731': 100, '72781': 48.31017663219724, '72951': 91.21506028709764, '73081': 30.12689329081174, '73121': 62.55880864987733, '73171': 0.0, '73181': 27.893752976326606, '73201': 38.114447387826985, '73211': 38.760338218095455, '73301': 1.463178575024673, '73321': 5.156288040065585, '73391': 38.38266586288972, '73421': 0.0, '73461': 47.34709800166284, '73531': 100, '73551': 93.38162982951414, '73571': 100}\n"
     ]
    }
   ],
   "source": [
    "for key in raingarden_percpervareatreated:\n",
    "    if raingarden_percpervareatreated[key] > 100:\n",
    "        raingarden_percpervareatreated[key] = 100\n",
    "print(raingarden_percpervareatreated)"
   ]
  },
  {
   "cell_type": "markdown",
   "metadata": {},
   "source": [
    "# Bioretention LID Usage Editor Parameter Changes!"
   ]
  },
  {
   "cell_type": "markdown",
   "metadata": {},
   "source": [
    "## Percent of Impervious Area Treated Calculations for each Subbasin"
   ]
  },
  {
   "cell_type": "code",
   "execution_count": 22,
   "metadata": {},
   "outputs": [
    {
     "name": "stdout",
     "output_type": "stream",
     "text": [
      "{'72591': 228567.326, '72631': 401873.298348, '72671': 293114.38263300003, '72731': 467342.16347300005, '72781': 510392.20503, '72951': 395273.85864, '73081': 514595.26599000004, '73121': 695208.471577, '73171': 364716.075238, '73181': 416637.572482, '73201': 434051.49325999996, '73211': 428721.70988299994, '73301': 598716.6354, '73321': 404248.06237800006, '73391': 162991.068, '73421': 476254.542792, '73461': 435673.67587000004, '73531': 384462.85138, '73551': 402926.11853, '73571': 194745.30286999998}\n"
     ]
    }
   ],
   "source": [
    "subbasindict = dict.fromkeys(subbasinlist)\n",
    "updated_sb_impervious_areas = subbasindict\n",
    "\n",
    "for key in updated_sb_impervious_areas:\n",
    "    updated_sb_impervious_areas[key] = subbasin_imperv_areas[key] - greenroof_assigned_areas[key] - permeablepavement_assigned_areas[key]\n",
    "print(updated_sb_impervious_areas)"
   ]
  },
  {
   "cell_type": "code",
   "execution_count": 23,
   "metadata": {},
   "outputs": [
    {
     "name": "stdout",
     "output_type": "stream",
     "text": [
      "{'72591': 0.3350298723287122, '72631': 0.2370061049559241, '72671': 0.2952715591783205, '72731': 0.813165618359144, '72781': 0.002206923735441585, '72951': 0.3612026026890401, '73081': 0.0, '73121': 1.265741319025069, '73171': 0.0, '73181': 0.0, '73201': 0.0, '73211': 0.0, '73301': 0.0, '73321': 0.0, '73391': 0.30507456362273466, '73421': 0.0, '73461': 0.0, '73531': 0.19519450471313118, '73551': 0.0, '73571': 0.7426153498507265}\n"
     ]
    }
   ],
   "source": [
    "totalunits = subbasindict\n",
    "\n",
    "for key in totalunits:\n",
    "    totalunits[key] = (bioretention_assigned_areas[key] / bioretention_standard_surfaceareas[key])\n",
    "print(totalunits)"
   ]
  },
  {
   "cell_type": "code",
   "execution_count": 24,
   "metadata": {},
   "outputs": [
    {
     "name": "stdout",
     "output_type": "stream",
     "text": [
      "{'72591': 54727.12964489513, '72631': 38714.9472445502, '72671': 48232.609191778654, '72731': 132830.60375896617, '72781': 360.50099218438294, '72951': 59002.4451492547, '73081': 0.0, '73121': 206758.84446274504, '73171': 0.0, '73181': 0.0, '73201': 0.0, '73211': 0.0, '73301': 0.0, '73321': 0.0, '73391': 49833.92996777371, '73421': 0.0, '73461': 0.0, '73531': 31885.022344889978, '73551': 0.0, '73571': 121306.21739811618}\n"
     ]
    }
   ],
   "source": [
    "totaldrainageareatreated = subbasindict\n",
    "\n",
    "for key in totaldrainageareatreated:\n",
    "    totaldrainageareatreated[key] = totalunits[key] * 163350\n",
    "print(totaldrainageareatreated)"
   ]
  },
  {
   "cell_type": "code",
   "execution_count": 25,
   "metadata": {},
   "outputs": [
    {
     "name": "stdout",
     "output_type": "stream",
     "text": [
      "{'72591': 27363.564822447566, '72631': 19357.4736222751, '72671': 24116.304595889327, '72731': 66415.30187948309, '72781': 180.25049609219147, '72951': 29501.22257462735, '73081': 0.0, '73121': 103379.42223137252, '73171': 0.0, '73181': 0.0, '73201': 0.0, '73211': 0.0, '73301': 0.0, '73321': 0.0, '73391': 24916.964983886854, '73421': 0.0, '73461': 0.0, '73531': 15942.511172444989, '73551': 0.0, '73571': 60653.10869905809}\n"
     ]
    }
   ],
   "source": [
    "bioretention_impervareatreated = subbasindict\n",
    "\n",
    "for key in bioretention_impervareatreated:\n",
    "    bioretention_impervareatreated[key] = totaldrainageareatreated[key] * 0.5\n",
    "print(bioretention_impervareatreated)"
   ]
  },
  {
   "cell_type": "code",
   "execution_count": 26,
   "metadata": {
    "scrolled": false
   },
   "outputs": [
    {
     "name": "stdout",
     "output_type": "stream",
     "text": [
      "{'72591': 228567.326, '72631': 401873.298348, '72671': 293114.38263300003, '72731': 467342.16347300005, '72781': 510392.20503, '72951': 395273.85864, '73081': 514595.26599000004, '73121': 695208.471577, '73171': 364716.075238, '73181': 416637.572482, '73201': 434051.49325999996, '73211': 428721.70988299994, '73301': 598716.6354, '73321': 404248.06237800006, '73391': 162991.068, '73421': 476254.542792, '73461': 435673.67587000004, '73531': 384462.85138, '73551': 402926.11853, '73571': 194745.30286999998}\n"
     ]
    }
   ],
   "source": [
    "subbasindict = dict.fromkeys(subbasinlist)\n",
    "updated_sb_impervious_areas = subbasindict\n",
    "\n",
    "for key in updated_sb_impervious_areas:\n",
    "    updated_sb_impervious_areas[key] = subbasin_imperv_areas[key] - greenroof_assigned_areas[key] - permeablepavement_assigned_areas[key]\n",
    "print(updated_sb_impervious_areas)"
   ]
  },
  {
   "cell_type": "code",
   "execution_count": 27,
   "metadata": {},
   "outputs": [
    {
     "name": "stdout",
     "output_type": "stream",
     "text": [
      "{'72591': 11.971774488208155, '72631': 4.816810099563421, '72671': 8.227608750978504, '72731': 14.211279672676083, '72781': 0.03531607542509326, '72951': 7.463489408616803, '73081': 0.0, '73121': 14.87027653688803, '73171': 0.0, '73181': 0.0, '73201': 0.0, '73211': 0.0, '73301': 0.0, '73321': 0.0, '73391': 15.28731929278901, '73421': 0.0, '73461': 0.0, '73531': 4.146697428690591, '73551': 0.0, '73571': 31.144837798499502}\n"
     ]
    }
   ],
   "source": [
    "bioretention_percimpervareatreated = subbasindict\n",
    "\n",
    "for key in bioretention_percimpervareatreated:\n",
    "    bioretention_percimpervareatreated[key] = (bioretention_impervareatreated[key]/updated_sb_impervious_areas[key])*100\n",
    "print(bioretention_percimpervareatreated)"
   ]
  },
  {
   "cell_type": "code",
   "execution_count": 28,
   "metadata": {},
   "outputs": [
    {
     "name": "stdout",
     "output_type": "stream",
     "text": [
      "{'72591': 11.971774488208155, '72631': 4.816810099563421, '72671': 8.227608750978504, '72731': 14.211279672676083, '72781': 0.03531607542509326, '72951': 7.463489408616803, '73081': 0.0, '73121': 14.87027653688803, '73171': 0.0, '73181': 0.0, '73201': 0.0, '73211': 0.0, '73301': 0.0, '73321': 0.0, '73391': 15.28731929278901, '73421': 0.0, '73461': 0.0, '73531': 4.146697428690591, '73551': 0.0, '73571': 31.144837798499502}\n"
     ]
    }
   ],
   "source": [
    "for key in bioretention_percimpervareatreated:\n",
    "    if bioretention_percimpervareatreated[key] > 100:\n",
    "        bioretention_percimpervareatreated[key] = 100\n",
    "print(bioretention_percimpervareatreated)"
   ]
  },
  {
   "cell_type": "markdown",
   "metadata": {},
   "source": [
    "## Bioretention Percent Pervious Area Treated for each Subbasin"
   ]
  },
  {
   "cell_type": "code",
   "execution_count": 29,
   "metadata": {},
   "outputs": [
    {
     "name": "stdout",
     "output_type": "stream",
     "text": [
      "{'72591': 228567.326, '72631': 401873.298348, '72671': 293114.38263300003, '72731': 467342.16347300005, '72781': 510392.20503, '72951': 395273.85864, '73081': 514595.26599000004, '73121': 695208.471577, '73171': 364716.075238, '73181': 416637.572482, '73201': 434051.49325999996, '73211': 428721.70988299994, '73301': 598716.6354, '73321': 404248.06237800006, '73391': 162991.068, '73421': 476254.542792, '73461': 435673.67587000004, '73531': 384462.85138, '73551': 402926.11853, '73571': 194745.30286999998}\n"
     ]
    }
   ],
   "source": [
    "subbasindict = dict.fromkeys(subbasinlist)\n",
    "updated_sb_impervious_areas = subbasindict\n",
    "\n",
    "for key in updated_sb_impervious_areas:\n",
    "    updated_sb_impervious_areas[key] = subbasin_imperv_areas[key] - greenroof_assigned_areas[key] - permeablepavement_assigned_areas[key]\n",
    "print(updated_sb_impervious_areas)"
   ]
  },
  {
   "cell_type": "code",
   "execution_count": 30,
   "metadata": {},
   "outputs": [
    {
     "name": "stdout",
     "output_type": "stream",
     "text": [
      "{'72591': 0.3350298723287122, '72631': 0.2370061049559241, '72671': 0.2952715591783205, '72731': 0.813165618359144, '72781': 0.002206923735441585, '72951': 0.3612026026890401, '73081': 0.0, '73121': 1.265741319025069, '73171': 0.0, '73181': 0.0, '73201': 0.0, '73211': 0.0, '73301': 0.0, '73321': 0.0, '73391': 0.30507456362273466, '73421': 0.0, '73461': 0.0, '73531': 0.19519450471313118, '73551': 0.0, '73571': 0.7426153498507265}\n"
     ]
    }
   ],
   "source": [
    "totalunits = subbasindict\n",
    "\n",
    "for key in totalunits:\n",
    "    totalunits[key] = (bioretention_assigned_areas[key] / bioretention_standard_surfaceareas[key])\n",
    "print(totalunits)"
   ]
  },
  {
   "cell_type": "code",
   "execution_count": 31,
   "metadata": {},
   "outputs": [
    {
     "name": "stdout",
     "output_type": "stream",
     "text": [
      "{'72591': 54727.12964489513, '72631': 38714.9472445502, '72671': 48232.609191778654, '72731': 132830.60375896617, '72781': 360.50099218438294, '72951': 59002.4451492547, '73081': 0.0, '73121': 206758.84446274504, '73171': 0.0, '73181': 0.0, '73201': 0.0, '73211': 0.0, '73301': 0.0, '73321': 0.0, '73391': 49833.92996777371, '73421': 0.0, '73461': 0.0, '73531': 31885.022344889978, '73551': 0.0, '73571': 121306.21739811618}\n"
     ]
    }
   ],
   "source": [
    "totaldrainageareatreated = subbasindict\n",
    "\n",
    "for key in totaldrainageareatreated:\n",
    "    totaldrainageareatreated[key] = totalunits[key] * 163350\n",
    "print(totaldrainageareatreated)"
   ]
  },
  {
   "cell_type": "code",
   "execution_count": 32,
   "metadata": {},
   "outputs": [
    {
     "name": "stdout",
     "output_type": "stream",
     "text": [
      "{'72591': 27363.564822447566, '72631': 19357.4736222751, '72671': 24116.304595889327, '72731': 66415.30187948309, '72781': 180.25049609219147, '72951': 29501.22257462735, '73081': 0.0, '73121': 103379.42223137252, '73171': 0.0, '73181': 0.0, '73201': 0.0, '73211': 0.0, '73301': 0.0, '73321': 0.0, '73391': 24916.964983886854, '73421': 0.0, '73461': 0.0, '73531': 15942.511172444989, '73551': 0.0, '73571': 60653.10869905809}\n"
     ]
    }
   ],
   "source": [
    "bioretention_pervareatreated = subbasindict\n",
    "\n",
    "for key in bioretention_pervareatreated:\n",
    "    bioretention_pervareatreated[key] = totaldrainageareatreated[key] * 0.5\n",
    "print(bioretention_pervareatreated)"
   ]
  },
  {
   "cell_type": "code",
   "execution_count": 33,
   "metadata": {},
   "outputs": [
    {
     "name": "stdout",
     "output_type": "stream",
     "text": [
      "{'72591': 3.9108800624899462, '72631': 3.6273003170272293, '72671': 3.361658221778107, '72731': 14.818554629170198, '72781': 0.01610119489190426, '72951': 2.1594011000822606, '73081': 0.0, '73121': 13.5221700261486, '73171': 0.0, '73181': 0.0, '73201': 0.0, '73211': 0.0, '73301': 0.0, '73321': 0.0, '73391': 4.164187247438623, '73421': 0.0, '73461': 0.0, '73531': 7.6761043203888475, '73551': 0.0, '73571': 52.459392237928995}\n"
     ]
    }
   ],
   "source": [
    "bioretention_percpervareatreated = subbasindict\n",
    "\n",
    "for key in bioretention_percpervareatreated:\n",
    "    bioretention_percpervareatreated[key] = (bioretention_pervareatreated[key]/subbasin_perv_areas[key])*100\n",
    "print(bioretention_percpervareatreated)"
   ]
  },
  {
   "cell_type": "code",
   "execution_count": 34,
   "metadata": {},
   "outputs": [
    {
     "name": "stdout",
     "output_type": "stream",
     "text": [
      "{'72591': 3.9108800624899462, '72631': 3.6273003170272293, '72671': 3.361658221778107, '72731': 14.818554629170198, '72781': 0.01610119489190426, '72951': 2.1594011000822606, '73081': 0.0, '73121': 13.5221700261486, '73171': 0.0, '73181': 0.0, '73201': 0.0, '73211': 0.0, '73301': 0.0, '73321': 0.0, '73391': 4.164187247438623, '73421': 0.0, '73461': 0.0, '73531': 7.6761043203888475, '73551': 0.0, '73571': 52.459392237928995}\n"
     ]
    }
   ],
   "source": [
    "for key in bioretention_percpervareatreated:\n",
    "    if bioretention_percpervareatreated[key] > 100:\n",
    "        bioretention_percpervareatreated[key] = 100\n",
    "print(bioretention_percpervareatreated)"
   ]
  },
  {
   "cell_type": "markdown",
   "metadata": {},
   "source": [
    "# Grass Swale LID Usage Editor Parameter Changes!"
   ]
  },
  {
   "cell_type": "markdown",
   "metadata": {},
   "source": [
    "## Percent of Impervious Area Treated Calculations for each Subbasin"
   ]
  },
  {
   "cell_type": "code",
   "execution_count": 35,
   "metadata": {},
   "outputs": [
    {
     "name": "stdout",
     "output_type": "stream",
     "text": [
      "{'72591': 228567.326, '72631': 401873.298348, '72671': 293114.38263300003, '72731': 467342.16347300005, '72781': 510392.20503, '72951': 395273.85864, '73081': 514595.26599000004, '73121': 695208.471577, '73171': 364716.075238, '73181': 416637.572482, '73201': 434051.49325999996, '73211': 428721.70988299994, '73301': 598716.6354, '73321': 404248.06237800006, '73391': 162991.068, '73421': 476254.542792, '73461': 435673.67587000004, '73531': 384462.85138, '73551': 402926.11853, '73571': 194745.30286999998}\n"
     ]
    }
   ],
   "source": [
    "subbasindict = dict.fromkeys(subbasinlist)\n",
    "updated_sb_impervious_areas = subbasindict\n",
    "\n",
    "for key in updated_sb_impervious_areas:\n",
    "    updated_sb_impervious_areas[key] = subbasin_imperv_areas[key] - greenroof_assigned_areas[key] - permeablepavement_assigned_areas[key]\n",
    "print(updated_sb_impervious_areas)"
   ]
  },
  {
   "cell_type": "code",
   "execution_count": 36,
   "metadata": {},
   "outputs": [
    {
     "name": "stdout",
     "output_type": "stream",
     "text": [
      "{'72591': 0.28854247379010484, '72631': 0.3061801356280235, '72671': 0.0, '72731': 0.0, '72781': 0.0, '72951': 1.5670600345200707, '73081': 0.8133771055085202, '73121': 0.218022428171903, '73171': 0.0, '73181': 0.0, '73201': 0.0, '73211': 0.0, '73301': 0.0, '73321': 0.0, '73391': 1.2322676873178424, '73421': 0.0, '73461': 0.0, '73531': 0.0, '73551': 0.0, '73571': 0.3845432833211278}\n"
     ]
    }
   ],
   "source": [
    "totalunits = subbasindict\n",
    "\n",
    "for key in totalunits:\n",
    "    totalunits[key] = (grassswale_assigned_areas[key] / grassswale_standard_surfaceareas[key])\n",
    "print(totalunits)"
   ]
  },
  {
   "cell_type": "code",
   "execution_count": 37,
   "metadata": {},
   "outputs": [
    {
     "name": "stdout",
     "output_type": "stream",
     "text": [
      "{'72591': 47133.41309361363, '72631': 50014.52515483764, '72671': 0.0, '72731': 0.0, '72781': 0.0, '72951': 255979.25663885355, '73081': 132865.15018481677, '73121': 35613.96364188036, '73171': 0.0, '73181': 0.0, '73201': 0.0, '73211': 0.0, '73301': 0.0, '73321': 0.0, '73391': 201290.92672336957, '73421': 0.0, '73461': 0.0, '73531': 0.0, '73551': 0.0, '73571': 62815.145330506224}\n"
     ]
    }
   ],
   "source": [
    "totaldrainageareatreated = subbasindict\n",
    "\n",
    "for key in totaldrainageareatreated:\n",
    "    totaldrainageareatreated[key] = totalunits[key] * 163350\n",
    "print(totaldrainageareatreated)"
   ]
  },
  {
   "cell_type": "code",
   "execution_count": 38,
   "metadata": {},
   "outputs": [
    {
     "name": "stdout",
     "output_type": "stream",
     "text": [
      "{'72591': 23566.706546806814, '72631': 25007.26257741882, '72671': 0.0, '72731': 0.0, '72781': 0.0, '72951': 127989.62831942677, '73081': 66432.57509240838, '73121': 17806.98182094018, '73171': 0.0, '73181': 0.0, '73201': 0.0, '73211': 0.0, '73301': 0.0, '73321': 0.0, '73391': 100645.46336168479, '73421': 0.0, '73461': 0.0, '73531': 0.0, '73551': 0.0, '73571': 31407.572665253112}\n"
     ]
    }
   ],
   "source": [
    "grassswale_impervareatreated = subbasindict\n",
    "\n",
    "for key in grassswale_impervareatreated:\n",
    "    grassswale_impervareatreated[key] = totaldrainageareatreated[key] * 0.5\n",
    "print(grassswale_impervareatreated)"
   ]
  },
  {
   "cell_type": "code",
   "execution_count": 39,
   "metadata": {},
   "outputs": [
    {
     "name": "stdout",
     "output_type": "stream",
     "text": [
      "{'72591': 228567.326, '72631': 401873.298348, '72671': 293114.38263300003, '72731': 467342.16347300005, '72781': 510392.20503, '72951': 395273.85864, '73081': 514595.26599000004, '73121': 695208.471577, '73171': 364716.075238, '73181': 416637.572482, '73201': 434051.49325999996, '73211': 428721.70988299994, '73301': 598716.6354, '73321': 404248.06237800006, '73391': 162991.068, '73421': 476254.542792, '73461': 435673.67587000004, '73531': 384462.85138, '73551': 402926.11853, '73571': 194745.30286999998}\n"
     ]
    }
   ],
   "source": [
    "subbasindict = dict.fromkeys(subbasinlist)\n",
    "updated_sb_impervious_areas = subbasindict\n",
    "\n",
    "for key in updated_sb_impervious_areas:\n",
    "    updated_sb_impervious_areas[key] = subbasin_imperv_areas[key] - greenroof_assigned_areas[key] - permeablepavement_assigned_areas[key]\n",
    "print(updated_sb_impervious_areas)"
   ]
  },
  {
   "cell_type": "code",
   "execution_count": 40,
   "metadata": {},
   "outputs": [
    {
     "name": "stdout",
     "output_type": "stream",
     "text": [
      "{'72591': 10.310619176953933, '72631': 6.22267333515747, '72671': 0.0, '72731': 0.0, '72781': 0.0, '72951': 32.37998808213491, '73081': 12.90967474498674, '73121': 2.561387346236892, '73171': 0.0, '73181': 0.0, '73201': 0.0, '73211': 0.0, '73301': 0.0, '73321': 0.0, '73391': 61.74906674130437, '73421': 0.0, '73461': 0.0, '73531': 0.0, '73551': 0.0, '73571': 16.127512295492373}\n"
     ]
    }
   ],
   "source": [
    "grassswale_percimpervareatreated = subbasindict\n",
    "\n",
    "for key in grassswale_percimpervareatreated:\n",
    "    grassswale_percimpervareatreated[key] = (grassswale_impervareatreated[key]/updated_sb_impervious_areas[key])*100\n",
    "print(grassswale_percimpervareatreated)"
   ]
  },
  {
   "cell_type": "code",
   "execution_count": 41,
   "metadata": {},
   "outputs": [
    {
     "name": "stdout",
     "output_type": "stream",
     "text": [
      "{'72591': 10.310619176953933, '72631': 6.22267333515747, '72671': 0.0, '72731': 0.0, '72781': 0.0, '72951': 32.37998808213491, '73081': 12.90967474498674, '73121': 2.561387346236892, '73171': 0.0, '73181': 0.0, '73201': 0.0, '73211': 0.0, '73301': 0.0, '73321': 0.0, '73391': 61.74906674130437, '73421': 0.0, '73461': 0.0, '73531': 0.0, '73551': 0.0, '73571': 16.127512295492373}\n"
     ]
    }
   ],
   "source": [
    "for key in grassswale_percimpervareatreated:\n",
    "    if grassswale_percimpervareatreated[key] > 100:\n",
    "        grassswale_percimpervareatreated[key] = 100\n",
    "print(grassswale_percimpervareatreated)"
   ]
  },
  {
   "cell_type": "markdown",
   "metadata": {},
   "source": [
    "## Percent of pervious Area Treated Calculations for each Subbasin"
   ]
  },
  {
   "cell_type": "code",
   "execution_count": 42,
   "metadata": {},
   "outputs": [
    {
     "name": "stdout",
     "output_type": "stream",
     "text": [
      "{'72591': 228567.326, '72631': 401873.298348, '72671': 293114.38263300003, '72731': 467342.16347300005, '72781': 510392.20503, '72951': 395273.85864, '73081': 514595.26599000004, '73121': 695208.471577, '73171': 364716.075238, '73181': 416637.572482, '73201': 434051.49325999996, '73211': 428721.70988299994, '73301': 598716.6354, '73321': 404248.06237800006, '73391': 162991.068, '73421': 476254.542792, '73461': 435673.67587000004, '73531': 384462.85138, '73551': 402926.11853, '73571': 194745.30286999998}\n"
     ]
    }
   ],
   "source": [
    "subbasindict = dict.fromkeys(subbasinlist)\n",
    "updated_sb_impervious_areas = subbasindict\n",
    "\n",
    "for key in updated_sb_impervious_areas:\n",
    "    updated_sb_impervious_areas[key] = subbasin_imperv_areas[key] - greenroof_assigned_areas[key] - permeablepavement_assigned_areas[key]\n",
    "print(updated_sb_impervious_areas)"
   ]
  },
  {
   "cell_type": "code",
   "execution_count": 43,
   "metadata": {},
   "outputs": [
    {
     "name": "stdout",
     "output_type": "stream",
     "text": [
      "{'72591': 0.28854247379010484, '72631': 0.3061801356280235, '72671': 0.0, '72731': 0.0, '72781': 0.0, '72951': 1.5670600345200707, '73081': 0.8133771055085202, '73121': 0.218022428171903, '73171': 0.0, '73181': 0.0, '73201': 0.0, '73211': 0.0, '73301': 0.0, '73321': 0.0, '73391': 1.2322676873178424, '73421': 0.0, '73461': 0.0, '73531': 0.0, '73551': 0.0, '73571': 0.3845432833211278}\n"
     ]
    }
   ],
   "source": [
    "totalunits = subbasindict\n",
    "\n",
    "for key in totalunits:\n",
    "    totalunits[key] = (grassswale_assigned_areas[key] / grassswale_standard_surfaceareas[key])\n",
    "print(totalunits)"
   ]
  },
  {
   "cell_type": "code",
   "execution_count": 44,
   "metadata": {},
   "outputs": [
    {
     "name": "stdout",
     "output_type": "stream",
     "text": [
      "{'72591': 47133.41309361363, '72631': 50014.52515483764, '72671': 0.0, '72731': 0.0, '72781': 0.0, '72951': 255979.25663885355, '73081': 132865.15018481677, '73121': 35613.96364188036, '73171': 0.0, '73181': 0.0, '73201': 0.0, '73211': 0.0, '73301': 0.0, '73321': 0.0, '73391': 201290.92672336957, '73421': 0.0, '73461': 0.0, '73531': 0.0, '73551': 0.0, '73571': 62815.145330506224}\n"
     ]
    }
   ],
   "source": [
    "totaldrainageareatreated = subbasindict\n",
    "\n",
    "for key in totaldrainageareatreated:\n",
    "    totaldrainageareatreated[key] = totalunits[key] * 163350\n",
    "print(totaldrainageareatreated)"
   ]
  },
  {
   "cell_type": "code",
   "execution_count": 45,
   "metadata": {},
   "outputs": [
    {
     "name": "stdout",
     "output_type": "stream",
     "text": [
      "{'72591': 23566.706546806814, '72631': 25007.26257741882, '72671': 0.0, '72731': 0.0, '72781': 0.0, '72951': 127989.62831942677, '73081': 66432.57509240838, '73121': 17806.98182094018, '73171': 0.0, '73181': 0.0, '73201': 0.0, '73211': 0.0, '73301': 0.0, '73321': 0.0, '73391': 100645.46336168479, '73421': 0.0, '73461': 0.0, '73531': 0.0, '73551': 0.0, '73571': 31407.572665253112}\n"
     ]
    }
   ],
   "source": [
    "grassswale_pervareatreated = subbasindict\n",
    "\n",
    "for key in grassswale_pervareatreated:\n",
    "    grassswale_pervareatreated[key] = totaldrainageareatreated[key] * 0.5\n",
    "print(grassswale_pervareatreated)"
   ]
  },
  {
   "cell_type": "code",
   "execution_count": 46,
   "metadata": {},
   "outputs": [
    {
     "name": "stdout",
     "output_type": "stream",
     "text": [
      "{'72591': 3.3682220635540028, '72631': 4.685986056087073, '72671': 0.0, '72731': 0.0, '72781': 0.0, '72951': 9.36845730691149, '73081': 6.7382535226269695, '73121': 2.329177612314205, '73171': 0.0, '73181': 0.0, '73201': 0.0, '73211': 0.0, '73301': 0.0, '73321': 0.0, '73391': 16.82012858766323, '73421': 0.0, '73461': 0.0, '73531': 0.0, '73551': 0.0, '73571': 27.164678101872074}\n"
     ]
    }
   ],
   "source": [
    "grassswale_percpervareatreated = subbasindict\n",
    "\n",
    "for key in grassswale_percpervareatreated:\n",
    "    grassswale_percpervareatreated[key] = (grassswale_pervareatreated[key]/subbasin_perv_areas[key])*100\n",
    "print(grassswale_percpervareatreated)"
   ]
  },
  {
   "cell_type": "code",
   "execution_count": 47,
   "metadata": {
    "scrolled": true
   },
   "outputs": [
    {
     "name": "stdout",
     "output_type": "stream",
     "text": [
      "{'72591': 3.3682220635540028, '72631': 4.685986056087073, '72671': 0.0, '72731': 0.0, '72781': 0.0, '72951': 9.36845730691149, '73081': 6.7382535226269695, '73121': 2.329177612314205, '73171': 0.0, '73181': 0.0, '73201': 0.0, '73211': 0.0, '73301': 0.0, '73321': 0.0, '73391': 16.82012858766323, '73421': 0.0, '73461': 0.0, '73531': 0.0, '73551': 0.0, '73571': 27.164678101872074}\n"
     ]
    }
   ],
   "source": [
    "for key in grassswale_percimpervareatreated:\n",
    "    if grassswale_percimpervareatreated[key] > 100:\n",
    "        grassswale_percimpervareatreated[key] = 100\n",
    "print(grassswale_percpervareatreated)"
   ]
  },
  {
   "cell_type": "markdown",
   "metadata": {},
   "source": [
    "## Capping total %impervious and %pervious at 100% for each subcatchment-LID combo. "
   ]
  },
  {
   "cell_type": "code",
   "execution_count": 48,
   "metadata": {},
   "outputs": [
    {
     "name": "stdout",
     "output_type": "stream",
     "text": [
      "{'72591': 122.28239366516209, '72631': 44.076235918557316, '72671': 108.2276087509785, '72731': 51.6308867834018, '72781': 41.50517388097997, '72951': 148.942796637166, '73081': 36.855870119136945, '73121': 44.97636360661128, '73171': 6.7016068496707115, '73181': 8.870234859192877, '73201': 29.884588777418195, '73211': 27.79933680906497, '73301': 7.8001709659408895, '73321': 4.928646323692396, '73391': 125.6567765180433, '73421': 3.855781492885418, '73461': 21.174202940499654, '73531': 53.25395207007324, '73551': 14.696836052474524, '73571': 95.65370073520529}\n"
     ]
    }
   ],
   "source": [
    "subbasinlist = ['72591', '72631', '72671', '72731', '72781', '72951', '73081','73121','73171','73181', '73201', '73211', '73301', '73321', '73391', '73421', '73461', '73531', '73551','73571']\n",
    "percimptreated_sbs = dict.fromkeys(subbasinlist)\n",
    "\n",
    "for key in percimptreated_sbs:\n",
    "    percimptreated_sbs[key] = raingarden_percimpervareatreated[key] + bioretention_percimpervareatreated[key] + permeablepavement_percimpervtreated[key] + grassswale_percimpervareatreated[key]\n",
    "print(percimptreated_sbs)  "
   ]
  },
  {
   "cell_type": "code",
   "execution_count": 49,
   "metadata": {},
   "outputs": [
    {
     "name": "stdout",
     "output_type": "stream",
     "text": [
      "{'72591': 122.28239366516209, '72631': 44.076235918557316, '72671': 99.9776087509785, '72731': 51.6308867834018, '72781': 41.50517388097997, '72951': 148.942796637166, '73081': 36.855870119136945, '73121': 44.97636360661128, '73171': 6.7016068496707115, '73181': 8.870234859192877, '73201': 29.884588777418195, '73211': 27.79933680906497, '73301': 7.8001709659408895, '73321': 4.928646323692396, '73391': 125.6567765180433, '73421': 3.855781492885418, '73461': 21.174202940499654, '73531': 53.25395207007324, '73551': 14.696836052474524, '73571': 95.65370073520529}\n"
     ]
    }
   ],
   "source": [
    "while percimptreated_sbs['72671'] > 100:\n",
    "    raingarden_percimpervareatreated['72671'] =  raingarden_percimpervareatreated['72671']-0.25\n",
    "    for key in percimptreated_sbs:\n",
    "        percimptreated_sbs[key] = raingarden_percimpervareatreated[key] + bioretention_percimpervareatreated[key] + permeablepavement_percimpervtreated[key] + grassswale_percimpervareatreated[key]\n",
    "        \n",
    "print(percimptreated_sbs)\n"
   ]
  },
  {
   "cell_type": "code",
   "execution_count": 50,
   "metadata": {},
   "outputs": [
    {
     "name": "stdout",
     "output_type": "stream",
     "text": [
      "{'72591': 107.27910212604395, '72631': 77.9000677523224, '72671': 103.3616582217781, '72731': 114.8185546291702, '72781': 48.32627782708914, '72951': 102.7429186940914, '73081': 36.86514681343871, '73121': 78.41015628834013, '73171': 0.0, '73181': 27.893752976326606, '73201': 38.114447387826985, '73211': 38.760338218095455, '73301': 1.463178575024673, '73321': 5.156288040065585, '73391': 59.36698169799158, '73421': 0.0, '73461': 47.34709800166284, '73531': 107.67610432038884, '73551': 93.38162982951414, '73571': 179.62407033980108}\n"
     ]
    }
   ],
   "source": [
    "subbasinlist = ['72591', '72631', '72671', '72731', '72781', '72951', '73081','73121','73171','73181', '73201', '73211', '73301', '73321', '73391', '73421', '73461', '73531', '73551','73571']\n",
    "percpervtreated_sbs = dict.fromkeys(subbasinlist)\n",
    "\n",
    "for key in percpervtreated_sbs:\n",
    "    percpervtreated_sbs[key] = raingarden_percpervareatreated[key] + bioretention_percpervareatreated[key] + grassswale_percpervareatreated[key]\n",
    "print(percpervtreated_sbs)  "
   ]
  },
  {
   "cell_type": "code",
   "execution_count": 51,
   "metadata": {},
   "outputs": [],
   "source": [
    "while percpervtreated_sbs['73571'] > 100:\n",
    "    raingarden_percpervareatreated['73571'] =  raingarden_percpervareatreated['73571']-0.25\n",
    "    for key in percpervtreated_sbs:\n",
    "        percpervtreated_sbs[key] = raingarden_percpervareatreated[key] + bioretention_percpervareatreated[key] + grassswale_percpervareatreated[key] \n",
    "    \n"
   ]
  },
  {
   "cell_type": "code",
   "execution_count": 52,
   "metadata": {},
   "outputs": [
    {
     "name": "stdout",
     "output_type": "stream",
     "text": [
      "{'72591': 99.77910212604395, '72631': 77.9000677523224, '72671': 103.3616582217781, '72731': 114.8185546291702, '72781': 48.32627782708914, '72951': 102.7429186940914, '73081': 36.86514681343871, '73121': 78.41015628834013, '73171': 0.0, '73181': 27.893752976326606, '73201': 38.114447387826985, '73211': 38.760338218095455, '73301': 1.463178575024673, '73321': 5.156288040065585, '73391': 59.36698169799158, '73421': 0.0, '73461': 47.34709800166284, '73531': 107.67610432038884, '73551': 93.38162982951414, '73571': 99.87407033980107}\n"
     ]
    }
   ],
   "source": [
    "while percpervtreated_sbs['72591'] > 100:\n",
    "    raingarden_percpervareatreated['72591'] =  raingarden_percpervareatreated['72591']-0.25\n",
    "    for key in percpervtreated_sbs:\n",
    "        percpervtreated_sbs[key] = raingarden_percpervareatreated[key] + bioretention_percpervareatreated[key] + grassswale_percpervareatreated[key] \n",
    "print(percpervtreated_sbs)\n"
   ]
  },
  {
   "cell_type": "code",
   "execution_count": 53,
   "metadata": {
    "scrolled": true
   },
   "outputs": [
    {
     "name": "stdout",
     "output_type": "stream",
     "text": [
      "{'72591': 99.78239366516209, '72631': 44.076235918557316, '72671': 99.9776087509785, '72731': 51.6308867834018, '72781': 41.50517388097997, '72951': 148.942796637166, '73081': 36.855870119136945, '73121': 44.97636360661128, '73171': 6.7016068496707115, '73181': 8.870234859192877, '73201': 29.884588777418195, '73211': 27.79933680906497, '73301': 7.8001709659408895, '73321': 4.928646323692396, '73391': 125.6567765180433, '73421': 3.855781492885418, '73461': 21.174202940499654, '73531': 53.25395207007324, '73551': 14.696836052474524, '73571': 95.65370073520529}\n"
     ]
    }
   ],
   "source": [
    "while percimptreated_sbs['72591'] > 100:\n",
    "    raingarden_percimpervareatreated['72591'] =  raingarden_percimpervareatreated['72591']-0.25\n",
    "    for key in percimptreated_sbs:\n",
    "        percimptreated_sbs[key] = raingarden_percimpervareatreated[key] + bioretention_percimpervareatreated[key] + permeablepavement_percimpervtreated[key] + grassswale_percimpervareatreated[key]\n",
    "        \n",
    "print(percimptreated_sbs)\n"
   ]
  },
  {
   "cell_type": "code",
   "execution_count": 54,
   "metadata": {},
   "outputs": [
    {
     "name": "stdout",
     "output_type": "stream",
     "text": [
      "{'72591': 99.78239366516209, '72631': 44.076235918557316, '72671': 99.9776087509785, '72731': 51.6308867834018, '72781': 41.50517388097997, '72951': 99.94279663716597, '73081': 36.855870119136945, '73121': 44.97636360661128, '73171': 6.7016068496707115, '73181': 8.870234859192877, '73201': 29.884588777418195, '73211': 27.79933680906497, '73301': 7.8001709659408895, '73321': 4.928646323692396, '73391': 125.6567765180433, '73421': 3.855781492885418, '73461': 21.174202940499654, '73531': 53.25395207007324, '73551': 14.696836052474524, '73571': 95.65370073520529}\n"
     ]
    }
   ],
   "source": [
    "while percimptreated_sbs['72951'] > 100:\n",
    "    raingarden_percimpervareatreated['72951'] =  raingarden_percimpervareatreated['72951']-0.25\n",
    "    for key in percimptreated_sbs:\n",
    "        percimptreated_sbs[key] = raingarden_percimpervareatreated[key] + bioretention_percimpervareatreated[key] + permeablepavement_percimpervtreated[key] + grassswale_percimpervareatreated[key]\n",
    "        \n",
    "print(percimptreated_sbs)\n"
   ]
  },
  {
   "cell_type": "code",
   "execution_count": 55,
   "metadata": {},
   "outputs": [
    {
     "name": "stdout",
     "output_type": "stream",
     "text": [
      "{'72591': 99.78239366516209, '72631': 44.076235918557316, '72671': 99.9776087509785, '72731': 51.6308867834018, '72781': 41.50517388097997, '72951': 99.94279663716597, '73081': 36.855870119136945, '73121': 44.97636360661128, '73171': 6.7016068496707115, '73181': 8.870234859192877, '73201': 29.884588777418195, '73211': 27.79933680906497, '73301': 7.8001709659408895, '73321': 4.928646323692396, '73391': 99.9067765180433, '73421': 3.855781492885418, '73461': 21.174202940499654, '73531': 53.25395207007324, '73551': 14.696836052474524, '73571': 95.65370073520529}\n"
     ]
    }
   ],
   "source": [
    "while percimptreated_sbs['73391'] > 100:\n",
    "    raingarden_percimpervareatreated['73391'] =  raingarden_percimpervareatreated['73391']-0.25\n",
    "    for key in percimptreated_sbs:\n",
    "        percimptreated_sbs[key] = raingarden_percimpervareatreated[key] + bioretention_percimpervareatreated[key] + permeablepavement_percimpervtreated[key] + grassswale_percimpervareatreated[key]\n",
    "        \n",
    "print(percimptreated_sbs)"
   ]
  },
  {
   "cell_type": "code",
   "execution_count": 56,
   "metadata": {},
   "outputs": [
    {
     "name": "stdout",
     "output_type": "stream",
     "text": [
      "{'72591': 99.77910212604395, '72631': 77.9000677523224, '72671': 103.3616582217781, '72731': 114.8185546291702, '72781': 48.32627782708914, '72951': 99.9929186940914, '73081': 36.86514681343871, '73121': 78.41015628834013, '73171': 0.0, '73181': 27.893752976326606, '73201': 38.114447387826985, '73211': 38.760338218095455, '73301': 1.463178575024673, '73321': 5.156288040065585, '73391': 59.36698169799158, '73421': 0.0, '73461': 47.34709800166284, '73531': 107.67610432038884, '73551': 93.38162982951414, '73571': 99.87407033980107}\n"
     ]
    }
   ],
   "source": [
    "while percpervtreated_sbs['72951'] > 100:\n",
    "    raingarden_percpervareatreated['72951'] =  raingarden_percpervareatreated['72951']-0.25\n",
    "    for key in percpervtreated_sbs:\n",
    "        percpervtreated_sbs[key] = raingarden_percpervareatreated[key] + bioretention_percpervareatreated[key] + grassswale_percpervareatreated[key] \n",
    "print(percpervtreated_sbs)\n"
   ]
  },
  {
   "cell_type": "code",
   "execution_count": 57,
   "metadata": {
    "scrolled": true
   },
   "outputs": [
    {
     "name": "stdout",
     "output_type": "stream",
     "text": [
      "{'72591': 99.77910212604395, '72631': 77.9000677523224, '72671': 103.3616582217781, '72731': 99.8185546291702, '72781': 48.32627782708914, '72951': 99.9929186940914, '73081': 36.86514681343871, '73121': 78.41015628834013, '73171': 0.0, '73181': 27.893752976326606, '73201': 38.114447387826985, '73211': 38.760338218095455, '73301': 1.463178575024673, '73321': 5.156288040065585, '73391': 59.36698169799158, '73421': 0.0, '73461': 47.34709800166284, '73531': 107.67610432038884, '73551': 93.38162982951414, '73571': 99.87407033980107}\n"
     ]
    }
   ],
   "source": [
    "while percpervtreated_sbs['72731'] > 100:\n",
    "    raingarden_percpervareatreated['72731'] =  raingarden_percpervareatreated['72731']-0.25\n",
    "    for key in percpervtreated_sbs:\n",
    "        percpervtreated_sbs[key] = raingarden_percpervareatreated[key] + bioretention_percpervareatreated[key] + grassswale_percpervareatreated[key] \n",
    "print(percpervtreated_sbs)"
   ]
  },
  {
   "cell_type": "code",
   "execution_count": 58,
   "metadata": {},
   "outputs": [
    {
     "name": "stdout",
     "output_type": "stream",
     "text": [
      "{'72591': 99.77910212604395, '72631': 77.9000677523224, '72671': 103.3616582217781, '72731': 99.8185546291702, '72781': 48.32627782708914, '72951': 99.9929186940914, '73081': 36.86514681343871, '73121': 78.41015628834013, '73171': 0.0, '73181': 27.893752976326606, '73201': 38.114447387826985, '73211': 38.760338218095455, '73301': 1.463178575024673, '73321': 5.156288040065585, '73391': 59.36698169799158, '73421': 0.0, '73461': 47.34709800166284, '73531': 99.92610432038884, '73551': 93.38162982951414, '73571': 99.87407033980107}\n"
     ]
    }
   ],
   "source": [
    "while percpervtreated_sbs['73531'] > 100:\n",
    "    raingarden_percpervareatreated['73531'] =  raingarden_percpervareatreated['73531']-0.25\n",
    "    for key in percpervtreated_sbs:\n",
    "        percpervtreated_sbs[key] = raingarden_percpervareatreated[key] + bioretention_percpervareatreated[key] + grassswale_percpervareatreated[key] \n",
    "print(percpervtreated_sbs)"
   ]
  },
  {
   "cell_type": "code",
   "execution_count": 59,
   "metadata": {},
   "outputs": [
    {
     "name": "stdout",
     "output_type": "stream",
     "text": [
      "{'72591': 99.77910212604395, '72631': 77.9000677523224, '72671': 99.8616582217781, '72731': 99.8185546291702, '72781': 48.32627782708914, '72951': 99.9929186940914, '73081': 36.86514681343871, '73121': 78.41015628834013, '73171': 0.0, '73181': 27.893752976326606, '73201': 38.114447387826985, '73211': 38.760338218095455, '73301': 1.463178575024673, '73321': 5.156288040065585, '73391': 59.36698169799158, '73421': 0.0, '73461': 47.34709800166284, '73531': 99.92610432038884, '73551': 93.38162982951414, '73571': 99.87407033980107}\n"
     ]
    }
   ],
   "source": [
    "while percpervtreated_sbs['72671'] > 100:\n",
    "    raingarden_percpervareatreated['72671'] =  raingarden_percpervareatreated['72671']-0.25\n",
    "    for key in percpervtreated_sbs:\n",
    "        percpervtreated_sbs[key] = raingarden_percpervareatreated[key] + bioretention_percpervareatreated[key] + grassswale_percpervareatreated[key] \n",
    "print(percpervtreated_sbs)"
   ]
  },
  {
   "cell_type": "markdown",
   "metadata": {},
   "source": [
    "# The following blocks update subcatchment percent impervious and widths using SWMMIO "
   ]
  },
  {
   "cell_type": "code",
   "execution_count": 60,
   "metadata": {},
   "outputs": [
    {
     "name": "stdout",
     "output_type": "stream",
     "text": [
      "{'72591': 228567.326, '72631': 401873.298348, '72671': 293114.38263300003, '72731': 467342.16347300005, '72781': 510392.20503, '72951': 395273.85864, '73081': 514595.26599000004, '73121': 695208.471577, '73171': 364716.075238, '73181': 416637.572482, '73201': 434051.49325999996, '73211': 428721.70988299994, '73301': 598716.6354, '73321': 404248.06237800006, '73391': 162991.068, '73421': 476254.542792, '73461': 435673.67587000004, '73531': 384462.85138, '73551': 402926.11853, '73571': 194745.30286999998}\n"
     ]
    }
   ],
   "source": [
    "subbasindict = dict.fromkeys(subbasinlist)\n",
    "updated_sb_impervious_areas = subbasindict\n",
    "\n",
    "for key in updated_sb_impervious_areas:\n",
    "    updated_sb_impervious_areas[key] = subbasin_imperv_areas[key] - greenroof_assigned_areas[key] - permeablepavement_assigned_areas[key]\n",
    "print(updated_sb_impervious_areas)"
   ]
  },
  {
   "cell_type": "code",
   "execution_count": 61,
   "metadata": {},
   "outputs": [
    {
     "name": "stdout",
     "output_type": "stream",
     "text": [
      "{'72591': 930398.04, '72631': 952047.36, '72671': 1011681.0, '72731': 954530.28, '72781': 1649965.68, '72951': 1785524.4, '73081': 1531569.6, '73121': 1481911.2, '73171': 677488.68, '73181': 626044.32, '73201': 922731.48, '73211': 1332718.2, '73301': 1379980.8, '73321': 629311.32, '73391': 762430.68, '73421': 672827.76, '73461': 708067.8, '73531': 677662.92, '73551': 603218.88, '73571': 368648.28}\n"
     ]
    }
   ],
   "source": [
    "print(subbasin_areas)"
   ]
  },
  {
   "cell_type": "code",
   "execution_count": 62,
   "metadata": {},
   "outputs": [
    {
     "name": "stdout",
     "output_type": "stream",
     "text": [
      "{'72591': 24.566617315745848, '72631': 42.2114818267024, '72671': 28.973004596607037, '72731': 48.96043355198748, '72781': 30.93350432779911, '72951': 22.13769011725631, '73081': 33.59920868042824, '73121': 46.91296425703511, '73171': 53.83353050828834, '73181': 66.55081104832962, '73201': 47.03984882579274, '73211': 32.168969395255495, '73301': 43.38586706423742, '73321': 64.2365788649726, '73391': 21.377821259763575, '73421': 70.78402097915817, '73461': 61.529937651450894, '73531': 56.73364146587805, '73551': 66.79600587600972, '73571': 52.82685785757633}\n"
     ]
    }
   ],
   "source": [
    "subbasindict = dict.fromkeys(subbasinlist)\n",
    "updated_sb_percent_impervious_areas = subbasindict\n",
    "for key in updated_sb_percent_impervious_areas:\n",
    "    updated_sb_percent_impervious_areas[key] = (updated_sb_impervious_areas[key] / subbasin_areas[key])*100\n",
    "print(updated_sb_percent_impervious_areas)"
   ]
  },
  {
   "cell_type": "code",
   "execution_count": 63,
   "metadata": {},
   "outputs": [],
   "source": [
    "#initialize a baseline model object in swmmio\n",
    "baseline = sio.Model(r'C:\\Users\\R. Seth Herbst\\Desktop\\SWMM Programs and Files\\MeadowCreekSWMM')\n",
    "\n",
    "#isolate subcatchments dataframe\n",
    "subcatchments = baseline.inp.subcatchments\n",
    "\n",
    "#Set subcatchment parameters\n",
    "\n",
    "#Percent Impervious Adjustments\n",
    "\n",
    "subcatchments.loc['73081','PercImperv'] = updated_sb_impervious_areas['73081']\n",
    "subcatchments.loc['72671','PercImperv'] = updated_sb_impervious_areas['72671']\n",
    "subcatchments.loc['72591','PercImperv'] = updated_sb_impervious_areas['72591']\n",
    "subcatchments.loc['72631','PercImperv'] = updated_sb_impervious_areas['72631']\n",
    "subcatchments.loc['72781','PercImperv'] = updated_sb_impervious_areas['72781']\n",
    "subcatchments.loc['72731','PercImperv'] = updated_sb_impervious_areas['72731']\n",
    "subcatchments.loc['72951','PercImperv'] = updated_sb_impervious_areas['72951']\n",
    "subcatchments.loc['73211','PercImperv'] = updated_sb_impervious_areas['73211']\n",
    "subcatchments.loc['73181','PercImperv'] = updated_sb_impervious_areas['73181']\n",
    "subcatchments.loc['73171','PercImperv'] = updated_sb_impervious_areas['73171']\n",
    "subcatchments.loc['73121','PercImperv'] = updated_sb_impervious_areas['73121']\n",
    "subcatchments.loc['73201','PercImperv'] = updated_sb_impervious_areas['73201']\n",
    "subcatchments.loc['73301','PercImperv'] = updated_sb_impervious_areas['73301']\n",
    "subcatchments.loc['73321','PercImperv'] = updated_sb_impervious_areas['73321']\n",
    "subcatchments.loc['73391','PercImperv'] = updated_sb_impervious_areas['73391']\n",
    "subcatchments.loc['73461','PercImperv'] = updated_sb_impervious_areas['73461']\n",
    "subcatchments.loc['73551','PercImperv'] = updated_sb_impervious_areas['73551']\n",
    "subcatchments.loc['73421','PercImperv'] = updated_sb_impervious_areas['73421']\n",
    "subcatchments.loc['73531','PercImperv'] = updated_sb_impervious_areas['73531']\n",
    "subcatchments.loc['73571','PercImperv'] = updated_sb_impervious_areas['73571']\n",
    "\n",
    "#Width Adjustment((SUBBASIN AREA/Flow Length) - LID Width)\n",
    "\n",
    "subcatchments.loc['73081','Width'] = ((subcatchments.loc['73081','Area'] * 43560)/subbasin_flowlengths['73081']) - (lid_total_areas['73081']/subbasin_flowlengths['73081'])\n",
    "subcatchments.loc['72671','Width'] = ((subcatchments.loc['72671','Area'] * 43560)/subbasin_flowlengths['72671']) - (lid_total_areas['73461']/subbasin_flowlengths['72671'])\n",
    "subcatchments.loc['72591','Width'] = ((subcatchments.loc['72591','Area'] * 43560)/subbasin_flowlengths['72591']) - (lid_total_areas['72591']/subbasin_flowlengths['72591'])\n",
    "subcatchments.loc['72631','Width'] = ((subcatchments.loc['72631','Area'] * 43560)/subbasin_flowlengths['72631']) - (lid_total_areas['72631']/subbasin_flowlengths['72631'])\n",
    "subcatchments.loc['72781','Width'] = ((subcatchments.loc['72781','Area'] * 43560)/subbasin_flowlengths['72781']) - (lid_total_areas['72781']/subbasin_flowlengths['72781'])\n",
    "subcatchments.loc['72731','Width'] = ((subcatchments.loc['72731','Area'] * 43560)/subbasin_flowlengths['72731']) - (lid_total_areas['72731']/subbasin_flowlengths['72731'])\n",
    "subcatchments.loc['72951','Width'] = ((subcatchments.loc['72951','Area'] * 43560)/subbasin_flowlengths['72951']) - (lid_total_areas['72951']/subbasin_flowlengths['72951'])\n",
    "subcatchments.loc['73211','Width'] = ((subcatchments.loc['73211','Area'] * 43560)/subbasin_flowlengths['73211']) - (lid_total_areas['73211']/subbasin_flowlengths['73211'])\n",
    "subcatchments.loc['73181','Width'] = ((subcatchments.loc['73181','Area'] * 43560)/subbasin_flowlengths['73181']) - (lid_total_areas['73181']/subbasin_flowlengths['73181'])\n",
    "subcatchments.loc['73171','Width'] = ((subcatchments.loc['73171','Area'] * 43560)/subbasin_flowlengths['73171']) - (lid_total_areas['73171']/subbasin_flowlengths['73171'])\n",
    "subcatchments.loc['73121','Width'] = ((subcatchments.loc['73121','Area'] * 43560)/subbasin_flowlengths['73121']) - (lid_total_areas['73121']/subbasin_flowlengths['73121'])\n",
    "subcatchments.loc['73201','Width'] = ((subcatchments.loc['73201','Area'] * 43560)/subbasin_flowlengths['73201']) - (lid_total_areas['73201']/subbasin_flowlengths['73201'])\n",
    "subcatchments.loc['73301','Width'] = ((subcatchments.loc['73301','Area'] * 43560)/subbasin_flowlengths['73301']) - (lid_total_areas['73301']/subbasin_flowlengths['73301'])\n",
    "subcatchments.loc['73321','Width'] = ((subcatchments.loc['73321','Area'] * 43560)/subbasin_flowlengths['73321']) - (lid_total_areas['73321']/subbasin_flowlengths['73321'])\n",
    "subcatchments.loc['73391','Width'] = ((subcatchments.loc['73391','Area'] * 43560)/subbasin_flowlengths['73391']) - (lid_total_areas['73391']/subbasin_flowlengths['73391'])\n",
    "subcatchments.loc['73461','Width'] = ((subcatchments.loc['73461','Area'] * 43560)/subbasin_flowlengths['73461']) - (lid_total_areas['73461']/subbasin_flowlengths['73461'])\n",
    "subcatchments.loc['73551','Width'] = ((subcatchments.loc['73551','Area'] * 43560)/subbasin_flowlengths['73551']) - (lid_total_areas['73551']/subbasin_flowlengths['73551'])\n",
    "subcatchments.loc['73421','Width'] = ((subcatchments.loc['73421','Area'] * 43560)/subbasin_flowlengths['73421']) - (lid_total_areas['73421']/subbasin_flowlengths['73421'])\n",
    "subcatchments.loc['73531','Width'] = ((subcatchments.loc['73531','Area'] * 43560)/subbasin_flowlengths['73531']) - (lid_total_areas['73531']/subbasin_flowlengths['73531'])\n",
    "subcatchments.loc['73571','Width'] = ((subcatchments.loc['73571','Area'] * 43560)/subbasin_flowlengths['73571']) - (lid_total_areas['73571']/subbasin_flowlengths['73571'])\n",
    "\n",
    "#save subcatchment dataframe changes to whole inp dataframe\n",
    "baseline.inp.subcatchments = subcatchments\n",
    "\n",
    "#create the new inp file to use. \n",
    "newfilepath = os.path.join(r\"C:\\Users\\R. Seth Herbst\\Desktop\\SWMM Programs and Files\\SWMMIO_Altered_INPUTS\", baseline.inp.name + \"_\" + 'Adjusted_SB_Parameters' + '.inp')\n",
    "    \n",
    "#Write the subcatchment section of the new model with the adjusted data\n",
    "\n",
    "baseline.inp.save(newfilepath)"
   ]
  },
  {
   "cell_type": "markdown",
   "metadata": {},
   "source": [
    "# "
   ]
  },
  {
   "cell_type": "markdown",
   "metadata": {},
   "source": [
    "# PYSWMM simulation with LID adjustments"
   ]
  },
  {
   "cell_type": "markdown",
   "metadata": {},
   "source": []
  },
  {
   "cell_type": "code",
   "execution_count": 64,
   "metadata": {},
   "outputs": [],
   "source": [
    "with Simulation(r\"C:\\Users\\R. Seth Herbst\\Desktop\\SWMM Programs and Files\\SWMMIO_Altered_INPUTS\\Meadow_Creek_Hydrology_Model_UpdatedMar2021_Adjusted_SB_Parameters.inp\", reportfile = r'C:\\Users\\R. Seth Herbst\\Desktop\\SWMM Programs and Files\\SWMMIO_Altered_INPUTS\\Meadow_Creek_Hydrology_Model_UpdatedMar2021_Adjusted_SB_Parameters.txt') as sim:\n",
    "    \n",
    "    \n",
    "    control_time_step = 86400*3\n",
    "    sim.step_advance(control_time_step)\n",
    "    \n",
    "    \n",
    "    #Load in subcatchment lid list\n",
    "    \n",
    "    lid_sub_73081 = LidGroups(sim)['73081']\n",
    "    lid_sub_72671 = LidGroups(sim)['72671']\n",
    "    lid_sub_72591 = LidGroups(sim)['72591']\n",
    "    lid_sub_72631 = LidGroups(sim)['72631']\n",
    "    lid_sub_72781 = LidGroups(sim)['72781']\n",
    "    lid_sub_72731 = LidGroups(sim)['72731']\n",
    "    lid_sub_72951 = LidGroups(sim)['72951']\n",
    "    lid_sub_73211 = LidGroups(sim)['73211']\n",
    "    lid_sub_73181 = LidGroups(sim)['73181']\n",
    "    lid_sub_73171 = LidGroups(sim)['73171']\n",
    "    lid_sub_73121 = LidGroups(sim)['73121']\n",
    "    lid_sub_73201 = LidGroups(sim)['73201']\n",
    "    lid_sub_73301 = LidGroups(sim)['73301']\n",
    "    lid_sub_73321 = LidGroups(sim)['73321']\n",
    "    lid_sub_73391 = LidGroups(sim)['73391']\n",
    "    lid_sub_73461 = LidGroups(sim)['73461']\n",
    "    lid_sub_73551 = LidGroups(sim)['73551']\n",
    "    lid_sub_73421 = LidGroups(sim)['73421']\n",
    "    lid_sub_73531 = LidGroups(sim)['73531']\n",
    "    lid_sub_73571 = LidGroups(sim)['73571']\n",
    "    \n",
    "    \n",
    "#     #Set LID Areas!\n",
    "    \n",
    "    lid_sub_73081[0].unit_area = greenroof_assigned_areas['73081']\n",
    "    lid_sub_73081[1].unit_area = permeablepavement_assigned_areas['73081']\n",
    "    lid_sub_73081[2].unit_area = raingarden_assigned_areas['73081']\n",
    "    lid_sub_73081[3].unit_area = bioretention_assigned_areas['73081']\n",
    "    lid_sub_73081[4].unit_area = grassswale_assigned_areas['73081']\n",
    "    \n",
    "    lid_sub_72671[0].unit_area = greenroof_assigned_areas['72671']\n",
    "    lid_sub_72671[1].unit_area = permeablepavement_assigned_areas['72671']\n",
    "    lid_sub_72671[2].unit_area = raingarden_assigned_areas['72671']\n",
    "    lid_sub_72671[3].unit_area = bioretention_assigned_areas['72671']\n",
    "    lid_sub_72671[4].unit_area = grassswale_assigned_areas['72671']\n",
    "    \n",
    "    lid_sub_72591[0].unit_area = greenroof_assigned_areas['72591']\n",
    "    lid_sub_72591[1].unit_area = permeablepavement_assigned_areas['72591']\n",
    "    lid_sub_72591[2].unit_area = raingarden_assigned_areas['72591']\n",
    "    lid_sub_72591[3].unit_area = bioretention_assigned_areas['72591']\n",
    "    lid_sub_72591[4].unit_area = grassswale_assigned_areas['72591']\n",
    "    \n",
    "    lid_sub_72631[0].unit_area = greenroof_assigned_areas['72631']\n",
    "    lid_sub_72631[1].unit_area = permeablepavement_assigned_areas['72631']\n",
    "    lid_sub_72631[2].unit_area = raingarden_assigned_areas['72631']\n",
    "    lid_sub_72631[3].unit_area = bioretention_assigned_areas['72631']\n",
    "    lid_sub_72631[4].unit_area = grassswale_assigned_areas['72631']\n",
    "    \n",
    "    lid_sub_72781[0].unit_area = greenroof_assigned_areas['72781']\n",
    "    lid_sub_72781[1].unit_area = permeablepavement_assigned_areas['72781']\n",
    "    lid_sub_72781[2].unit_area = raingarden_assigned_areas['72781']\n",
    "    lid_sub_72781[3].unit_area = bioretention_assigned_areas['72781']\n",
    "    lid_sub_72781[4].unit_area = grassswale_assigned_areas['72781']\n",
    "    \n",
    "    lid_sub_72731[0].unit_area = greenroof_assigned_areas['72731']\n",
    "    lid_sub_72731[1].unit_area = permeablepavement_assigned_areas['72731']\n",
    "    lid_sub_72731[2].unit_area = raingarden_assigned_areas['72731']\n",
    "    lid_sub_72731[3].unit_area = bioretention_assigned_areas['72731']\n",
    "    lid_sub_72731[4].unit_area = grassswale_assigned_areas['72731']\n",
    "    \n",
    "    lid_sub_72951[0].unit_area = greenroof_assigned_areas['72951']\n",
    "    lid_sub_72951[1].unit_area = permeablepavement_assigned_areas['72951']\n",
    "    lid_sub_72951[2].unit_area = raingarden_assigned_areas['72951']\n",
    "    lid_sub_72951[3].unit_area = bioretention_assigned_areas['72951']\n",
    "    lid_sub_72951[4].unit_area = grassswale_assigned_areas['72951']\n",
    "    \n",
    "    lid_sub_73211[0].unit_area = greenroof_assigned_areas['73211']\n",
    "    lid_sub_73211[1].unit_area = permeablepavement_assigned_areas['73211']\n",
    "    lid_sub_73211[2].unit_area = raingarden_assigned_areas['73211']\n",
    "    lid_sub_73211[3].unit_area = bioretention_assigned_areas['73211']\n",
    "    lid_sub_73211[4].unit_area = grassswale_assigned_areas['73211']\n",
    "    \n",
    "    lid_sub_73181[0].unit_area = greenroof_assigned_areas['73181']\n",
    "    lid_sub_73181[1].unit_area = permeablepavement_assigned_areas['73181']\n",
    "    lid_sub_73181[2].unit_area = raingarden_assigned_areas['73181']\n",
    "    lid_sub_73181[3].unit_area = bioretention_assigned_areas['73181']\n",
    "    lid_sub_73181[4].unit_area = grassswale_assigned_areas['73181']\n",
    "    \n",
    "    lid_sub_73171[0].unit_area = greenroof_assigned_areas['73171']\n",
    "    lid_sub_73171[1].unit_area = permeablepavement_assigned_areas['73171']\n",
    "    lid_sub_73171[2].unit_area = raingarden_assigned_areas['73171']\n",
    "    lid_sub_73171[3].unit_area = bioretention_assigned_areas['73171']\n",
    "    lid_sub_73171[4].unit_area = grassswale_assigned_areas['73171']\n",
    "    \n",
    "    lid_sub_73121[0].unit_area = greenroof_assigned_areas['73121']\n",
    "    lid_sub_73121[1].unit_area = permeablepavement_assigned_areas['73121']\n",
    "    lid_sub_73121[2].unit_area = raingarden_assigned_areas['73121']\n",
    "    lid_sub_73121[3].unit_area = bioretention_assigned_areas['73121']\n",
    "    lid_sub_73121[4].unit_area = grassswale_assigned_areas['73121']\n",
    "    \n",
    "    lid_sub_73201[0].unit_area = greenroof_assigned_areas['73201']\n",
    "    lid_sub_73201[1].unit_area = permeablepavement_assigned_areas['73201']\n",
    "    lid_sub_73201[2].unit_area = raingarden_assigned_areas['73201']\n",
    "    lid_sub_73201[3].unit_area = bioretention_assigned_areas['73201']\n",
    "    lid_sub_73201[4].unit_area = grassswale_assigned_areas['73201']\n",
    "    \n",
    "    lid_sub_73301[0].unit_area = greenroof_assigned_areas['73301']\n",
    "    lid_sub_73301[1].unit_area = permeablepavement_assigned_areas['73301']\n",
    "    lid_sub_73301[2].unit_area = raingarden_assigned_areas['73301']\n",
    "    lid_sub_73301[3].unit_area = bioretention_assigned_areas['73301']\n",
    "    lid_sub_73301[4].unit_area = grassswale_assigned_areas['73301']\n",
    "    \n",
    "    lid_sub_73321[0].unit_area = greenroof_assigned_areas['73321']\n",
    "    lid_sub_73321[1].unit_area = permeablepavement_assigned_areas['73321']\n",
    "    lid_sub_73321[2].unit_area = raingarden_assigned_areas['73321']\n",
    "    lid_sub_73321[3].unit_area = bioretention_assigned_areas['73321']\n",
    "    lid_sub_73321[4].unit_area = grassswale_assigned_areas['73321']\n",
    "    \n",
    "    lid_sub_73391[0].unit_area = greenroof_assigned_areas['73391']\n",
    "    lid_sub_73391[1].unit_area = permeablepavement_assigned_areas['73391']\n",
    "    lid_sub_73391[2].unit_area = raingarden_assigned_areas['73391']\n",
    "    lid_sub_73391[3].unit_area = bioretention_assigned_areas['73391']\n",
    "    lid_sub_73391[4].unit_area = grassswale_assigned_areas['73391']\n",
    "    \n",
    "    lid_sub_73461[0].unit_area = greenroof_assigned_areas['73461']\n",
    "    lid_sub_73461[1].unit_area = permeablepavement_assigned_areas['73461']\n",
    "    lid_sub_73461[2].unit_area = raingarden_assigned_areas['73461']\n",
    "    lid_sub_73461[3].unit_area = bioretention_assigned_areas['73461']\n",
    "    lid_sub_73461[4].unit_area = grassswale_assigned_areas['73461']\n",
    "    \n",
    "    lid_sub_73551[0].unit_area = greenroof_assigned_areas['73551']\n",
    "    lid_sub_73551[1].unit_area = permeablepavement_assigned_areas['73551']\n",
    "    lid_sub_73551[2].unit_area = raingarden_assigned_areas['73551']\n",
    "    lid_sub_73551[3].unit_area = bioretention_assigned_areas['73551']\n",
    "    lid_sub_73551[4].unit_area = grassswale_assigned_areas['73551']\n",
    "    \n",
    "    lid_sub_73421[0].unit_area = greenroof_assigned_areas['73421']\n",
    "    lid_sub_73421[1].unit_area = permeablepavement_assigned_areas['73421']\n",
    "    lid_sub_73421[2].unit_area = raingarden_assigned_areas['73421']\n",
    "    lid_sub_73421[3].unit_area = bioretention_assigned_areas['73421']\n",
    "    lid_sub_73421[4].unit_area = grassswale_assigned_areas['73421']\n",
    "    \n",
    "    lid_sub_73531[0].unit_area = greenroof_assigned_areas['73531']\n",
    "    lid_sub_73531[1].unit_area = permeablepavement_assigned_areas['73531']\n",
    "    lid_sub_73531[2].unit_area = raingarden_assigned_areas['73531']\n",
    "    lid_sub_73531[3].unit_area = bioretention_assigned_areas['73531']\n",
    "    lid_sub_73531[4].unit_area = grassswale_assigned_areas['73531']\n",
    "    \n",
    "    lid_sub_73571[0].unit_area = greenroof_assigned_areas['73571']\n",
    "    lid_sub_73571[1].unit_area = permeablepavement_assigned_areas['73571']\n",
    "    lid_sub_73571[2].unit_area = raingarden_assigned_areas['73571']\n",
    "    lid_sub_73571[3].unit_area = bioretention_assigned_areas['73571']\n",
    "    lid_sub_73571[4].unit_area = grassswale_assigned_areas['73571']\n",
    "    \n",
    "    \n",
    "    \n",
    "#Set Percent Impervious Areas Treated\n",
    "    \n",
    "    lid_sub_73081[1].from_impervious = permeablepavement_percimpervtreated['73081']\n",
    "    lid_sub_73081[2].from_impervious= raingarden_percimpervareatreated['73081']\n",
    "    lid_sub_73081[3].from_impervious= bioretention_percimpervareatreated['73081']\n",
    "    lid_sub_73081[4].from_impervious= grassswale_percimpervareatreated['73081']\n",
    "    \n",
    "    lid_sub_72671[1].from_impervious = permeablepavement_percimpervtreated['72671']\n",
    "    lid_sub_72671[2].from_impervious= raingarden_percimpervareatreated['72671']\n",
    "    lid_sub_72671[3].from_impervious= bioretention_percimpervareatreated['72671']\n",
    "    lid_sub_72671[4].from_impervious= grassswale_percimpervareatreated['72671']\n",
    "    \n",
    "    lid_sub_72591[1].from_impervious = permeablepavement_percimpervtreated['72591']\n",
    "    lid_sub_72591[2].from_impervious= raingarden_percimpervareatreated['72591']\n",
    "    lid_sub_72591[3].from_impervious= bioretention_percimpervareatreated['72591']\n",
    "    lid_sub_72591[4].from_impervious= grassswale_percimpervareatreated['72591']\n",
    "    \n",
    "    lid_sub_72631[1].from_impervious = permeablepavement_percimpervtreated['72631']\n",
    "    lid_sub_72631[2].from_impervious= raingarden_percimpervareatreated['72631']\n",
    "    lid_sub_72631[3].from_impervious= bioretention_percimpervareatreated['72631']\n",
    "    lid_sub_72631[4].from_impervious= grassswale_percimpervareatreated['72631']\n",
    "    \n",
    "    lid_sub_72781[1].from_impervious = permeablepavement_percimpervtreated['72781']\n",
    "    lid_sub_72781[2].from_impervious= raingarden_percimpervareatreated['72781']\n",
    "    lid_sub_72781[3].from_impervious= bioretention_percimpervareatreated['72781']\n",
    "    lid_sub_72781[4].from_impervious= grassswale_percimpervareatreated['72781']\n",
    "    \n",
    "    lid_sub_72731[1].from_impervious = permeablepavement_percimpervtreated['72731']\n",
    "    lid_sub_72731[2].from_impervious= raingarden_percimpervareatreated['72731']\n",
    "    lid_sub_72731[3].from_impervious= bioretention_percimpervareatreated['72731']\n",
    "    lid_sub_72731[4].from_impervious= grassswale_percimpervareatreated['72731']\n",
    "    \n",
    "    lid_sub_72951[1].from_impervious = permeablepavement_percimpervtreated['72951']\n",
    "    lid_sub_72951[2].from_impervious= raingarden_percimpervareatreated['72951']\n",
    "    lid_sub_72951[3].from_impervious= bioretention_percimpervareatreated['72951']\n",
    "    lid_sub_72951[4].from_impervious= grassswale_percimpervareatreated['72951']\n",
    "    \n",
    "    \n",
    "    lid_sub_73211[1].from_impervious = permeablepavement_percimpervtreated['73211']\n",
    "    lid_sub_73211[2].from_impervious= raingarden_percimpervareatreated['73211']\n",
    "    lid_sub_73211[3].from_impervious= bioretention_percimpervareatreated['73211']\n",
    "    lid_sub_73211[4].from_impervious= grassswale_percimpervareatreated['73211']\n",
    "    \n",
    "    lid_sub_73181[1].from_impervious = permeablepavement_percimpervtreated['73181']\n",
    "    lid_sub_73181[2].from_impervious= raingarden_percimpervareatreated['73181']\n",
    "    lid_sub_73181[3].from_impervious= bioretention_percimpervareatreated['73181']\n",
    "    lid_sub_73181[4].from_impervious= grassswale_percimpervareatreated['73181']\n",
    "    \n",
    "    lid_sub_73171[1].from_impervious = permeablepavement_percimpervtreated['73171']\n",
    "    lid_sub_73171[2].from_impervious= raingarden_percimpervareatreated['73171']\n",
    "    lid_sub_73171[3].from_impervious= bioretention_percimpervareatreated['73171']\n",
    "    lid_sub_73171[4].from_impervious= grassswale_percimpervareatreated['73171']\n",
    "    \n",
    "    lid_sub_73121[1].from_impervious = permeablepavement_percimpervtreated['73121']\n",
    "    lid_sub_73121[2].from_impervious= raingarden_percimpervareatreated['73121']\n",
    "    lid_sub_73121[3].from_impervious= bioretention_percimpervareatreated['73121']\n",
    "    lid_sub_73121[4].from_impervious= grassswale_percimpervareatreated['73121']\n",
    "    \n",
    "    lid_sub_73201[1].from_impervious = permeablepavement_percimpervtreated['73201']\n",
    "    lid_sub_73201[2].from_impervious= raingarden_percimpervareatreated['73201']\n",
    "    lid_sub_73201[3].from_impervious= bioretention_percimpervareatreated['73201']\n",
    "    lid_sub_73201[4].from_impervious= grassswale_percimpervareatreated['73201']\n",
    "    \n",
    "    lid_sub_73301[1].from_impervious = permeablepavement_percimpervtreated['73301']\n",
    "    lid_sub_73301[2].from_impervious= raingarden_percimpervareatreated['73301']\n",
    "    lid_sub_73301[3].from_impervious= bioretention_percimpervareatreated['73301']\n",
    "    lid_sub_73301[4].from_impervious= grassswale_percimpervareatreated['73301']\n",
    "    \n",
    "    lid_sub_73321[1].from_impervious = permeablepavement_percimpervtreated['73321']\n",
    "    lid_sub_73321[2].from_impervious= raingarden_percimpervareatreated['73321']\n",
    "    lid_sub_73321[3].from_impervious= bioretention_percimpervareatreated['73321']\n",
    "    lid_sub_73321[4].from_impervious= grassswale_percimpervareatreated['73321']\n",
    "    \n",
    "    lid_sub_73391[1].from_impervious = permeablepavement_percimpervtreated['73391']\n",
    "    lid_sub_73391[2].from_impervious= raingarden_percimpervareatreated['73391']\n",
    "    lid_sub_73391[3].from_impervious= bioretention_percimpervareatreated['73391']\n",
    "    lid_sub_73391[4].from_impervious= grassswale_percimpervareatreated['73391']\n",
    "    \n",
    "    lid_sub_73461[1].from_impervious = permeablepavement_percimpervtreated['73461']\n",
    "    lid_sub_73461[2].from_impervious= raingarden_percimpervareatreated['73461']\n",
    "    lid_sub_73461[3].from_impervious= bioretention_percimpervareatreated['73461']\n",
    "    lid_sub_73461[4].from_impervious= grassswale_percimpervareatreated['73461']\n",
    "    \n",
    "    lid_sub_73551[1].from_impervious = permeablepavement_percimpervtreated['73551']\n",
    "    lid_sub_73551[2].from_impervious= raingarden_percimpervareatreated['73551']\n",
    "    lid_sub_73551[3].from_impervious= bioretention_percimpervareatreated['73551']\n",
    "    lid_sub_73551[4].from_impervious= grassswale_percimpervareatreated['73551']\n",
    "    \n",
    "    lid_sub_73421[1].from_impervious = permeablepavement_percimpervtreated['73421']\n",
    "    lid_sub_73421[2].from_impervious= raingarden_percimpervareatreated['73421']\n",
    "    lid_sub_73421[3].from_impervious= bioretention_percimpervareatreated['73421']\n",
    "    lid_sub_73421[4].from_impervious= grassswale_percimpervareatreated['73421']\n",
    "    \n",
    "    lid_sub_73531[1].from_impervious = permeablepavement_percimpervtreated['73531']\n",
    "    lid_sub_73531[2].from_impervious= raingarden_percimpervareatreated['73531']\n",
    "    lid_sub_73531[3].from_impervious= bioretention_percimpervareatreated['73531']\n",
    "    lid_sub_73531[4].from_impervious= grassswale_percimpervareatreated['73531']\n",
    "    \n",
    "    lid_sub_73571[1].from_impervious = permeablepavement_percimpervtreated['73571']\n",
    "    lid_sub_73571[2].from_impervious= raingarden_percimpervareatreated['73571']\n",
    "    lid_sub_73571[3].from_impervious= bioretention_percimpervareatreated['73571']\n",
    "    lid_sub_73571[4].from_impervious= grassswale_percimpervareatreated['73571']\n",
    "\n",
    "# Set % Pervious Areas Treated\n",
    "    \n",
    "    lid_sub_73081[2].from_pervious= raingarden_percpervareatreated['73081']\n",
    "    lid_sub_73081[3].from_pervious= bioretention_percpervareatreated['73081']\n",
    "    lid_sub_73081[4].from_pervious= grassswale_percpervareatreated['73081']\n",
    "    \n",
    "    lid_sub_72671[2].from_pervious= raingarden_percpervareatreated['72671']\n",
    "    lid_sub_72671[3].from_pervious= bioretention_percpervareatreated['72671']\n",
    "    lid_sub_72671[4].from_pervious= grassswale_percpervareatreated['72671']\n",
    "    \n",
    "    lid_sub_72591[2].from_pervious= raingarden_percpervareatreated['72591']\n",
    "    lid_sub_72591[3].from_pervious= bioretention_percpervareatreated['72591']\n",
    "    lid_sub_72591[4].from_pervious= grassswale_percpervareatreated['72591']\n",
    "    \n",
    "    lid_sub_72631[2].from_pervious= raingarden_percpervareatreated['72631']\n",
    "    lid_sub_72631[3].from_pervious= bioretention_percpervareatreated['72631']\n",
    "    lid_sub_72631[4].from_pervious= grassswale_percpervareatreated['72631']\n",
    "    \n",
    "    lid_sub_72781[2].from_pervious= raingarden_percpervareatreated['72781']\n",
    "    lid_sub_72781[3].from_pervious= bioretention_percpervareatreated['72781']\n",
    "    lid_sub_72781[4].from_pervious= grassswale_percpervareatreated['72781']\n",
    "    \n",
    "    lid_sub_72731[2].from_pervious= raingarden_percpervareatreated['72731']\n",
    "    lid_sub_72731[3].from_pervious= bioretention_percpervareatreated['72731']\n",
    "    lid_sub_72731[4].from_pervious= grassswale_percpervareatreated['72731']\n",
    "    \n",
    "    lid_sub_72951[2].from_pervious= raingarden_percpervareatreated['72951']\n",
    "    lid_sub_72951[3].from_pervious= bioretention_percpervareatreated['72951']\n",
    "    lid_sub_72951[4].from_pervious= grassswale_percpervareatreated['72951']\n",
    "    \n",
    "    lid_sub_73211[2].from_pervious= raingarden_percpervareatreated['73211']\n",
    "    lid_sub_73211[3].from_pervious= bioretention_percpervareatreated['73211']\n",
    "    lid_sub_73211[4].from_pervious= grassswale_percpervareatreated['73211']\n",
    "    \n",
    "    lid_sub_73181[2].from_pervious= raingarden_percpervareatreated['73181']\n",
    "    lid_sub_73181[3].from_pervious= bioretention_percpervareatreated['73181']\n",
    "    lid_sub_73181[4].from_pervious= grassswale_percpervareatreated['73181']\n",
    "    \n",
    "    lid_sub_73171[2].from_pervious= raingarden_percpervareatreated['73171']\n",
    "    lid_sub_73171[3].from_pervious= bioretention_percpervareatreated['73171']\n",
    "    lid_sub_73171[4].from_pervious= grassswale_percpervareatreated['73171']\n",
    "    \n",
    "    lid_sub_73121[2].from_pervious= raingarden_percpervareatreated['73121']\n",
    "    lid_sub_73121[3].from_pervious= bioretention_percpervareatreated['73121']\n",
    "    lid_sub_73121[4].from_pervious= grassswale_percpervareatreated['73121']\n",
    "    \n",
    "    lid_sub_73201[2].from_pervious= raingarden_percpervareatreated['73201']\n",
    "    lid_sub_73201[3].from_pervious= bioretention_percpervareatreated['73201']\n",
    "    lid_sub_73201[4].from_pervious= grassswale_percpervareatreated['73201']\n",
    "    \n",
    "    lid_sub_73301[2].from_pervious= raingarden_percpervareatreated['73301']\n",
    "    lid_sub_73301[3].from_pervious= bioretention_percpervareatreated['73301']\n",
    "    lid_sub_73301[4].from_pervious= grassswale_percpervareatreated['73301']\n",
    "    \n",
    "    lid_sub_73321[2].from_pervious= raingarden_percpervareatreated['73321']\n",
    "    lid_sub_73321[3].from_pervious= bioretention_percpervareatreated['73321']\n",
    "    lid_sub_73321[4].from_pervious= grassswale_percpervareatreated['73321']\n",
    "    \n",
    "    lid_sub_73391[2].from_pervious= raingarden_percpervareatreated['73391']\n",
    "    lid_sub_73391[3].from_pervious= bioretention_percpervareatreated['73391']\n",
    "    lid_sub_73391[4].from_pervious= grassswale_percpervareatreated['73391']\n",
    "    \n",
    "    lid_sub_73461[2].from_pervious= raingarden_percpervareatreated['73461']\n",
    "    lid_sub_73461[3].from_pervious= bioretention_percpervareatreated['73461']\n",
    "    lid_sub_73461[4].from_pervious= grassswale_percpervareatreated['73461']\n",
    "    \n",
    "    lid_sub_73551[2].from_pervious= raingarden_percpervareatreated['73551']\n",
    "    lid_sub_73551[3].from_pervious= bioretention_percpervareatreated['73551']\n",
    "    lid_sub_73551[4].from_pervious= grassswale_percpervareatreated['73551']\n",
    "    \n",
    "    lid_sub_73421[2].from_pervious= raingarden_percpervareatreated['73421']\n",
    "    lid_sub_73421[3].from_pervious= bioretention_percpervareatreated['73421']\n",
    "    lid_sub_73421[4].from_pervious= grassswale_percpervareatreated['73421']\n",
    "    \n",
    "    lid_sub_73531[2].from_pervious= raingarden_percpervareatreated['73531']\n",
    "    lid_sub_73531[3].from_pervious= bioretention_percpervareatreated['73531']\n",
    "    lid_sub_73531[4].from_pervious= grassswale_percpervareatreated['73531']\n",
    "    \n",
    "    lid_sub_73571[2].from_pervious= raingarden_percpervareatreated['73571']\n",
    "    lid_sub_73571[3].from_pervious= bioretention_percpervareatreated['73571']\n",
    "    lid_sub_73571[4].from_pervious= grassswale_percpervareatreated['73571']\n",
    "\n",
    "\n",
    "    \n",
    "# Run the simulation\n",
    "    for step in sim:\n",
    "        pass\n",
    "    sim.report()\n",
    "    sim.close()\n",
    "                       \n",
    "                       \n"
   ]
  },
  {
   "cell_type": "markdown",
   "metadata": {},
   "source": [
    "## "
   ]
  },
  {
   "cell_type": "markdown",
   "metadata": {},
   "source": [
    "# Results Analysis!!"
   ]
  },
  {
   "cell_type": "markdown",
   "metadata": {},
   "source": [
    "## "
   ]
  },
  {
   "cell_type": "markdown",
   "metadata": {},
   "source": [
    "## Subcatchment 73081"
   ]
  },
  {
   "cell_type": "code",
   "execution_count": 65,
   "metadata": {},
   "outputs": [],
   "source": [
    "# This is for your Subcatchment 73081\n",
    "reportColumns = [str(i) for i in np.arange(0,7)]\n",
    "rpt_73081 = pd.read_csv(r'C:\\Users\\R. Seth Herbst\\Desktop\\SWMM Programs and Files\\SWMMIO_Altered_INPUTS\\Meadow_Creek_Hydrology_Model_UpdatedMar2021_Adjusted_SB_Parameters.txt', skiprows = 6339, nrows = 78, sep=\"   |    \", names = reportColumns, header = None, engine = 'python')\n",
    "rpt_73081.dropna(axis = 1, inplace = True); # This might be redundant\n",
    "# Check df.head before renaming the columns\n",
    "rpt_73081.rename(columns = {'0':'Date','2':'Precip (in/hr)','3':'Losses (in/hr)','4':'Runoff (CFS)','5':'Total Nitrogen (mg/L)','6':'Total Phosphorous (mg/L)'},inplace = True)"
   ]
  },
  {
   "cell_type": "code",
   "execution_count": 66,
   "metadata": {
    "scrolled": false
   },
   "outputs": [
    {
     "data": {
      "text/html": [
       "<div>\n",
       "<style scoped>\n",
       "    .dataframe tbody tr th:only-of-type {\n",
       "        vertical-align: middle;\n",
       "    }\n",
       "\n",
       "    .dataframe tbody tr th {\n",
       "        vertical-align: top;\n",
       "    }\n",
       "\n",
       "    .dataframe thead th {\n",
       "        text-align: right;\n",
       "    }\n",
       "</style>\n",
       "<table border=\"1\" class=\"dataframe\">\n",
       "  <thead>\n",
       "    <tr style=\"text-align: right;\">\n",
       "      <th></th>\n",
       "      <th>Date</th>\n",
       "      <th>Precip (in/hr)</th>\n",
       "      <th>Losses (in/hr)</th>\n",
       "      <th>Runoff (CFS)</th>\n",
       "      <th>Total Nitrogen (mg/L)</th>\n",
       "      <th>Total Phosphorous (mg/L)</th>\n",
       "    </tr>\n",
       "  </thead>\n",
       "  <tbody>\n",
       "    <tr>\n",
       "      <th>0</th>\n",
       "      <td>01/01/2000 00:30:00</td>\n",
       "      <td>0.011</td>\n",
       "      <td>0.0</td>\n",
       "      <td>0.0000</td>\n",
       "      <td>0.000</td>\n",
       "      <td>0.000</td>\n",
       "    </tr>\n",
       "    <tr>\n",
       "      <th>1</th>\n",
       "      <td>01/01/2000 01:00:00</td>\n",
       "      <td>0.011</td>\n",
       "      <td>0.0</td>\n",
       "      <td>0.0358</td>\n",
       "      <td>0.801</td>\n",
       "      <td>0.258</td>\n",
       "    </tr>\n",
       "    <tr>\n",
       "      <th>2</th>\n",
       "      <td>01/01/2000 01:30:00</td>\n",
       "      <td>0.011</td>\n",
       "      <td>0.0</td>\n",
       "      <td>0.0483</td>\n",
       "      <td>0.840</td>\n",
       "      <td>0.271</td>\n",
       "    </tr>\n",
       "    <tr>\n",
       "      <th>3</th>\n",
       "      <td>01/01/2000 02:00:00</td>\n",
       "      <td>0.013</td>\n",
       "      <td>0.0</td>\n",
       "      <td>0.0546</td>\n",
       "      <td>0.855</td>\n",
       "      <td>0.275</td>\n",
       "    </tr>\n",
       "    <tr>\n",
       "      <th>4</th>\n",
       "      <td>01/01/2000 02:30:00</td>\n",
       "      <td>0.013</td>\n",
       "      <td>0.0</td>\n",
       "      <td>0.0637</td>\n",
       "      <td>0.854</td>\n",
       "      <td>0.275</td>\n",
       "    </tr>\n",
       "  </tbody>\n",
       "</table>\n",
       "</div>"
      ],
      "text/plain": [
       "                  Date  Precip (in/hr)  Losses (in/hr)  Runoff (CFS)  \\\n",
       "0  01/01/2000 00:30:00           0.011             0.0        0.0000   \n",
       "1  01/01/2000 01:00:00           0.011             0.0        0.0358   \n",
       "2  01/01/2000 01:30:00           0.011             0.0        0.0483   \n",
       "3  01/01/2000 02:00:00           0.013             0.0        0.0546   \n",
       "4  01/01/2000 02:30:00           0.013             0.0        0.0637   \n",
       "\n",
       "   Total Nitrogen (mg/L)  Total Phosphorous (mg/L)  \n",
       "0                  0.000                     0.000  \n",
       "1                  0.801                     0.258  \n",
       "2                  0.840                     0.271  \n",
       "3                  0.855                     0.275  \n",
       "4                  0.854                     0.275  "
      ]
     },
     "execution_count": 66,
     "metadata": {},
     "output_type": "execute_result"
    }
   ],
   "source": [
    "pd.set_option('max_columns', None)\n",
    "rpt_73081.head()"
   ]
  },
  {
   "cell_type": "markdown",
   "metadata": {},
   "source": [
    "### Peak Runoff"
   ]
  },
  {
   "cell_type": "code",
   "execution_count": 67,
   "metadata": {},
   "outputs": [
    {
     "data": {
      "text/plain": [
       "0.8341576923076923"
      ]
     },
     "execution_count": 67,
     "metadata": {},
     "output_type": "execute_result"
    }
   ],
   "source": [
    "rpt_73081['Runoff (CFS)'].mean()"
   ]
  },
  {
   "cell_type": "markdown",
   "metadata": {},
   "source": [
    "### Nitrogen Load (grams)"
   ]
  },
  {
   "cell_type": "code",
   "execution_count": 68,
   "metadata": {},
   "outputs": [
    {
     "data": {
      "text/plain": [
       "25.382779011537245"
      ]
     },
     "execution_count": 68,
     "metadata": {},
     "output_type": "execute_result"
    }
   ],
   "source": [
    "(rpt_73081['Runoff (CFS)'].mean() * rpt_73081['Total Nitrogen (mg/L)'].mean() * 28.3168 * 1800) /1000"
   ]
  },
  {
   "cell_type": "code",
   "execution_count": 69,
   "metadata": {
    "scrolled": false
   },
   "outputs": [
    {
     "data": {
      "image/png": "[encoded data removed]",
      "text/plain": [
       "<Figure size 432x360 with 2 Axes>"
      ]
     },
     "metadata": {
      "needs_background": "light"
     },
     "output_type": "display_data"
    }
   ],
   "source": [
    "fig,ax1 = plt.subplots(figsize=(6,5))\n",
    "line1 = ax1.plot(rpt_73081['Runoff (CFS)']); plt.ylim((-0.001,50)); plt.xlabel('Time Instances (Hours)'); plt.ylabel('Runoff (CFS)');\n",
    "ax1.legend(['Runoff'],loc='lower left'); ax2 = ax1.twinx(); line2 = ax2.plot(rpt_73081['Precip (in/hr)'],color='orangered');\n",
    "plt.ylim((-0.01,1.4)); plt.ylabel('Precipitation (in/hr)'); plt.gca().invert_yaxis(); ax2.grid(False); ax2.legend(['Precip'],loc='upper right');"
   ]
  },
  {
   "cell_type": "markdown",
   "metadata": {},
   "source": [
    "## Subcatchment 72671"
   ]
  },
  {
   "cell_type": "code",
   "execution_count": 70,
   "metadata": {
    "scrolled": true
   },
   "outputs": [
    {
     "data": {
      "image/png": "[encoded data removed]",
      "text/plain": [
       "<Figure size 432x360 with 2 Axes>"
      ]
     },
     "metadata": {
      "needs_background": "light"
     },
     "output_type": "display_data"
    }
   ],
   "source": [
    "# This is for your Subcatchment 72671\n",
    "reportColumns = [str(i) for i in np.arange(0,7)]\n",
    "rpt_72671 = pd.read_csv(r'C:\\Users\\R. Seth Herbst\\Desktop\\SWMM Programs and Files\\SWMMIO_Altered_INPUTS\\Meadow_Creek_Hydrology_Model_UpdatedMar2021_Adjusted_SB_Parameters.txt', skiprows = 5829, nrows = 78, sep=\"   |    \", names = reportColumns, header = None, engine = 'python')\n",
    "rpt_72671.dropna(axis = 1, inplace = True); # This might be redundant\n",
    "# Check df.head before renaming the columns\n",
    "rpt_72671.rename(columns = {'0':'Date','2':'Precip (in/hr)','3':'Losses (in/hr)','4':'Runoff (CFS)','5':'Total Nitrogen (mg/L)','6':'Total Phosphorous (mg/L)'},inplace = True)\n",
    "\n",
    "fig,ax1 = plt.subplots(figsize=(6,5))\n",
    "line1 = ax1.plot(rpt_72671['Runoff (CFS)']); plt.ylim((-0.001,25)); plt.xlabel('Time Instances (Hours)'); plt.ylabel('Runoff (CFS)');\n",
    "ax1.legend(['Runoff'],loc='lower left'); ax2 = ax1.twinx(); line2 = ax2.plot(rpt_72671['Precip (in/hr)'],color='orangered');\n",
    "plt.ylim((-0.01,1.4)); plt.ylabel('Precipitation (in/hr)'); plt.gca().invert_yaxis(); ax2.grid(False); ax2.legend(['Precip'],loc='upper right');"
   ]
  },
  {
   "cell_type": "markdown",
   "metadata": {},
   "source": [
    "## Subcatchment 72591"
   ]
  },
  {
   "cell_type": "code",
   "execution_count": 71,
   "metadata": {
    "scrolled": true
   },
   "outputs": [
    {
     "data": {
      "image/png": "[encoded data removed]",
      "text/plain": [
       "<Figure size 432x360 with 2 Axes>"
      ]
     },
     "metadata": {
      "needs_background": "light"
     },
     "output_type": "display_data"
    }
   ],
   "source": [
    "# This is for your Subcatchment 72591\n",
    "reportColumns = [str(i) for i in np.arange(0,7)]\n",
    "rpt_72591 = pd.read_csv(r'C:\\Users\\R. Seth Herbst\\Desktop\\SWMM Programs and Files\\SWMMIO_Altered_INPUTS\\Meadow_Creek_Hydrology_Model_UpdatedMar2021_Adjusted_SB_Parameters.txt', skiprows = 5659, nrows = 78, sep=\"   |    \", names = reportColumns, header = None, engine = 'python')\n",
    "rpt_72591.dropna(axis = 1, inplace = True); # This might be redundant\n",
    "# Check df.head before renaming the columns\n",
    "rpt_72591.rename(columns = {'0':'Date','2':'Precip (in/hr)','3':'Losses (in/hr)','4':'Runoff (CFS)','5':'Total Nitrogen (mg/L)','6':'Total Phosphorous (mg/L)'},inplace = True)\n",
    "\n",
    "fig,ax1 = plt.subplots(figsize=(6,5))\n",
    "line1 = ax1.plot(rpt_72591['Runoff (CFS)']); plt.ylim((-0.001,18)); plt.xlabel('Time Instances (Hours)'); plt.ylabel('Runoff (CFS)');\n",
    "ax1.legend(['Runoff'],loc='lower left'); ax2 = ax1.twinx(); line2 = ax2.plot(rpt_72591['Precip (in/hr)'],color='orangered');\n",
    "plt.ylim((-0.01,1.4)); plt.ylabel('Precipitation (in/hr)'); plt.gca().invert_yaxis(); ax2.grid(False); ax2.legend(['Precip'],loc='upper right');"
   ]
  },
  {
   "cell_type": "markdown",
   "metadata": {},
   "source": [
    "## Subcatchment 72631"
   ]
  },
  {
   "cell_type": "code",
   "execution_count": 72,
   "metadata": {
    "scrolled": true
   },
   "outputs": [
    {
     "data": {
      "image/png": "[encoded data removed]",
      "text/plain": [
       "<Figure size 432x360 with 2 Axes>"
      ]
     },
     "metadata": {
      "needs_background": "light"
     },
     "output_type": "display_data"
    }
   ],
   "source": [
    "# This is for your Subcatchment 72631\n",
    "reportColumns = [str(i) for i in np.arange(0,7)]\n",
    "rpt_72631 = pd.read_csv(r'C:\\Users\\R. Seth Herbst\\Desktop\\SWMM Programs and Files\\SWMMIO_Altered_INPUTS\\Meadow_Creek_Hydrology_Model_UpdatedMar2021_Adjusted_SB_Parameters.txt', skiprows = 5744, nrows = 78, sep=\"   |    \", names = reportColumns, header = None, engine = 'python')\n",
    "rpt_72631.dropna(axis = 1, inplace = True); # This might be redundant\n",
    "# Check df.head before renaming the columns\n",
    "rpt_72631.rename(columns = {'0':'Date','2':'Precip (in/hr)','3':'Losses (in/hr)','4':'Runoff (CFS)','5':'Total Nitrogen (mg/L)','6':'Total Phosphorous (mg/L)'},inplace = True)\n",
    "\n",
    "fig,ax1 = plt.subplots(figsize=(6,5))\n",
    "line1 = ax1.plot(rpt_72631['Runoff (CFS)']); plt.ylim((-0.001,30)); plt.xlabel('Time Instances (Hours)'); plt.ylabel('Runoff (CFS)');\n",
    "ax1.legend(['Runoff'],loc='lower left'); ax2 = ax1.twinx(); line2 = ax2.plot(rpt_72631['Precip (in/hr)'],color='orangered');\n",
    "plt.ylim((-0.01,1.4)); plt.ylabel('Precipitation (in/hr)'); plt.gca().invert_yaxis(); ax2.grid(False); ax2.legend(['Precip'],loc='upper right');"
   ]
  },
  {
   "cell_type": "markdown",
   "metadata": {},
   "source": [
    "## Subcatchment 72781"
   ]
  },
  {
   "cell_type": "code",
   "execution_count": 73,
   "metadata": {
    "scrolled": true
   },
   "outputs": [
    {
     "data": {
      "image/png": "[encoded data removed]",
      "text/plain": [
       "<Figure size 432x360 with 2 Axes>"
      ]
     },
     "metadata": {
      "needs_background": "light"
     },
     "output_type": "display_data"
    }
   ],
   "source": [
    "# This is for your Subcatchment 72781\n",
    "reportColumns = [str(i) for i in np.arange(0,7)]\n",
    "rpt_72781 = pd.read_csv(r'C:\\Users\\R. Seth Herbst\\Desktop\\SWMM Programs and Files\\SWMMIO_Altered_INPUTS\\Meadow_Creek_Hydrology_Model_UpdatedMar2021_Adjusted_SB_Parameters.txt', skiprows = 5999, nrows = 78, sep=\"   |    \", names = reportColumns, header = None, engine = 'python')\n",
    "rpt_72781.dropna(axis = 1, inplace = True); # This might be redundant\n",
    "# Check df.head before renaming the columns\n",
    "rpt_72781.rename(columns = {'0':'Date','2':'Precip (in/hr)','3':'Losses (in/hr)','4':'Runoff (CFS)','5':'Total Nitrogen (mg/L)','6':'Total Phosphorous (mg/L)'},inplace = True)\n",
    "\n",
    "fig,ax1 = plt.subplots(figsize=(6,5))\n",
    "line1 = ax1.plot(rpt_72781['Runoff (CFS)']); plt.ylim((-0.001,45)); plt.xlabel('Time Instances (Hours)'); plt.ylabel('Runoff (CFS)');\n",
    "ax1.legend(['Runoff'],loc='lower left'); ax2 = ax1.twinx(); line2 = ax2.plot(rpt_72781['Precip (in/hr)'],color='orangered');\n",
    "plt.ylim((-0.01,1.4)); plt.ylabel('Precipitation (in/hr)'); plt.gca().invert_yaxis(); ax2.grid(False); ax2.legend(['Precip'],loc='upper right');"
   ]
  },
  {
   "cell_type": "markdown",
   "metadata": {},
   "source": [
    "## Subcatchment 72731"
   ]
  },
  {
   "cell_type": "code",
   "execution_count": 74,
   "metadata": {
    "scrolled": true
   },
   "outputs": [
    {
     "data": {
      "image/png": "[encoded data removed]",
      "text/plain": [
       "<Figure size 432x360 with 2 Axes>"
      ]
     },
     "metadata": {
      "needs_background": "light"
     },
     "output_type": "display_data"
    }
   ],
   "source": [
    "# This is for your Subcatchment 72731\n",
    "reportColumns = [str(i) for i in np.arange(0,7)]\n",
    "rpt_72731 = pd.read_csv(r'C:\\Users\\R. Seth Herbst\\Desktop\\SWMM Programs and Files\\SWMMIO_Altered_INPUTS\\Meadow_Creek_Hydrology_Model_UpdatedMar2021_Adjusted_SB_Parameters.txt', skiprows = 5914, nrows = 78, sep=\"   |    \", names = reportColumns, header = None, engine = 'python')\n",
    "rpt_72731.dropna(axis = 1, inplace = True); # This might be redundant\n",
    "# Check df.head before renaming the columns\n",
    "rpt_72731.rename(columns = {'0':'Date','2':'Precip (in/hr)','3':'Losses (in/hr)','4':'Runoff (CFS)','5':'Total Nitrogen (mg/L)','6':'Total Phosphorous (mg/L)'},inplace = True)\n",
    "\n",
    "fig,ax1 = plt.subplots(figsize=(6,5))\n",
    "line1 = ax1.plot(rpt_72731['Runoff (CFS)']); plt.ylim((-0.001,30)); plt.xlabel('Time Instances (Hours)'); plt.ylabel('Runoff (CFS)');\n",
    "ax1.legend(['Runoff'],loc='lower left'); ax2 = ax1.twinx(); line2 = ax2.plot(rpt_72731['Precip (in/hr)'],color='orangered');\n",
    "plt.ylim((-0.01,1.4)); plt.ylabel('Precipitation (in/hr)'); plt.gca().invert_yaxis(); ax2.grid(False); ax2.legend(['Precip'],loc='upper right');"
   ]
  },
  {
   "cell_type": "markdown",
   "metadata": {},
   "source": [
    "## Subcatchment 72951"
   ]
  },
  {
   "cell_type": "code",
   "execution_count": 75,
   "metadata": {
    "scrolled": false
   },
   "outputs": [
    {
     "data": {
      "image/png": "[encoded data removed]",
      "text/plain": [
       "<Figure size 432x360 with 2 Axes>"
      ]
     },
     "metadata": {
      "needs_background": "light"
     },
     "output_type": "display_data"
    }
   ],
   "source": [
    "# This is for your Subcatchment 72951\n",
    "reportColumns = [str(i) for i in np.arange(0,7)]\n",
    "rpt_72951 = pd.read_csv(r'C:\\Users\\R. Seth Herbst\\Desktop\\SWMM Programs and Files\\SWMMIO_Altered_INPUTS\\Meadow_Creek_Hydrology_Model_UpdatedMar2021_Adjusted_SB_Parameters.txt', skiprows = 6169, nrows = 78, sep=\"   |    \", names = reportColumns, header = None, engine = 'python')\n",
    "rpt_72951.dropna(axis = 1, inplace = True); # This might be redundant\n",
    "# Check df.head before renaming the columns\n",
    "rpt_72951.rename(columns = {'0':'Date','2':'Precip (in/hr)','3':'Losses (in/hr)','4':'Runoff (CFS)','5':'Total Nitrogen (mg/L)','6':'Total Phosphorous (mg/L)'},inplace = True)\n",
    "\n",
    "fig,ax1 = plt.subplots(figsize=(6,5))\n",
    "line1 = ax1.plot(rpt_72951['Runoff (CFS)']); plt.ylim((-0.001,50)); plt.xlabel('Time Instances (Hours)'); plt.ylabel('Runoff (CFS)');\n",
    "ax1.legend(['Runoff'],loc='lower left'); ax2 = ax1.twinx(); line2 = ax2.plot(rpt_72951['Precip (in/hr)'],color='orangered');\n",
    "plt.ylim((-0.01,1.4)); plt.ylabel('Precipitation (in/hr)'); plt.gca().invert_yaxis(); ax2.grid(False); ax2.legend(['Precip'],loc='upper right');\n"
   ]
  },
  {
   "cell_type": "markdown",
   "metadata": {},
   "source": [
    "## Subcatchment 73211"
   ]
  },
  {
   "cell_type": "code",
   "execution_count": 76,
   "metadata": {
    "scrolled": true
   },
   "outputs": [
    {
     "data": {
      "image/png": "[encoded data removed]",
      "text/plain": [
       "<Figure size 432x360 with 2 Axes>"
      ]
     },
     "metadata": {
      "needs_background": "light"
     },
     "output_type": "display_data"
    }
   ],
   "source": [
    "# This is for your Subcatchment 73211\n",
    "reportColumns = [str(i) for i in np.arange(0,7)]\n",
    "rpt_73211 = pd.read_csv(r'C:\\Users\\R. Seth Herbst\\Desktop\\SWMM Programs and Files\\SWMMIO_Altered_INPUTS\\Meadow_Creek_Hydrology_Model_UpdatedMar2021_Adjusted_SB_Parameters.txt', skiprows = 6764, nrows = 78, sep=\"   |    \", names = reportColumns, header = None, engine = 'python')\n",
    "rpt_73211.dropna(axis = 1, inplace = True); # This might be redundant\n",
    "# Check df.head before renaming the columns\n",
    "rpt_73211.rename(columns = {'0':'Date','2':'Precip (in/hr)','3':'Losses (in/hr)','4':'Runoff (CFS)','5':'Total Nitrogen (mg/L)','6':'Total Phosphorous (mg/L)'},inplace = True)\n",
    "\n",
    "fig,ax1 = plt.subplots(figsize=(6,5))\n",
    "line1 = ax1.plot(rpt_73211['Runoff (CFS)']); plt.ylim((-0.001,40)); plt.xlabel('Time Instances (Hours)'); plt.ylabel('Runoff (CFS)');\n",
    "ax1.legend(['Runoff'],loc='lower left'); ax2 = ax1.twinx(); line2 = ax2.plot(rpt_73211['Precip (in/hr)'],color='orangered');\n",
    "plt.ylim((-0.01,1.4)); plt.ylabel('Precipitation (in/hr)'); plt.gca().invert_yaxis(); ax2.grid(False); ax2.legend(['Precip'],loc='upper right');"
   ]
  },
  {
   "cell_type": "markdown",
   "metadata": {},
   "source": [
    "## Subcatchment 73181"
   ]
  },
  {
   "cell_type": "code",
   "execution_count": 77,
   "metadata": {
    "scrolled": true
   },
   "outputs": [
    {
     "data": {
      "image/png": "[encoded data removed]",
      "text/plain": [
       "<Figure size 432x360 with 2 Axes>"
      ]
     },
     "metadata": {
      "needs_background": "light"
     },
     "output_type": "display_data"
    }
   ],
   "source": [
    "# This is for your Subcatchment 73181\n",
    "reportColumns = [str(i) for i in np.arange(0,7)]\n",
    "rpt_73181 = pd.read_csv(r'C:\\Users\\R. Seth Herbst\\Desktop\\SWMM Programs and Files\\SWMMIO_Altered_INPUTS\\Meadow_Creek_Hydrology_Model_UpdatedMar2021_Adjusted_SB_Parameters.txt', skiprows = 6594, nrows = 78, sep=\"   |    \", names = reportColumns, header = None, engine = 'python')\n",
    "rpt_73181.dropna(axis = 1, inplace = True); # This might be redundant\n",
    "# Check df.head before renaming the columns\n",
    "rpt_73181.rename(columns = {'0':'Date','2':'Precip (in/hr)','3':'Losses (in/hr)','4':'Runoff (CFS)','5':'Total Nitrogen (mg/L)','6':'Total Phosphorous (mg/L)'},inplace = True)\n",
    "\n",
    "fig,ax1 = plt.subplots(figsize=(6,5))\n",
    "line1 = ax1.plot(rpt_73181['Runoff (CFS)']); plt.ylim((-0.001,20)); plt.xlabel('Time Instances (Hours)'); plt.ylabel('Runoff (CFS)');\n",
    "ax1.legend(['Runoff'],loc='lower left'); ax2 = ax1.twinx(); line2 = ax2.plot(rpt_73181['Precip (in/hr)'],color='orangered');\n",
    "plt.ylim((-0.01,1.4)); plt.ylabel('Precipitation (in/hr)'); plt.gca().invert_yaxis(); ax2.grid(False); ax2.legend(['Precip'],loc='upper right');"
   ]
  },
  {
   "cell_type": "markdown",
   "metadata": {},
   "source": [
    "## Subcatchment 73171"
   ]
  },
  {
   "cell_type": "code",
   "execution_count": 78,
   "metadata": {
    "scrolled": true
   },
   "outputs": [
    {
     "data": {
      "image/png": "[encoded data removed]",
      "text/plain": [
       "<Figure size 432x360 with 2 Axes>"
      ]
     },
     "metadata": {
      "needs_background": "light"
     },
     "output_type": "display_data"
    }
   ],
   "source": [
    "# This is for your Subcatchment 73171\n",
    "reportColumns = [str(i) for i in np.arange(0,7)]\n",
    "rpt_73171 = pd.read_csv(r'C:\\Users\\R. Seth Herbst\\Desktop\\SWMM Programs and Files\\SWMMIO_Altered_INPUTS\\Meadow_Creek_Hydrology_Model_UpdatedMar2021_Adjusted_SB_Parameters.txt', skiprows = 6509, nrows = 78, sep=\"   |    \", names = reportColumns, header = None, engine = 'python')\n",
    "rpt_73171.dropna(axis = 1, inplace = True); # This might be redundant\n",
    "# Check df.head before renaming the columns\n",
    "rpt_73171.rename(columns = {'0':'Date','2':'Precip (in/hr)','3':'Losses (in/hr)','4':'Runoff (CFS)','5':'Total Nitrogen (mg/L)','6':'Total Phosphorous (mg/L)'},inplace = True)\n",
    "\n",
    "fig,ax1 = plt.subplots(figsize=(6,5))\n",
    "line1 = ax1.plot(rpt_73171['Runoff (CFS)']); plt.ylim((-0.001,30)); plt.xlabel('Time Instances (Hours)'); plt.ylabel('Runoff (CFS)');\n",
    "ax1.legend(['Runoff'],loc='lower left'); ax2 = ax1.twinx(); line2 = ax2.plot(rpt_73171['Precip (in/hr)'],color='orangered');\n",
    "plt.ylim((-0.01,1.4)); plt.ylabel('Precipitation (in/hr)'); plt.gca().invert_yaxis(); ax2.grid(False); ax2.legend(['Precip'],loc='upper right');"
   ]
  },
  {
   "cell_type": "markdown",
   "metadata": {},
   "source": [
    "## Subcatchment 73121"
   ]
  },
  {
   "cell_type": "code",
   "execution_count": 79,
   "metadata": {
    "scrolled": true
   },
   "outputs": [
    {
     "data": {
      "image/png": "[encoded data removed]",
      "text/plain": [
       "<Figure size 432x360 with 2 Axes>"
      ]
     },
     "metadata": {
      "needs_background": "light"
     },
     "output_type": "display_data"
    }
   ],
   "source": [
    "# This is for your Subcatchment 73121\n",
    "reportColumns = [str(i) for i in np.arange(0,7)]\n",
    "rpt_73121 = pd.read_csv(r'C:\\Users\\R. Seth Herbst\\Desktop\\SWMM Programs and Files\\SWMMIO_Altered_INPUTS\\Meadow_Creek_Hydrology_Model_UpdatedMar2021_Adjusted_SB_Parameters.txt', skiprows = 6424, nrows = 78, sep=\"   |    \", names = reportColumns, header = None, engine = 'python')\n",
    "rpt_73121.dropna(axis = 1, inplace = True); # This might be redundant\n",
    "# Check df.head before renaming the columns\n",
    "rpt_73121.rename(columns = {'0':'Date','2':'Precip (in/hr)','3':'Losses (in/hr)','4':'Runoff (CFS)','5':'Total Nitrogen (mg/L)','6':'Total Phosphorous (mg/L)'},inplace = True)\n",
    "\n",
    "fig,ax1 = plt.subplots(figsize=(6,5))\n",
    "line1 = ax1.plot(rpt_73121['Runoff (CFS)']); plt.ylim((-0.001,25)); plt.xlabel('Time Instances (Hours)'); plt.ylabel('Runoff (CFS)');\n",
    "ax1.legend(['Runoff'],loc='lower left'); ax2 = ax1.twinx(); line2 = ax2.plot(rpt_73121['Precip (in/hr)'],color='orangered');\n",
    "plt.ylim((-0.01,1.4)); plt.ylabel('Precipitation (in/hr)'); plt.gca().invert_yaxis(); ax2.grid(False); ax2.legend(['Precip'],loc='upper right');"
   ]
  },
  {
   "cell_type": "markdown",
   "metadata": {},
   "source": [
    "## Subcatchment 73201"
   ]
  },
  {
   "cell_type": "code",
   "execution_count": 80,
   "metadata": {
    "scrolled": true
   },
   "outputs": [
    {
     "data": {
      "image/png": "[encoded data removed]",
      "text/plain": [
       "<Figure size 432x360 with 2 Axes>"
      ]
     },
     "metadata": {
      "needs_background": "light"
     },
     "output_type": "display_data"
    }
   ],
   "source": [
    "# This is for your Subcatchment 73201\n",
    "reportColumns = [str(i) for i in np.arange(0,7)]\n",
    "rpt_73201 = pd.read_csv(r'C:\\Users\\R. Seth Herbst\\Desktop\\SWMM Programs and Files\\SWMMIO_Altered_INPUTS\\Meadow_Creek_Hydrology_Model_UpdatedMar2021_Adjusted_SB_Parameters.txt', skiprows = 6679, nrows = 78, sep=\"   |    \", names = reportColumns, header = None, engine = 'python')\n",
    "rpt_73201.dropna(axis = 1, inplace = True); # This might be redundant\n",
    "# Check df.head before renaming the columns\n",
    "rpt_73201.rename(columns = {'0':'Date','2':'Precip (in/hr)','3':'Losses (in/hr)','4':'Runoff (CFS)','5':'Total Nitrogen (mg/L)','6':'Total Phosphorous (mg/L)'},inplace = True)\n",
    "\n",
    "fig,ax1 = plt.subplots(figsize=(6,5))\n",
    "line1 = ax1.plot(rpt_73201['Runoff (CFS)']); plt.ylim((-0.001,30)); plt.xlabel('Time Instances (Hours)'); plt.ylabel('Runoff (CFS)');\n",
    "ax1.legend(['Runoff'],loc='lower left'); ax2 = ax1.twinx(); line2 = ax2.plot(rpt_73201['Precip (in/hr)'],color='orangered');\n",
    "plt.ylim((-0.01,1.4)); plt.ylabel('Precipitation (in/hr)'); plt.gca().invert_yaxis(); ax2.grid(False); ax2.legend(['Precip'],loc='upper right');"
   ]
  },
  {
   "cell_type": "markdown",
   "metadata": {},
   "source": [
    "## Subcatchment 73301"
   ]
  },
  {
   "cell_type": "code",
   "execution_count": 81,
   "metadata": {
    "scrolled": true
   },
   "outputs": [
    {
     "data": {
      "image/png": "[encoded data removed]",
      "text/plain": [
       "<Figure size 432x360 with 2 Axes>"
      ]
     },
     "metadata": {
      "needs_background": "light"
     },
     "output_type": "display_data"
    }
   ],
   "source": [
    "## This is for your Subcatchment 73301\n",
    "reportColumns = [str(i) for i in np.arange(0,7)]\n",
    "rpt_73301 = pd.read_csv(r'C:\\Users\\R. Seth Herbst\\Desktop\\SWMM Programs and Files\\SWMMIO_Altered_INPUTS\\Meadow_Creek_Hydrology_Model_UpdatedMar2021_Adjusted_SB_Parameters.txt', skiprows = 6934, nrows = 78, sep=\"   |    \", names = reportColumns, header = None, engine = 'python')\n",
    "rpt_73301.dropna(axis = 1, inplace = True); # This might be redundant\n",
    "# Check df.head before renaming the columns\n",
    "rpt_73301.rename(columns = {'0':'Date','2':'Precip (in/hr)','3':'Losses (in/hr)','4':'Runoff (CFS)','5':'Total Nitrogen (mg/L)','6':'Total Phosphorous (mg/L)'},inplace = True)\n",
    "\n",
    "fig,ax1 = plt.subplots(figsize=(6,5))\n",
    "line1 = ax1.plot(rpt_73301['Runoff (CFS)']); plt.ylim((-0.001,30)); plt.xlabel('Time Instances (Hours)'); plt.ylabel('Runoff (CFS)');\n",
    "ax1.legend(['Runoff'],loc='lower left'); ax2 = ax1.twinx(); line2 = ax2.plot(rpt_73301['Precip (in/hr)'],color='orangered');\n",
    "plt.ylim((-0.01,1.4)); plt.ylabel('Precipitation (in/hr)'); plt.gca().invert_yaxis(); ax2.grid(False); ax2.legend(['Precip'],loc='upper right');"
   ]
  },
  {
   "cell_type": "markdown",
   "metadata": {},
   "source": [
    "## Subcatchment 73321"
   ]
  },
  {
   "cell_type": "code",
   "execution_count": 82,
   "metadata": {
    "scrolled": true
   },
   "outputs": [
    {
     "data": {
      "image/png": "[encoded data removed]",
      "text/plain": [
       "<Figure size 432x360 with 2 Axes>"
      ]
     },
     "metadata": {
      "needs_background": "light"
     },
     "output_type": "display_data"
    }
   ],
   "source": [
    "# This is for your Subcatchment 73321\n",
    "reportColumns = [str(i) for i in np.arange(0,7)]\n",
    "rpt_73321 = pd.read_csv(r'C:\\Users\\R. Seth Herbst\\Desktop\\SWMM Programs and Files\\SWMMIO_Altered_INPUTS\\Meadow_Creek_Hydrology_Model_UpdatedMar2021_Adjusted_SB_Parameters.txt', skiprows = 7019, nrows = 78, sep=\"   |    \", names = reportColumns, header = None, engine = 'python')\n",
    "rpt_73321.dropna(axis = 1, inplace = True); # This might be redundant\n",
    "# Check df.head before renaming the columns\n",
    "rpt_73321.rename(columns = {'0':'Date','2':'Precip (in/hr)','3':'Losses (in/hr)','4':'Runoff (CFS)','5':'Total Nitrogen (mg/L)','6':'Total Phosphorous (mg/L)'},inplace = True)\n",
    "\n",
    "fig,ax1 = plt.subplots(figsize=(6,5))\n",
    "line1 = ax1.plot(rpt_73321['Runoff (CFS)']); plt.ylim((-0.001,20)); plt.xlabel('Time Instances (Hours)'); plt.ylabel('Runoff (CFS)');\n",
    "ax1.legend(['Runoff'],loc='lower left'); ax2 = ax1.twinx(); line2 = ax2.plot(rpt_73321['Precip (in/hr)'],color='orangered');\n",
    "plt.ylim((-0.01,1.4)); plt.ylabel('Precipitation (in/hr)'); plt.gca().invert_yaxis(); ax2.grid(False); ax2.legend(['Precip'],loc='upper right');"
   ]
  },
  {
   "cell_type": "markdown",
   "metadata": {},
   "source": [
    "## Subcatchment 73391"
   ]
  },
  {
   "cell_type": "code",
   "execution_count": 83,
   "metadata": {
    "scrolled": true
   },
   "outputs": [
    {
     "data": {
      "image/png": "[encoded data removed]",
      "text/plain": [
       "<Figure size 432x360 with 2 Axes>"
      ]
     },
     "metadata": {
      "needs_background": "light"
     },
     "output_type": "display_data"
    }
   ],
   "source": [
    "# This is for your Subcatchment 73391\n",
    "reportColumns = [str(i) for i in np.arange(0,7)]\n",
    "rpt_73391 = pd.read_csv(r'C:\\Users\\R. Seth Herbst\\Desktop\\SWMM Programs and Files\\SWMMIO_Altered_INPUTS\\Meadow_Creek_Hydrology_Model_UpdatedMar2021_Adjusted_SB_Parameters.txt', skiprows = 7189, nrows = 78, sep=\"   |    \", names = reportColumns, header = None, engine = 'python')\n",
    "rpt_73391.dropna(axis = 1, inplace = True); # This might be redundant\n",
    "# Check df.head before renaming the columns\n",
    "rpt_73391.rename(columns = {'0':'Date','2':'Precip (in/hr)','3':'Losses (in/hr)','4':'Runoff (CFS)','5':'Total Nitrogen (mg/L)','6':'Total Phosphorous (mg/L)'},inplace = True)\n",
    "\n",
    "fig,ax1 = plt.subplots(figsize=(6,5))\n",
    "line1 = ax1.plot(rpt_73391['Runoff (CFS)']); plt.ylim((-0.001,30)); plt.xlabel('Time Instances (Hours)'); plt.ylabel('Runoff (CFS)');\n",
    "ax1.legend(['Runoff'],loc='lower left'); ax2 = ax1.twinx(); line2 = ax2.plot(rpt_73391['Precip (in/hr)'],color='orangered');\n",
    "plt.ylim((-0.01,1.4)); plt.ylabel('Precipitation (in/hr)'); plt.gca().invert_yaxis(); ax2.grid(False); ax2.legend(['Precip'],loc='upper right');"
   ]
  },
  {
   "cell_type": "markdown",
   "metadata": {},
   "source": [
    "## Subcatchment 73551"
   ]
  },
  {
   "cell_type": "code",
   "execution_count": 84,
   "metadata": {
    "scrolled": true
   },
   "outputs": [
    {
     "data": {
      "image/png": "[encoded data removed]",
      "text/plain": [
       "<Figure size 432x360 with 2 Axes>"
      ]
     },
     "metadata": {
      "needs_background": "light"
     },
     "output_type": "display_data"
    }
   ],
   "source": [
    "# This is for your Subcatchment 73551\n",
    "reportColumns = [str(i) for i in np.arange(0,7)]\n",
    "rpt_73551 = pd.read_csv(r'C:\\Users\\R. Seth Herbst\\Desktop\\SWMM Programs and Files\\SWMMIO_Altered_INPUTS\\Meadow_Creek_Hydrology_Model_UpdatedMar2021_Adjusted_SB_Parameters.txt', skiprows = 7699, nrows = 78, sep=\"   |    \", names = reportColumns, header = None, engine = 'python')\n",
    "rpt_73551.dropna(axis = 1, inplace = True); # This might be redundant\n",
    "# Check df.head before renaming the columns\n",
    "rpt_73551.rename(columns = {'0':'Date','2':'Precip (in/hr)','3':'Losses (in/hr)','4':'Runoff (CFS)','5':'Total Nitrogen (mg/L)','6':'Total Phosphorous (mg/L)'},inplace = True)\n",
    "\n",
    "fig,ax1 = plt.subplots(figsize=(6,5))\n",
    "line1 = ax1.plot(rpt_73551['Runoff (CFS)']); plt.ylim((-0.001,20)); plt.xlabel('Time Instances (Hours)'); plt.ylabel('Runoff (CFS)');\n",
    "ax1.legend(['Runoff'],loc='lower left'); ax2 = ax1.twinx(); line2 = ax2.plot(rpt_73551['Precip (in/hr)'],color='orangered');\n",
    "plt.ylim((-0.01,1.4)); plt.ylabel('Precipitation (in/hr)'); plt.gca().invert_yaxis(); ax2.grid(False); ax2.legend(['Precip'],loc='upper right');"
   ]
  },
  {
   "cell_type": "markdown",
   "metadata": {},
   "source": [
    "## Subcatchment 73421"
   ]
  },
  {
   "cell_type": "code",
   "execution_count": 85,
   "metadata": {
    "scrolled": true
   },
   "outputs": [
    {
     "data": {
      "image/png": "[encoded data removed]",
      "text/plain": [
       "<Figure size 432x360 with 2 Axes>"
      ]
     },
     "metadata": {
      "needs_background": "light"
     },
     "output_type": "display_data"
    }
   ],
   "source": [
    "# This is for your Subcatchment 73421\n",
    "reportColumns = [str(i) for i in np.arange(0,7)]\n",
    "rpt_73421 = pd.read_csv(r'C:\\Users\\R. Seth Herbst\\Desktop\\SWMM Programs and Files\\SWMMIO_Altered_INPUTS\\Meadow_Creek_Hydrology_Model_UpdatedMar2021_Adjusted_SB_Parameters.txt', skiprows = 7359, nrows = 78, sep=\"   |    \", names = reportColumns, header = None, engine = 'python')\n",
    "rpt_73421.dropna(axis = 1, inplace = True); # This might be redundant\n",
    "# Check df.head before renaming the columns\n",
    "rpt_73421.rename(columns = {'0':'Date','2':'Precip (in/hr)','3':'Losses (in/hr)','4':'Runoff (CFS)','5':'Total Nitrogen (mg/L)','6':'Total Phosphorous (mg/L)'},inplace = True)\n",
    "\n",
    "fig,ax1 = plt.subplots(figsize=(6,5))\n",
    "line1 = ax1.plot(rpt_73421['Runoff (CFS)']); plt.ylim((-0.001,30)); plt.xlabel('Time Instances (Hours)'); plt.ylabel('Runoff (CFS)');\n",
    "ax1.legend(['Runoff'],loc='lower left'); ax2 = ax1.twinx(); line2 = ax2.plot(rpt_73421['Precip (in/hr)'],color='orangered');\n",
    "plt.ylim((-0.01,1.4)); plt.ylabel('Precipitation (in/hr)'); plt.gca().invert_yaxis(); ax2.grid(False); ax2.legend(['Precip'],loc='upper right');"
   ]
  },
  {
   "cell_type": "markdown",
   "metadata": {},
   "source": [
    "## Subcatchment 73531"
   ]
  },
  {
   "cell_type": "code",
   "execution_count": 86,
   "metadata": {
    "scrolled": true
   },
   "outputs": [
    {
     "data": {
      "image/png": "[encoded data removed]",
      "text/plain": [
       "<Figure size 432x360 with 2 Axes>"
      ]
     },
     "metadata": {
      "needs_background": "light"
     },
     "output_type": "display_data"
    }
   ],
   "source": [
    "# This is for your Subcatchment 73531\n",
    "reportColumns = [str(i) for i in np.arange(0,7)]\n",
    "rpt_73531 = pd.read_csv(r'C:\\Users\\R. Seth Herbst\\Desktop\\SWMM Programs and Files\\SWMMIO_Altered_INPUTS\\Meadow_Creek_Hydrology_Model_UpdatedMar2021_Adjusted_SB_Parameters.txt', skiprows = 7614, nrows = 78, sep=\"   |    \", names = reportColumns, header = None, engine = 'python')\n",
    "rpt_73531.dropna(axis = 1, inplace = True); # This might be redundant\n",
    "# Check df.head before renaming the columns\n",
    "rpt_73531.rename(columns = {'0':'Date','2':'Precip (in/hr)','3':'Losses (in/hr)','4':'Runoff (CFS)','5':'Total Nitrogen (mg/L)','6':'Total Phosphorous (mg/L)'},inplace = True)\n",
    "\n",
    "fig,ax1 = plt.subplots(figsize=(6,5))\n",
    "line1 = ax1.plot(rpt_73531['Runoff (CFS)']); plt.ylim((-0.001,20)); plt.xlabel('Time Instances (Hours)'); plt.ylabel('Runoff (CFS)');\n",
    "ax1.legend(['Runoff'],loc='lower left'); ax2 = ax1.twinx(); line2 = ax2.plot(rpt_73531['Precip (in/hr)'],color='orangered');\n",
    "plt.ylim((-0.01,1.4)); plt.ylabel('Precipitation (in/hr)'); plt.gca().invert_yaxis(); ax2.grid(False); ax2.legend(['Precip'],loc='upper right');"
   ]
  },
  {
   "cell_type": "code",
   "execution_count": 87,
   "metadata": {},
   "outputs": [
    {
     "data": {
      "text/plain": [
       "Date                        01/02/2000 15:00:00\n",
       "Precip (in/hr)                            0.296\n",
       "Losses (in/hr)                            0.039\n",
       "Runoff (CFS)                            11.0743\n",
       "Total Nitrogen (mg/L)                     1.154\n",
       "Total Phosphorous (mg/L)                  0.299\n",
       "dtype: object"
      ]
     },
     "execution_count": 87,
     "metadata": {},
     "output_type": "execute_result"
    }
   ],
   "source": [
    "rpt_73531.max()"
   ]
  },
  {
   "cell_type": "markdown",
   "metadata": {},
   "source": [
    "## Subcatchment 73571"
   ]
  },
  {
   "cell_type": "code",
   "execution_count": 88,
   "metadata": {
    "scrolled": true
   },
   "outputs": [
    {
     "data": {
      "image/png": "[encoded data removed]",
      "text/plain": [
       "<Figure size 432x360 with 2 Axes>"
      ]
     },
     "metadata": {
      "needs_background": "light"
     },
     "output_type": "display_data"
    }
   ],
   "source": [
    "# This is for your Subcatchment 73571\n",
    "reportColumns = [str(i) for i in np.arange(0,7)]\n",
    "rpt_73571 = pd.read_csv(r'C:\\Users\\R. Seth Herbst\\Desktop\\SWMM Programs and Files\\SWMMIO_Altered_INPUTS\\Meadow_Creek_Hydrology_Model_UpdatedMar2021_Adjusted_SB_Parameters.txt', skiprows = 7784, nrows = 78, sep=\"   |    \", names = reportColumns, header = None, engine = 'python')\n",
    "rpt_73571.dropna(axis = 1, inplace = True); # This might be redundant\n",
    "# Check df.head before renaming the columns\n",
    "rpt_73571.rename(columns = {'0':'Date','2':'Precip (in/hr)','3':'Losses (in/hr)','4':'Runoff (CFS)','5':'Total Nitrogen (mg/L)','6':'Total Phosphorous (mg/L)'},inplace = True)\n",
    "\n",
    "fig,ax1 = plt.subplots(figsize=(6,5))\n",
    "line1 = ax1.plot(rpt_73571['Runoff (CFS)']); plt.ylim((-0.001,5)); plt.xlabel('Time Instances (Hours)'); plt.ylabel('Runoff (CFS)');\n",
    "ax1.legend(['Runoff'],loc='lower left'); ax2 = ax1.twinx(); line2 = ax2.plot(rpt_73571['Precip (in/hr)'],color='orangered');\n",
    "plt.ylim((-0.01,1.4)); plt.ylabel('Precipitation (in/hr)'); plt.gca().invert_yaxis(); ax2.grid(False); ax2.legend(['Precip'],loc='upper right');"
   ]
  },
  {
   "cell_type": "markdown",
   "metadata": {},
   "source": [
    "## Subcatchment 73461"
   ]
  },
  {
   "cell_type": "code",
   "execution_count": 89,
   "metadata": {},
   "outputs": [
    {
     "data": {
      "image/png": "[encoded data removed]",
      "text/plain": [
       "<Figure size 432x360 with 2 Axes>"
      ]
     },
     "metadata": {
      "needs_background": "light"
     },
     "output_type": "display_data"
    }
   ],
   "source": [
    "# This is for your Subcatchment 73461\n",
    "reportColumns = [str(i) for i in np.arange(0,7)]\n",
    "rpt_73461 = pd.read_csv(r'C:\\Users\\R. Seth Herbst\\Desktop\\SWMM Programs and Files\\SWMMIO_Altered_INPUTS\\Meadow_Creek_Hydrology_Model_UpdatedMar2021_Adjusted_SB_Parameters.txt', skiprows = 7444, nrows = 78, sep=\"   |    \", names = reportColumns, header = None, engine = 'python')\n",
    "rpt_73461.dropna(axis = 1, inplace = True); # This might be redundant\n",
    "# Check df.head before renaming the columns\n",
    "rpt_73461.rename(columns = {'0':'Date','2':'Precip (in/hr)','3':'Losses (in/hr)','4':'Runoff (CFS)','5':'Total Nitrogen (mg/L)','6':'Total Phosphorous (mg/L)'},inplace = True)\n",
    "\n",
    "\n",
    "fig,ax1 = plt.subplots(figsize=(6,5))\n",
    "line1 = ax1.plot(rpt_73461['Runoff (CFS)']); plt.ylim((-0.001,25)); plt.xlabel('Time Instances (Hours)'); plt.ylabel('Runoff (CFS)');\n",
    "ax1.legend(['Runoff'],loc='lower left'); ax2 = ax1.twinx(); line2 = ax2.plot(rpt_73461['Precip (in/hr)'],color='orangered');\n",
    "plt.ylim((-0.01,1.4)); plt.ylabel('Precipitation (in/hr)'); plt.gca().invert_yaxis(); ax2.grid(False); ax2.legend(['Precip'],loc='upper right');\n"
   ]
  },
  {
   "cell_type": "code",
   "execution_count": 90,
   "metadata": {},
   "outputs": [
    {
     "data": {
      "text/html": [
       "<div>\n",
       "<style scoped>\n",
       "    .dataframe tbody tr th:only-of-type {\n",
       "        vertical-align: middle;\n",
       "    }\n",
       "\n",
       "    .dataframe tbody tr th {\n",
       "        vertical-align: top;\n",
       "    }\n",
       "\n",
       "    .dataframe thead th {\n",
       "        text-align: right;\n",
       "    }\n",
       "</style>\n",
       "<table border=\"1\" class=\"dataframe\">\n",
       "  <thead>\n",
       "    <tr style=\"text-align: right;\">\n",
       "      <th></th>\n",
       "      <th>Date</th>\n",
       "      <th>Precip (in/hr)</th>\n",
       "      <th>Losses (in/hr)</th>\n",
       "      <th>Runoff (CFS)</th>\n",
       "      <th>Total Nitrogen (mg/L)</th>\n",
       "      <th>Total Phosphorous (mg/L)</th>\n",
       "    </tr>\n",
       "  </thead>\n",
       "  <tbody>\n",
       "    <tr>\n",
       "      <th>0</th>\n",
       "      <td>01/01/2000 00:30:00</td>\n",
       "      <td>0.011</td>\n",
       "      <td>0.0</td>\n",
       "      <td>0.0000</td>\n",
       "      <td>0.000</td>\n",
       "      <td>0.000</td>\n",
       "    </tr>\n",
       "    <tr>\n",
       "      <th>1</th>\n",
       "      <td>01/01/2000 01:00:00</td>\n",
       "      <td>0.011</td>\n",
       "      <td>0.0</td>\n",
       "      <td>0.0000</td>\n",
       "      <td>0.000</td>\n",
       "      <td>0.000</td>\n",
       "    </tr>\n",
       "    <tr>\n",
       "      <th>2</th>\n",
       "      <td>01/01/2000 01:30:00</td>\n",
       "      <td>0.011</td>\n",
       "      <td>0.0</td>\n",
       "      <td>0.0205</td>\n",
       "      <td>0.663</td>\n",
       "      <td>0.171</td>\n",
       "    </tr>\n",
       "    <tr>\n",
       "      <th>3</th>\n",
       "      <td>01/01/2000 02:00:00</td>\n",
       "      <td>0.013</td>\n",
       "      <td>0.0</td>\n",
       "      <td>0.0245</td>\n",
       "      <td>0.722</td>\n",
       "      <td>0.186</td>\n",
       "    </tr>\n",
       "    <tr>\n",
       "      <th>4</th>\n",
       "      <td>01/01/2000 02:30:00</td>\n",
       "      <td>0.013</td>\n",
       "      <td>0.0</td>\n",
       "      <td>0.0293</td>\n",
       "      <td>0.727</td>\n",
       "      <td>0.188</td>\n",
       "    </tr>\n",
       "    <tr>\n",
       "      <th>...</th>\n",
       "      <td>...</td>\n",
       "      <td>...</td>\n",
       "      <td>...</td>\n",
       "      <td>...</td>\n",
       "      <td>...</td>\n",
       "      <td>...</td>\n",
       "    </tr>\n",
       "    <tr>\n",
       "      <th>73</th>\n",
       "      <td>01/02/2000 13:00:00</td>\n",
       "      <td>0.000</td>\n",
       "      <td>0.0</td>\n",
       "      <td>0.0000</td>\n",
       "      <td>0.000</td>\n",
       "      <td>0.000</td>\n",
       "    </tr>\n",
       "    <tr>\n",
       "      <th>74</th>\n",
       "      <td>01/02/2000 13:30:00</td>\n",
       "      <td>0.000</td>\n",
       "      <td>0.0</td>\n",
       "      <td>0.0000</td>\n",
       "      <td>0.000</td>\n",
       "      <td>0.000</td>\n",
       "    </tr>\n",
       "    <tr>\n",
       "      <th>75</th>\n",
       "      <td>01/02/2000 14:00:00</td>\n",
       "      <td>0.000</td>\n",
       "      <td>0.0</td>\n",
       "      <td>0.0000</td>\n",
       "      <td>0.000</td>\n",
       "      <td>0.000</td>\n",
       "    </tr>\n",
       "    <tr>\n",
       "      <th>76</th>\n",
       "      <td>01/02/2000 14:30:00</td>\n",
       "      <td>0.000</td>\n",
       "      <td>0.0</td>\n",
       "      <td>0.0000</td>\n",
       "      <td>0.000</td>\n",
       "      <td>0.000</td>\n",
       "    </tr>\n",
       "    <tr>\n",
       "      <th>77</th>\n",
       "      <td>01/02/2000 15:00:00</td>\n",
       "      <td>0.000</td>\n",
       "      <td>0.0</td>\n",
       "      <td>0.0000</td>\n",
       "      <td>0.000</td>\n",
       "      <td>0.000</td>\n",
       "    </tr>\n",
       "  </tbody>\n",
       "</table>\n",
       "<p>78 rows × 6 columns</p>\n",
       "</div>"
      ],
      "text/plain": [
       "                   Date  Precip (in/hr)  Losses (in/hr)  Runoff (CFS)  \\\n",
       "0   01/01/2000 00:30:00           0.011             0.0        0.0000   \n",
       "1   01/01/2000 01:00:00           0.011             0.0        0.0000   \n",
       "2   01/01/2000 01:30:00           0.011             0.0        0.0205   \n",
       "3   01/01/2000 02:00:00           0.013             0.0        0.0245   \n",
       "4   01/01/2000 02:30:00           0.013             0.0        0.0293   \n",
       "..                  ...             ...             ...           ...   \n",
       "73  01/02/2000 13:00:00           0.000             0.0        0.0000   \n",
       "74  01/02/2000 13:30:00           0.000             0.0        0.0000   \n",
       "75  01/02/2000 14:00:00           0.000             0.0        0.0000   \n",
       "76  01/02/2000 14:30:00           0.000             0.0        0.0000   \n",
       "77  01/02/2000 15:00:00           0.000             0.0        0.0000   \n",
       "\n",
       "    Total Nitrogen (mg/L)  Total Phosphorous (mg/L)  \n",
       "0                   0.000                     0.000  \n",
       "1                   0.000                     0.000  \n",
       "2                   0.663                     0.171  \n",
       "3                   0.722                     0.186  \n",
       "4                   0.727                     0.188  \n",
       "..                    ...                       ...  \n",
       "73                  0.000                     0.000  \n",
       "74                  0.000                     0.000  \n",
       "75                  0.000                     0.000  \n",
       "76                  0.000                     0.000  \n",
       "77                  0.000                     0.000  \n",
       "\n",
       "[78 rows x 6 columns]"
      ]
     },
     "execution_count": 90,
     "metadata": {},
     "output_type": "execute_result"
    }
   ],
   "source": [
    "rpt_73461"
   ]
  },
  {
   "attachments": {
    "image-3.png": {
     "image/png": "[encoded data removed]"
    }
   },
   "cell_type": "markdown",
   "metadata": {},
   "source": [
    "# Outflow near MC7 (In stream, near outlet of SWMM Model)\n",
    "\n",
    "\n",
    "### No LID Scenario for Comparison\n",
    "![image-3.png](attachment:image-3.png)"
   ]
  },
  {
   "cell_type": "code",
   "execution_count": 91,
   "metadata": {},
   "outputs": [],
   "source": [
    "# Outfall\n",
    "reportColumns = [str(i) for i in np.arange(0,15)]\n",
    "rpt_1405 = pd.read_csv(r'C:\\Users\\R. Seth Herbst\\Desktop\\SWMM Programs and Files\\SWMMIO_Altered_INPUTS\\Meadow_Creek_Hydrology_Model_UpdatedMar2021_Adjusted_SB_Parameters.txt', skiprows = 37646, nrows = 1, sep=\"   |    \", names = reportColumns, header = None, engine = 'python')\n",
    "rpt_1405.dropna(axis = 1, inplace = True); # This might be redundant\n",
    "# Check df.head before renaming the columns\n",
    "rpt_1405.rename(columns = {'0':'Outfall Node','6':'Flow Freq %','7':'Avg Flow (CFS)','8':'Max Flow (CFS)','10':'Total Volume (10^6 Gallons)','12':'Total Nitrogen Load (lbs)','14':'Total Phosphorous (lbs)'},inplace = True)"
   ]
  },
  {
   "cell_type": "code",
   "execution_count": 92,
   "metadata": {
    "scrolled": true
   },
   "outputs": [
    {
     "data": {
      "text/html": [
       "<div>\n",
       "<style scoped>\n",
       "    .dataframe tbody tr th:only-of-type {\n",
       "        vertical-align: middle;\n",
       "    }\n",
       "\n",
       "    .dataframe tbody tr th {\n",
       "        vertical-align: top;\n",
       "    }\n",
       "\n",
       "    .dataframe thead th {\n",
       "        text-align: right;\n",
       "    }\n",
       "</style>\n",
       "<table border=\"1\" class=\"dataframe\">\n",
       "  <thead>\n",
       "    <tr style=\"text-align: right;\">\n",
       "      <th></th>\n",
       "      <th>Outfall Node</th>\n",
       "      <th>Flow Freq %</th>\n",
       "      <th>Avg Flow (CFS)</th>\n",
       "      <th>Max Flow (CFS)</th>\n",
       "      <th>Total Volume (10^6 Gallons)</th>\n",
       "      <th>Total Nitrogen Load (lbs)</th>\n",
       "      <th>Total Phosphorous (lbs)</th>\n",
       "    </tr>\n",
       "  </thead>\n",
       "  <tbody>\n",
       "    <tr>\n",
       "      <th>0</th>\n",
       "      <td>1405</td>\n",
       "      <td>99.37</td>\n",
       "      <td>52.88</td>\n",
       "      <td>556.82</td>\n",
       "      <td>35.388</td>\n",
       "      <td>238.807</td>\n",
       "      <td>75.707</td>\n",
       "    </tr>\n",
       "  </tbody>\n",
       "</table>\n",
       "</div>"
      ],
      "text/plain": [
       "   Outfall Node  Flow Freq %  Avg Flow (CFS)  Max Flow (CFS)  \\\n",
       "0          1405        99.37           52.88          556.82   \n",
       "\n",
       "   Total Volume (10^6 Gallons)  Total Nitrogen Load (lbs)  \\\n",
       "0                       35.388                    238.807   \n",
       "\n",
       "   Total Phosphorous (lbs)  \n",
       "0                   75.707  "
      ]
     },
     "execution_count": 92,
     "metadata": {},
     "output_type": "execute_result"
    }
   ],
   "source": [
    "rpt_1405.head()"
   ]
  }
 ],
 "metadata": {
  "kernelspec": {
   "display_name": "Python 3",
   "language": "python",
   "name": "python3"
  },
  "language_info": {
   "codemirror_mode": {
    "name": "ipython",
    "version": 3
   },
   "file_extension": ".py",
   "mimetype": "text/x-python",
   "name": "python",
   "nbconvert_exporter": "python",
   "pygments_lexer": "ipython3",
   "version": "3.8.5"
  }
 },
 "nbformat": 4,
 "nbformat_minor": 4
}
