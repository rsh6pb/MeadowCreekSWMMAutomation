{
 "cells": [
  {
   "cell_type": "markdown",
   "metadata": {},
   "source": [
    "# Required Python Libraries"
   ]
  },
  {
   "cell_type": "code",
   "execution_count": 1,
   "metadata": {},
   "outputs": [],
   "source": [
    "import numpy as np\n",
    "import pandas as pd\n",
    "import matplotlib.pyplot as plt\n",
    "import random\n",
    "import pyswmm\n",
    "from pyswmm import Simulation, LidControls, LidGroups, Subcatchments, Nodes\n",
    "import os\n",
    "import swmm\n",
    "import swmmio as sio"
   ]
  },
  {
   "cell_type": "markdown",
   "metadata": {},
   "source": [
    "# SUBBASIN DICTIONARIES (Dictionaries will be reference throughout the code)"
   ]
  },
  {
   "cell_type": "code",
   "execution_count": 2,
   "metadata": {},
   "outputs": [],
   "source": [
    "#Subbasin LID Feasble Area Dictionaries\n",
    "raingarden_feasible_areas = {'72591': 55583.9368, '72631': 19815.3296, '72671': 44162.83, '72731': 21000.83666, '72781': 23024.24035, '72951': 43306.46711, '73081': 13920.64411, '73121': 23892.97048, '73171': 0.0, '73181': 3385.30813, '73201': 9353.089577, '73211': 12806.63365, '73301': 636.1767258, '73321': 671.0354, '73391': 9520.57, '73421': 0.0, '73461': 5787.304599, '73531': 20854.943, '73551': 11511.16, '73571': 8611.12}\n",
    "permeablepavement_feasible_areas = {'72591': 0.0, '72631': 3592.054222, '72671': 0.0, '72731': 9935.438827, '72781': 12553.53077, '72951': 14386.89196, '73081': 9687.51, '73121': 12827.45501, '73171': 9776.734992, '73181': 7534.73, '73201': 30138.92, '73211': 1076.39, '73301': 17222.24, '73321': 6647.736192, '73391': 1076.39, '73421': 7345.333808, '73461': 25833.36, '73531': 32600.9754, '73551': 0.0, '73571': 20832.98346}\n",
    "greenroof_feasible_areas = {'72591': 2152.78, '72631': 12921.38023, '72671': 1173.503467, '72731': 29062.53, '72781': 7534.73, '72951': 9687.51, '73081': 21384.84111, '73121': 9357.285313, '73171': 16289.43527, '73181': 6990.681118, '73201': 30615.11554, '73211': 1296.256317, '73301': 16630.5235, '73321': 26148.32693, '73391': 0.0, '73421': 20630.7033, '73461': 71257.33823, '73531': 52908.96152, '73551': 10049.59107, '73571': 37450.83357}\n",
    "bioretention_feasible_areas = {'72591': 1076.39, '72631': 1076.39, '72671': 1076.39, '72731': 3229.17, '72781': 7.996802699, '72951': 1068.393197, '73081': 0.0, '73121': 5381.95, '73171': 0.0, '73181': 0.0, '73201': 0.0, '73211': 0.0, '73301': 0.0, '73321': 0.0, '73391': 1076.39, '73421': 0.0, '73461': 0.0, '73531': 1076.39, '73551': 0.0, '73571': 4305.56}\n",
    "grassswale_feasible_areas = {'73081': 7534.73, '72671': 0.0, '72591': 2152.78, '72631': 3229.17, '72781': 0.0, '72731': 0.0, '72951': 10763.9, '73211': 0.0, '73181': 0.0, '73171': 0.0, '73121': 2152.78, '73201': 0.0, '73301': 0.0, '73321': 0.0, '73391': 10096.5382, '73461': 0.0, '73421': 0.0, '73551': 0.0, '73531': 0.0, '73571': 5177.4359}\n",
    "\n",
    "#Other LID Dictionaries\n",
    "raingarden_standard_surfaceareas = {'72591': 3212.817987, '72631': 4541.612969, '72671': 3645.423904, '72731': 3971.109854, '72781': 3623.50659, '72951': 2957.877903, '73081': 3989.072906, '73121': 4252.014151, '73171': 4757.523636, '73181': 5300.559781, '73201': 4880.873748, '73211': 3119.053128, '73301': 4951.325269, '73321': 5761.078663, '73391': 3528.284978, '73421': 5926.800739, '73461': 5934.625311, '73531': 5514.448276, '73551': 5515.048024, '73571': 5797.833294}\n",
    "bioretention_standard_surfaceareas = {'72591': 3212.817987, '72631': 4541.612969, '72671': 3645.423904, '72731': 3971.109854, '72781': 3623.50659, '72951': 2957.877903, '73081': 3989.072906, '73121': 4252.014151, '73171': 4757.523636, '73181': 5300.559781, '73201': 4880.873748, '73211': 3119.053128, '73301': 4951.325269, '73321': 5761.078663, '73391': 3528.284978, '73421': 5926.800739, '73461': 5934.625311, '73531': 5514.448276, '73551': 5515.048024, '73571': 5797.833294}\n",
    "grassswale_standard_surfaceareas = {'72591': 7460.877325, '72631': 10546.63456, '72671': 8465.4844, '72731': 9221.799549, '72781': 8414.587525, '72951': 6868.849797, '73081': 9263.513749, '73121': 9874.12175, '73171': 11048.02711, '73181': 12309.07771, '73201': 11334.47348, '73211': 7243.134487, '73301': 11498.07757, '73321': 13378.50489, '73391': 8193.461781, '73421': 13763.34838, '73461': 13781.51878, '73531': 12805.77433, '73551': 12807.16708, '73571': 13463.85732}\n",
    "\n",
    "\n",
    "#Other Subbasin Characteristic Dictionaries\n",
    "subbasin_areas = {'72591': 930398.04, '72631': 952047.36, '72671': 1011681.0, '72731': 954530.28, '72781': 1649965.68, '72951': 1785524.4, '73081': 1531569.6, '73121': 1481911.2, '73171': 677488.68, '73181': 626044.32, '73201': 922731.48, '73211': 1332718.2, '73301': 1379980.8, '73321': 629311.32, '73391': 762430.68, '73421': 672827.76, '73461': 708067.8, '73531': 677662.92, '73551': 603218.88, '73571': 368648.28}\n",
    "subbasin_imperv_areas = {'72591': 230720.106, '72631': 418386.7328, '72671': 294287.8861, '72731': 506340.1323, '72781': 530480.4658, '72951': 419348.2606, '73081': 545667.6171, '73121': 717393.2119, '73171': 390782.2455, '73181': 431162.9836, '73201': 494805.5288, '73211': 431094.3562, '73301': 632569.3989, '73321': 437044.1255, '73391': 164067.458, '73421': 504230.5799, '73461': 532764.3741, '73531': 469972.7883, '73551': 412975.7096, '73571': 253029.1199}\n",
    "subbasin_perv_areas = {'72591': 699677.934, '72631': 533660.6272, '72671': 717393.1139, '72731': 448190.1477, '72781': 1119485.214, '72951': 1366176.139, '73081': 985901.9829, '73121': 764517.9881, '73171': 286706.4345, '73181': 194881.3364, '73201': 427925.9512, '73211': 901623.8438, '73301': 747411.4011, '73321': 192267.1945, '73391': 598363.222, '73421': 168597.1801, '73461': 175303.4259, '73531': 207690.1317, '73551': 190243.1704, '73571': 115619.1601}\n",
    "subbasin_flowlengths = {'72591': 1094.586, '72631': 793.373, '72671': 1445.259, '72731': 1272.707, '72781': 1833.295, '72951': 915.654, '73081': 957.231, '73121': 4234.032, '73171': 615.899, '73181': 2086.814, '73201': 1419.587, '73211': 1665.898, '73301': 2759.962, '73321': 968.171, '73391': 476.519, '73421': 480.591, '73461': 708.068, '73531': 1042.558, '73551': 928.029, '73571': 1053.281}\n"
   ]
  },
  {
   "cell_type": "markdown",
   "metadata": {},
   "source": [
    "# LID Area Scenario Generator. Can only run one of these. Must Comment out the option that isnt being used!"
   ]
  },
  {
   "cell_type": "markdown",
   "metadata": {},
   "source": [
    "## Option 1: Manually Change in Block Below"
   ]
  },
  {
   "cell_type": "code",
   "execution_count": 3,
   "metadata": {},
   "outputs": [],
   "source": [
    "# raingarden_assigned_areas = {'72591': None, '72631': None, '72671': None, '72731': None, '72781': None, '72951': None, '73081': None, '73121': None, '73171': None, '73181': None, '73201': None, '73211': None, '73301': None, '73321': None, '73391': None, '73421': None, '73461': None, '73531': None, '73551': None, '73571': None}\n",
    "# permeablepavement_assigned_areas = {'72591': None, '72631': None, '72671': None, '72731': None, '72781': None, '72951': None, '73081': None, '73121': None, '73171': None, '73181': None, '73201': None, '73211': None, '73301': None, '73321': None, '73391': None, '73421': None, '73461': None, '73531': None, '73551': None, '73571': None}\n",
    "# greenroof_assigned_areas = {'72591': None, '72631': None, '72671': None, '72731': None, '72781': None, '72951': None, '73081': None, '73121': None, '73171': None, '73181': None, '73201': None, '73211': None, '73301': None, '73321': None, '73391': None, '73421': None, '73461': None, '73531': None, '73551': None, '73571': None}\n",
    "# bioretention_assigned_areas = {'72591': None, '72631': None, '72671': None, '72731': None, '72781': None, '72951': None, '73081': None, '73121': None, '73171': None, '73181': None, '73201': None, '73211': None, '73301': None, '73321': None, '73391': None, '73421': None, '73461': None, '73531': None, '73551': None, '73571': None}\n",
    "# grassswale_assigned_areas = {'72591': None, '72631': None, '72671': None, '72731': None, '72781': None, '72951': None, '73081': None, '73121': None, '73171': None, '73181': None, '73201': None, '73211': None, '73301': None, '73321': None, '73391': None, '73421': None, '73461': None, '73531': None, '73551': None, '73571': None}"
   ]
  },
  {
   "cell_type": "markdown",
   "metadata": {},
   "source": [
    "## Option 2: Random LID Area allocation"
   ]
  },
  {
   "cell_type": "code",
   "execution_count": 4,
   "metadata": {},
   "outputs": [],
   "source": [
    "#Generating random area allocation scenarios for each subcatchment. \n",
    "### Random LID scenario generator.  \n",
    "\n",
    "allocations_fractions_list = [0.1,0.2,0.3,0.4,0.5,0.6,0.7,0.8,0.9,1]\n",
    "\n",
    "for key in raingarden_feasible_areas:\n",
    "    raingarden_assigned_areas = raingarden_feasible_areas\n",
    "    raingarden_assigned_areas[key] *= random.choice(allocations_fractions_list)\n",
    "            \n",
    "\n",
    "for key in greenroof_feasible_areas:\n",
    "    greenroof_assigned_areas = greenroof_feasible_areas\n",
    "    greenroof_assigned_areas[key] *= random.choice(allocations_fractions_list)\n",
    "    \n",
    "    \n",
    "for key in permeablepavement_feasible_areas:\n",
    "    permeablepavement_assigned_areas = permeablepavement_feasible_areas\n",
    "    permeablepavement_assigned_areas[key] *= random.choice(allocations_fractions_list)\n",
    "    \n",
    "\n",
    "for key in bioretention_feasible_areas:\n",
    "    bioretention_assigned_areas = bioretention_feasible_areas\n",
    "    bioretention_assigned_areas[key] *= random.choice(allocations_fractions_list)\n",
    "    \n",
    "    \n",
    "for key in grassswale_feasible_areas:\n",
    "    grassswale_assigned_areas = grassswale_feasible_areas\n",
    "    grassswale_assigned_areas[key] *= random.choice(allocations_fractions_list)\n",
    "\n"
   ]
  },
  {
   "cell_type": "markdown",
   "metadata": {},
   "source": [
    "# Calculate total implemented LID areas for each subbasin"
   ]
  },
  {
   "cell_type": "code",
   "execution_count": 5,
   "metadata": {},
   "outputs": [
    {
     "name": "stdout",
     "output_type": "stream",
     "text": [
      "{'72591': 46727.56844000001, '72631': 19678.526389, '72671': 14911.990733499999, '72731': 27510.7456103, '72781': 29223.393107159198, '72951': 43629.6896478, '73081': 35219.38469800001, '73121': 31200.339465000005, '73171': 9122.3911342, '73181': 7416.0152216, '73201': 27787.2653659, '73211': 8257.4606152, '73301': 27773.11315322, '73321': 11855.981550400002, '73391': 14999.395100000002, '73421': 9721.348081600001, '73461': 34695.285202700004, '73531': 49555.907867999995, '73551': 15805.17107, '73571': 59814.339059000005}\n"
     ]
    }
   ],
   "source": [
    "subbasinlist = ['72591', '72631', '72671', '72731', '72781', '72951', '73081','73121','73171','73181', '73201', '73211', '73301', '73321', '73391', '73421', '73461', '73531', '73551','73571']\n",
    "lid_total_areas = dict.fromkeys(subbasinlist)\n",
    "\n",
    "for key in lid_total_areas:\n",
    "    lid_total_areas[key] = greenroof_assigned_areas[key] + permeablepavement_assigned_areas[key] + raingarden_assigned_areas[key] + bioretention_assigned_areas[key] + grassswale_assigned_areas[key]\n",
    "\n",
    "print(lid_total_areas)"
   ]
  },
  {
   "cell_type": "markdown",
   "metadata": {},
   "source": [
    "### Update impervious LID areas for each subbasin after LID implementation\n",
    "### This block appears periodically to reset the updated subbasin impervious area dictionary"
   ]
  },
  {
   "cell_type": "code",
   "execution_count": 6,
   "metadata": {
    "scrolled": true
   },
   "outputs": [
    {
     "name": "stdout",
     "output_type": "stream",
     "text": [
      "{'72591': 230074.272, '72631': 403165.436371, '72671': 293701.1343665, '72731': 482866.9723557, '72781': 519682.86241500004, '72951': 409689.625208, '73081': 524483.7581010001, '73121': 697773.962579, '73171': 381659.8543658, '73181': 424762.5608174, '73201': 473565.426138, '73211': 429240.2124098, '73301': 605368.8448000001, '73321': 425255.24748960003, '73391': 163852.18000000002, '73421': 494509.2318184, '73461': 499805.28027700004, '73531': 435768.813532, '73551': 402926.11853, '73571': 206823.579611}\n"
     ]
    }
   ],
   "source": [
    "subbasindict = dict.fromkeys(subbasinlist)\n",
    "updated_sb_impervious_areas = subbasindict\n",
    "\n",
    "for key in updated_sb_impervious_areas:\n",
    "    updated_sb_impervious_areas[key] = subbasin_imperv_areas[key] - greenroof_assigned_areas[key] - permeablepavement_assigned_areas[key]\n",
    "print(updated_sb_impervious_areas)"
   ]
  },
  {
   "cell_type": "markdown",
   "metadata": {},
   "source": [
    "# Permeable Pavement LID Usage Editor Parameter Changes!\n",
    "## Permeable Pavement Percent Impervious Treated Calculation for each Subbasin"
   ]
  },
  {
   "cell_type": "code",
   "execution_count": 7,
   "metadata": {
    "scrolled": true
   },
   "outputs": [
    {
     "name": "stdout",
     "output_type": "stream",
     "text": [
      "{'72591': 0.0, '72631': 2.2274071001305575, '72671': 0.0, '72731': 4.62958509083586, '72781': 3.0195172089336673, '72951': 1.7558282019828737, '73081': 0.9235281217358948, '73121': 3.676679182063264, '73171': 0.6404089191045449, '73181': 0.8869343363855322, '73201': 6.364256834749868, '73211': 0.6269158671999955, '73301': 7.11229201334677, '73321': 0.7816171853543767, '73391': 0.3284637409157449, '73421': 0.7426892498032724, '73461': 12.92171222445006, '73531': 7.481254827706022, '73551': 0.0, '73571': 15.109242016202867}\n"
     ]
    }
   ],
   "source": [
    "permeablepavement_percimpervtreated = subbasindict\n",
    "\n",
    "for key in permeablepavement_percimpervtreated:\n",
    "    permeablepavement_percimpervtreated[key] = ((permeablepavement_assigned_areas[key] * 2.5) / updated_sb_impervious_areas[key])*100\n",
    "print(permeablepavement_percimpervtreated)    "
   ]
  },
  {
   "cell_type": "markdown",
   "metadata": {},
   "source": [
    "# RainGarden LID Usage Editor Parameter Changes!"
   ]
  },
  {
   "cell_type": "markdown",
   "metadata": {},
   "source": [
    "## Percent of Impervious Area Treated Calculations for each Subbasin"
   ]
  },
  {
   "cell_type": "code",
   "execution_count": 8,
   "metadata": {
    "scrolled": true
   },
   "outputs": [
    {
     "name": "stdout",
     "output_type": "stream",
     "text": [
      "{'72591': 230074.272, '72631': 403165.436371, '72671': 293701.1343665, '72731': 482866.9723557, '72781': 519682.86241500004, '72951': 409689.625208, '73081': 524483.7581010001, '73121': 697773.962579, '73171': 381659.8543658, '73181': 424762.5608174, '73201': 473565.426138, '73211': 429240.2124098, '73301': 605368.8448000001, '73321': 425255.24748960003, '73391': 163852.18000000002, '73421': 494509.2318184, '73461': 499805.28027700004, '73531': 435768.813532, '73551': 402926.11853, '73571': 206823.579611}\n"
     ]
    }
   ],
   "source": [
    "subbasindict = dict.fromkeys(subbasinlist)\n",
    "updated_sb_impervious_areas = subbasindict\n",
    "\n",
    "for key in updated_sb_impervious_areas:\n",
    "    updated_sb_impervious_areas[key] = subbasin_imperv_areas[key] - greenroof_assigned_areas[key] - permeablepavement_assigned_areas[key]\n",
    "print(updated_sb_impervious_areas)"
   ]
  },
  {
   "cell_type": "code",
   "execution_count": 9,
   "metadata": {
    "scrolled": false
   },
   "outputs": [
    {
     "name": "stdout",
     "output_type": "stream",
     "text": [
      "{'72591': 13.840544226260898, '72631': 0.4363059938232267, '72671': 3.634378154338234, '72731': 0.528840486214361, '72781': 5.083305859256075, '72951': 10.248741824756786, '73081': 3.1407246731829974, '73121': 1.685763708550743, '73171': 0.0, '73181': 0.19160097819109945, '73201': 1.3413915298634356, '73211': 2.0529681804765976, '73301': 0.115637535834045, '73321': 0.011647738891497235, '73391': 2.698356300401991, '73421': 0.0, '73461': 0.2925528215710466, '73531': 2.6473110943003064, '73551': 1.0436137591102144, '73571': 1.3367076297313079}\n"
     ]
    }
   ],
   "source": [
    "totalunits = subbasindict\n",
    "\n",
    "for key in totalunits:\n",
    "    totalunits[key] = (raingarden_assigned_areas[key] / raingarden_standard_surfaceareas[key])\n",
    "print(totalunits)"
   ]
  },
  {
   "cell_type": "code",
   "execution_count": 10,
   "metadata": {
    "scrolled": true
   },
   "outputs": [
    {
     "name": "stdout",
     "output_type": "stream",
     "text": [
      "{'72591': 301447.0532479623, '72631': 9502.744545469877, '72671': 79156.75620148674, '72731': 11518.145789748782, '72781': 110714.40161459731, '72951': 223217.5969432028, '73081': 68404.98338192569, '73121': 36715.93357223518, '73171': 0.0, '73181': 4173.069305002146, '73201': 29215.507520425628, '73211': 44713.6469707803, '73301': 2518.5855304655, '73321': 253.68775305680978, '73391': 58770.20022275536, '73421': 0.0, '73461': 6371.8004538173955, '73531': 57658.435633860674, '73551': 22729.90767342047, '73571': 29113.492175547886}\n"
     ]
    }
   ],
   "source": [
    "totaldrainageareatreated = subbasindict\n",
    "\n",
    "for key in totaldrainageareatreated:\n",
    "    totaldrainageareatreated[key] = totalunits[key] * 21780\n",
    "print(totaldrainageareatreated)"
   ]
  },
  {
   "cell_type": "code",
   "execution_count": 11,
   "metadata": {
    "scrolled": true
   },
   "outputs": [
    {
     "name": "stdout",
     "output_type": "stream",
     "text": [
      "{'72591': 75361.76331199058, '72631': 2375.6861363674693, '72671': 19789.189050371686, '72731': 2879.5364474371954, '72781': 27678.60040364933, '72951': 55804.3992358007, '73081': 17101.245845481422, '73121': 9178.983393058796, '73171': 0.0, '73181': 1043.2673262505366, '73201': 7303.876880106407, '73211': 11178.411742695074, '73301': 629.646382616375, '73321': 63.421938264202446, '73391': 14692.55005568884, '73421': 0.0, '73461': 1592.9501134543489, '73531': 14414.608908465168, '73551': 5682.476918355117, '73571': 7278.373043886972}\n"
     ]
    }
   ],
   "source": [
    "raingarden_impervareatreated = subbasindict\n",
    "\n",
    "for key in raingarden_impervareatreated:\n",
    "    quarter = 0.25\n",
    "    raingarden_impervareatreated[key] = totaldrainageareatreated[key] * quarter\n",
    "print(raingarden_impervareatreated)"
   ]
  },
  {
   "cell_type": "code",
   "execution_count": 12,
   "metadata": {},
   "outputs": [
    {
     "name": "stdout",
     "output_type": "stream",
     "text": [
      "{'72591': 230074.272, '72631': 403165.436371, '72671': 293701.1343665, '72731': 482866.9723557, '72781': 519682.86241500004, '72951': 409689.625208, '73081': 524483.7581010001, '73121': 697773.962579, '73171': 381659.8543658, '73181': 424762.5608174, '73201': 473565.426138, '73211': 429240.2124098, '73301': 605368.8448000001, '73321': 425255.24748960003, '73391': 163852.18000000002, '73421': 494509.2318184, '73461': 499805.28027700004, '73531': 435768.813532, '73551': 402926.11853, '73571': 206823.579611}\n"
     ]
    }
   ],
   "source": [
    "subbasindict = dict.fromkeys(subbasinlist)\n",
    "updated_sb_impervious_areas = subbasindict\n",
    "\n",
    "for key in updated_sb_impervious_areas:\n",
    "    updated_sb_impervious_areas[key] = subbasin_imperv_areas[key] - greenroof_assigned_areas[key] - permeablepavement_assigned_areas[key]\n",
    "print(updated_sb_impervious_areas)"
   ]
  },
  {
   "cell_type": "code",
   "execution_count": 13,
   "metadata": {
    "scrolled": true
   },
   "outputs": [
    {
     "name": "stdout",
     "output_type": "stream",
     "text": [
      "{'72591': 32.75540661582125, '72631': 0.5892583842880124, '72671': 6.737866060019164, '72731': 0.5963415624367882, '72781': 5.3260560248273485, '72951': 13.621140444420268, '73081': 3.26058635397976, '73121': 1.3154665959636718, '73171': 0.0, '73181': 0.24561188355275593, '73201': 1.5423163256808385, '73211': 2.6042321803771107, '73301': 0.10401037120177463, '73321': 0.014913852007376695, '73391': 8.966954272862795, '73421': 0.0, '73461': 0.31871414254997676, '73531': 3.3078569325858043, '73551': 1.410302449264536, '73571': 3.5191214935822863}\n"
     ]
    }
   ],
   "source": [
    "raingarden_percimpervareatreated = subbasindict\n",
    "\n",
    "for key in raingarden_percimpervareatreated:\n",
    "    raingarden_percimpervareatreated[key] = (raingarden_impervareatreated[key]/updated_sb_impervious_areas[key])*100\n",
    "print(raingarden_percimpervareatreated)"
   ]
  },
  {
   "cell_type": "code",
   "execution_count": 14,
   "metadata": {},
   "outputs": [
    {
     "name": "stdout",
     "output_type": "stream",
     "text": [
      "{'72591': 32.75540661582125, '72631': 0.5892583842880124, '72671': 6.737866060019164, '72731': 0.5963415624367882, '72781': 5.3260560248273485, '72951': 13.621140444420268, '73081': 3.26058635397976, '73121': 1.3154665959636718, '73171': 0.0, '73181': 0.24561188355275593, '73201': 1.5423163256808385, '73211': 2.6042321803771107, '73301': 0.10401037120177463, '73321': 0.014913852007376695, '73391': 8.966954272862795, '73421': 0.0, '73461': 0.31871414254997676, '73531': 3.3078569325858043, '73551': 1.410302449264536, '73571': 3.5191214935822863}\n"
     ]
    }
   ],
   "source": [
    "for key in raingarden_percimpervareatreated:\n",
    "    if raingarden_percimpervareatreated[key] > 100:\n",
    "        raingarden_percimpervareatreated[key] = 100\n",
    "print(raingarden_percimpervareatreated)"
   ]
  },
  {
   "cell_type": "markdown",
   "metadata": {},
   "source": [
    "## Calculations for RainGarden Percent Pervious Area Treated for each Subbasin"
   ]
  },
  {
   "cell_type": "code",
   "execution_count": 15,
   "metadata": {},
   "outputs": [
    {
     "name": "stdout",
     "output_type": "stream",
     "text": [
      "{'72591': 230074.272, '72631': 403165.436371, '72671': 293701.1343665, '72731': 482866.9723557, '72781': 519682.86241500004, '72951': 409689.625208, '73081': 524483.7581010001, '73121': 697773.962579, '73171': 381659.8543658, '73181': 424762.5608174, '73201': 473565.426138, '73211': 429240.2124098, '73301': 605368.8448000001, '73321': 425255.24748960003, '73391': 163852.18000000002, '73421': 494509.2318184, '73461': 499805.28027700004, '73531': 435768.813532, '73551': 402926.11853, '73571': 206823.579611}\n"
     ]
    }
   ],
   "source": [
    "subbasindict = dict.fromkeys(subbasinlist)\n",
    "updated_sb_impervious_areas = subbasindict\n",
    "\n",
    "for key in updated_sb_impervious_areas:\n",
    "    updated_sb_impervious_areas[key] = subbasin_imperv_areas[key] - greenroof_assigned_areas[key] - permeablepavement_assigned_areas[key]\n",
    "print(updated_sb_impervious_areas)"
   ]
  },
  {
   "cell_type": "code",
   "execution_count": 16,
   "metadata": {},
   "outputs": [
    {
     "name": "stdout",
     "output_type": "stream",
     "text": [
      "{'72591': 13.840544226260898, '72631': 0.4363059938232267, '72671': 3.634378154338234, '72731': 0.528840486214361, '72781': 5.083305859256075, '72951': 10.248741824756786, '73081': 3.1407246731829974, '73121': 1.685763708550743, '73171': 0.0, '73181': 0.19160097819109945, '73201': 1.3413915298634356, '73211': 2.0529681804765976, '73301': 0.115637535834045, '73321': 0.011647738891497235, '73391': 2.698356300401991, '73421': 0.0, '73461': 0.2925528215710466, '73531': 2.6473110943003064, '73551': 1.0436137591102144, '73571': 1.3367076297313079}\n"
     ]
    }
   ],
   "source": [
    "totalunits = subbasindict\n",
    "\n",
    "for key in totalunits:\n",
    "    totalunits[key] = (raingarden_assigned_areas[key] / raingarden_standard_surfaceareas[key])\n",
    "print(totalunits)"
   ]
  },
  {
   "cell_type": "code",
   "execution_count": 17,
   "metadata": {},
   "outputs": [
    {
     "name": "stdout",
     "output_type": "stream",
     "text": [
      "{'72591': 301447.0532479623, '72631': 9502.744545469877, '72671': 79156.75620148674, '72731': 11518.145789748782, '72781': 110714.40161459731, '72951': 223217.5969432028, '73081': 68404.98338192569, '73121': 36715.93357223518, '73171': 0.0, '73181': 4173.069305002146, '73201': 29215.507520425628, '73211': 44713.6469707803, '73301': 2518.5855304655, '73321': 253.68775305680978, '73391': 58770.20022275536, '73421': 0.0, '73461': 6371.8004538173955, '73531': 57658.435633860674, '73551': 22729.90767342047, '73571': 29113.492175547886}\n"
     ]
    }
   ],
   "source": [
    "totaldrainageareatreated = subbasindict\n",
    "\n",
    "for key in totaldrainageareatreated:\n",
    "    totaldrainageareatreated[key] = totalunits[key] * 21780\n",
    "print(totaldrainageareatreated)"
   ]
  },
  {
   "cell_type": "code",
   "execution_count": 18,
   "metadata": {
    "scrolled": false
   },
   "outputs": [
    {
     "name": "stdout",
     "output_type": "stream",
     "text": [
      "{'72591': 226085.28993597173, '72631': 7127.058409102408, '72671': 59367.56715111506, '72731': 8638.609342311585, '72781': 83035.80121094799, '72951': 167413.1977074021, '73081': 51303.73753644427, '73121': 27536.950179176387, '73171': 0.0, '73181': 3129.8019787516096, '73201': 21911.63064031922, '73211': 33535.23522808522, '73301': 1888.9391478491252, '73321': 190.26581479260733, '73391': 44077.65016706652, '73421': 0.0, '73461': 4778.850340363047, '73531': 43243.826725395505, '73551': 17047.43075506535, '73571': 21835.119131660915}\n"
     ]
    }
   ],
   "source": [
    "raingarden_pervareatreated = subbasindict\n",
    "\n",
    "for key in raingarden_pervareatreated:\n",
    "    threequarter = 0.75\n",
    "    raingarden_pervareatreated[key] = totaldrainageareatreated[key] * threequarter\n",
    "print(raingarden_pervareatreated)"
   ]
  },
  {
   "cell_type": "code",
   "execution_count": 19,
   "metadata": {},
   "outputs": [
    {
     "name": "stdout",
     "output_type": "stream",
     "text": [
      "{'72591': 32.31276548103513, '72631': 1.3355038850245553, '72671': 8.275458183362282, '72731': 1.9274429361383274, '72781': 7.417320047868715, '72951': 12.254144464120385, '73081': 5.203736114368684, '73121': 3.6018708006612026, '73171': 0.0, '73181': 1.6060039594184605, '73201': 5.1204257603153325, '73211': 3.7194263947975266, '73301': 0.2527308447622134, '73321': 0.09895906334276246, '73391': 7.366370215692589, '73421': 0.0, '73461': 2.7260450363868483, '73531': 20.82131990164052, '73551': 8.960863467120474, '73571': 18.88538120565444}\n"
     ]
    }
   ],
   "source": [
    "raingarden_percpervareatreated = subbasindict\n",
    "\n",
    "for key in raingarden_percimpervareatreated:\n",
    "    raingarden_percpervareatreated[key] = (raingarden_pervareatreated[key]/subbasin_perv_areas[key])*100\n",
    "print(raingarden_percpervareatreated)"
   ]
  },
  {
   "cell_type": "code",
   "execution_count": 20,
   "metadata": {},
   "outputs": [
    {
     "name": "stdout",
     "output_type": "stream",
     "text": [
      "{'72591': 32.31276548103513, '72631': 1.3355038850245553, '72671': 8.275458183362282, '72731': 1.9274429361383274, '72781': 7.417320047868715, '72951': 12.254144464120385, '73081': 5.203736114368684, '73121': 3.6018708006612026, '73171': 0.0, '73181': 1.6060039594184605, '73201': 5.1204257603153325, '73211': 3.7194263947975266, '73301': 0.2527308447622134, '73321': 0.09895906334276246, '73391': 7.366370215692589, '73421': 0.0, '73461': 2.7260450363868483, '73531': 20.82131990164052, '73551': 8.960863467120474, '73571': 18.88538120565444}\n"
     ]
    }
   ],
   "source": [
    "for key in raingarden_percpervareatreated:\n",
    "    if raingarden_percpervareatreated[key] > 100:\n",
    "        raingarden_percpervareatreated[key] = 100\n",
    "print(raingarden_percpervareatreated)"
   ]
  },
  {
   "cell_type": "markdown",
   "metadata": {},
   "source": [
    "# Bioretention LID Usage Editor Parameter Changes!"
   ]
  },
  {
   "cell_type": "markdown",
   "metadata": {},
   "source": [
    "## Percent of Impervious Area Treated Calculations for each Subbasin"
   ]
  },
  {
   "cell_type": "code",
   "execution_count": 21,
   "metadata": {},
   "outputs": [
    {
     "name": "stdout",
     "output_type": "stream",
     "text": [
      "{'72591': 230074.272, '72631': 403165.436371, '72671': 293701.1343665, '72731': 482866.9723557, '72781': 519682.86241500004, '72951': 409689.625208, '73081': 524483.7581010001, '73121': 697773.962579, '73171': 381659.8543658, '73181': 424762.5608174, '73201': 473565.426138, '73211': 429240.2124098, '73301': 605368.8448000001, '73321': 425255.24748960003, '73391': 163852.18000000002, '73421': 494509.2318184, '73461': 499805.28027700004, '73531': 435768.813532, '73551': 402926.11853, '73571': 206823.579611}\n"
     ]
    }
   ],
   "source": [
    "subbasindict = dict.fromkeys(subbasinlist)\n",
    "updated_sb_impervious_areas = subbasindict\n",
    "\n",
    "for key in updated_sb_impervious_areas:\n",
    "    updated_sb_impervious_areas[key] = subbasin_imperv_areas[key] - greenroof_assigned_areas[key] - permeablepavement_assigned_areas[key]\n",
    "print(updated_sb_impervious_areas)"
   ]
  },
  {
   "cell_type": "code",
   "execution_count": 22,
   "metadata": {},
   "outputs": [
    {
     "name": "stdout",
     "output_type": "stream",
     "text": [
      "{'72591': 0.30152688509584097, '72631': 0.04740122099118482, '72671': 0.2952715591783205, '72731': 0.4878993710154864, '72781': 0.0017655389883532682, '72951': 0.14448104107561605, '73081': 0.0, '73121': 0.6328706595125345, '73171': 0.0, '73181': 0.0, '73201': 0.0, '73211': 0.0, '73301': 0.0, '73321': 0.0, '73391': 0.06101491272454694, '73421': 0.0, '73461': 0.0, '73531': 0.13663615329919182, '73551': 0.0, '73571': 0.7426153498507265}\n"
     ]
    }
   ],
   "source": [
    "totalunits = subbasindict\n",
    "\n",
    "for key in totalunits:\n",
    "    totalunits[key] = (bioretention_assigned_areas[key] / bioretention_standard_surfaceareas[key])\n",
    "print(totalunits)"
   ]
  },
  {
   "cell_type": "code",
   "execution_count": 23,
   "metadata": {},
   "outputs": [
    {
     "name": "stdout",
     "output_type": "stream",
     "text": [
      "{'72591': 49254.41668040562, '72631': 7742.989448910041, '72671': 48232.609191778654, '72731': 79698.3622553797, '72781': 288.4007937475064, '72951': 23600.97805970188, '73081': 0.0, '73121': 103379.42223137252, '73171': 0.0, '73181': 0.0, '73201': 0.0, '73211': 0.0, '73301': 0.0, '73321': 0.0, '73391': 9966.785993554742, '73421': 0.0, '73461': 0.0, '73531': 22319.515641422982, '73551': 0.0, '73571': 121306.21739811618}\n"
     ]
    }
   ],
   "source": [
    "totaldrainageareatreated = subbasindict\n",
    "\n",
    "for key in totaldrainageareatreated:\n",
    "    totaldrainageareatreated[key] = totalunits[key] * 163350\n",
    "print(totaldrainageareatreated)"
   ]
  },
  {
   "cell_type": "code",
   "execution_count": 24,
   "metadata": {},
   "outputs": [
    {
     "name": "stdout",
     "output_type": "stream",
     "text": [
      "{'72591': 24627.20834020281, '72631': 3871.4947244550203, '72671': 24116.304595889327, '72731': 39849.18112768985, '72781': 144.2003968737532, '72951': 11800.48902985094, '73081': 0.0, '73121': 51689.71111568626, '73171': 0.0, '73181': 0.0, '73201': 0.0, '73211': 0.0, '73301': 0.0, '73321': 0.0, '73391': 4983.392996777371, '73421': 0.0, '73461': 0.0, '73531': 11159.757820711491, '73551': 0.0, '73571': 60653.10869905809}\n"
     ]
    }
   ],
   "source": [
    "bioretention_impervareatreated = subbasindict\n",
    "\n",
    "for key in bioretention_impervareatreated:\n",
    "    bioretention_impervareatreated[key] = totaldrainageareatreated[key] * 0.5\n",
    "print(bioretention_impervareatreated)"
   ]
  },
  {
   "cell_type": "code",
   "execution_count": 25,
   "metadata": {
    "scrolled": false
   },
   "outputs": [
    {
     "name": "stdout",
     "output_type": "stream",
     "text": [
      "{'72591': 230074.272, '72631': 403165.436371, '72671': 293701.1343665, '72731': 482866.9723557, '72781': 519682.86241500004, '72951': 409689.625208, '73081': 524483.7581010001, '73121': 697773.962579, '73171': 381659.8543658, '73181': 424762.5608174, '73201': 473565.426138, '73211': 429240.2124098, '73301': 605368.8448000001, '73321': 425255.24748960003, '73391': 163852.18000000002, '73421': 494509.2318184, '73461': 499805.28027700004, '73531': 435768.813532, '73551': 402926.11853, '73571': 206823.579611}\n"
     ]
    }
   ],
   "source": [
    "subbasindict = dict.fromkeys(subbasinlist)\n",
    "updated_sb_impervious_areas = subbasindict\n",
    "\n",
    "for key in updated_sb_impervious_areas:\n",
    "    updated_sb_impervious_areas[key] = subbasin_imperv_areas[key] - greenroof_assigned_areas[key] - permeablepavement_assigned_areas[key]\n",
    "print(updated_sb_impervious_areas)"
   ]
  },
  {
   "cell_type": "code",
   "execution_count": 26,
   "metadata": {},
   "outputs": [
    {
     "name": "stdout",
     "output_type": "stream",
     "text": [
      "{'72591': 10.704025324571194, '72631': 0.9602744618445918, '72671': 8.211171757271929, '72731': 8.252620992751453, '72781': 0.027747768360812317, '72951': 2.8803485135509144, '73081': 0.0, '73121': 7.407801650356665, '73171': 0.0, '73181': 0.0, '73201': 0.0, '73211': 0.0, '73301': 0.0, '73321': 0.0, '73391': 3.0413956022906565, '73421': 0.0, '73461': 0.0, '73531': 2.5609354029397497, '73551': 0.0, '73571': 29.326012446519044}\n"
     ]
    }
   ],
   "source": [
    "bioretention_percimpervareatreated = subbasindict\n",
    "\n",
    "for key in bioretention_percimpervareatreated:\n",
    "    bioretention_percimpervareatreated[key] = (bioretention_impervareatreated[key]/updated_sb_impervious_areas[key])*100\n",
    "print(bioretention_percimpervareatreated)"
   ]
  },
  {
   "cell_type": "code",
   "execution_count": 27,
   "metadata": {},
   "outputs": [
    {
     "name": "stdout",
     "output_type": "stream",
     "text": [
      "{'72591': 10.704025324571194, '72631': 0.9602744618445918, '72671': 8.211171757271929, '72731': 8.252620992751453, '72781': 0.027747768360812317, '72951': 2.8803485135509144, '73081': 0.0, '73121': 7.407801650356665, '73171': 0.0, '73181': 0.0, '73201': 0.0, '73211': 0.0, '73301': 0.0, '73321': 0.0, '73391': 3.0413956022906565, '73421': 0.0, '73461': 0.0, '73531': 2.5609354029397497, '73551': 0.0, '73571': 29.326012446519044}\n"
     ]
    }
   ],
   "source": [
    "for key in bioretention_percimpervareatreated:\n",
    "    if bioretention_percimpervareatreated[key] > 100:\n",
    "        bioretention_percimpervareatreated[key] = 100\n",
    "print(bioretention_percimpervareatreated)"
   ]
  },
  {
   "cell_type": "markdown",
   "metadata": {},
   "source": [
    "## Bioretention Percent Pervious Area Treated for each Subbasin"
   ]
  },
  {
   "cell_type": "code",
   "execution_count": 28,
   "metadata": {},
   "outputs": [
    {
     "name": "stdout",
     "output_type": "stream",
     "text": [
      "{'72591': 230074.272, '72631': 403165.436371, '72671': 293701.1343665, '72731': 482866.9723557, '72781': 519682.86241500004, '72951': 409689.625208, '73081': 524483.7581010001, '73121': 697773.962579, '73171': 381659.8543658, '73181': 424762.5608174, '73201': 473565.426138, '73211': 429240.2124098, '73301': 605368.8448000001, '73321': 425255.24748960003, '73391': 163852.18000000002, '73421': 494509.2318184, '73461': 499805.28027700004, '73531': 435768.813532, '73551': 402926.11853, '73571': 206823.579611}\n"
     ]
    }
   ],
   "source": [
    "subbasindict = dict.fromkeys(subbasinlist)\n",
    "updated_sb_impervious_areas = subbasindict\n",
    "\n",
    "for key in updated_sb_impervious_areas:\n",
    "    updated_sb_impervious_areas[key] = subbasin_imperv_areas[key] - greenroof_assigned_areas[key] - permeablepavement_assigned_areas[key]\n",
    "print(updated_sb_impervious_areas)"
   ]
  },
  {
   "cell_type": "code",
   "execution_count": 29,
   "metadata": {},
   "outputs": [
    {
     "name": "stdout",
     "output_type": "stream",
     "text": [
      "{'72591': 0.30152688509584097, '72631': 0.04740122099118482, '72671': 0.2952715591783205, '72731': 0.4878993710154864, '72781': 0.0017655389883532682, '72951': 0.14448104107561605, '73081': 0.0, '73121': 0.6328706595125345, '73171': 0.0, '73181': 0.0, '73201': 0.0, '73211': 0.0, '73301': 0.0, '73321': 0.0, '73391': 0.06101491272454694, '73421': 0.0, '73461': 0.0, '73531': 0.13663615329919182, '73551': 0.0, '73571': 0.7426153498507265}\n"
     ]
    }
   ],
   "source": [
    "totalunits = subbasindict\n",
    "\n",
    "for key in totalunits:\n",
    "    totalunits[key] = (bioretention_assigned_areas[key] / bioretention_standard_surfaceareas[key])\n",
    "print(totalunits)"
   ]
  },
  {
   "cell_type": "code",
   "execution_count": 30,
   "metadata": {},
   "outputs": [
    {
     "name": "stdout",
     "output_type": "stream",
     "text": [
      "{'72591': 49254.41668040562, '72631': 7742.989448910041, '72671': 48232.609191778654, '72731': 79698.3622553797, '72781': 288.4007937475064, '72951': 23600.97805970188, '73081': 0.0, '73121': 103379.42223137252, '73171': 0.0, '73181': 0.0, '73201': 0.0, '73211': 0.0, '73301': 0.0, '73321': 0.0, '73391': 9966.785993554742, '73421': 0.0, '73461': 0.0, '73531': 22319.515641422982, '73551': 0.0, '73571': 121306.21739811618}\n"
     ]
    }
   ],
   "source": [
    "totaldrainageareatreated = subbasindict\n",
    "\n",
    "for key in totaldrainageareatreated:\n",
    "    totaldrainageareatreated[key] = totalunits[key] * 163350\n",
    "print(totaldrainageareatreated)"
   ]
  },
  {
   "cell_type": "code",
   "execution_count": 31,
   "metadata": {},
   "outputs": [
    {
     "name": "stdout",
     "output_type": "stream",
     "text": [
      "{'72591': 24627.20834020281, '72631': 3871.4947244550203, '72671': 24116.304595889327, '72731': 39849.18112768985, '72781': 144.2003968737532, '72951': 11800.48902985094, '73081': 0.0, '73121': 51689.71111568626, '73171': 0.0, '73181': 0.0, '73201': 0.0, '73211': 0.0, '73301': 0.0, '73321': 0.0, '73391': 4983.392996777371, '73421': 0.0, '73461': 0.0, '73531': 11159.757820711491, '73551': 0.0, '73571': 60653.10869905809}\n"
     ]
    }
   ],
   "source": [
    "bioretention_pervareatreated = subbasindict\n",
    "\n",
    "for key in bioretention_pervareatreated:\n",
    "    bioretention_pervareatreated[key] = totaldrainageareatreated[key] * 0.5\n",
    "print(bioretention_pervareatreated)"
   ]
  },
  {
   "cell_type": "code",
   "execution_count": 32,
   "metadata": {},
   "outputs": [
    {
     "name": "stdout",
     "output_type": "stream",
     "text": [
      "{'72591': 3.519792056240952, '72631': 0.7254600634054459, '72671': 3.361658221778107, '72731': 8.891132777502119, '72781': 0.01288095591352341, '72951': 0.8637604400329041, '73081': 0.0, '73121': 6.7610850130743, '73171': 0.0, '73181': 0.0, '73201': 0.0, '73211': 0.0, '73301': 0.0, '73321': 0.0, '73391': 0.8328374494877246, '73421': 0.0, '73461': 0.0, '73531': 5.373273024272193, '73551': 0.0, '73571': 52.459392237928995}\n"
     ]
    }
   ],
   "source": [
    "bioretention_percpervareatreated = subbasindict\n",
    "\n",
    "for key in bioretention_percpervareatreated:\n",
    "    bioretention_percpervareatreated[key] = (bioretention_pervareatreated[key]/subbasin_perv_areas[key])*100\n",
    "print(bioretention_percpervareatreated)"
   ]
  },
  {
   "cell_type": "code",
   "execution_count": 33,
   "metadata": {},
   "outputs": [
    {
     "name": "stdout",
     "output_type": "stream",
     "text": [
      "{'72591': 3.519792056240952, '72631': 0.7254600634054459, '72671': 3.361658221778107, '72731': 8.891132777502119, '72781': 0.01288095591352341, '72951': 0.8637604400329041, '73081': 0.0, '73121': 6.7610850130743, '73171': 0.0, '73181': 0.0, '73201': 0.0, '73211': 0.0, '73301': 0.0, '73321': 0.0, '73391': 0.8328374494877246, '73421': 0.0, '73461': 0.0, '73531': 5.373273024272193, '73551': 0.0, '73571': 52.459392237928995}\n"
     ]
    }
   ],
   "source": [
    "for key in bioretention_percpervareatreated:\n",
    "    if bioretention_percpervareatreated[key] > 100:\n",
    "        bioretention_percpervareatreated[key] = 100\n",
    "print(bioretention_percpervareatreated)"
   ]
  },
  {
   "cell_type": "markdown",
   "metadata": {},
   "source": [
    "# Grass Swale LID Usage Editor Parameter Changes!"
   ]
  },
  {
   "cell_type": "markdown",
   "metadata": {},
   "source": [
    "## Percent of Impervious Area Treated Calculations for each Subbasin"
   ]
  },
  {
   "cell_type": "code",
   "execution_count": 34,
   "metadata": {},
   "outputs": [
    {
     "name": "stdout",
     "output_type": "stream",
     "text": [
      "{'72591': 230074.272, '72631': 403165.436371, '72671': 293701.1343665, '72731': 482866.9723557, '72781': 519682.86241500004, '72951': 409689.625208, '73081': 524483.7581010001, '73121': 697773.962579, '73171': 381659.8543658, '73181': 424762.5608174, '73201': 473565.426138, '73211': 429240.2124098, '73301': 605368.8448000001, '73321': 425255.24748960003, '73391': 163852.18000000002, '73421': 494509.2318184, '73461': 499805.28027700004, '73531': 435768.813532, '73551': 402926.11853, '73571': 206823.579611}\n"
     ]
    }
   ],
   "source": [
    "subbasindict = dict.fromkeys(subbasinlist)\n",
    "updated_sb_impervious_areas = subbasindict\n",
    "\n",
    "for key in updated_sb_impervious_areas:\n",
    "    updated_sb_impervious_areas[key] = subbasin_imperv_areas[key] - greenroof_assigned_areas[key] - permeablepavement_assigned_areas[key]\n",
    "print(updated_sb_impervious_areas)"
   ]
  },
  {
   "cell_type": "code",
   "execution_count": 35,
   "metadata": {},
   "outputs": [
    {
     "name": "stdout",
     "output_type": "stream",
     "text": [
      "{'72591': 0.08656274213703145, '72631': 0.21432609493961643, '72671': 0.0, '72731': 0.0, '72781': 0.0, '72951': 0.47011801035602113, '73081': 0.16267542110170402, '73121': 0.1744179425375224, '73171': 0.0, '73181': 0.0, '73201': 0.0, '73211': 0.0, '73301': 0.0, '73321': 0.0, '73391': 0.6161338436589212, '73421': 0.0, '73461': 0.0, '73531': 0.0, '73551': 0.0, '73571': 0.11536298499633835}\n"
     ]
    }
   ],
   "source": [
    "totalunits = subbasindict\n",
    "\n",
    "for key in totalunits:\n",
    "    totalunits[key] = (grassswale_assigned_areas[key] / grassswale_standard_surfaceareas[key])\n",
    "print(totalunits)"
   ]
  },
  {
   "cell_type": "code",
   "execution_count": 36,
   "metadata": {},
   "outputs": [
    {
     "name": "stdout",
     "output_type": "stream",
     "text": [
      "{'72591': 14140.023928084089, '72631': 35010.16760838634, '72671': 0.0, '72731': 0.0, '72781': 0.0, '72951': 76793.77699165605, '73081': 26573.03003696335, '73121': 28491.170913504284, '73171': 0.0, '73181': 0.0, '73201': 0.0, '73211': 0.0, '73301': 0.0, '73321': 0.0, '73391': 100645.46336168479, '73421': 0.0, '73461': 0.0, '73531': 0.0, '73551': 0.0, '73571': 18844.543599151868}\n"
     ]
    }
   ],
   "source": [
    "totaldrainageareatreated = subbasindict\n",
    "\n",
    "for key in totaldrainageareatreated:\n",
    "    totaldrainageareatreated[key] = totalunits[key] * 163350\n",
    "print(totaldrainageareatreated)"
   ]
  },
  {
   "cell_type": "code",
   "execution_count": 37,
   "metadata": {},
   "outputs": [
    {
     "name": "stdout",
     "output_type": "stream",
     "text": [
      "{'72591': 7070.011964042044, '72631': 17505.08380419317, '72671': 0.0, '72731': 0.0, '72781': 0.0, '72951': 38396.888495828025, '73081': 13286.515018481676, '73121': 14245.585456752142, '73171': 0.0, '73181': 0.0, '73201': 0.0, '73211': 0.0, '73301': 0.0, '73321': 0.0, '73391': 50322.73168084239, '73421': 0.0, '73461': 0.0, '73531': 0.0, '73551': 0.0, '73571': 9422.271799575934}\n"
     ]
    }
   ],
   "source": [
    "grassswale_impervareatreated = subbasindict\n",
    "\n",
    "for key in grassswale_impervareatreated:\n",
    "    grassswale_impervareatreated[key] = totaldrainageareatreated[key] * 0.5\n",
    "print(grassswale_impervareatreated)"
   ]
  },
  {
   "cell_type": "code",
   "execution_count": 38,
   "metadata": {},
   "outputs": [
    {
     "name": "stdout",
     "output_type": "stream",
     "text": [
      "{'72591': 230074.272, '72631': 403165.436371, '72671': 293701.1343665, '72731': 482866.9723557, '72781': 519682.86241500004, '72951': 409689.625208, '73081': 524483.7581010001, '73121': 697773.962579, '73171': 381659.8543658, '73181': 424762.5608174, '73201': 473565.426138, '73211': 429240.2124098, '73301': 605368.8448000001, '73321': 425255.24748960003, '73391': 163852.18000000002, '73421': 494509.2318184, '73461': 499805.28027700004, '73531': 435768.813532, '73551': 402926.11853, '73571': 206823.579611}\n"
     ]
    }
   ],
   "source": [
    "subbasindict = dict.fromkeys(subbasinlist)\n",
    "updated_sb_impervious_areas = subbasindict\n",
    "\n",
    "for key in updated_sb_impervious_areas:\n",
    "    updated_sb_impervious_areas[key] = subbasin_imperv_areas[key] - greenroof_assigned_areas[key] - permeablepavement_assigned_areas[key]\n",
    "print(updated_sb_impervious_areas)"
   ]
  },
  {
   "cell_type": "code",
   "execution_count": 39,
   "metadata": {},
   "outputs": [
    {
     "name": "stdout",
     "output_type": "stream",
     "text": [
      "{'72591': 3.072925930649927, '72631': 4.3419108447790355, '72671': 0.0, '72731': 0.0, '72781': 0.0, '72951': 9.372189612156733, '73081': 2.533255761167553, '73121': 2.041575957363026, '73171': 0.0, '73181': 0.0, '73201': 0.0, '73211': 0.0, '73301': 0.0, '73321': 0.0, '73391': 30.71227473497294, '73421': 0.0, '73461': 0.0, '73531': 0.0, '73551': 0.0, '73571': 4.555704826933963}\n"
     ]
    }
   ],
   "source": [
    "grassswale_percimpervareatreated = subbasindict\n",
    "\n",
    "for key in grassswale_percimpervareatreated:\n",
    "    grassswale_percimpervareatreated[key] = (grassswale_impervareatreated[key]/updated_sb_impervious_areas[key])*100\n",
    "print(grassswale_percimpervareatreated)"
   ]
  },
  {
   "cell_type": "code",
   "execution_count": 40,
   "metadata": {},
   "outputs": [
    {
     "name": "stdout",
     "output_type": "stream",
     "text": [
      "{'72591': 3.072925930649927, '72631': 4.3419108447790355, '72671': 0.0, '72731': 0.0, '72781': 0.0, '72951': 9.372189612156733, '73081': 2.533255761167553, '73121': 2.041575957363026, '73171': 0.0, '73181': 0.0, '73201': 0.0, '73211': 0.0, '73301': 0.0, '73321': 0.0, '73391': 30.71227473497294, '73421': 0.0, '73461': 0.0, '73531': 0.0, '73551': 0.0, '73571': 4.555704826933963}\n"
     ]
    }
   ],
   "source": [
    "for key in grassswale_percimpervareatreated:\n",
    "    if grassswale_percimpervareatreated[key] > 100:\n",
    "        grassswale_percimpervareatreated[key] = 100\n",
    "print(grassswale_percimpervareatreated)"
   ]
  },
  {
   "cell_type": "markdown",
   "metadata": {},
   "source": [
    "## Percent of pervious Area Treated Calculations for each Subbasin"
   ]
  },
  {
   "cell_type": "code",
   "execution_count": 41,
   "metadata": {},
   "outputs": [
    {
     "name": "stdout",
     "output_type": "stream",
     "text": [
      "{'72591': 230074.272, '72631': 403165.436371, '72671': 293701.1343665, '72731': 482866.9723557, '72781': 519682.86241500004, '72951': 409689.625208, '73081': 524483.7581010001, '73121': 697773.962579, '73171': 381659.8543658, '73181': 424762.5608174, '73201': 473565.426138, '73211': 429240.2124098, '73301': 605368.8448000001, '73321': 425255.24748960003, '73391': 163852.18000000002, '73421': 494509.2318184, '73461': 499805.28027700004, '73531': 435768.813532, '73551': 402926.11853, '73571': 206823.579611}\n"
     ]
    }
   ],
   "source": [
    "subbasindict = dict.fromkeys(subbasinlist)\n",
    "updated_sb_impervious_areas = subbasindict\n",
    "\n",
    "for key in updated_sb_impervious_areas:\n",
    "    updated_sb_impervious_areas[key] = subbasin_imperv_areas[key] - greenroof_assigned_areas[key] - permeablepavement_assigned_areas[key]\n",
    "print(updated_sb_impervious_areas)"
   ]
  },
  {
   "cell_type": "code",
   "execution_count": 42,
   "metadata": {},
   "outputs": [
    {
     "name": "stdout",
     "output_type": "stream",
     "text": [
      "{'72591': 0.08656274213703145, '72631': 0.21432609493961643, '72671': 0.0, '72731': 0.0, '72781': 0.0, '72951': 0.47011801035602113, '73081': 0.16267542110170402, '73121': 0.1744179425375224, '73171': 0.0, '73181': 0.0, '73201': 0.0, '73211': 0.0, '73301': 0.0, '73321': 0.0, '73391': 0.6161338436589212, '73421': 0.0, '73461': 0.0, '73531': 0.0, '73551': 0.0, '73571': 0.11536298499633835}\n"
     ]
    }
   ],
   "source": [
    "totalunits = subbasindict\n",
    "\n",
    "for key in totalunits:\n",
    "    totalunits[key] = (grassswale_assigned_areas[key] / grassswale_standard_surfaceareas[key])\n",
    "print(totalunits)"
   ]
  },
  {
   "cell_type": "code",
   "execution_count": 43,
   "metadata": {},
   "outputs": [
    {
     "name": "stdout",
     "output_type": "stream",
     "text": [
      "{'72591': 14140.023928084089, '72631': 35010.16760838634, '72671': 0.0, '72731': 0.0, '72781': 0.0, '72951': 76793.77699165605, '73081': 26573.03003696335, '73121': 28491.170913504284, '73171': 0.0, '73181': 0.0, '73201': 0.0, '73211': 0.0, '73301': 0.0, '73321': 0.0, '73391': 100645.46336168479, '73421': 0.0, '73461': 0.0, '73531': 0.0, '73551': 0.0, '73571': 18844.543599151868}\n"
     ]
    }
   ],
   "source": [
    "totaldrainageareatreated = subbasindict\n",
    "\n",
    "for key in totaldrainageareatreated:\n",
    "    totaldrainageareatreated[key] = totalunits[key] * 163350\n",
    "print(totaldrainageareatreated)"
   ]
  },
  {
   "cell_type": "code",
   "execution_count": 44,
   "metadata": {},
   "outputs": [
    {
     "name": "stdout",
     "output_type": "stream",
     "text": [
      "{'72591': 7070.011964042044, '72631': 17505.08380419317, '72671': 0.0, '72731': 0.0, '72781': 0.0, '72951': 38396.888495828025, '73081': 13286.515018481676, '73121': 14245.585456752142, '73171': 0.0, '73181': 0.0, '73201': 0.0, '73211': 0.0, '73301': 0.0, '73321': 0.0, '73391': 50322.73168084239, '73421': 0.0, '73461': 0.0, '73531': 0.0, '73551': 0.0, '73571': 9422.271799575934}\n"
     ]
    }
   ],
   "source": [
    "grassswale_pervareatreated = subbasindict\n",
    "\n",
    "for key in grassswale_pervareatreated:\n",
    "    grassswale_pervareatreated[key] = totaldrainageareatreated[key] * 0.5\n",
    "print(grassswale_pervareatreated)"
   ]
  },
  {
   "cell_type": "code",
   "execution_count": 45,
   "metadata": {},
   "outputs": [
    {
     "name": "stdout",
     "output_type": "stream",
     "text": [
      "{'72591': 1.0104666190662008, '72631': 3.2801902392609508, '72671': 0.0, '72731': 0.0, '72781': 0.0, '72951': 2.8105371920734465, '73081': 1.3476507045253936, '73121': 1.863342089851364, '73171': 0.0, '73181': 0.0, '73201': 0.0, '73211': 0.0, '73301': 0.0, '73321': 0.0, '73391': 8.410064293831615, '73421': 0.0, '73461': 0.0, '73531': 0.0, '73551': 0.0, '73571': 8.149403430561621}\n"
     ]
    }
   ],
   "source": [
    "grassswale_percpervareatreated = subbasindict\n",
    "\n",
    "for key in grassswale_percpervareatreated:\n",
    "    grassswale_percpervareatreated[key] = (grassswale_pervareatreated[key]/subbasin_perv_areas[key])*100\n",
    "print(grassswale_percpervareatreated)"
   ]
  },
  {
   "cell_type": "code",
   "execution_count": 46,
   "metadata": {
    "scrolled": true
   },
   "outputs": [
    {
     "name": "stdout",
     "output_type": "stream",
     "text": [
      "{'72591': 1.0104666190662008, '72631': 3.2801902392609508, '72671': 0.0, '72731': 0.0, '72781': 0.0, '72951': 2.8105371920734465, '73081': 1.3476507045253936, '73121': 1.863342089851364, '73171': 0.0, '73181': 0.0, '73201': 0.0, '73211': 0.0, '73301': 0.0, '73321': 0.0, '73391': 8.410064293831615, '73421': 0.0, '73461': 0.0, '73531': 0.0, '73551': 0.0, '73571': 8.149403430561621}\n"
     ]
    }
   ],
   "source": [
    "for key in grassswale_percimpervareatreated:\n",
    "    if grassswale_percimpervareatreated[key] > 100:\n",
    "        grassswale_percimpervareatreated[key] = 100\n",
    "print(grassswale_percpervareatreated)"
   ]
  },
  {
   "cell_type": "markdown",
   "metadata": {},
   "source": [
    "## Capping total %impervious and %pervious at 100% for each subcatchment-LID combo. "
   ]
  },
  {
   "cell_type": "code",
   "execution_count": 47,
   "metadata": {},
   "outputs": [
    {
     "name": "stdout",
     "output_type": "stream",
     "text": [
      "{'72591': 46.53235787104238, '72631': 8.118850791042197, '72671': 14.949037817291092, '72731': 13.4785476460241, '72781': 8.373321002121827, '72951': 27.629506772110787, '73081': 6.717370236883207, '73121': 14.441523385746626, '73171': 0.6404089191045449, '73181': 1.132546219938288, '73201': 7.906573160430706, '73211': 3.231148047577106, '73301': 7.216302384548545, '73321': 0.7965310373617535, '73391': 43.04908835104214, '73421': 0.7426892498032724, '73461': 13.240426367000037, '73531': 13.350047163231576, '73551': 1.410302449264536, '73571': 52.510080783238166}\n"
     ]
    }
   ],
   "source": [
    "subbasinlist = ['72591', '72631', '72671', '72731', '72781', '72951', '73081','73121','73171','73181', '73201', '73211', '73301', '73321', '73391', '73421', '73461', '73531', '73551','73571']\n",
    "percimptreated_sbs = dict.fromkeys(subbasinlist)\n",
    "\n",
    "for key in percimptreated_sbs:\n",
    "    percimptreated_sbs[key] = raingarden_percimpervareatreated[key] + bioretention_percimpervareatreated[key] + permeablepavement_percimpervtreated[key] + grassswale_percimpervareatreated[key]\n",
    "print(percimptreated_sbs)  "
   ]
  },
  {
   "cell_type": "code",
   "execution_count": 48,
   "metadata": {},
   "outputs": [
    {
     "name": "stdout",
     "output_type": "stream",
     "text": [
      "{'72591': 46.53235787104238, '72631': 8.118850791042197, '72671': 14.949037817291092, '72731': 13.4785476460241, '72781': 8.373321002121827, '72951': 27.629506772110787, '73081': 6.717370236883207, '73121': 14.441523385746626, '73171': 0.6404089191045449, '73181': 1.132546219938288, '73201': 7.906573160430706, '73211': 3.231148047577106, '73301': 7.216302384548545, '73321': 0.7965310373617535, '73391': 43.04908835104214, '73421': 0.7426892498032724, '73461': 13.240426367000037, '73531': 13.350047163231576, '73551': 1.410302449264536, '73571': 52.510080783238166}\n"
     ]
    }
   ],
   "source": [
    "while percimptreated_sbs['72671'] > 100:\n",
    "    raingarden_percimpervareatreated['72671'] =  raingarden_percimpervareatreated['72671']-0.25\n",
    "    for key in percimptreated_sbs:\n",
    "        percimptreated_sbs[key] = raingarden_percimpervareatreated[key] + bioretention_percimpervareatreated[key] + permeablepavement_percimpervtreated[key] + grassswale_percimpervareatreated[key]\n",
    "        \n",
    "print(percimptreated_sbs)\n"
   ]
  },
  {
   "cell_type": "code",
   "execution_count": 49,
   "metadata": {},
   "outputs": [
    {
     "name": "stdout",
     "output_type": "stream",
     "text": [
      "{'72591': 36.84302415634228, '72631': 5.341154187690952, '72671': 11.63711640514039, '72731': 10.818575713640445, '72781': 7.430201003782239, '72951': 15.928442096226735, '73081': 6.551386818894078, '73121': 12.226297903586868, '73171': 0.0, '73181': 1.6060039594184605, '73201': 5.1204257603153325, '73211': 3.7194263947975266, '73301': 0.2527308447622134, '73321': 0.09895906334276246, '73391': 16.609271959011927, '73421': 0.0, '73461': 2.7260450363868483, '73531': 26.194592925912715, '73551': 8.960863467120474, '73571': 79.49417687414505}\n"
     ]
    }
   ],
   "source": [
    "subbasinlist = ['72591', '72631', '72671', '72731', '72781', '72951', '73081','73121','73171','73181', '73201', '73211', '73301', '73321', '73391', '73421', '73461', '73531', '73551','73571']\n",
    "percpervtreated_sbs = dict.fromkeys(subbasinlist)\n",
    "\n",
    "for key in percpervtreated_sbs:\n",
    "    percpervtreated_sbs[key] = raingarden_percpervareatreated[key] + bioretention_percpervareatreated[key] + grassswale_percpervareatreated[key]\n",
    "print(percpervtreated_sbs)  "
   ]
  },
  {
   "cell_type": "code",
   "execution_count": 50,
   "metadata": {},
   "outputs": [],
   "source": [
    "while percpervtreated_sbs['73571'] > 100:\n",
    "    raingarden_percpervareatreated['73571'] =  raingarden_percpervareatreated['73571']-0.25\n",
    "    for key in percpervtreated_sbs:\n",
    "        percpervtreated_sbs[key] = raingarden_percpervareatreated[key] + bioretention_percpervareatreated[key] + grassswale_percpervareatreated[key] \n",
    "    \n"
   ]
  },
  {
   "cell_type": "markdown",
   "metadata": {},
   "source": [
    "# The following blocks update subcatchment percent impervious and widths using SWMMIO "
   ]
  },
  {
   "cell_type": "code",
   "execution_count": 51,
   "metadata": {},
   "outputs": [
    {
     "name": "stdout",
     "output_type": "stream",
     "text": [
      "{'72591': 230074.272, '72631': 403165.436371, '72671': 293701.1343665, '72731': 482866.9723557, '72781': 519682.86241500004, '72951': 409689.625208, '73081': 524483.7581010001, '73121': 697773.962579, '73171': 381659.8543658, '73181': 424762.5608174, '73201': 473565.426138, '73211': 429240.2124098, '73301': 605368.8448000001, '73321': 425255.24748960003, '73391': 163852.18000000002, '73421': 494509.2318184, '73461': 499805.28027700004, '73531': 435768.813532, '73551': 402926.11853, '73571': 206823.579611}\n"
     ]
    }
   ],
   "source": [
    "subbasindict = dict.fromkeys(subbasinlist)\n",
    "updated_sb_impervious_areas = subbasindict\n",
    "\n",
    "for key in updated_sb_impervious_areas:\n",
    "    updated_sb_impervious_areas[key] = subbasin_imperv_areas[key] - greenroof_assigned_areas[key] - permeablepavement_assigned_areas[key]\n",
    "print(updated_sb_impervious_areas)"
   ]
  },
  {
   "cell_type": "code",
   "execution_count": 52,
   "metadata": {},
   "outputs": [
    {
     "name": "stdout",
     "output_type": "stream",
     "text": [
      "{'72591': 930398.04, '72631': 952047.36, '72671': 1011681.0, '72731': 954530.28, '72781': 1649965.68, '72951': 1785524.4, '73081': 1531569.6, '73121': 1481911.2, '73171': 677488.68, '73181': 626044.32, '73201': 922731.48, '73211': 1332718.2, '73301': 1379980.8, '73321': 629311.32, '73391': 762430.68, '73421': 672827.76, '73461': 708067.8, '73531': 677662.92, '73551': 603218.88, '73571': 368648.28}\n"
     ]
    }
   ],
   "source": [
    "print(subbasin_areas)"
   ]
  },
  {
   "cell_type": "code",
   "execution_count": 53,
   "metadata": {},
   "outputs": [
    {
     "name": "stdout",
     "output_type": "stream",
     "text": [
      "{'72591': 24.728585197793407, '72631': 42.34720385874501, '72671': 29.03100229879775, '72731': 50.58686795726375, '72781': 31.496586184447185, '72951': 22.94505889743092, '73081': 34.24485299923686, '73121': 47.08608468435896, '73171': 56.334499104221194, '73181': 67.84864062298337, '73201': 51.32212744470364, '73211': 32.207875033881884, '73301': 43.86791793045237, '73321': 67.57470173738494, '73391': 21.490764248888834, '73421': 73.49715056620137, '73461': 70.58720651850007, '73531': 64.30465658826367, '73551': 66.79600587600972, '73571': 56.10322652556523}\n"
     ]
    }
   ],
   "source": [
    "subbasindict = dict.fromkeys(subbasinlist)\n",
    "updated_sb_percent_impervious_areas = subbasindict\n",
    "for key in updated_sb_percent_impervious_areas:\n",
    "    updated_sb_percent_impervious_areas[key] = (updated_sb_impervious_areas[key] / subbasin_areas[key])*100\n",
    "print(updated_sb_percent_impervious_areas)"
   ]
  },
  {
   "cell_type": "code",
   "execution_count": 54,
   "metadata": {},
   "outputs": [],
   "source": [
    "#initialize a baseline model object in swmmio\n",
    "baseline = sio.Model(r'C:\\Users\\R. Seth Herbst\\Desktop\\SWMM Programs and Files\\MeadowCreekSWMM')\n",
    "\n",
    "#isolate subcatchments dataframe\n",
    "subcatchments = baseline.inp.subcatchments\n",
    "\n",
    "#Set subcatchment parameters\n",
    "\n",
    "#Percent Impervious Adjustments\n",
    "\n",
    "subcatchments.loc['73081','PercImperv'] = updated_sb_impervious_areas['73081']\n",
    "subcatchments.loc['72671','PercImperv'] = updated_sb_impervious_areas['72671']\n",
    "subcatchments.loc['72591','PercImperv'] = updated_sb_impervious_areas['72591']\n",
    "subcatchments.loc['72631','PercImperv'] = updated_sb_impervious_areas['72631']\n",
    "subcatchments.loc['72781','PercImperv'] = updated_sb_impervious_areas['72781']\n",
    "subcatchments.loc['72731','PercImperv'] = updated_sb_impervious_areas['72731']\n",
    "subcatchments.loc['72951','PercImperv'] = updated_sb_impervious_areas['72951']\n",
    "subcatchments.loc['73211','PercImperv'] = updated_sb_impervious_areas['73211']\n",
    "subcatchments.loc['73181','PercImperv'] = updated_sb_impervious_areas['73181']\n",
    "subcatchments.loc['73171','PercImperv'] = updated_sb_impervious_areas['73171']\n",
    "subcatchments.loc['73121','PercImperv'] = updated_sb_impervious_areas['73121']\n",
    "subcatchments.loc['73201','PercImperv'] = updated_sb_impervious_areas['73201']\n",
    "subcatchments.loc['73301','PercImperv'] = updated_sb_impervious_areas['73301']\n",
    "subcatchments.loc['73321','PercImperv'] = updated_sb_impervious_areas['73321']\n",
    "subcatchments.loc['73391','PercImperv'] = updated_sb_impervious_areas['73391']\n",
    "subcatchments.loc['73461','PercImperv'] = updated_sb_impervious_areas['73461']\n",
    "subcatchments.loc['73551','PercImperv'] = updated_sb_impervious_areas['73551']\n",
    "subcatchments.loc['73421','PercImperv'] = updated_sb_impervious_areas['73421']\n",
    "subcatchments.loc['73531','PercImperv'] = updated_sb_impervious_areas['73531']\n",
    "subcatchments.loc['73571','PercImperv'] = updated_sb_impervious_areas['73571']\n",
    "\n",
    "#Width Adjustment((SUBBASIN AREA/Flow Length) - LID Width)\n",
    "\n",
    "subcatchments.loc['73081','Width'] = ((subcatchments.loc['73081','Area'] * 43560)/subbasin_flowlengths['73081']) - (lid_total_areas['73081']/subbasin_flowlengths['73081'])\n",
    "subcatchments.loc['72671','Width'] = ((subcatchments.loc['72671','Area'] * 43560)/subbasin_flowlengths['72671']) - (lid_total_areas['73461']/subbasin_flowlengths['72671'])\n",
    "subcatchments.loc['72591','Width'] = ((subcatchments.loc['72591','Area'] * 43560)/subbasin_flowlengths['72591']) - (lid_total_areas['72591']/subbasin_flowlengths['72591'])\n",
    "subcatchments.loc['72631','Width'] = ((subcatchments.loc['72631','Area'] * 43560)/subbasin_flowlengths['72631']) - (lid_total_areas['72631']/subbasin_flowlengths['72631'])\n",
    "subcatchments.loc['72781','Width'] = ((subcatchments.loc['72781','Area'] * 43560)/subbasin_flowlengths['72781']) - (lid_total_areas['72781']/subbasin_flowlengths['72781'])\n",
    "subcatchments.loc['72731','Width'] = ((subcatchments.loc['72731','Area'] * 43560)/subbasin_flowlengths['72731']) - (lid_total_areas['72731']/subbasin_flowlengths['72731'])\n",
    "subcatchments.loc['72951','Width'] = ((subcatchments.loc['72951','Area'] * 43560)/subbasin_flowlengths['72951']) - (lid_total_areas['72951']/subbasin_flowlengths['72951'])\n",
    "subcatchments.loc['73211','Width'] = ((subcatchments.loc['73211','Area'] * 43560)/subbasin_flowlengths['73211']) - (lid_total_areas['73211']/subbasin_flowlengths['73211'])\n",
    "subcatchments.loc['73181','Width'] = ((subcatchments.loc['73181','Area'] * 43560)/subbasin_flowlengths['73181']) - (lid_total_areas['73181']/subbasin_flowlengths['73181'])\n",
    "subcatchments.loc['73171','Width'] = ((subcatchments.loc['73171','Area'] * 43560)/subbasin_flowlengths['73171']) - (lid_total_areas['73171']/subbasin_flowlengths['73171'])\n",
    "subcatchments.loc['73121','Width'] = ((subcatchments.loc['73121','Area'] * 43560)/subbasin_flowlengths['73121']) - (lid_total_areas['73121']/subbasin_flowlengths['73121'])\n",
    "subcatchments.loc['73201','Width'] = ((subcatchments.loc['73201','Area'] * 43560)/subbasin_flowlengths['73201']) - (lid_total_areas['73201']/subbasin_flowlengths['73201'])\n",
    "subcatchments.loc['73301','Width'] = ((subcatchments.loc['73301','Area'] * 43560)/subbasin_flowlengths['73301']) - (lid_total_areas['73301']/subbasin_flowlengths['73301'])\n",
    "subcatchments.loc['73321','Width'] = ((subcatchments.loc['73321','Area'] * 43560)/subbasin_flowlengths['73321']) - (lid_total_areas['73321']/subbasin_flowlengths['73321'])\n",
    "subcatchments.loc['73391','Width'] = ((subcatchments.loc['73391','Area'] * 43560)/subbasin_flowlengths['73391']) - (lid_total_areas['73391']/subbasin_flowlengths['73391'])\n",
    "subcatchments.loc['73461','Width'] = ((subcatchments.loc['73461','Area'] * 43560)/subbasin_flowlengths['73461']) - (lid_total_areas['73461']/subbasin_flowlengths['73461'])\n",
    "subcatchments.loc['73551','Width'] = ((subcatchments.loc['73551','Area'] * 43560)/subbasin_flowlengths['73551']) - (lid_total_areas['73551']/subbasin_flowlengths['73551'])\n",
    "subcatchments.loc['73421','Width'] = ((subcatchments.loc['73421','Area'] * 43560)/subbasin_flowlengths['73421']) - (lid_total_areas['73421']/subbasin_flowlengths['73421'])\n",
    "subcatchments.loc['73531','Width'] = ((subcatchments.loc['73531','Area'] * 43560)/subbasin_flowlengths['73531']) - (lid_total_areas['73531']/subbasin_flowlengths['73531'])\n",
    "subcatchments.loc['73571','Width'] = ((subcatchments.loc['73571','Area'] * 43560)/subbasin_flowlengths['73571']) - (lid_total_areas['73571']/subbasin_flowlengths['73571'])\n",
    "\n",
    "#save subcatchment dataframe changes to whole inp dataframe\n",
    "baseline.inp.subcatchments = subcatchments\n",
    "\n",
    "#create the new inp file to use. \n",
    "newfilepath = os.path.join(r\"C:\\Users\\R. Seth Herbst\\Desktop\\SWMM Programs and Files\\SWMMIO_Altered_INPUTS\", baseline.inp.name + \"_\" + 'Adjusted_SB_Parameters' + '.inp')\n",
    "    \n",
    "#Write the subcatchment section of the new model with the adjusted data\n",
    "\n",
    "baseline.inp.save(newfilepath)"
   ]
  },
  {
   "cell_type": "markdown",
   "metadata": {},
   "source": [
    "# "
   ]
  },
  {
   "cell_type": "markdown",
   "metadata": {},
   "source": [
    "# PYSWMM simulation with LID adjustments"
   ]
  },
  {
   "cell_type": "markdown",
   "metadata": {},
   "source": [
    "# "
   ]
  },
  {
   "cell_type": "code",
   "execution_count": 55,
   "metadata": {},
   "outputs": [],
   "source": [
    "with Simulation(r\"C:\\Users\\R. Seth Herbst\\Desktop\\SWMM Programs and Files\\SWMMIO_Altered_INPUTS\\Meadow_Creek_Hydrology_Model_UpdatedMar2021_Adjusted_SB_Parameters.inp\", reportfile = r'C:\\Users\\R. Seth Herbst\\Desktop\\SWMM Programs and Files\\SWMMIO_Altered_INPUTS\\Meadow_Creek_Hydrology_Model_UpdatedMar2021_Adjusted_SB_Parameters.txt') as sim:\n",
    "    \n",
    "    \n",
    "    control_time_step = 86400*3\n",
    "    sim.step_advance(control_time_step)\n",
    "    \n",
    "    \n",
    "    #Load in subcatchment lid list\n",
    "    \n",
    "    lid_sub_73081 = LidGroups(sim)['73081']\n",
    "    lid_sub_72671 = LidGroups(sim)['72671']\n",
    "    lid_sub_72591 = LidGroups(sim)['72591']\n",
    "    lid_sub_72631 = LidGroups(sim)['72631']\n",
    "    lid_sub_72781 = LidGroups(sim)['72781']\n",
    "    lid_sub_72731 = LidGroups(sim)['72731']\n",
    "    lid_sub_72951 = LidGroups(sim)['72951']\n",
    "    lid_sub_73211 = LidGroups(sim)['73211']\n",
    "    lid_sub_73181 = LidGroups(sim)['73181']\n",
    "    lid_sub_73171 = LidGroups(sim)['73171']\n",
    "    lid_sub_73121 = LidGroups(sim)['73121']\n",
    "    lid_sub_73201 = LidGroups(sim)['73201']\n",
    "    lid_sub_73301 = LidGroups(sim)['73301']\n",
    "    lid_sub_73321 = LidGroups(sim)['73321']\n",
    "    lid_sub_73391 = LidGroups(sim)['73391']\n",
    "    lid_sub_73461 = LidGroups(sim)['73461']\n",
    "    lid_sub_73551 = LidGroups(sim)['73551']\n",
    "    lid_sub_73421 = LidGroups(sim)['73421']\n",
    "    lid_sub_73531 = LidGroups(sim)['73531']\n",
    "    lid_sub_73571 = LidGroups(sim)['73571']\n",
    "    \n",
    "    \n",
    "#     #Set LID Areas!\n",
    "    \n",
    "    lid_sub_73081[0].unit_area = greenroof_assigned_areas['73081']\n",
    "    lid_sub_73081[1].unit_area = permeablepavement_assigned_areas['73081']\n",
    "    lid_sub_73081[2].unit_area = raingarden_assigned_areas['73081']\n",
    "    lid_sub_73081[3].unit_area = bioretention_assigned_areas['73081']\n",
    "    lid_sub_73081[4].unit_area = grassswale_assigned_areas['73081']\n",
    "    \n",
    "    lid_sub_72671[0].unit_area = greenroof_assigned_areas['72671']\n",
    "    lid_sub_72671[1].unit_area = permeablepavement_assigned_areas['72671']\n",
    "    lid_sub_72671[2].unit_area = raingarden_assigned_areas['72671']\n",
    "    lid_sub_72671[3].unit_area = bioretention_assigned_areas['72671']\n",
    "    lid_sub_72671[4].unit_area = grassswale_assigned_areas['72671']\n",
    "    \n",
    "    lid_sub_72591[0].unit_area = greenroof_assigned_areas['72591']\n",
    "    lid_sub_72591[1].unit_area = permeablepavement_assigned_areas['72591']\n",
    "    lid_sub_72591[2].unit_area = raingarden_assigned_areas['72591']\n",
    "    lid_sub_72591[3].unit_area = bioretention_assigned_areas['72591']\n",
    "    lid_sub_72591[4].unit_area = grassswale_assigned_areas['72591']\n",
    "    \n",
    "    lid_sub_72631[0].unit_area = greenroof_assigned_areas['72631']\n",
    "    lid_sub_72631[1].unit_area = permeablepavement_assigned_areas['72631']\n",
    "    lid_sub_72631[2].unit_area = raingarden_assigned_areas['72631']\n",
    "    lid_sub_72631[3].unit_area = bioretention_assigned_areas['72631']\n",
    "    lid_sub_72631[4].unit_area = grassswale_assigned_areas['72631']\n",
    "    \n",
    "    lid_sub_72781[0].unit_area = greenroof_assigned_areas['72781']\n",
    "    lid_sub_72781[1].unit_area = permeablepavement_assigned_areas['72781']\n",
    "    lid_sub_72781[2].unit_area = raingarden_assigned_areas['72781']\n",
    "    lid_sub_72781[3].unit_area = bioretention_assigned_areas['72781']\n",
    "    lid_sub_72781[4].unit_area = grassswale_assigned_areas['72781']\n",
    "    \n",
    "    lid_sub_72731[0].unit_area = greenroof_assigned_areas['72731']\n",
    "    lid_sub_72731[1].unit_area = permeablepavement_assigned_areas['72731']\n",
    "    lid_sub_72731[2].unit_area = raingarden_assigned_areas['72731']\n",
    "    lid_sub_72731[3].unit_area = bioretention_assigned_areas['72731']\n",
    "    lid_sub_72731[4].unit_area = grassswale_assigned_areas['72731']\n",
    "    \n",
    "    lid_sub_72951[0].unit_area = greenroof_assigned_areas['72951']\n",
    "    lid_sub_72951[1].unit_area = permeablepavement_assigned_areas['72951']\n",
    "    lid_sub_72951[2].unit_area = raingarden_assigned_areas['72951']\n",
    "    lid_sub_72951[3].unit_area = bioretention_assigned_areas['72951']\n",
    "    lid_sub_72951[4].unit_area = grassswale_assigned_areas['72951']\n",
    "    \n",
    "    lid_sub_73211[0].unit_area = greenroof_assigned_areas['73211']\n",
    "    lid_sub_73211[1].unit_area = permeablepavement_assigned_areas['73211']\n",
    "    lid_sub_73211[2].unit_area = raingarden_assigned_areas['73211']\n",
    "    lid_sub_73211[3].unit_area = bioretention_assigned_areas['73211']\n",
    "    lid_sub_73211[4].unit_area = grassswale_assigned_areas['73211']\n",
    "    \n",
    "    lid_sub_73181[0].unit_area = greenroof_assigned_areas['73181']\n",
    "    lid_sub_73181[1].unit_area = permeablepavement_assigned_areas['73181']\n",
    "    lid_sub_73181[2].unit_area = raingarden_assigned_areas['73181']\n",
    "    lid_sub_73181[3].unit_area = bioretention_assigned_areas['73181']\n",
    "    lid_sub_73181[4].unit_area = grassswale_assigned_areas['73181']\n",
    "    \n",
    "    lid_sub_73171[0].unit_area = greenroof_assigned_areas['73171']\n",
    "    lid_sub_73171[1].unit_area = permeablepavement_assigned_areas['73171']\n",
    "    lid_sub_73171[2].unit_area = raingarden_assigned_areas['73171']\n",
    "    lid_sub_73171[3].unit_area = bioretention_assigned_areas['73171']\n",
    "    lid_sub_73171[4].unit_area = grassswale_assigned_areas['73171']\n",
    "    \n",
    "    lid_sub_73121[0].unit_area = greenroof_assigned_areas['73121']\n",
    "    lid_sub_73121[1].unit_area = permeablepavement_assigned_areas['73121']\n",
    "    lid_sub_73121[2].unit_area = raingarden_assigned_areas['73121']\n",
    "    lid_sub_73121[3].unit_area = bioretention_assigned_areas['73121']\n",
    "    lid_sub_73121[4].unit_area = grassswale_assigned_areas['73121']\n",
    "    \n",
    "    lid_sub_73201[0].unit_area = greenroof_assigned_areas['73201']\n",
    "    lid_sub_73201[1].unit_area = permeablepavement_assigned_areas['73201']\n",
    "    lid_sub_73201[2].unit_area = raingarden_assigned_areas['73201']\n",
    "    lid_sub_73201[3].unit_area = bioretention_assigned_areas['73201']\n",
    "    lid_sub_73201[4].unit_area = grassswale_assigned_areas['73201']\n",
    "    \n",
    "    lid_sub_73301[0].unit_area = greenroof_assigned_areas['73301']\n",
    "    lid_sub_73301[1].unit_area = permeablepavement_assigned_areas['73301']\n",
    "    lid_sub_73301[2].unit_area = raingarden_assigned_areas['73301']\n",
    "    lid_sub_73301[3].unit_area = bioretention_assigned_areas['73301']\n",
    "    lid_sub_73301[4].unit_area = grassswale_assigned_areas['73301']\n",
    "    \n",
    "    lid_sub_73321[0].unit_area = greenroof_assigned_areas['73321']\n",
    "    lid_sub_73321[1].unit_area = permeablepavement_assigned_areas['73321']\n",
    "    lid_sub_73321[2].unit_area = raingarden_assigned_areas['73321']\n",
    "    lid_sub_73321[3].unit_area = bioretention_assigned_areas['73321']\n",
    "    lid_sub_73321[4].unit_area = grassswale_assigned_areas['73321']\n",
    "    \n",
    "    lid_sub_73391[0].unit_area = greenroof_assigned_areas['73391']\n",
    "    lid_sub_73391[1].unit_area = permeablepavement_assigned_areas['73391']\n",
    "    lid_sub_73391[2].unit_area = raingarden_assigned_areas['73391']\n",
    "    lid_sub_73391[3].unit_area = bioretention_assigned_areas['73391']\n",
    "    lid_sub_73391[4].unit_area = grassswale_assigned_areas['73391']\n",
    "    \n",
    "    lid_sub_73461[0].unit_area = greenroof_assigned_areas['73461']\n",
    "    lid_sub_73461[1].unit_area = permeablepavement_assigned_areas['73461']\n",
    "    lid_sub_73461[2].unit_area = raingarden_assigned_areas['73461']\n",
    "    lid_sub_73461[3].unit_area = bioretention_assigned_areas['73461']\n",
    "    lid_sub_73461[4].unit_area = grassswale_assigned_areas['73461']\n",
    "    \n",
    "    lid_sub_73551[0].unit_area = greenroof_assigned_areas['73551']\n",
    "    lid_sub_73551[1].unit_area = permeablepavement_assigned_areas['73551']\n",
    "    lid_sub_73551[2].unit_area = raingarden_assigned_areas['73551']\n",
    "    lid_sub_73551[3].unit_area = bioretention_assigned_areas['73551']\n",
    "    lid_sub_73551[4].unit_area = grassswale_assigned_areas['73551']\n",
    "    \n",
    "    lid_sub_73421[0].unit_area = greenroof_assigned_areas['73421']\n",
    "    lid_sub_73421[1].unit_area = permeablepavement_assigned_areas['73421']\n",
    "    lid_sub_73421[2].unit_area = raingarden_assigned_areas['73421']\n",
    "    lid_sub_73421[3].unit_area = bioretention_assigned_areas['73421']\n",
    "    lid_sub_73421[4].unit_area = grassswale_assigned_areas['73421']\n",
    "    \n",
    "    lid_sub_73531[0].unit_area = greenroof_assigned_areas['73531']\n",
    "    lid_sub_73531[1].unit_area = permeablepavement_assigned_areas['73531']\n",
    "    lid_sub_73531[2].unit_area = raingarden_assigned_areas['73531']\n",
    "    lid_sub_73531[3].unit_area = bioretention_assigned_areas['73531']\n",
    "    lid_sub_73531[4].unit_area = grassswale_assigned_areas['73531']\n",
    "    \n",
    "    lid_sub_73571[0].unit_area = greenroof_assigned_areas['73571']\n",
    "    lid_sub_73571[1].unit_area = permeablepavement_assigned_areas['73571']\n",
    "    lid_sub_73571[2].unit_area = raingarden_assigned_areas['73571']\n",
    "    lid_sub_73571[3].unit_area = bioretention_assigned_areas['73571']\n",
    "    lid_sub_73571[4].unit_area = grassswale_assigned_areas['73571']\n",
    "    \n",
    "    \n",
    "    \n",
    "#Set Percent Impervious Areas Treated\n",
    "    \n",
    "    lid_sub_73081[1].from_impervious = permeablepavement_percimpervtreated['73081']\n",
    "    lid_sub_73081[2].from_impervious= raingarden_percimpervareatreated['73081']\n",
    "    lid_sub_73081[3].from_impervious= bioretention_percimpervareatreated['73081']\n",
    "    lid_sub_73081[4].from_impervious= grassswale_percimpervareatreated['73081']\n",
    "    \n",
    "    lid_sub_72671[1].from_impervious = permeablepavement_percimpervtreated['72671']\n",
    "    lid_sub_72671[2].from_impervious= raingarden_percimpervareatreated['72671']\n",
    "    lid_sub_72671[3].from_impervious= bioretention_percimpervareatreated['72671']\n",
    "    lid_sub_72671[4].from_impervious= grassswale_percimpervareatreated['72671']\n",
    "    \n",
    "    lid_sub_72591[1].from_impervious = permeablepavement_percimpervtreated['72591']\n",
    "    lid_sub_72591[2].from_impervious= raingarden_percimpervareatreated['72591']\n",
    "    lid_sub_72591[3].from_impervious= bioretention_percimpervareatreated['72591']\n",
    "    lid_sub_72591[4].from_impervious= grassswale_percimpervareatreated['72591']\n",
    "    \n",
    "    lid_sub_72631[1].from_impervious = permeablepavement_percimpervtreated['72631']\n",
    "    lid_sub_72631[2].from_impervious= raingarden_percimpervareatreated['72631']\n",
    "    lid_sub_72631[3].from_impervious= bioretention_percimpervareatreated['72631']\n",
    "    lid_sub_72631[4].from_impervious= grassswale_percimpervareatreated['72631']\n",
    "    \n",
    "    lid_sub_72781[1].from_impervious = permeablepavement_percimpervtreated['72781']\n",
    "    lid_sub_72781[2].from_impervious= raingarden_percimpervareatreated['72781']\n",
    "    lid_sub_72781[3].from_impervious= bioretention_percimpervareatreated['72781']\n",
    "    lid_sub_72781[4].from_impervious= grassswale_percimpervareatreated['72781']\n",
    "    \n",
    "    lid_sub_72731[1].from_impervious = permeablepavement_percimpervtreated['72731']\n",
    "    lid_sub_72731[2].from_impervious= raingarden_percimpervareatreated['72731']\n",
    "    lid_sub_72731[3].from_impervious= bioretention_percimpervareatreated['72731']\n",
    "    lid_sub_72731[4].from_impervious= grassswale_percimpervareatreated['72731']\n",
    "    \n",
    "    lid_sub_72951[1].from_impervious = permeablepavement_percimpervtreated['72951']\n",
    "    lid_sub_72951[2].from_impervious= raingarden_percimpervareatreated['72951']\n",
    "    lid_sub_72951[3].from_impervious= bioretention_percimpervareatreated['72951']\n",
    "    lid_sub_72951[4].from_impervious= grassswale_percimpervareatreated['72951']\n",
    "    \n",
    "    \n",
    "    lid_sub_73211[1].from_impervious = permeablepavement_percimpervtreated['73211']\n",
    "    lid_sub_73211[2].from_impervious= raingarden_percimpervareatreated['73211']\n",
    "    lid_sub_73211[3].from_impervious= bioretention_percimpervareatreated['73211']\n",
    "    lid_sub_73211[4].from_impervious= grassswale_percimpervareatreated['73211']\n",
    "    \n",
    "    lid_sub_73181[1].from_impervious = permeablepavement_percimpervtreated['73181']\n",
    "    lid_sub_73181[2].from_impervious= raingarden_percimpervareatreated['73181']\n",
    "    lid_sub_73181[3].from_impervious= bioretention_percimpervareatreated['73181']\n",
    "    lid_sub_73181[4].from_impervious= grassswale_percimpervareatreated['73181']\n",
    "    \n",
    "    lid_sub_73171[1].from_impervious = permeablepavement_percimpervtreated['73171']\n",
    "    lid_sub_73171[2].from_impervious= raingarden_percimpervareatreated['73171']\n",
    "    lid_sub_73171[3].from_impervious= bioretention_percimpervareatreated['73171']\n",
    "    lid_sub_73171[4].from_impervious= grassswale_percimpervareatreated['73171']\n",
    "    \n",
    "    lid_sub_73121[1].from_impervious = permeablepavement_percimpervtreated['73121']\n",
    "    lid_sub_73121[2].from_impervious= raingarden_percimpervareatreated['73121']\n",
    "    lid_sub_73121[3].from_impervious= bioretention_percimpervareatreated['73121']\n",
    "    lid_sub_73121[4].from_impervious= grassswale_percimpervareatreated['73121']\n",
    "    \n",
    "    lid_sub_73201[1].from_impervious = permeablepavement_percimpervtreated['73201']\n",
    "    lid_sub_73201[2].from_impervious= raingarden_percimpervareatreated['73201']\n",
    "    lid_sub_73201[3].from_impervious= bioretention_percimpervareatreated['73201']\n",
    "    lid_sub_73201[4].from_impervious= grassswale_percimpervareatreated['73201']\n",
    "    \n",
    "    lid_sub_73301[1].from_impervious = permeablepavement_percimpervtreated['73301']\n",
    "    lid_sub_73301[2].from_impervious= raingarden_percimpervareatreated['73301']\n",
    "    lid_sub_73301[3].from_impervious= bioretention_percimpervareatreated['73301']\n",
    "    lid_sub_73301[4].from_impervious= grassswale_percimpervareatreated['73301']\n",
    "    \n",
    "    lid_sub_73321[1].from_impervious = permeablepavement_percimpervtreated['73321']\n",
    "    lid_sub_73321[2].from_impervious= raingarden_percimpervareatreated['73321']\n",
    "    lid_sub_73321[3].from_impervious= bioretention_percimpervareatreated['73321']\n",
    "    lid_sub_73321[4].from_impervious= grassswale_percimpervareatreated['73321']\n",
    "    \n",
    "    lid_sub_73391[1].from_impervious = permeablepavement_percimpervtreated['73391']\n",
    "    lid_sub_73391[2].from_impervious= raingarden_percimpervareatreated['73391']\n",
    "    lid_sub_73391[3].from_impervious= bioretention_percimpervareatreated['73391']\n",
    "    lid_sub_73391[4].from_impervious= grassswale_percimpervareatreated['73391']\n",
    "    \n",
    "    lid_sub_73461[1].from_impervious = permeablepavement_percimpervtreated['73461']\n",
    "    lid_sub_73461[2].from_impervious= raingarden_percimpervareatreated['73461']\n",
    "    lid_sub_73461[3].from_impervious= bioretention_percimpervareatreated['73461']\n",
    "    lid_sub_73461[4].from_impervious= grassswale_percimpervareatreated['73461']\n",
    "    \n",
    "    lid_sub_73551[1].from_impervious = permeablepavement_percimpervtreated['73551']\n",
    "    lid_sub_73551[2].from_impervious= raingarden_percimpervareatreated['73551']\n",
    "    lid_sub_73551[3].from_impervious= bioretention_percimpervareatreated['73551']\n",
    "    lid_sub_73551[4].from_impervious= grassswale_percimpervareatreated['73551']\n",
    "    \n",
    "    lid_sub_73421[1].from_impervious = permeablepavement_percimpervtreated['73421']\n",
    "    lid_sub_73421[2].from_impervious= raingarden_percimpervareatreated['73421']\n",
    "    lid_sub_73421[3].from_impervious= bioretention_percimpervareatreated['73421']\n",
    "    lid_sub_73421[4].from_impervious= grassswale_percimpervareatreated['73421']\n",
    "    \n",
    "    lid_sub_73531[1].from_impervious = permeablepavement_percimpervtreated['73531']\n",
    "    lid_sub_73531[2].from_impervious= raingarden_percimpervareatreated['73531']\n",
    "    lid_sub_73531[3].from_impervious= bioretention_percimpervareatreated['73531']\n",
    "    lid_sub_73531[4].from_impervious= grassswale_percimpervareatreated['73531']\n",
    "    \n",
    "    lid_sub_73571[1].from_impervious = permeablepavement_percimpervtreated['73571']\n",
    "    lid_sub_73571[2].from_impervious= raingarden_percimpervareatreated['73571']\n",
    "    lid_sub_73571[3].from_impervious= bioretention_percimpervareatreated['73571']\n",
    "    lid_sub_73571[4].from_impervious= grassswale_percimpervareatreated['73571']\n",
    "\n",
    "# Set % Pervious Areas Treated\n",
    "    \n",
    "    lid_sub_73081[2].from_pervious= raingarden_percpervareatreated['73081']\n",
    "    lid_sub_73081[3].from_pervious= bioretention_percpervareatreated['73081']\n",
    "    lid_sub_73081[4].from_pervious= grassswale_percpervareatreated['73081']\n",
    "    \n",
    "    lid_sub_72671[2].from_pervious= raingarden_percpervareatreated['72671']\n",
    "    lid_sub_72671[3].from_pervious= bioretention_percpervareatreated['72671']\n",
    "    lid_sub_72671[4].from_pervious= grassswale_percpervareatreated['72671']\n",
    "    \n",
    "    lid_sub_72591[2].from_pervious= raingarden_percpervareatreated['72591']\n",
    "    lid_sub_72591[3].from_pervious= bioretention_percpervareatreated['72591']\n",
    "    lid_sub_72591[4].from_pervious= grassswale_percpervareatreated['72591']\n",
    "    \n",
    "    lid_sub_72631[2].from_pervious= raingarden_percpervareatreated['72631']\n",
    "    lid_sub_72631[3].from_pervious= bioretention_percpervareatreated['72631']\n",
    "    lid_sub_72631[4].from_pervious= grassswale_percpervareatreated['72631']\n",
    "    \n",
    "    lid_sub_72781[2].from_pervious= raingarden_percpervareatreated['72781']\n",
    "    lid_sub_72781[3].from_pervious= bioretention_percpervareatreated['72781']\n",
    "    lid_sub_72781[4].from_pervious= grassswale_percpervareatreated['72781']\n",
    "    \n",
    "    lid_sub_72731[2].from_pervious= raingarden_percpervareatreated['72731']\n",
    "    lid_sub_72731[3].from_pervious= bioretention_percpervareatreated['72731']\n",
    "    lid_sub_72731[4].from_pervious= grassswale_percpervareatreated['72731']\n",
    "    \n",
    "    lid_sub_72951[2].from_pervious= raingarden_percpervareatreated['72951']\n",
    "    lid_sub_72951[3].from_pervious= bioretention_percpervareatreated['72951']\n",
    "    lid_sub_72951[4].from_pervious= grassswale_percpervareatreated['72951']\n",
    "    \n",
    "    lid_sub_73211[2].from_pervious= raingarden_percpervareatreated['73211']\n",
    "    lid_sub_73211[3].from_pervious= bioretention_percpervareatreated['73211']\n",
    "    lid_sub_73211[4].from_pervious= grassswale_percpervareatreated['73211']\n",
    "    \n",
    "    lid_sub_73181[2].from_pervious= raingarden_percpervareatreated['73181']\n",
    "    lid_sub_73181[3].from_pervious= bioretention_percpervareatreated['73181']\n",
    "    lid_sub_73181[4].from_pervious= grassswale_percpervareatreated['73181']\n",
    "    \n",
    "    lid_sub_73171[2].from_pervious= raingarden_percpervareatreated['73171']\n",
    "    lid_sub_73171[3].from_pervious= bioretention_percpervareatreated['73171']\n",
    "    lid_sub_73171[4].from_pervious= grassswale_percpervareatreated['73171']\n",
    "    \n",
    "    lid_sub_73121[2].from_pervious= raingarden_percpervareatreated['73121']\n",
    "    lid_sub_73121[3].from_pervious= bioretention_percpervareatreated['73121']\n",
    "    lid_sub_73121[4].from_pervious= grassswale_percpervareatreated['73121']\n",
    "    \n",
    "    lid_sub_73201[2].from_pervious= raingarden_percpervareatreated['73201']\n",
    "    lid_sub_73201[3].from_pervious= bioretention_percpervareatreated['73201']\n",
    "    lid_sub_73201[4].from_pervious= grassswale_percpervareatreated['73201']\n",
    "    \n",
    "    lid_sub_73301[2].from_pervious= raingarden_percpervareatreated['73301']\n",
    "    lid_sub_73301[3].from_pervious= bioretention_percpervareatreated['73301']\n",
    "    lid_sub_73301[4].from_pervious= grassswale_percpervareatreated['73301']\n",
    "    \n",
    "    lid_sub_73321[2].from_pervious= raingarden_percpervareatreated['73321']\n",
    "    lid_sub_73321[3].from_pervious= bioretention_percpervareatreated['73321']\n",
    "    lid_sub_73321[4].from_pervious= grassswale_percpervareatreated['73321']\n",
    "    \n",
    "    lid_sub_73391[2].from_pervious= raingarden_percpervareatreated['73391']\n",
    "    lid_sub_73391[3].from_pervious= bioretention_percpervareatreated['73391']\n",
    "    lid_sub_73391[4].from_pervious= grassswale_percpervareatreated['73391']\n",
    "    \n",
    "    lid_sub_73461[2].from_pervious= raingarden_percpervareatreated['73461']\n",
    "    lid_sub_73461[3].from_pervious= bioretention_percpervareatreated['73461']\n",
    "    lid_sub_73461[4].from_pervious= grassswale_percpervareatreated['73461']\n",
    "    \n",
    "    lid_sub_73551[2].from_pervious= raingarden_percpervareatreated['73551']\n",
    "    lid_sub_73551[3].from_pervious= bioretention_percpervareatreated['73551']\n",
    "    lid_sub_73551[4].from_pervious= grassswale_percpervareatreated['73551']\n",
    "    \n",
    "    lid_sub_73421[2].from_pervious= raingarden_percpervareatreated['73421']\n",
    "    lid_sub_73421[3].from_pervious= bioretention_percpervareatreated['73421']\n",
    "    lid_sub_73421[4].from_pervious= grassswale_percpervareatreated['73421']\n",
    "    \n",
    "    lid_sub_73531[2].from_pervious= raingarden_percpervareatreated['73531']\n",
    "    lid_sub_73531[3].from_pervious= bioretention_percpervareatreated['73531']\n",
    "    lid_sub_73531[4].from_pervious= grassswale_percpervareatreated['73531']\n",
    "    \n",
    "    lid_sub_73571[2].from_pervious= raingarden_percpervareatreated['73571']\n",
    "    lid_sub_73571[3].from_pervious= bioretention_percpervareatreated['73571']\n",
    "    lid_sub_73571[4].from_pervious= grassswale_percpervareatreated['73571']\n",
    "\n",
    "\n",
    "    \n",
    "# Run the simulation\n",
    "    for step in sim:\n",
    "        pass\n",
    "    sim.report()\n",
    "    sim.close()\n",
    "                       \n",
    "                       \n"
   ]
  },
  {
   "cell_type": "markdown",
   "metadata": {},
   "source": [
    "## "
   ]
  },
  {
   "cell_type": "markdown",
   "metadata": {},
   "source": [
    "# Results Analysis!!"
   ]
  },
  {
   "cell_type": "markdown",
   "metadata": {},
   "source": [
    "## "
   ]
  },
  {
   "cell_type": "markdown",
   "metadata": {},
   "source": [
    "## Subcatchment 73081"
   ]
  },
  {
   "cell_type": "code",
   "execution_count": 56,
   "metadata": {},
   "outputs": [],
   "source": [
    "# This is for your Subcatchment 73081\n",
    "reportColumns = [str(i) for i in np.arange(0,7)]\n",
    "rpt_73081 = pd.read_csv(r'C:\\Users\\R. Seth Herbst\\Desktop\\SWMM Programs and Files\\SWMMIO_Altered_INPUTS\\Meadow_Creek_Hydrology_Model_UpdatedMar2021_Adjusted_SB_Parameters.txt', skiprows = 6339, nrows = 78, sep=\"   |    \", names = reportColumns, header = None, engine = 'python')\n",
    "rpt_73081.dropna(axis = 1, inplace = True); # This might be redundant\n",
    "# Check df.head before renaming the columns\n",
    "rpt_73081.rename(columns = {'0':'Date','2':'Precip (in/hr)','3':'Losses (in/hr)','4':'Runoff (CFS)','5':'Total Nitrogen (mg/L)','6':'Total Phosphorous (mg/L)'},inplace = True)"
   ]
  },
  {
   "cell_type": "code",
   "execution_count": 57,
   "metadata": {
    "scrolled": false
   },
   "outputs": [
    {
     "data": {
      "text/html": [
       "<div>\n",
       "<style scoped>\n",
       "    .dataframe tbody tr th:only-of-type {\n",
       "        vertical-align: middle;\n",
       "    }\n",
       "\n",
       "    .dataframe tbody tr th {\n",
       "        vertical-align: top;\n",
       "    }\n",
       "\n",
       "    .dataframe thead th {\n",
       "        text-align: right;\n",
       "    }\n",
       "</style>\n",
       "<table border=\"1\" class=\"dataframe\">\n",
       "  <thead>\n",
       "    <tr style=\"text-align: right;\">\n",
       "      <th></th>\n",
       "      <th>Date</th>\n",
       "      <th>Precip (in/hr)</th>\n",
       "      <th>Losses (in/hr)</th>\n",
       "      <th>Runoff (CFS)</th>\n",
       "      <th>Total Nitrogen (mg/L)</th>\n",
       "      <th>Total Phosphorous (mg/L)</th>\n",
       "    </tr>\n",
       "  </thead>\n",
       "  <tbody>\n",
       "    <tr>\n",
       "      <th>0</th>\n",
       "      <td>01/01/2000 00:30:00</td>\n",
       "      <td>0.011</td>\n",
       "      <td>0.0</td>\n",
       "      <td>0.0000</td>\n",
       "      <td>0.000</td>\n",
       "      <td>0.000</td>\n",
       "    </tr>\n",
       "    <tr>\n",
       "      <th>1</th>\n",
       "      <td>01/01/2000 01:00:00</td>\n",
       "      <td>0.011</td>\n",
       "      <td>0.0</td>\n",
       "      <td>0.0535</td>\n",
       "      <td>0.856</td>\n",
       "      <td>0.276</td>\n",
       "    </tr>\n",
       "    <tr>\n",
       "      <th>2</th>\n",
       "      <td>01/01/2000 01:30:00</td>\n",
       "      <td>0.011</td>\n",
       "      <td>0.0</td>\n",
       "      <td>0.0722</td>\n",
       "      <td>0.886</td>\n",
       "      <td>0.285</td>\n",
       "    </tr>\n",
       "    <tr>\n",
       "      <th>3</th>\n",
       "      <td>01/01/2000 02:00:00</td>\n",
       "      <td>0.013</td>\n",
       "      <td>0.0</td>\n",
       "      <td>0.0816</td>\n",
       "      <td>0.896</td>\n",
       "      <td>0.289</td>\n",
       "    </tr>\n",
       "    <tr>\n",
       "      <th>4</th>\n",
       "      <td>01/01/2000 02:30:00</td>\n",
       "      <td>0.013</td>\n",
       "      <td>0.0</td>\n",
       "      <td>0.0952</td>\n",
       "      <td>0.896</td>\n",
       "      <td>0.288</td>\n",
       "    </tr>\n",
       "  </tbody>\n",
       "</table>\n",
       "</div>"
      ],
      "text/plain": [
       "                  Date  Precip (in/hr)  Losses (in/hr)  Runoff (CFS)  \\\n",
       "0  01/01/2000 00:30:00           0.011             0.0        0.0000   \n",
       "1  01/01/2000 01:00:00           0.011             0.0        0.0535   \n",
       "2  01/01/2000 01:30:00           0.011             0.0        0.0722   \n",
       "3  01/01/2000 02:00:00           0.013             0.0        0.0816   \n",
       "4  01/01/2000 02:30:00           0.013             0.0        0.0952   \n",
       "\n",
       "   Total Nitrogen (mg/L)  Total Phosphorous (mg/L)  \n",
       "0                  0.000                     0.000  \n",
       "1                  0.856                     0.276  \n",
       "2                  0.886                     0.285  \n",
       "3                  0.896                     0.289  \n",
       "4                  0.896                     0.288  "
      ]
     },
     "execution_count": 57,
     "metadata": {},
     "output_type": "execute_result"
    }
   ],
   "source": [
    "pd.set_option('max_columns', None)\n",
    "rpt_73081.head()"
   ]
  },
  {
   "cell_type": "markdown",
   "metadata": {},
   "source": [
    "### Peak Runoff"
   ]
  },
  {
   "cell_type": "code",
   "execution_count": 58,
   "metadata": {},
   "outputs": [
    {
     "data": {
      "text/plain": [
       "37.8337"
      ]
     },
     "execution_count": 58,
     "metadata": {},
     "output_type": "execute_result"
    }
   ],
   "source": [
    "rpt_73081['Runoff (CFS)'].max()"
   ]
  },
  {
   "cell_type": "markdown",
   "metadata": {},
   "source": [
    "### Nitrogen Load (grams)"
   ]
  },
  {
   "cell_type": "code",
   "execution_count": 59,
   "metadata": {},
   "outputs": [
    {
     "data": {
      "text/plain": [
       "30.45191026650831"
      ]
     },
     "execution_count": 59,
     "metadata": {},
     "output_type": "execute_result"
    }
   ],
   "source": [
    "(rpt_73081['Runoff (CFS)'].mean() * rpt_73081['Total Nitrogen (mg/L)'].mean() * 28.3168 * 1800) /1000"
   ]
  },
  {
   "cell_type": "code",
   "execution_count": 60,
   "metadata": {
    "scrolled": false
   },
   "outputs": [
    {
     "data": {
      "image/png": "[encoded data removed]",
      "text/plain": [
       "<Figure size 432x360 with 2 Axes>"
      ]
     },
     "metadata": {
      "needs_background": "light"
     },
     "output_type": "display_data"
    }
   ],
   "source": [
    "fig,ax1 = plt.subplots(figsize=(6,5))\n",
    "line1 = ax1.plot(rpt_73081['Runoff (CFS)']); plt.ylim((-0.001,50)); plt.xlabel('Time Instances (Hours)'); plt.ylabel('Runoff (CFS)');\n",
    "ax1.legend(['Runoff'],loc='lower left'); ax2 = ax1.twinx(); line2 = ax2.plot(rpt_73081['Precip (in/hr)'],color='orangered');\n",
    "plt.ylim((-0.01,1.4)); plt.ylabel('Precipitation (in/hr)'); plt.gca().invert_yaxis(); ax2.grid(False); ax2.legend(['Precip'],loc='upper right');"
   ]
  },
  {
   "cell_type": "markdown",
   "metadata": {},
   "source": [
    "## Subcatchment 72671"
   ]
  },
  {
   "cell_type": "code",
   "execution_count": 61,
   "metadata": {
    "scrolled": true
   },
   "outputs": [
    {
     "data": {
      "image/png": "[encoded data removed]",
      "text/plain": [
       "<Figure size 432x360 with 2 Axes>"
      ]
     },
     "metadata": {
      "needs_background": "light"
     },
     "output_type": "display_data"
    }
   ],
   "source": [
    "# This is for your Subcatchment 72671\n",
    "reportColumns = [str(i) for i in np.arange(0,7)]\n",
    "rpt_72671 = pd.read_csv(r'C:\\Users\\R. Seth Herbst\\Desktop\\SWMM Programs and Files\\SWMMIO_Altered_INPUTS\\Meadow_Creek_Hydrology_Model_UpdatedMar2021_Adjusted_SB_Parameters.txt', skiprows = 5829, nrows = 78, sep=\"   |    \", names = reportColumns, header = None, engine = 'python')\n",
    "rpt_72671.dropna(axis = 1, inplace = True); # This might be redundant\n",
    "# Check df.head before renaming the columns\n",
    "rpt_72671.rename(columns = {'0':'Date','2':'Precip (in/hr)','3':'Losses (in/hr)','4':'Runoff (CFS)','5':'Total Nitrogen (mg/L)','6':'Total Phosphorous (mg/L)'},inplace = True)\n",
    "\n",
    "fig,ax1 = plt.subplots(figsize=(6,5))\n",
    "line1 = ax1.plot(rpt_72671['Runoff (CFS)']); plt.ylim((-0.001,25)); plt.xlabel('Time Instances (Hours)'); plt.ylabel('Runoff (CFS)');\n",
    "ax1.legend(['Runoff'],loc='lower left'); ax2 = ax1.twinx(); line2 = ax2.plot(rpt_72671['Precip (in/hr)'],color='orangered');\n",
    "plt.ylim((-0.01,1.4)); plt.ylabel('Precipitation (in/hr)'); plt.gca().invert_yaxis(); ax2.grid(False); ax2.legend(['Precip'],loc='upper right');"
   ]
  },
  {
   "cell_type": "markdown",
   "metadata": {},
   "source": [
    "## Subcatchment 72591"
   ]
  },
  {
   "cell_type": "code",
   "execution_count": 62,
   "metadata": {
    "scrolled": true
   },
   "outputs": [
    {
     "data": {
      "image/png": "[encoded data removed]",
      "text/plain": [
       "<Figure size 432x360 with 2 Axes>"
      ]
     },
     "metadata": {
      "needs_background": "light"
     },
     "output_type": "display_data"
    }
   ],
   "source": [
    "# This is for your Subcatchment 72591\n",
    "reportColumns = [str(i) for i in np.arange(0,7)]\n",
    "rpt_72591 = pd.read_csv(r'C:\\Users\\R. Seth Herbst\\Desktop\\SWMM Programs and Files\\SWMMIO_Altered_INPUTS\\Meadow_Creek_Hydrology_Model_UpdatedMar2021_Adjusted_SB_Parameters.txt', skiprows = 5659, nrows = 78, sep=\"   |    \", names = reportColumns, header = None, engine = 'python')\n",
    "rpt_72591.dropna(axis = 1, inplace = True); # This might be redundant\n",
    "# Check df.head before renaming the columns\n",
    "rpt_72591.rename(columns = {'0':'Date','2':'Precip (in/hr)','3':'Losses (in/hr)','4':'Runoff (CFS)','5':'Total Nitrogen (mg/L)','6':'Total Phosphorous (mg/L)'},inplace = True)\n",
    "\n",
    "fig,ax1 = plt.subplots(figsize=(6,5))\n",
    "line1 = ax1.plot(rpt_72591['Runoff (CFS)']); plt.ylim((-0.001,18)); plt.xlabel('Time Instances (Hours)'); plt.ylabel('Runoff (CFS)');\n",
    "ax1.legend(['Runoff'],loc='lower left'); ax2 = ax1.twinx(); line2 = ax2.plot(rpt_72591['Precip (in/hr)'],color='orangered');\n",
    "plt.ylim((-0.01,1.4)); plt.ylabel('Precipitation (in/hr)'); plt.gca().invert_yaxis(); ax2.grid(False); ax2.legend(['Precip'],loc='upper right');"
   ]
  },
  {
   "cell_type": "markdown",
   "metadata": {},
   "source": [
    "## Subcatchment 72631"
   ]
  },
  {
   "cell_type": "code",
   "execution_count": 63,
   "metadata": {
    "scrolled": true
   },
   "outputs": [
    {
     "data": {
      "image/png": "[encoded data removed]",
      "text/plain": [
       "<Figure size 432x360 with 2 Axes>"
      ]
     },
     "metadata": {
      "needs_background": "light"
     },
     "output_type": "display_data"
    }
   ],
   "source": [
    "# This is for your Subcatchment 72631\n",
    "reportColumns = [str(i) for i in np.arange(0,7)]\n",
    "rpt_72631 = pd.read_csv(r'C:\\Users\\R. Seth Herbst\\Desktop\\SWMM Programs and Files\\SWMMIO_Altered_INPUTS\\Meadow_Creek_Hydrology_Model_UpdatedMar2021_Adjusted_SB_Parameters.txt', skiprows = 5744, nrows = 78, sep=\"   |    \", names = reportColumns, header = None, engine = 'python')\n",
    "rpt_72631.dropna(axis = 1, inplace = True); # This might be redundant\n",
    "# Check df.head before renaming the columns\n",
    "rpt_72631.rename(columns = {'0':'Date','2':'Precip (in/hr)','3':'Losses (in/hr)','4':'Runoff (CFS)','5':'Total Nitrogen (mg/L)','6':'Total Phosphorous (mg/L)'},inplace = True)\n",
    "\n",
    "fig,ax1 = plt.subplots(figsize=(6,5))\n",
    "line1 = ax1.plot(rpt_72631['Runoff (CFS)']); plt.ylim((-0.001,30)); plt.xlabel('Time Instances (Hours)'); plt.ylabel('Runoff (CFS)');\n",
    "ax1.legend(['Runoff'],loc='lower left'); ax2 = ax1.twinx(); line2 = ax2.plot(rpt_72631['Precip (in/hr)'],color='orangered');\n",
    "plt.ylim((-0.01,1.4)); plt.ylabel('Precipitation (in/hr)'); plt.gca().invert_yaxis(); ax2.grid(False); ax2.legend(['Precip'],loc='upper right');"
   ]
  },
  {
   "cell_type": "markdown",
   "metadata": {},
   "source": [
    "## Subcatchment 72781"
   ]
  },
  {
   "cell_type": "code",
   "execution_count": 64,
   "metadata": {
    "scrolled": true
   },
   "outputs": [
    {
     "data": {
      "image/png": "[encoded data removed]",
      "text/plain": [
       "<Figure size 432x360 with 2 Axes>"
      ]
     },
     "metadata": {
      "needs_background": "light"
     },
     "output_type": "display_data"
    }
   ],
   "source": [
    "# This is for your Subcatchment 72781\n",
    "reportColumns = [str(i) for i in np.arange(0,7)]\n",
    "rpt_72781 = pd.read_csv(r'C:\\Users\\R. Seth Herbst\\Desktop\\SWMM Programs and Files\\SWMMIO_Altered_INPUTS\\Meadow_Creek_Hydrology_Model_UpdatedMar2021_Adjusted_SB_Parameters.txt', skiprows = 5999, nrows = 78, sep=\"   |    \", names = reportColumns, header = None, engine = 'python')\n",
    "rpt_72781.dropna(axis = 1, inplace = True); # This might be redundant\n",
    "# Check df.head before renaming the columns\n",
    "rpt_72781.rename(columns = {'0':'Date','2':'Precip (in/hr)','3':'Losses (in/hr)','4':'Runoff (CFS)','5':'Total Nitrogen (mg/L)','6':'Total Phosphorous (mg/L)'},inplace = True)\n",
    "\n",
    "fig,ax1 = plt.subplots(figsize=(6,5))\n",
    "line1 = ax1.plot(rpt_72781['Runoff (CFS)']); plt.ylim((-0.001,45)); plt.xlabel('Time Instances (Hours)'); plt.ylabel('Runoff (CFS)');\n",
    "ax1.legend(['Runoff'],loc='lower left'); ax2 = ax1.twinx(); line2 = ax2.plot(rpt_72781['Precip (in/hr)'],color='orangered');\n",
    "plt.ylim((-0.01,1.4)); plt.ylabel('Precipitation (in/hr)'); plt.gca().invert_yaxis(); ax2.grid(False); ax2.legend(['Precip'],loc='upper right');"
   ]
  },
  {
   "cell_type": "markdown",
   "metadata": {},
   "source": [
    "## Subcatchment 72731"
   ]
  },
  {
   "cell_type": "code",
   "execution_count": 65,
   "metadata": {
    "scrolled": true
   },
   "outputs": [
    {
     "data": {
      "image/png": "[encoded data removed]",
      "text/plain": [
       "<Figure size 432x360 with 2 Axes>"
      ]
     },
     "metadata": {
      "needs_background": "light"
     },
     "output_type": "display_data"
    }
   ],
   "source": [
    "# This is for your Subcatchment 72731\n",
    "reportColumns = [str(i) for i in np.arange(0,7)]\n",
    "rpt_72731 = pd.read_csv(r'C:\\Users\\R. Seth Herbst\\Desktop\\SWMM Programs and Files\\SWMMIO_Altered_INPUTS\\Meadow_Creek_Hydrology_Model_UpdatedMar2021_Adjusted_SB_Parameters.txt', skiprows = 5914, nrows = 78, sep=\"   |    \", names = reportColumns, header = None, engine = 'python')\n",
    "rpt_72731.dropna(axis = 1, inplace = True); # This might be redundant\n",
    "# Check df.head before renaming the columns\n",
    "rpt_72731.rename(columns = {'0':'Date','2':'Precip (in/hr)','3':'Losses (in/hr)','4':'Runoff (CFS)','5':'Total Nitrogen (mg/L)','6':'Total Phosphorous (mg/L)'},inplace = True)\n",
    "\n",
    "fig,ax1 = plt.subplots(figsize=(6,5))\n",
    "line1 = ax1.plot(rpt_72731['Runoff (CFS)']); plt.ylim((-0.001,30)); plt.xlabel('Time Instances (Hours)'); plt.ylabel('Runoff (CFS)');\n",
    "ax1.legend(['Runoff'],loc='lower left'); ax2 = ax1.twinx(); line2 = ax2.plot(rpt_72731['Precip (in/hr)'],color='orangered');\n",
    "plt.ylim((-0.01,1.4)); plt.ylabel('Precipitation (in/hr)'); plt.gca().invert_yaxis(); ax2.grid(False); ax2.legend(['Precip'],loc='upper right');"
   ]
  },
  {
   "cell_type": "markdown",
   "metadata": {},
   "source": [
    "## Subcatchment 72951"
   ]
  },
  {
   "cell_type": "code",
   "execution_count": 66,
   "metadata": {
    "scrolled": false
   },
   "outputs": [
    {
     "data": {
      "image/png": "[encoded data removed]",
      "text/plain": [
       "<Figure size 432x360 with 2 Axes>"
      ]
     },
     "metadata": {
      "needs_background": "light"
     },
     "output_type": "display_data"
    }
   ],
   "source": [
    "# This is for your Subcatchment 72951\n",
    "reportColumns = [str(i) for i in np.arange(0,7)]\n",
    "rpt_72951 = pd.read_csv(r'C:\\Users\\R. Seth Herbst\\Desktop\\SWMM Programs and Files\\SWMMIO_Altered_INPUTS\\Meadow_Creek_Hydrology_Model_UpdatedMar2021_Adjusted_SB_Parameters.txt', skiprows = 6169, nrows = 78, sep=\"   |    \", names = reportColumns, header = None, engine = 'python')\n",
    "rpt_72951.dropna(axis = 1, inplace = True); # This might be redundant\n",
    "# Check df.head before renaming the columns\n",
    "rpt_72951.rename(columns = {'0':'Date','2':'Precip (in/hr)','3':'Losses (in/hr)','4':'Runoff (CFS)','5':'Total Nitrogen (mg/L)','6':'Total Phosphorous (mg/L)'},inplace = True)\n",
    "\n",
    "fig,ax1 = plt.subplots(figsize=(6,5))\n",
    "line1 = ax1.plot(rpt_72951['Runoff (CFS)']); plt.ylim((-0.001,50)); plt.xlabel('Time Instances (Hours)'); plt.ylabel('Runoff (CFS)');\n",
    "ax1.legend(['Runoff'],loc='lower left'); ax2 = ax1.twinx(); line2 = ax2.plot(rpt_72951['Precip (in/hr)'],color='orangered');\n",
    "plt.ylim((-0.01,1.4)); plt.ylabel('Precipitation (in/hr)'); plt.gca().invert_yaxis(); ax2.grid(False); ax2.legend(['Precip'],loc='upper right');\n"
   ]
  },
  {
   "cell_type": "markdown",
   "metadata": {},
   "source": [
    "## Subcatchment 73211"
   ]
  },
  {
   "cell_type": "code",
   "execution_count": 67,
   "metadata": {
    "scrolled": true
   },
   "outputs": [
    {
     "data": {
      "image/png": "[encoded data removed]",
      "text/plain": [
       "<Figure size 432x360 with 2 Axes>"
      ]
     },
     "metadata": {
      "needs_background": "light"
     },
     "output_type": "display_data"
    }
   ],
   "source": [
    "# This is for your Subcatchment 73211\n",
    "reportColumns = [str(i) for i in np.arange(0,7)]\n",
    "rpt_73211 = pd.read_csv(r'C:\\Users\\R. Seth Herbst\\Desktop\\SWMM Programs and Files\\SWMMIO_Altered_INPUTS\\Meadow_Creek_Hydrology_Model_UpdatedMar2021_Adjusted_SB_Parameters.txt', skiprows = 6764, nrows = 78, sep=\"   |    \", names = reportColumns, header = None, engine = 'python')\n",
    "rpt_73211.dropna(axis = 1, inplace = True); # This might be redundant\n",
    "# Check df.head before renaming the columns\n",
    "rpt_73211.rename(columns = {'0':'Date','2':'Precip (in/hr)','3':'Losses (in/hr)','4':'Runoff (CFS)','5':'Total Nitrogen (mg/L)','6':'Total Phosphorous (mg/L)'},inplace = True)\n",
    "\n",
    "fig,ax1 = plt.subplots(figsize=(6,5))\n",
    "line1 = ax1.plot(rpt_73211['Runoff (CFS)']); plt.ylim((-0.001,40)); plt.xlabel('Time Instances (Hours)'); plt.ylabel('Runoff (CFS)');\n",
    "ax1.legend(['Runoff'],loc='lower left'); ax2 = ax1.twinx(); line2 = ax2.plot(rpt_73211['Precip (in/hr)'],color='orangered');\n",
    "plt.ylim((-0.01,1.4)); plt.ylabel('Precipitation (in/hr)'); plt.gca().invert_yaxis(); ax2.grid(False); ax2.legend(['Precip'],loc='upper right');"
   ]
  },
  {
   "cell_type": "markdown",
   "metadata": {},
   "source": [
    "## Subcatchment 73181"
   ]
  },
  {
   "cell_type": "code",
   "execution_count": 68,
   "metadata": {
    "scrolled": true
   },
   "outputs": [
    {
     "data": {
      "image/png": "[encoded data removed]",
      "text/plain": [
       "<Figure size 432x360 with 2 Axes>"
      ]
     },
     "metadata": {
      "needs_background": "light"
     },
     "output_type": "display_data"
    }
   ],
   "source": [
    "# This is for your Subcatchment 73181\n",
    "reportColumns = [str(i) for i in np.arange(0,7)]\n",
    "rpt_73181 = pd.read_csv(r'C:\\Users\\R. Seth Herbst\\Desktop\\SWMM Programs and Files\\SWMMIO_Altered_INPUTS\\Meadow_Creek_Hydrology_Model_UpdatedMar2021_Adjusted_SB_Parameters.txt', skiprows = 6594, nrows = 78, sep=\"   |    \", names = reportColumns, header = None, engine = 'python')\n",
    "rpt_73181.dropna(axis = 1, inplace = True); # This might be redundant\n",
    "# Check df.head before renaming the columns\n",
    "rpt_73181.rename(columns = {'0':'Date','2':'Precip (in/hr)','3':'Losses (in/hr)','4':'Runoff (CFS)','5':'Total Nitrogen (mg/L)','6':'Total Phosphorous (mg/L)'},inplace = True)\n",
    "\n",
    "fig,ax1 = plt.subplots(figsize=(6,5))\n",
    "line1 = ax1.plot(rpt_73181['Runoff (CFS)']); plt.ylim((-0.001,20)); plt.xlabel('Time Instances (Hours)'); plt.ylabel('Runoff (CFS)');\n",
    "ax1.legend(['Runoff'],loc='lower left'); ax2 = ax1.twinx(); line2 = ax2.plot(rpt_73181['Precip (in/hr)'],color='orangered');\n",
    "plt.ylim((-0.01,1.4)); plt.ylabel('Precipitation (in/hr)'); plt.gca().invert_yaxis(); ax2.grid(False); ax2.legend(['Precip'],loc='upper right');"
   ]
  },
  {
   "cell_type": "markdown",
   "metadata": {},
   "source": [
    "## Subcatchment 73171"
   ]
  },
  {
   "cell_type": "code",
   "execution_count": 69,
   "metadata": {
    "scrolled": true
   },
   "outputs": [
    {
     "data": {
      "image/png": "[encoded data removed]",
      "text/plain": [
       "<Figure size 432x360 with 2 Axes>"
      ]
     },
     "metadata": {
      "needs_background": "light"
     },
     "output_type": "display_data"
    }
   ],
   "source": [
    "# This is for your Subcatchment 73171\n",
    "reportColumns = [str(i) for i in np.arange(0,7)]\n",
    "rpt_73171 = pd.read_csv(r'C:\\Users\\R. Seth Herbst\\Desktop\\SWMM Programs and Files\\SWMMIO_Altered_INPUTS\\Meadow_Creek_Hydrology_Model_UpdatedMar2021_Adjusted_SB_Parameters.txt', skiprows = 6509, nrows = 78, sep=\"   |    \", names = reportColumns, header = None, engine = 'python')\n",
    "rpt_73171.dropna(axis = 1, inplace = True); # This might be redundant\n",
    "# Check df.head before renaming the columns\n",
    "rpt_73171.rename(columns = {'0':'Date','2':'Precip (in/hr)','3':'Losses (in/hr)','4':'Runoff (CFS)','5':'Total Nitrogen (mg/L)','6':'Total Phosphorous (mg/L)'},inplace = True)\n",
    "\n",
    "fig,ax1 = plt.subplots(figsize=(6,5))\n",
    "line1 = ax1.plot(rpt_73171['Runoff (CFS)']); plt.ylim((-0.001,30)); plt.xlabel('Time Instances (Hours)'); plt.ylabel('Runoff (CFS)');\n",
    "ax1.legend(['Runoff'],loc='lower left'); ax2 = ax1.twinx(); line2 = ax2.plot(rpt_73171['Precip (in/hr)'],color='orangered');\n",
    "plt.ylim((-0.01,1.4)); plt.ylabel('Precipitation (in/hr)'); plt.gca().invert_yaxis(); ax2.grid(False); ax2.legend(['Precip'],loc='upper right');"
   ]
  },
  {
   "cell_type": "markdown",
   "metadata": {},
   "source": [
    "## Subcatchment 73121"
   ]
  },
  {
   "cell_type": "code",
   "execution_count": 70,
   "metadata": {
    "scrolled": true
   },
   "outputs": [
    {
     "data": {
      "image/png": "[encoded data removed]",
      "text/plain": [
       "<Figure size 432x360 with 2 Axes>"
      ]
     },
     "metadata": {
      "needs_background": "light"
     },
     "output_type": "display_data"
    }
   ],
   "source": [
    "# This is for your Subcatchment 73121\n",
    "reportColumns = [str(i) for i in np.arange(0,7)]\n",
    "rpt_73121 = pd.read_csv(r'C:\\Users\\R. Seth Herbst\\Desktop\\SWMM Programs and Files\\SWMMIO_Altered_INPUTS\\Meadow_Creek_Hydrology_Model_UpdatedMar2021_Adjusted_SB_Parameters.txt', skiprows = 6424, nrows = 78, sep=\"   |    \", names = reportColumns, header = None, engine = 'python')\n",
    "rpt_73121.dropna(axis = 1, inplace = True); # This might be redundant\n",
    "# Check df.head before renaming the columns\n",
    "rpt_73121.rename(columns = {'0':'Date','2':'Precip (in/hr)','3':'Losses (in/hr)','4':'Runoff (CFS)','5':'Total Nitrogen (mg/L)','6':'Total Phosphorous (mg/L)'},inplace = True)\n",
    "\n",
    "fig,ax1 = plt.subplots(figsize=(6,5))\n",
    "line1 = ax1.plot(rpt_73121['Runoff (CFS)']); plt.ylim((-0.001,25)); plt.xlabel('Time Instances (Hours)'); plt.ylabel('Runoff (CFS)');\n",
    "ax1.legend(['Runoff'],loc='lower left'); ax2 = ax1.twinx(); line2 = ax2.plot(rpt_73121['Precip (in/hr)'],color='orangered');\n",
    "plt.ylim((-0.01,1.4)); plt.ylabel('Precipitation (in/hr)'); plt.gca().invert_yaxis(); ax2.grid(False); ax2.legend(['Precip'],loc='upper right');"
   ]
  },
  {
   "cell_type": "markdown",
   "metadata": {},
   "source": [
    "## Subcatchment 73201"
   ]
  },
  {
   "cell_type": "code",
   "execution_count": 71,
   "metadata": {
    "scrolled": true
   },
   "outputs": [
    {
     "data": {
      "image/png": "[encoded data removed]",
      "text/plain": [
       "<Figure size 432x360 with 2 Axes>"
      ]
     },
     "metadata": {
      "needs_background": "light"
     },
     "output_type": "display_data"
    }
   ],
   "source": [
    "# This is for your Subcatchment 73201\n",
    "reportColumns = [str(i) for i in np.arange(0,7)]\n",
    "rpt_73201 = pd.read_csv(r'C:\\Users\\R. Seth Herbst\\Desktop\\SWMM Programs and Files\\SWMMIO_Altered_INPUTS\\Meadow_Creek_Hydrology_Model_UpdatedMar2021_Adjusted_SB_Parameters.txt', skiprows = 6679, nrows = 78, sep=\"   |    \", names = reportColumns, header = None, engine = 'python')\n",
    "rpt_73201.dropna(axis = 1, inplace = True); # This might be redundant\n",
    "# Check df.head before renaming the columns\n",
    "rpt_73201.rename(columns = {'0':'Date','2':'Precip (in/hr)','3':'Losses (in/hr)','4':'Runoff (CFS)','5':'Total Nitrogen (mg/L)','6':'Total Phosphorous (mg/L)'},inplace = True)\n",
    "\n",
    "fig,ax1 = plt.subplots(figsize=(6,5))\n",
    "line1 = ax1.plot(rpt_73201['Runoff (CFS)']); plt.ylim((-0.001,30)); plt.xlabel('Time Instances (Hours)'); plt.ylabel('Runoff (CFS)');\n",
    "ax1.legend(['Runoff'],loc='lower left'); ax2 = ax1.twinx(); line2 = ax2.plot(rpt_73201['Precip (in/hr)'],color='orangered');\n",
    "plt.ylim((-0.01,1.4)); plt.ylabel('Precipitation (in/hr)'); plt.gca().invert_yaxis(); ax2.grid(False); ax2.legend(['Precip'],loc='upper right');"
   ]
  },
  {
   "cell_type": "markdown",
   "metadata": {},
   "source": [
    "## Subcatchment 73301"
   ]
  },
  {
   "cell_type": "code",
   "execution_count": 72,
   "metadata": {
    "scrolled": true
   },
   "outputs": [
    {
     "data": {
      "image/png": "[encoded data removed]",
      "text/plain": [
       "<Figure size 432x360 with 2 Axes>"
      ]
     },
     "metadata": {
      "needs_background": "light"
     },
     "output_type": "display_data"
    }
   ],
   "source": [
    "## This is for your Subcatchment 73301\n",
    "reportColumns = [str(i) for i in np.arange(0,7)]\n",
    "rpt_73301 = pd.read_csv(r'C:\\Users\\R. Seth Herbst\\Desktop\\SWMM Programs and Files\\SWMMIO_Altered_INPUTS\\Meadow_Creek_Hydrology_Model_UpdatedMar2021_Adjusted_SB_Parameters.txt', skiprows = 6934, nrows = 78, sep=\"   |    \", names = reportColumns, header = None, engine = 'python')\n",
    "rpt_73301.dropna(axis = 1, inplace = True); # This might be redundant\n",
    "# Check df.head before renaming the columns\n",
    "rpt_73301.rename(columns = {'0':'Date','2':'Precip (in/hr)','3':'Losses (in/hr)','4':'Runoff (CFS)','5':'Total Nitrogen (mg/L)','6':'Total Phosphorous (mg/L)'},inplace = True)\n",
    "\n",
    "fig,ax1 = plt.subplots(figsize=(6,5))\n",
    "line1 = ax1.plot(rpt_73301['Runoff (CFS)']); plt.ylim((-0.001,30)); plt.xlabel('Time Instances (Hours)'); plt.ylabel('Runoff (CFS)');\n",
    "ax1.legend(['Runoff'],loc='lower left'); ax2 = ax1.twinx(); line2 = ax2.plot(rpt_73301['Precip (in/hr)'],color='orangered');\n",
    "plt.ylim((-0.01,1.4)); plt.ylabel('Precipitation (in/hr)'); plt.gca().invert_yaxis(); ax2.grid(False); ax2.legend(['Precip'],loc='upper right');"
   ]
  },
  {
   "cell_type": "markdown",
   "metadata": {},
   "source": [
    "## Subcatchment 73321"
   ]
  },
  {
   "cell_type": "code",
   "execution_count": 73,
   "metadata": {
    "scrolled": true
   },
   "outputs": [
    {
     "data": {
      "image/png": "[encoded data removed]",
      "text/plain": [
       "<Figure size 432x360 with 2 Axes>"
      ]
     },
     "metadata": {
      "needs_background": "light"
     },
     "output_type": "display_data"
    }
   ],
   "source": [
    "# This is for your Subcatchment 73321\n",
    "reportColumns = [str(i) for i in np.arange(0,7)]\n",
    "rpt_73321 = pd.read_csv(r'C:\\Users\\R. Seth Herbst\\Desktop\\SWMM Programs and Files\\SWMMIO_Altered_INPUTS\\Meadow_Creek_Hydrology_Model_UpdatedMar2021_Adjusted_SB_Parameters.txt', skiprows = 7019, nrows = 78, sep=\"   |    \", names = reportColumns, header = None, engine = 'python')\n",
    "rpt_73321.dropna(axis = 1, inplace = True); # This might be redundant\n",
    "# Check df.head before renaming the columns\n",
    "rpt_73321.rename(columns = {'0':'Date','2':'Precip (in/hr)','3':'Losses (in/hr)','4':'Runoff (CFS)','5':'Total Nitrogen (mg/L)','6':'Total Phosphorous (mg/L)'},inplace = True)\n",
    "\n",
    "fig,ax1 = plt.subplots(figsize=(6,5))\n",
    "line1 = ax1.plot(rpt_73321['Runoff (CFS)']); plt.ylim((-0.001,20)); plt.xlabel('Time Instances (Hours)'); plt.ylabel('Runoff (CFS)');\n",
    "ax1.legend(['Runoff'],loc='lower left'); ax2 = ax1.twinx(); line2 = ax2.plot(rpt_73321['Precip (in/hr)'],color='orangered');\n",
    "plt.ylim((-0.01,1.4)); plt.ylabel('Precipitation (in/hr)'); plt.gca().invert_yaxis(); ax2.grid(False); ax2.legend(['Precip'],loc='upper right');"
   ]
  },
  {
   "cell_type": "markdown",
   "metadata": {},
   "source": [
    "## Subcatchment 73391"
   ]
  },
  {
   "cell_type": "code",
   "execution_count": 74,
   "metadata": {
    "scrolled": true
   },
   "outputs": [
    {
     "data": {
      "image/png": "[encoded data removed]",
      "text/plain": [
       "<Figure size 432x360 with 2 Axes>"
      ]
     },
     "metadata": {
      "needs_background": "light"
     },
     "output_type": "display_data"
    }
   ],
   "source": [
    "# This is for your Subcatchment 73391\n",
    "reportColumns = [str(i) for i in np.arange(0,7)]\n",
    "rpt_73391 = pd.read_csv(r'C:\\Users\\R. Seth Herbst\\Desktop\\SWMM Programs and Files\\SWMMIO_Altered_INPUTS\\Meadow_Creek_Hydrology_Model_UpdatedMar2021_Adjusted_SB_Parameters.txt', skiprows = 7189, nrows = 78, sep=\"   |    \", names = reportColumns, header = None, engine = 'python')\n",
    "rpt_73391.dropna(axis = 1, inplace = True); # This might be redundant\n",
    "# Check df.head before renaming the columns\n",
    "rpt_73391.rename(columns = {'0':'Date','2':'Precip (in/hr)','3':'Losses (in/hr)','4':'Runoff (CFS)','5':'Total Nitrogen (mg/L)','6':'Total Phosphorous (mg/L)'},inplace = True)\n",
    "\n",
    "fig,ax1 = plt.subplots(figsize=(6,5))\n",
    "line1 = ax1.plot(rpt_73391['Runoff (CFS)']); plt.ylim((-0.001,30)); plt.xlabel('Time Instances (Hours)'); plt.ylabel('Runoff (CFS)');\n",
    "ax1.legend(['Runoff'],loc='lower left'); ax2 = ax1.twinx(); line2 = ax2.plot(rpt_73391['Precip (in/hr)'],color='orangered');\n",
    "plt.ylim((-0.01,1.4)); plt.ylabel('Precipitation (in/hr)'); plt.gca().invert_yaxis(); ax2.grid(False); ax2.legend(['Precip'],loc='upper right');"
   ]
  },
  {
   "cell_type": "markdown",
   "metadata": {},
   "source": [
    "## Subcatchment 73551"
   ]
  },
  {
   "cell_type": "code",
   "execution_count": 75,
   "metadata": {
    "scrolled": true
   },
   "outputs": [
    {
     "data": {
      "image/png": "[encoded data removed]",
      "text/plain": [
       "<Figure size 432x360 with 2 Axes>"
      ]
     },
     "metadata": {
      "needs_background": "light"
     },
     "output_type": "display_data"
    }
   ],
   "source": [
    "# This is for your Subcatchment 73551\n",
    "reportColumns = [str(i) for i in np.arange(0,7)]\n",
    "rpt_73551 = pd.read_csv(r'C:\\Users\\R. Seth Herbst\\Desktop\\SWMM Programs and Files\\SWMMIO_Altered_INPUTS\\Meadow_Creek_Hydrology_Model_UpdatedMar2021_Adjusted_SB_Parameters.txt', skiprows = 7699, nrows = 78, sep=\"   |    \", names = reportColumns, header = None, engine = 'python')\n",
    "rpt_73551.dropna(axis = 1, inplace = True); # This might be redundant\n",
    "# Check df.head before renaming the columns\n",
    "rpt_73551.rename(columns = {'0':'Date','2':'Precip (in/hr)','3':'Losses (in/hr)','4':'Runoff (CFS)','5':'Total Nitrogen (mg/L)','6':'Total Phosphorous (mg/L)'},inplace = True)\n",
    "\n",
    "fig,ax1 = plt.subplots(figsize=(6,5))\n",
    "line1 = ax1.plot(rpt_73551['Runoff (CFS)']); plt.ylim((-0.001,20)); plt.xlabel('Time Instances (Hours)'); plt.ylabel('Runoff (CFS)');\n",
    "ax1.legend(['Runoff'],loc='lower left'); ax2 = ax1.twinx(); line2 = ax2.plot(rpt_73551['Precip (in/hr)'],color='orangered');\n",
    "plt.ylim((-0.01,1.4)); plt.ylabel('Precipitation (in/hr)'); plt.gca().invert_yaxis(); ax2.grid(False); ax2.legend(['Precip'],loc='upper right');"
   ]
  },
  {
   "cell_type": "markdown",
   "metadata": {},
   "source": [
    "## Subcatchment 73421"
   ]
  },
  {
   "cell_type": "code",
   "execution_count": 76,
   "metadata": {
    "scrolled": true
   },
   "outputs": [
    {
     "data": {
      "image/png": "[encoded data removed]",
      "text/plain": [
       "<Figure size 432x360 with 2 Axes>"
      ]
     },
     "metadata": {
      "needs_background": "light"
     },
     "output_type": "display_data"
    }
   ],
   "source": [
    "# This is for your Subcatchment 73421\n",
    "reportColumns = [str(i) for i in np.arange(0,7)]\n",
    "rpt_73421 = pd.read_csv(r'C:\\Users\\R. Seth Herbst\\Desktop\\SWMM Programs and Files\\SWMMIO_Altered_INPUTS\\Meadow_Creek_Hydrology_Model_UpdatedMar2021_Adjusted_SB_Parameters.txt', skiprows = 7359, nrows = 78, sep=\"   |    \", names = reportColumns, header = None, engine = 'python')\n",
    "rpt_73421.dropna(axis = 1, inplace = True); # This might be redundant\n",
    "# Check df.head before renaming the columns\n",
    "rpt_73421.rename(columns = {'0':'Date','2':'Precip (in/hr)','3':'Losses (in/hr)','4':'Runoff (CFS)','5':'Total Nitrogen (mg/L)','6':'Total Phosphorous (mg/L)'},inplace = True)\n",
    "\n",
    "fig,ax1 = plt.subplots(figsize=(6,5))\n",
    "line1 = ax1.plot(rpt_73421['Runoff (CFS)']); plt.ylim((-0.001,30)); plt.xlabel('Time Instances (Hours)'); plt.ylabel('Runoff (CFS)');\n",
    "ax1.legend(['Runoff'],loc='lower left'); ax2 = ax1.twinx(); line2 = ax2.plot(rpt_73421['Precip (in/hr)'],color='orangered');\n",
    "plt.ylim((-0.01,1.4)); plt.ylabel('Precipitation (in/hr)'); plt.gca().invert_yaxis(); ax2.grid(False); ax2.legend(['Precip'],loc='upper right');"
   ]
  },
  {
   "cell_type": "markdown",
   "metadata": {},
   "source": [
    "## Subcatchment 73531"
   ]
  },
  {
   "cell_type": "code",
   "execution_count": 77,
   "metadata": {
    "scrolled": true
   },
   "outputs": [
    {
     "data": {
      "image/png": "[encoded data removed]",
      "text/plain": [
       "<Figure size 432x360 with 2 Axes>"
      ]
     },
     "metadata": {
      "needs_background": "light"
     },
     "output_type": "display_data"
    }
   ],
   "source": [
    "# This is for your Subcatchment 73531\n",
    "reportColumns = [str(i) for i in np.arange(0,7)]\n",
    "rpt_73531 = pd.read_csv(r'C:\\Users\\R. Seth Herbst\\Desktop\\SWMM Programs and Files\\SWMMIO_Altered_INPUTS\\Meadow_Creek_Hydrology_Model_UpdatedMar2021_Adjusted_SB_Parameters.txt', skiprows = 7614, nrows = 78, sep=\"   |    \", names = reportColumns, header = None, engine = 'python')\n",
    "rpt_73531.dropna(axis = 1, inplace = True); # This might be redundant\n",
    "# Check df.head before renaming the columns\n",
    "rpt_73531.rename(columns = {'0':'Date','2':'Precip (in/hr)','3':'Losses (in/hr)','4':'Runoff (CFS)','5':'Total Nitrogen (mg/L)','6':'Total Phosphorous (mg/L)'},inplace = True)\n",
    "\n",
    "fig,ax1 = plt.subplots(figsize=(6,5))\n",
    "line1 = ax1.plot(rpt_73531['Runoff (CFS)']); plt.ylim((-0.001,20)); plt.xlabel('Time Instances (Hours)'); plt.ylabel('Runoff (CFS)');\n",
    "ax1.legend(['Runoff'],loc='lower left'); ax2 = ax1.twinx(); line2 = ax2.plot(rpt_73531['Precip (in/hr)'],color='orangered');\n",
    "plt.ylim((-0.01,1.4)); plt.ylabel('Precipitation (in/hr)'); plt.gca().invert_yaxis(); ax2.grid(False); ax2.legend(['Precip'],loc='upper right');"
   ]
  },
  {
   "cell_type": "code",
   "execution_count": 78,
   "metadata": {},
   "outputs": [
    {
     "data": {
      "text/plain": [
       "Date                        01/02/2000 15:00:00\n",
       "Precip (in/hr)                            0.296\n",
       "Losses (in/hr)                             0.01\n",
       "Runoff (CFS)                            15.5478\n",
       "Total Nitrogen (mg/L)                     1.154\n",
       "Total Phosphorous (mg/L)                  0.299\n",
       "dtype: object"
      ]
     },
     "execution_count": 78,
     "metadata": {},
     "output_type": "execute_result"
    }
   ],
   "source": [
    "rpt_73531.max()"
   ]
  },
  {
   "cell_type": "markdown",
   "metadata": {},
   "source": [
    "## Subcatchment 73571"
   ]
  },
  {
   "cell_type": "code",
   "execution_count": 79,
   "metadata": {
    "scrolled": true
   },
   "outputs": [
    {
     "data": {
      "image/png": "[encoded data removed]",
      "text/plain": [
       "<Figure size 432x360 with 2 Axes>"
      ]
     },
     "metadata": {
      "needs_background": "light"
     },
     "output_type": "display_data"
    }
   ],
   "source": [
    "# This is for your Subcatchment 73571\n",
    "reportColumns = [str(i) for i in np.arange(0,7)]\n",
    "rpt_73571 = pd.read_csv(r'C:\\Users\\R. Seth Herbst\\Desktop\\SWMM Programs and Files\\SWMMIO_Altered_INPUTS\\Meadow_Creek_Hydrology_Model_UpdatedMar2021_Adjusted_SB_Parameters.txt', skiprows = 7784, nrows = 78, sep=\"   |    \", names = reportColumns, header = None, engine = 'python')\n",
    "rpt_73571.dropna(axis = 1, inplace = True); # This might be redundant\n",
    "# Check df.head before renaming the columns\n",
    "rpt_73571.rename(columns = {'0':'Date','2':'Precip (in/hr)','3':'Losses (in/hr)','4':'Runoff (CFS)','5':'Total Nitrogen (mg/L)','6':'Total Phosphorous (mg/L)'},inplace = True)\n",
    "\n",
    "fig,ax1 = plt.subplots(figsize=(6,5))\n",
    "line1 = ax1.plot(rpt_73571['Runoff (CFS)']); plt.ylim((-0.001,5)); plt.xlabel('Time Instances (Hours)'); plt.ylabel('Runoff (CFS)');\n",
    "ax1.legend(['Runoff'],loc='lower left'); ax2 = ax1.twinx(); line2 = ax2.plot(rpt_73571['Precip (in/hr)'],color='orangered');\n",
    "plt.ylim((-0.01,1.4)); plt.ylabel('Precipitation (in/hr)'); plt.gca().invert_yaxis(); ax2.grid(False); ax2.legend(['Precip'],loc='upper right');"
   ]
  },
  {
   "cell_type": "markdown",
   "metadata": {},
   "source": [
    "## Subcatchment 73461"
   ]
  },
  {
   "cell_type": "code",
   "execution_count": 80,
   "metadata": {},
   "outputs": [
    {
     "data": {
      "image/png": "[encoded data removed]",
      "text/plain": [
       "<Figure size 432x360 with 2 Axes>"
      ]
     },
     "metadata": {
      "needs_background": "light"
     },
     "output_type": "display_data"
    }
   ],
   "source": [
    "# This is for your Subcatchment 73461\n",
    "reportColumns = [str(i) for i in np.arange(0,7)]\n",
    "rpt_73461 = pd.read_csv(r'C:\\Users\\R. Seth Herbst\\Desktop\\SWMM Programs and Files\\SWMMIO_Altered_INPUTS\\Meadow_Creek_Hydrology_Model_UpdatedMar2021_Adjusted_SB_Parameters.txt', skiprows = 7444, nrows = 78, sep=\"   |    \", names = reportColumns, header = None, engine = 'python')\n",
    "rpt_73461.dropna(axis = 1, inplace = True); # This might be redundant\n",
    "# Check df.head before renaming the columns\n",
    "rpt_73461.rename(columns = {'0':'Date','2':'Precip (in/hr)','3':'Losses (in/hr)','4':'Runoff (CFS)','5':'Total Nitrogen (mg/L)','6':'Total Phosphorous (mg/L)'},inplace = True)\n",
    "\n",
    "\n",
    "fig,ax1 = plt.subplots(figsize=(6,5))\n",
    "line1 = ax1.plot(rpt_73461['Runoff (CFS)']); plt.ylim((-0.001,25)); plt.xlabel('Time Instances (Hours)'); plt.ylabel('Runoff (CFS)');\n",
    "ax1.legend(['Runoff'],loc='lower left'); ax2 = ax1.twinx(); line2 = ax2.plot(rpt_73461['Precip (in/hr)'],color='orangered');\n",
    "plt.ylim((-0.01,1.4)); plt.ylabel('Precipitation (in/hr)'); plt.gca().invert_yaxis(); ax2.grid(False); ax2.legend(['Precip'],loc='upper right');\n"
   ]
  },
  {
   "cell_type": "code",
   "execution_count": 81,
   "metadata": {},
   "outputs": [
    {
     "data": {
      "text/html": [
       "<div>\n",
       "<style scoped>\n",
       "    .dataframe tbody tr th:only-of-type {\n",
       "        vertical-align: middle;\n",
       "    }\n",
       "\n",
       "    .dataframe tbody tr th {\n",
       "        vertical-align: top;\n",
       "    }\n",
       "\n",
       "    .dataframe thead th {\n",
       "        text-align: right;\n",
       "    }\n",
       "</style>\n",
       "<table border=\"1\" class=\"dataframe\">\n",
       "  <thead>\n",
       "    <tr style=\"text-align: right;\">\n",
       "      <th></th>\n",
       "      <th>Date</th>\n",
       "      <th>Precip (in/hr)</th>\n",
       "      <th>Losses (in/hr)</th>\n",
       "      <th>Runoff (CFS)</th>\n",
       "      <th>Total Nitrogen (mg/L)</th>\n",
       "      <th>Total Phosphorous (mg/L)</th>\n",
       "    </tr>\n",
       "  </thead>\n",
       "  <tbody>\n",
       "    <tr>\n",
       "      <th>0</th>\n",
       "      <td>01/01/2000 00:30:00</td>\n",
       "      <td>0.011</td>\n",
       "      <td>0.0</td>\n",
       "      <td>0.0000</td>\n",
       "      <td>0.000</td>\n",
       "      <td>0.000</td>\n",
       "    </tr>\n",
       "    <tr>\n",
       "      <th>1</th>\n",
       "      <td>01/01/2000 01:00:00</td>\n",
       "      <td>0.011</td>\n",
       "      <td>0.0</td>\n",
       "      <td>0.0172</td>\n",
       "      <td>0.922</td>\n",
       "      <td>0.238</td>\n",
       "    </tr>\n",
       "    <tr>\n",
       "      <th>2</th>\n",
       "      <td>01/01/2000 01:30:00</td>\n",
       "      <td>0.011</td>\n",
       "      <td>0.0</td>\n",
       "      <td>0.0251</td>\n",
       "      <td>1.014</td>\n",
       "      <td>0.262</td>\n",
       "    </tr>\n",
       "    <tr>\n",
       "      <th>3</th>\n",
       "      <td>01/01/2000 02:00:00</td>\n",
       "      <td>0.013</td>\n",
       "      <td>0.0</td>\n",
       "      <td>0.0301</td>\n",
       "      <td>1.053</td>\n",
       "      <td>0.272</td>\n",
       "    </tr>\n",
       "    <tr>\n",
       "      <th>4</th>\n",
       "      <td>01/01/2000 02:30:00</td>\n",
       "      <td>0.013</td>\n",
       "      <td>0.0</td>\n",
       "      <td>0.0360</td>\n",
       "      <td>1.057</td>\n",
       "      <td>0.273</td>\n",
       "    </tr>\n",
       "    <tr>\n",
       "      <th>...</th>\n",
       "      <td>...</td>\n",
       "      <td>...</td>\n",
       "      <td>...</td>\n",
       "      <td>...</td>\n",
       "      <td>...</td>\n",
       "      <td>...</td>\n",
       "    </tr>\n",
       "    <tr>\n",
       "      <th>73</th>\n",
       "      <td>01/02/2000 13:00:00</td>\n",
       "      <td>0.000</td>\n",
       "      <td>0.0</td>\n",
       "      <td>0.0000</td>\n",
       "      <td>0.000</td>\n",
       "      <td>0.000</td>\n",
       "    </tr>\n",
       "    <tr>\n",
       "      <th>74</th>\n",
       "      <td>01/02/2000 13:30:00</td>\n",
       "      <td>0.000</td>\n",
       "      <td>0.0</td>\n",
       "      <td>0.0000</td>\n",
       "      <td>0.000</td>\n",
       "      <td>0.000</td>\n",
       "    </tr>\n",
       "    <tr>\n",
       "      <th>75</th>\n",
       "      <td>01/02/2000 14:00:00</td>\n",
       "      <td>0.000</td>\n",
       "      <td>0.0</td>\n",
       "      <td>0.0000</td>\n",
       "      <td>0.000</td>\n",
       "      <td>0.000</td>\n",
       "    </tr>\n",
       "    <tr>\n",
       "      <th>76</th>\n",
       "      <td>01/02/2000 14:30:00</td>\n",
       "      <td>0.000</td>\n",
       "      <td>0.0</td>\n",
       "      <td>0.0000</td>\n",
       "      <td>0.000</td>\n",
       "      <td>0.000</td>\n",
       "    </tr>\n",
       "    <tr>\n",
       "      <th>77</th>\n",
       "      <td>01/02/2000 15:00:00</td>\n",
       "      <td>0.000</td>\n",
       "      <td>0.0</td>\n",
       "      <td>0.0000</td>\n",
       "      <td>0.000</td>\n",
       "      <td>0.000</td>\n",
       "    </tr>\n",
       "  </tbody>\n",
       "</table>\n",
       "<p>78 rows × 6 columns</p>\n",
       "</div>"
      ],
      "text/plain": [
       "                   Date  Precip (in/hr)  Losses (in/hr)  Runoff (CFS)  \\\n",
       "0   01/01/2000 00:30:00           0.011             0.0        0.0000   \n",
       "1   01/01/2000 01:00:00           0.011             0.0        0.0172   \n",
       "2   01/01/2000 01:30:00           0.011             0.0        0.0251   \n",
       "3   01/01/2000 02:00:00           0.013             0.0        0.0301   \n",
       "4   01/01/2000 02:30:00           0.013             0.0        0.0360   \n",
       "..                  ...             ...             ...           ...   \n",
       "73  01/02/2000 13:00:00           0.000             0.0        0.0000   \n",
       "74  01/02/2000 13:30:00           0.000             0.0        0.0000   \n",
       "75  01/02/2000 14:00:00           0.000             0.0        0.0000   \n",
       "76  01/02/2000 14:30:00           0.000             0.0        0.0000   \n",
       "77  01/02/2000 15:00:00           0.000             0.0        0.0000   \n",
       "\n",
       "    Total Nitrogen (mg/L)  Total Phosphorous (mg/L)  \n",
       "0                   0.000                     0.000  \n",
       "1                   0.922                     0.238  \n",
       "2                   1.014                     0.262  \n",
       "3                   1.053                     0.272  \n",
       "4                   1.057                     0.273  \n",
       "..                    ...                       ...  \n",
       "73                  0.000                     0.000  \n",
       "74                  0.000                     0.000  \n",
       "75                  0.000                     0.000  \n",
       "76                  0.000                     0.000  \n",
       "77                  0.000                     0.000  \n",
       "\n",
       "[78 rows x 6 columns]"
      ]
     },
     "execution_count": 81,
     "metadata": {},
     "output_type": "execute_result"
    }
   ],
   "source": [
    "rpt_73461"
   ]
  },
  {
   "attachments": {
    "image.png": {
     "image/png": "[encoded data removed]"
    }
   },
   "cell_type": "markdown",
   "metadata": {},
   "source": [
    "# Outflow near MC7 (In stream, near outlet of SWMM Model)\n",
    "\n",
    "\n",
    "### No LID Scenario for Comparison\n",
    "![image.png](attachment:image.png)"
   ]
  },
  {
   "cell_type": "code",
   "execution_count": 82,
   "metadata": {},
   "outputs": [],
   "source": [
    "# Outfall\n",
    "reportColumns = [str(i) for i in np.arange(0,15)]\n",
    "rpt_1405 = pd.read_csv(r'C:\\Users\\R. Seth Herbst\\Desktop\\SWMM Programs and Files\\SWMMIO_Altered_INPUTS\\Meadow_Creek_Hydrology_Model_UpdatedMar2021_Adjusted_SB_Parameters.txt', skiprows = 37646, nrows = 1, sep=\"   |    \", names = reportColumns, header = None, engine = 'python')\n",
    "rpt_1405.dropna(axis = 1, inplace = True); # This might be redundant\n",
    "# Check df.head before renaming the columns\n",
    "rpt_1405.rename(columns = {'0':'Outfall Node','6':'Flow Freq %','7':'Avg Flow (CFS)','8':'Max Flow (CFS)','10':'Total Volume (10^6 Gallons)','12':'Total Nitrogen Load (lbs)','14':'Total Phosphorous (lbs)'},inplace = True)"
   ]
  },
  {
   "cell_type": "code",
   "execution_count": 83,
   "metadata": {
    "scrolled": true
   },
   "outputs": [
    {
     "data": {
      "text/html": [
       "<div>\n",
       "<style scoped>\n",
       "    .dataframe tbody tr th:only-of-type {\n",
       "        vertical-align: middle;\n",
       "    }\n",
       "\n",
       "    .dataframe tbody tr th {\n",
       "        vertical-align: top;\n",
       "    }\n",
       "\n",
       "    .dataframe thead th {\n",
       "        text-align: right;\n",
       "    }\n",
       "</style>\n",
       "<table border=\"1\" class=\"dataframe\">\n",
       "  <thead>\n",
       "    <tr style=\"text-align: right;\">\n",
       "      <th></th>\n",
       "      <th>Outfall Node</th>\n",
       "      <th>Flow Freq %</th>\n",
       "      <th>Avg Flow (CFS)</th>\n",
       "      <th>Max Flow (CFS)</th>\n",
       "      <th>Total Volume (10^6 Gallons)</th>\n",
       "      <th>Total Nitrogen Load (lbs)</th>\n",
       "      <th>Total Phosphorous (lbs)</th>\n",
       "    </tr>\n",
       "  </thead>\n",
       "  <tbody>\n",
       "    <tr>\n",
       "      <th>0</th>\n",
       "      <td>1405</td>\n",
       "      <td>99.37</td>\n",
       "      <td>56.11</td>\n",
       "      <td>625.32</td>\n",
       "      <td>37.112</td>\n",
       "      <td>258.973</td>\n",
       "      <td>81.372</td>\n",
       "    </tr>\n",
       "  </tbody>\n",
       "</table>\n",
       "</div>"
      ],
      "text/plain": [
       "   Outfall Node  Flow Freq %  Avg Flow (CFS)  Max Flow (CFS)  \\\n",
       "0          1405        99.37           56.11          625.32   \n",
       "\n",
       "   Total Volume (10^6 Gallons)  Total Nitrogen Load (lbs)  \\\n",
       "0                       37.112                    258.973   \n",
       "\n",
       "   Total Phosphorous (lbs)  \n",
       "0                   81.372  "
      ]
     },
     "execution_count": 83,
     "metadata": {},
     "output_type": "execute_result"
    }
   ],
   "source": [
    "rpt_1405.head()"
   ]
  }
 ],
 "metadata": {
  "kernelspec": {
   "display_name": "Python 3",
   "language": "python",
   "name": "python3"
  },
  "language_info": {
   "codemirror_mode": {
    "name": "ipython",
    "version": 3
   },
   "file_extension": ".py",
   "mimetype": "text/x-python",
   "name": "python",
   "nbconvert_exporter": "python",
   "pygments_lexer": "ipython3",
   "version": "3.8.5"
  }
 },
 "nbformat": 4,
 "nbformat_minor": 4
}
