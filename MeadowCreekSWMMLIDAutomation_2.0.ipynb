{
 "cells": [
  {
   "cell_type": "markdown",
   "metadata": {},
   "source": [
    "# Meadow Creek SWMM Model LID Scenario Automation "
   ]
  },
  {
   "cell_type": "markdown",
   "metadata": {},
   "source": [
    "# Required Python Libraries"
   ]
  },
  {
   "cell_type": "code",
   "execution_count": 1,
   "metadata": {},
   "outputs": [],
   "source": [
    "import numpy as np\n",
    "import pandas as pd\n",
    "import matplotlib.pyplot as plt\n",
    "import random\n",
    "import pyswmm\n",
    "from pyswmm import Simulation, LidControls, LidGroups, Subcatchments\n",
    "import os\n",
    "import swmmio as sio"
   ]
  },
  {
   "cell_type": "markdown",
   "metadata": {},
   "source": [
    "## Load in Input CSV"
   ]
  },
  {
   "cell_type": "code",
   "execution_count": 2,
   "metadata": {},
   "outputs": [
    {
     "data": {
      "text/html": [
       "<div>\n",
       "<style scoped>\n",
       "    .dataframe tbody tr th:only-of-type {\n",
       "        vertical-align: middle;\n",
       "    }\n",
       "\n",
       "    .dataframe tbody tr th {\n",
       "        vertical-align: top;\n",
       "    }\n",
       "\n",
       "    .dataframe thead th {\n",
       "        text-align: right;\n",
       "    }\n",
       "</style>\n",
       "<table border=\"1\" class=\"dataframe\">\n",
       "  <thead>\n",
       "    <tr style=\"text-align: right;\">\n",
       "      <th></th>\n",
       "      <th>Areas</th>\n",
       "      <th>Perc_Imperv</th>\n",
       "      <th>...</th>\n",
       "      <th>Feasible_GrassSwale_Space</th>\n",
       "      <th>GrassSwale_Standard_Surface_Area</th>\n",
       "    </tr>\n",
       "    <tr>\n",
       "      <th>Subbasin</th>\n",
       "      <th></th>\n",
       "      <th></th>\n",
       "      <th></th>\n",
       "      <th></th>\n",
       "      <th></th>\n",
       "    </tr>\n",
       "  </thead>\n",
       "  <tbody>\n",
       "    <tr>\n",
       "      <th>72591</th>\n",
       "      <td>930398.04</td>\n",
       "      <td>24.798</td>\n",
       "      <td>...</td>\n",
       "      <td>2152.7800</td>\n",
       "      <td>7460.877</td>\n",
       "    </tr>\n",
       "    <tr>\n",
       "      <th>72631</th>\n",
       "      <td>952047.36</td>\n",
       "      <td>43.946</td>\n",
       "      <td>...</td>\n",
       "      <td>3229.1700</td>\n",
       "      <td>10546.630</td>\n",
       "    </tr>\n",
       "    <tr>\n",
       "      <th>72671</th>\n",
       "      <td>1011681.00</td>\n",
       "      <td>29.089</td>\n",
       "      <td>...</td>\n",
       "      <td>0.0000</td>\n",
       "      <td>8465.484</td>\n",
       "    </tr>\n",
       "    <tr>\n",
       "      <th>72731</th>\n",
       "      <td>954530.28</td>\n",
       "      <td>53.046</td>\n",
       "      <td>...</td>\n",
       "      <td>0.0000</td>\n",
       "      <td>9221.800</td>\n",
       "    </tr>\n",
       "    <tr>\n",
       "      <th>72781</th>\n",
       "      <td>1649965.68</td>\n",
       "      <td>32.151</td>\n",
       "      <td>...</td>\n",
       "      <td>0.0000</td>\n",
       "      <td>8414.588</td>\n",
       "    </tr>\n",
       "    <tr>\n",
       "      <th>72951</th>\n",
       "      <td>1785524.40</td>\n",
       "      <td>23.486</td>\n",
       "      <td>...</td>\n",
       "      <td>10763.9000</td>\n",
       "      <td>6868.850</td>\n",
       "    </tr>\n",
       "    <tr>\n",
       "      <th>73081</th>\n",
       "      <td>1531569.60</td>\n",
       "      <td>35.628</td>\n",
       "      <td>...</td>\n",
       "      <td>7534.7300</td>\n",
       "      <td>9263.514</td>\n",
       "    </tr>\n",
       "    <tr>\n",
       "      <th>73121</th>\n",
       "      <td>1481911.20</td>\n",
       "      <td>48.410</td>\n",
       "      <td>...</td>\n",
       "      <td>2152.7800</td>\n",
       "      <td>9874.122</td>\n",
       "    </tr>\n",
       "    <tr>\n",
       "      <th>73171</th>\n",
       "      <td>677488.68</td>\n",
       "      <td>57.681</td>\n",
       "      <td>...</td>\n",
       "      <td>0.0000</td>\n",
       "      <td>11048.030</td>\n",
       "    </tr>\n",
       "    <tr>\n",
       "      <th>73181</th>\n",
       "      <td>626044.32</td>\n",
       "      <td>68.871</td>\n",
       "      <td>...</td>\n",
       "      <td>0.0000</td>\n",
       "      <td>12309.080</td>\n",
       "    </tr>\n",
       "    <tr>\n",
       "      <th>73201</th>\n",
       "      <td>922731.48</td>\n",
       "      <td>53.624</td>\n",
       "      <td>...</td>\n",
       "      <td>0.0000</td>\n",
       "      <td>-99999.000</td>\n",
       "    </tr>\n",
       "    <tr>\n",
       "      <th>73211</th>\n",
       "      <td>1332718.20</td>\n",
       "      <td>32.347</td>\n",
       "      <td>...</td>\n",
       "      <td>0.0000</td>\n",
       "      <td>11334.470</td>\n",
       "    </tr>\n",
       "    <tr>\n",
       "      <th>73301</th>\n",
       "      <td>1379980.80</td>\n",
       "      <td>45.839</td>\n",
       "      <td>...</td>\n",
       "      <td>0.0000</td>\n",
       "      <td>11498.080</td>\n",
       "    </tr>\n",
       "    <tr>\n",
       "      <th>73321</th>\n",
       "      <td>629311.32</td>\n",
       "      <td>69.448</td>\n",
       "      <td>...</td>\n",
       "      <td>0.0000</td>\n",
       "      <td>13378.500</td>\n",
       "    </tr>\n",
       "    <tr>\n",
       "      <th>73391</th>\n",
       "      <td>762430.68</td>\n",
       "      <td>21.519</td>\n",
       "      <td>...</td>\n",
       "      <td>10096.5382</td>\n",
       "      <td>8193.462</td>\n",
       "    </tr>\n",
       "    <tr>\n",
       "      <th>73421</th>\n",
       "      <td>672827.76</td>\n",
       "      <td>74.942</td>\n",
       "      <td>...</td>\n",
       "      <td>0.0000</td>\n",
       "      <td>13763.350</td>\n",
       "    </tr>\n",
       "    <tr>\n",
       "      <th>73461</th>\n",
       "      <td>708067.80</td>\n",
       "      <td>75.242</td>\n",
       "      <td>...</td>\n",
       "      <td>0.0000</td>\n",
       "      <td>13781.520</td>\n",
       "    </tr>\n",
       "    <tr>\n",
       "      <th>73531</th>\n",
       "      <td>677662.92</td>\n",
       "      <td>69.352</td>\n",
       "      <td>...</td>\n",
       "      <td>0.0000</td>\n",
       "      <td>12805.770</td>\n",
       "    </tr>\n",
       "    <tr>\n",
       "      <th>73551</th>\n",
       "      <td>603218.88</td>\n",
       "      <td>68.462</td>\n",
       "      <td>...</td>\n",
       "      <td>0.0000</td>\n",
       "      <td>12807.170</td>\n",
       "    </tr>\n",
       "    <tr>\n",
       "      <th>73571</th>\n",
       "      <td>368648.28</td>\n",
       "      <td>68.637</td>\n",
       "      <td>...</td>\n",
       "      <td>5177.4359</td>\n",
       "      <td>13463.860</td>\n",
       "    </tr>\n",
       "  </tbody>\n",
       "</table>\n",
       "<p>20 rows × 13 columns</p>\n",
       "</div>"
      ],
      "text/plain": [
       "               Areas  Perc_Imperv  ...  Feasible_GrassSwale_Space  \\\n",
       "Subbasin                           ...                              \n",
       "72591      930398.04       24.798  ...                  2152.7800   \n",
       "72631      952047.36       43.946  ...                  3229.1700   \n",
       "72671     1011681.00       29.089  ...                     0.0000   \n",
       "72731      954530.28       53.046  ...                     0.0000   \n",
       "72781     1649965.68       32.151  ...                     0.0000   \n",
       "72951     1785524.40       23.486  ...                 10763.9000   \n",
       "73081     1531569.60       35.628  ...                  7534.7300   \n",
       "73121     1481911.20       48.410  ...                  2152.7800   \n",
       "73171      677488.68       57.681  ...                     0.0000   \n",
       "73181      626044.32       68.871  ...                     0.0000   \n",
       "73201      922731.48       53.624  ...                     0.0000   \n",
       "73211     1332718.20       32.347  ...                     0.0000   \n",
       "73301     1379980.80       45.839  ...                     0.0000   \n",
       "73321      629311.32       69.448  ...                     0.0000   \n",
       "73391      762430.68       21.519  ...                 10096.5382   \n",
       "73421      672827.76       74.942  ...                     0.0000   \n",
       "73461      708067.80       75.242  ...                     0.0000   \n",
       "73531      677662.92       69.352  ...                     0.0000   \n",
       "73551      603218.88       68.462  ...                     0.0000   \n",
       "73571      368648.28       68.637  ...                  5177.4359   \n",
       "\n",
       "          GrassSwale_Standard_Surface_Area  \n",
       "Subbasin                                    \n",
       "72591                             7460.877  \n",
       "72631                            10546.630  \n",
       "72671                             8465.484  \n",
       "72731                             9221.800  \n",
       "72781                             8414.588  \n",
       "72951                             6868.850  \n",
       "73081                             9263.514  \n",
       "73121                             9874.122  \n",
       "73171                            11048.030  \n",
       "73181                            12309.080  \n",
       "73201                           -99999.000  \n",
       "73211                            11334.470  \n",
       "73301                            11498.080  \n",
       "73321                            13378.500  \n",
       "73391                             8193.462  \n",
       "73421                            13763.350  \n",
       "73461                            13781.520  \n",
       "73531                            12805.770  \n",
       "73551                            12807.170  \n",
       "73571                            13463.860  \n",
       "\n",
       "[20 rows x 13 columns]"
      ]
     },
     "execution_count": 2,
     "metadata": {},
     "output_type": "execute_result"
    }
   ],
   "source": [
    "# Load in input data.\n",
    "\n",
    "subbasin_attributes = pd.read_csv (r'C:\\Users\\R. Seth Herbst\\Desktop\\SWMM Programs and Files\\PYTHON CSV files for MC\\Target_MC_Subbasin_Data.csv')\n",
    "subbasin_attributes = subbasin_attributes.set_index('Subbasin')\n",
    "\n",
    "\n",
    "subbasin_attributes"
   ]
  },
  {
   "cell_type": "markdown",
   "metadata": {},
   "source": [
    "# LID Scenario Generators"
   ]
  },
  {
   "cell_type": "markdown",
   "metadata": {},
   "source": [
    "## Option 1: Manually Change in Block Below"
   ]
  },
  {
   "cell_type": "code",
   "execution_count": 3,
   "metadata": {},
   "outputs": [],
   "source": [
    "#Manual changing may be easier to do in the csv file.  "
   ]
  },
  {
   "cell_type": "markdown",
   "metadata": {},
   "source": [
    "## Option 2: Random or percent-wise implementation"
   ]
  },
  {
   "cell_type": "code",
   "execution_count": 4,
   "metadata": {
    "scrolled": true
   },
   "outputs": [
    {
     "name": "stderr",
     "output_type": "stream",
     "text": [
      "<ipython-input-4-7d954f69fe76>:10: SettingWithCopyWarning: \n",
      "A value is trying to be set on a copy of a slice from a DataFrame\n",
      "\n",
      "See the caveats in the documentation: https://pandas.pydata.org/pandas-docs/stable/user_guide/indexing.html#returning-a-view-versus-a-copy\n",
      "  subbasin_attributes['RainGarden_Assigned_Areas'][subbasin] = subbasin_attributes['Feasible_RainGarden_Space'][subbasin] * random.choice(perc_implementation)\n",
      "<ipython-input-4-7d954f69fe76>:13: SettingWithCopyWarning: \n",
      "A value is trying to be set on a copy of a slice from a DataFrame\n",
      "\n",
      "See the caveats in the documentation: https://pandas.pydata.org/pandas-docs/stable/user_guide/indexing.html#returning-a-view-versus-a-copy\n",
      "  subbasin_attributes['Bioretention_Assigned_Areas'][subbasin] = subbasin_attributes['Feasible_Bioretention_Space'][subbasin] * random.choice(perc_implementation)\n",
      "<ipython-input-4-7d954f69fe76>:16: SettingWithCopyWarning: \n",
      "A value is trying to be set on a copy of a slice from a DataFrame\n",
      "\n",
      "See the caveats in the documentation: https://pandas.pydata.org/pandas-docs/stable/user_guide/indexing.html#returning-a-view-versus-a-copy\n",
      "  subbasin_attributes['GreenRoof_Assigned_Areas'][subbasin] = subbasin_attributes['Feasible_GreenRoof_Space'][subbasin] * random.choice(perc_implementation)\n",
      "<ipython-input-4-7d954f69fe76>:19: SettingWithCopyWarning: \n",
      "A value is trying to be set on a copy of a slice from a DataFrame\n",
      "\n",
      "See the caveats in the documentation: https://pandas.pydata.org/pandas-docs/stable/user_guide/indexing.html#returning-a-view-versus-a-copy\n",
      "  subbasin_attributes['PermeablePavement_Assigned_Areas'][subbasin] = subbasin_attributes['Feasible_PermeablePavement_Space'][subbasin] * random.choice(perc_implementation)\n",
      "<ipython-input-4-7d954f69fe76>:22: SettingWithCopyWarning: \n",
      "A value is trying to be set on a copy of a slice from a DataFrame\n",
      "\n",
      "See the caveats in the documentation: https://pandas.pydata.org/pandas-docs/stable/user_guide/indexing.html#returning-a-view-versus-a-copy\n",
      "  subbasin_attributes['GrassSwale_Assigned_Areas'][subbasin] = subbasin_attributes['Feasible_GrassSwale_Space'][subbasin] * random.choice(perc_implementation)\n"
     ]
    },
    {
     "data": {
      "text/html": [
       "<div>\n",
       "<style scoped>\n",
       "    .dataframe tbody tr th:only-of-type {\n",
       "        vertical-align: middle;\n",
       "    }\n",
       "\n",
       "    .dataframe tbody tr th {\n",
       "        vertical-align: top;\n",
       "    }\n",
       "\n",
       "    .dataframe thead th {\n",
       "        text-align: right;\n",
       "    }\n",
       "</style>\n",
       "<table border=\"1\" class=\"dataframe\">\n",
       "  <thead>\n",
       "    <tr style=\"text-align: right;\">\n",
       "      <th></th>\n",
       "      <th>Areas</th>\n",
       "      <th>Perc_Imperv</th>\n",
       "      <th>...</th>\n",
       "      <th>PermeablePavement_Assigned_Areas</th>\n",
       "      <th>GrassSwale_Assigned_Areas</th>\n",
       "    </tr>\n",
       "    <tr>\n",
       "      <th>Subbasin</th>\n",
       "      <th></th>\n",
       "      <th></th>\n",
       "      <th></th>\n",
       "      <th></th>\n",
       "      <th></th>\n",
       "    </tr>\n",
       "  </thead>\n",
       "  <tbody>\n",
       "    <tr>\n",
       "      <th>72591</th>\n",
       "      <td>930398.04</td>\n",
       "      <td>24.798</td>\n",
       "      <td>...</td>\n",
       "      <td>0</td>\n",
       "      <td>1937.5</td>\n",
       "    </tr>\n",
       "    <tr>\n",
       "      <th>72631</th>\n",
       "      <td>952047.36</td>\n",
       "      <td>43.946</td>\n",
       "      <td>...</td>\n",
       "      <td>3232.85</td>\n",
       "      <td>2906.25</td>\n",
       "    </tr>\n",
       "    <tr>\n",
       "      <th>72671</th>\n",
       "      <td>1011681.00</td>\n",
       "      <td>29.089</td>\n",
       "      <td>...</td>\n",
       "      <td>0</td>\n",
       "      <td>0</td>\n",
       "    </tr>\n",
       "    <tr>\n",
       "      <th>72731</th>\n",
       "      <td>954530.28</td>\n",
       "      <td>53.046</td>\n",
       "      <td>...</td>\n",
       "      <td>8941.89</td>\n",
       "      <td>0</td>\n",
       "    </tr>\n",
       "    <tr>\n",
       "      <th>72781</th>\n",
       "      <td>1649965.68</td>\n",
       "      <td>32.151</td>\n",
       "      <td>...</td>\n",
       "      <td>11298.2</td>\n",
       "      <td>0</td>\n",
       "    </tr>\n",
       "    <tr>\n",
       "      <th>72951</th>\n",
       "      <td>1785524.40</td>\n",
       "      <td>23.486</td>\n",
       "      <td>...</td>\n",
       "      <td>12948.2</td>\n",
       "      <td>9687.51</td>\n",
       "    </tr>\n",
       "    <tr>\n",
       "      <th>73081</th>\n",
       "      <td>1531569.60</td>\n",
       "      <td>35.628</td>\n",
       "      <td>...</td>\n",
       "      <td>8718.76</td>\n",
       "      <td>6781.26</td>\n",
       "    </tr>\n",
       "    <tr>\n",
       "      <th>73121</th>\n",
       "      <td>1481911.20</td>\n",
       "      <td>48.410</td>\n",
       "      <td>...</td>\n",
       "      <td>11544.7</td>\n",
       "      <td>1937.5</td>\n",
       "    </tr>\n",
       "    <tr>\n",
       "      <th>73171</th>\n",
       "      <td>677488.68</td>\n",
       "      <td>57.681</td>\n",
       "      <td>...</td>\n",
       "      <td>8799.06</td>\n",
       "      <td>0</td>\n",
       "    </tr>\n",
       "    <tr>\n",
       "      <th>73181</th>\n",
       "      <td>626044.32</td>\n",
       "      <td>68.871</td>\n",
       "      <td>...</td>\n",
       "      <td>6781.26</td>\n",
       "      <td>0</td>\n",
       "    </tr>\n",
       "    <tr>\n",
       "      <th>73201</th>\n",
       "      <td>922731.48</td>\n",
       "      <td>53.624</td>\n",
       "      <td>...</td>\n",
       "      <td>27125</td>\n",
       "      <td>0</td>\n",
       "    </tr>\n",
       "    <tr>\n",
       "      <th>73211</th>\n",
       "      <td>1332718.20</td>\n",
       "      <td>32.347</td>\n",
       "      <td>...</td>\n",
       "      <td>968.751</td>\n",
       "      <td>0</td>\n",
       "    </tr>\n",
       "    <tr>\n",
       "      <th>73301</th>\n",
       "      <td>1379980.80</td>\n",
       "      <td>45.839</td>\n",
       "      <td>...</td>\n",
       "      <td>15500</td>\n",
       "      <td>0</td>\n",
       "    </tr>\n",
       "    <tr>\n",
       "      <th>73321</th>\n",
       "      <td>629311.32</td>\n",
       "      <td>69.448</td>\n",
       "      <td>...</td>\n",
       "      <td>5982.96</td>\n",
       "      <td>0</td>\n",
       "    </tr>\n",
       "    <tr>\n",
       "      <th>73391</th>\n",
       "      <td>762430.68</td>\n",
       "      <td>21.519</td>\n",
       "      <td>...</td>\n",
       "      <td>968.751</td>\n",
       "      <td>9086.88</td>\n",
       "    </tr>\n",
       "    <tr>\n",
       "      <th>73421</th>\n",
       "      <td>672827.76</td>\n",
       "      <td>74.942</td>\n",
       "      <td>...</td>\n",
       "      <td>6610.8</td>\n",
       "      <td>0</td>\n",
       "    </tr>\n",
       "    <tr>\n",
       "      <th>73461</th>\n",
       "      <td>708067.80</td>\n",
       "      <td>75.242</td>\n",
       "      <td>...</td>\n",
       "      <td>23250</td>\n",
       "      <td>0</td>\n",
       "    </tr>\n",
       "    <tr>\n",
       "      <th>73531</th>\n",
       "      <td>677662.92</td>\n",
       "      <td>69.352</td>\n",
       "      <td>...</td>\n",
       "      <td>29340.9</td>\n",
       "      <td>0</td>\n",
       "    </tr>\n",
       "    <tr>\n",
       "      <th>73551</th>\n",
       "      <td>603218.88</td>\n",
       "      <td>68.462</td>\n",
       "      <td>...</td>\n",
       "      <td>0</td>\n",
       "      <td>0</td>\n",
       "    </tr>\n",
       "    <tr>\n",
       "      <th>73571</th>\n",
       "      <td>368648.28</td>\n",
       "      <td>68.637</td>\n",
       "      <td>...</td>\n",
       "      <td>18749.7</td>\n",
       "      <td>4659.69</td>\n",
       "    </tr>\n",
       "  </tbody>\n",
       "</table>\n",
       "<p>20 rows × 18 columns</p>\n",
       "</div>"
      ],
      "text/plain": [
       "               Areas  Perc_Imperv  ...  PermeablePavement_Assigned_Areas  \\\n",
       "Subbasin                           ...                                     \n",
       "72591      930398.04       24.798  ...                                 0   \n",
       "72631      952047.36       43.946  ...                           3232.85   \n",
       "72671     1011681.00       29.089  ...                                 0   \n",
       "72731      954530.28       53.046  ...                           8941.89   \n",
       "72781     1649965.68       32.151  ...                           11298.2   \n",
       "72951     1785524.40       23.486  ...                           12948.2   \n",
       "73081     1531569.60       35.628  ...                           8718.76   \n",
       "73121     1481911.20       48.410  ...                           11544.7   \n",
       "73171      677488.68       57.681  ...                           8799.06   \n",
       "73181      626044.32       68.871  ...                           6781.26   \n",
       "73201      922731.48       53.624  ...                             27125   \n",
       "73211     1332718.20       32.347  ...                           968.751   \n",
       "73301     1379980.80       45.839  ...                             15500   \n",
       "73321      629311.32       69.448  ...                           5982.96   \n",
       "73391      762430.68       21.519  ...                           968.751   \n",
       "73421      672827.76       74.942  ...                            6610.8   \n",
       "73461      708067.80       75.242  ...                             23250   \n",
       "73531      677662.92       69.352  ...                           29340.9   \n",
       "73551      603218.88       68.462  ...                                 0   \n",
       "73571      368648.28       68.637  ...                           18749.7   \n",
       "\n",
       "          GrassSwale_Assigned_Areas  \n",
       "Subbasin                             \n",
       "72591                        1937.5  \n",
       "72631                       2906.25  \n",
       "72671                             0  \n",
       "72731                             0  \n",
       "72781                             0  \n",
       "72951                       9687.51  \n",
       "73081                       6781.26  \n",
       "73121                        1937.5  \n",
       "73171                             0  \n",
       "73181                             0  \n",
       "73201                             0  \n",
       "73211                             0  \n",
       "73301                             0  \n",
       "73321                             0  \n",
       "73391                       9086.88  \n",
       "73421                             0  \n",
       "73461                             0  \n",
       "73531                             0  \n",
       "73551                             0  \n",
       "73571                       4659.69  \n",
       "\n",
       "[20 rows x 18 columns]"
      ]
     },
     "execution_count": 4,
     "metadata": {},
     "output_type": "execute_result"
    }
   ],
   "source": [
    "subbasin_attributes[\"RainGarden_Assigned_Areas\"]=\"\"\n",
    "subbasin_attributes[\"Bioretention_Assigned_Areas\"]=\"\"\n",
    "subbasin_attributes[\"GreenRoof_Assigned_Areas\"]=\"\"\n",
    "subbasin_attributes[\"PermeablePavement_Assigned_Areas\"]=\"\"\n",
    "subbasin_attributes[\"GrassSwale_Assigned_Areas\"]=\"\"\n",
    "\n",
    "perc_implementation = [0.9]\n",
    "\n",
    "for subbasin in subbasin_attributes.index:\n",
    "     subbasin_attributes['RainGarden_Assigned_Areas'][subbasin] = subbasin_attributes['Feasible_RainGarden_Space'][subbasin] * random.choice(perc_implementation)\n",
    "\n",
    "for subbasin in subbasin_attributes.index:\n",
    "     subbasin_attributes['Bioretention_Assigned_Areas'][subbasin] = subbasin_attributes['Feasible_Bioretention_Space'][subbasin] * random.choice(perc_implementation)\n",
    "        \n",
    "for subbasin in subbasin_attributes.index:\n",
    "     subbasin_attributes['GreenRoof_Assigned_Areas'][subbasin] = subbasin_attributes['Feasible_GreenRoof_Space'][subbasin] * random.choice(perc_implementation)\n",
    "                    \n",
    "for subbasin in subbasin_attributes.index:\n",
    "     subbasin_attributes['PermeablePavement_Assigned_Areas'][subbasin] = subbasin_attributes['Feasible_PermeablePavement_Space'][subbasin] * random.choice(perc_implementation)\n",
    "\n",
    "for subbasin in subbasin_attributes.index:\n",
    "     subbasin_attributes['GrassSwale_Assigned_Areas'][subbasin] = subbasin_attributes['Feasible_GrassSwale_Space'][subbasin] * random.choice(perc_implementation)\n",
    "\n",
    "\n",
    "subbasin_attributes   "
   ]
  },
  {
   "cell_type": "markdown",
   "metadata": {},
   "source": [
    "## Calculate total implemented LID areas for each subbasin"
   ]
  },
  {
   "cell_type": "code",
   "execution_count": 5,
   "metadata": {},
   "outputs": [],
   "source": [
    "subbasin_attributes[\"Total_LID_Area\"] = \"\"\n",
    "\n",
    "for subbasin in subbasin_attributes.index:\n",
    "    subbasin_attributes.at[subbasin,'Total_LID_Area'] = (subbasin_attributes.at[subbasin,'RainGarden_Assigned_Areas'] + \n",
    "                                                         subbasin_attributes.at[subbasin,'Bioretention_Assigned_Areas']+\n",
    "                                                         subbasin_attributes.at[subbasin,'GreenRoof_Assigned_Areas'] +\n",
    "                                                         subbasin_attributes.at[subbasin,'PermeablePavement_Assigned_Areas']+\n",
    "                                                         subbasin_attributes.at[subbasin,'GrassSwale_Assigned_Areas'])"
   ]
  },
  {
   "cell_type": "markdown",
   "metadata": {},
   "source": [
    "## Update impervious LID areas for each subbasin after LID implementation"
   ]
  },
  {
   "cell_type": "code",
   "execution_count": 6,
   "metadata": {},
   "outputs": [
    {
     "name": "stdout",
     "output_type": "stream",
     "text": [
      "Subbasin\n",
      "72591    228783\n",
      "72631    403525\n",
      "72671    293232\n",
      "72731    471242\n",
      "72781    512401\n",
      "72951    397681\n",
      "73081    517703\n",
      "73121    697427\n",
      "73171    367323\n",
      "73181    418090\n",
      "73201    440127\n",
      "73211    428959\n",
      "73301    602102\n",
      "73321    407528\n",
      "73391    163099\n",
      "73421    479052\n",
      "73461    445383\n",
      "73531    393014\n",
      "73551    403931\n",
      "73571    200574\n",
      "Name: Updated_Imp_Areas, dtype: object\n"
     ]
    }
   ],
   "source": [
    "subbasin_attributes['Updated_Imp_Areas']=\"\"\n",
    "\n",
    "for subbasin in subbasin_attributes.index:\n",
    "    subbasin_attributes.at[subbasin,'Updated_Imp_Areas']=(subbasin_attributes.at[subbasin,'Imperv_Area'] -\n",
    "                                                         subbasin_attributes.at[subbasin,'GreenRoof_Assigned_Areas']-\n",
    "                                                         subbasin_attributes.at[subbasin,'PermeablePavement_Assigned_Areas'])\n",
    "print(subbasin_attributes['Updated_Imp_Areas'])"
   ]
  },
  {
   "cell_type": "markdown",
   "metadata": {},
   "source": [
    "# Permeable Pavement LID Usage Editor Parameter Changes!\n",
    "## Permeable Pavement Percent Impervious Treated Calculation for each Subbasin"
   ]
  },
  {
   "cell_type": "code",
   "execution_count": 7,
   "metadata": {},
   "outputs": [
    {
     "data": {
      "text/plain": [
       "13.05058639161233"
      ]
     },
     "execution_count": 7,
     "metadata": {},
     "output_type": "execute_result"
    }
   ],
   "source": [
    "subbasin_attributes['PermeablePavement_%ImpArea_Treated']=\"\"\n",
    "\n",
    "for subbasin in subbasin_attributes.index:\n",
    "    subbasin_attributes.at[subbasin,'PermeablePavement_%ImpArea_Treated'] = ((subbasin_attributes.at[subbasin,'PermeablePavement_Assigned_Areas']*2.5/\n",
    "                                                                            subbasin_attributes.at[subbasin,'Updated_Imp_Areas'])*100)\n",
    "    \n",
    "subbasin_attributes.at[73461,'PermeablePavement_%ImpArea_Treated']    "
   ]
  },
  {
   "cell_type": "markdown",
   "metadata": {},
   "source": [
    "# Percent Impervious area and Percent Pervious area treated changes according to total LID area implemented\n",
    "\n"
   ]
  },
  {
   "cell_type": "markdown",
   "metadata": {},
   "source": [
    "# Following blocks calculate updated percent impervious area treated and percent impervious  changes for each subbasin based on LID scenario\n"
   ]
  },
  {
   "cell_type": "markdown",
   "metadata": {},
   "source": [
    "## RainGarden LID Usage Editor Parameter Changes!"
   ]
  },
  {
   "cell_type": "markdown",
   "metadata": {},
   "source": [
    "### Calculations for RainGarden Percent Impervious Area Treated for each Subbasin"
   ]
  },
  {
   "cell_type": "code",
   "execution_count": 8,
   "metadata": {},
   "outputs": [
    {
     "data": {
      "text/plain": [
       "4.573062526784872"
      ]
     },
     "execution_count": 8,
     "metadata": {},
     "output_type": "execute_result"
    }
   ],
   "source": [
    "subbasin_attributes['RainGarden_Total_Units']=\"\"\n",
    "\n",
    "for subbasin in subbasin_attributes.index:\n",
    "    subbasin_attributes.at[subbasin,'RainGarden_Total_Units'] = (subbasin_attributes.at[subbasin,'RainGarden_Assigned_Areas']/subbasin_attributes.at[subbasin,'RainGarden_Standard_Surface_Area'])\n",
    "subbasin_attributes.at[73461,'RainGarden_Total_Units']    "
   ]
  },
  {
   "cell_type": "code",
   "execution_count": 9,
   "metadata": {},
   "outputs": [
    {
     "data": {
      "text/plain": [
       "99601.30183337451"
      ]
     },
     "execution_count": 9,
     "metadata": {},
     "output_type": "execute_result"
    }
   ],
   "source": [
    "subbasin_attributes['RainGarden_DrainageArea_Treated']=\"\"\n",
    "\n",
    "for subbasin in subbasin_attributes.index:\n",
    "    subbasin_attributes.at[subbasin,'RainGarden_DrainageArea_Treated']= subbasin_attributes.at[subbasin,'RainGarden_Total_Units']*21780\n",
    "subbasin_attributes.at[73461,'RainGarden_DrainageArea_Treated']    "
   ]
  },
  {
   "cell_type": "code",
   "execution_count": 10,
   "metadata": {},
   "outputs": [],
   "source": [
    "subbasin_attributes['RainGarden_ImpervArea_Treated']=\"\"\n",
    "\n",
    "for subbasin in subbasin_attributes.index:\n",
    "    subbasin_attributes.at[subbasin,'RainGarden_ImpervArea_Treated'] = subbasin_attributes.at[subbasin,'RainGarden_DrainageArea_Treated']* 0.25"
   ]
  },
  {
   "cell_type": "code",
   "execution_count": 11,
   "metadata": {},
   "outputs": [],
   "source": [
    "subbasin_attributes['RainGarden_%ImpArea_Treated']=\"\"\n",
    "\n",
    "for subbasin in subbasin_attributes.index:\n",
    "    subbasin_attributes.at[subbasin,'RainGarden_%ImpArea_Treated'] = (subbasin_attributes.at[subbasin,'RainGarden_ImpervArea_Treated']*100/subbasin_attributes.at[subbasin,'Updated_Imp_Areas'])"
   ]
  },
  {
   "cell_type": "code",
   "execution_count": 12,
   "metadata": {},
   "outputs": [
    {
     "data": {
      "text/plain": [
       "100"
      ]
     },
     "execution_count": 12,
     "metadata": {},
     "output_type": "execute_result"
    }
   ],
   "source": [
    "for subbasin in subbasin_attributes.index:\n",
    "    if subbasin_attributes.at[subbasin,'RainGarden_%ImpArea_Treated'] > 100:\n",
    "        subbasin_attributes.at[subbasin,'RainGarden_%ImpArea_Treated'] = 100\n",
    "subbasin_attributes.at[72591,'RainGarden_%ImpArea_Treated']"
   ]
  },
  {
   "cell_type": "markdown",
   "metadata": {},
   "source": [
    "### Calculations for RainGarden Percent Pervious Area Treated for each Subbasin"
   ]
  },
  {
   "cell_type": "code",
   "execution_count": 13,
   "metadata": {},
   "outputs": [],
   "source": [
    "subbasin_attributes['RainGarden_PervArea_Treated'] =\"\"\n",
    "\n",
    "for subbasin in subbasin_attributes.index:\n",
    "    subbasin_attributes.at[subbasin,'RainGarden_PervArea_Treated'] = subbasin_attributes.at[subbasin,'RainGarden_DrainageArea_Treated'] * 0.75"
   ]
  },
  {
   "cell_type": "code",
   "execution_count": 14,
   "metadata": {},
   "outputs": [],
   "source": [
    "subbasin_attributes['RainGarden_%PervArea_Treated']=\"\"\n",
    "for subbasin in subbasin_attributes.index:\n",
    "    subbasin_attributes.at[subbasin,'RainGarden_%PervArea_Treated'] = 100*subbasin_attributes.at[subbasin,'RainGarden_PervArea_Treated']/subbasin_attributes.at[subbasin,'Perv_Area']  "
   ]
  },
  {
   "cell_type": "code",
   "execution_count": 15,
   "metadata": {},
   "outputs": [],
   "source": [
    "for subbasin in subbasin_attributes.index:\n",
    "    if subbasin_attributes.at[subbasin,'RainGarden_%PervArea_Treated'] > 100:\n",
    "        subbasin_attributes.at[subbasin,'RainGarden_%PervArea_Treated'] = 100"
   ]
  },
  {
   "cell_type": "markdown",
   "metadata": {},
   "source": [
    "## Bioretention LID Usage Editor Parameter Changes!"
   ]
  },
  {
   "cell_type": "markdown",
   "metadata": {},
   "source": [
    "### Percent of Impervious Area Treated Calculations for each Subbasin"
   ]
  },
  {
   "cell_type": "code",
   "execution_count": 16,
   "metadata": {},
   "outputs": [],
   "source": [
    "subbasin_attributes['Bioretention_Total_Units']=\"\"\n",
    "\n",
    "for subbasin in subbasin_attributes.index:\n",
    "    subbasin_attributes.at[subbasin,'Bioretention_Total_Units'] = (subbasin_attributes.at[subbasin,'Bioretention_Assigned_Areas']/subbasin_attributes.at[subbasin,'Bioretention_Standard_Surface_Area'])   "
   ]
  },
  {
   "cell_type": "code",
   "execution_count": 17,
   "metadata": {},
   "outputs": [],
   "source": [
    "subbasin_attributes['Bioretention_DrainageArea_Treated']=\"\"\n",
    "\n",
    "for subbasin in subbasin_attributes.index:\n",
    "    subbasin_attributes.at[subbasin,'Bioretention_DrainageArea_Treated']= subbasin_attributes.at[subbasin,'Bioretention_Total_Units']*163350   "
   ]
  },
  {
   "cell_type": "code",
   "execution_count": 18,
   "metadata": {},
   "outputs": [],
   "source": [
    "subbasin_attributes['Bioretention_ImpervArea_Treated']=\"\"\n",
    "\n",
    "for subbasin in subbasin_attributes.index:\n",
    "    subbasin_attributes.at[subbasin,'Bioretention_ImpervArea_Treated'] = subbasin_attributes.at[subbasin,'Bioretention_DrainageArea_Treated']* 0.5"
   ]
  },
  {
   "cell_type": "code",
   "execution_count": 19,
   "metadata": {},
   "outputs": [],
   "source": [
    "subbasin_attributes['Bioretention_%ImpArea_Treated']=\"\"\n",
    "\n",
    "for subbasin in subbasin_attributes.index:\n",
    "    subbasin_attributes.at[subbasin,'Bioretention_%ImpArea_Treated'] = (subbasin_attributes.at[subbasin,'Bioretention_ImpervArea_Treated']*100/subbasin_attributes.at[subbasin,'Updated_Imp_Areas'])"
   ]
  },
  {
   "cell_type": "code",
   "execution_count": 20,
   "metadata": {},
   "outputs": [],
   "source": [
    "for subbasin in subbasin_attributes.index:\n",
    "    if subbasin_attributes.at[subbasin,'Bioretention_%ImpArea_Treated'] > 100:\n",
    "        subbasin_attributes.at[subbasin,'Bioretention_%ImpArea_Treated'] = 100"
   ]
  },
  {
   "cell_type": "markdown",
   "metadata": {},
   "source": [
    "### Bioretention Percent Pervious Area Treated for each Subbasin"
   ]
  },
  {
   "cell_type": "code",
   "execution_count": 21,
   "metadata": {},
   "outputs": [],
   "source": [
    "subbasin_attributes['Bioretention_PervArea_Treated'] =\"\"\n",
    "\n",
    "for subbasin in subbasin_attributes.index:\n",
    "    subbasin_attributes.at[subbasin,'Bioretention_PervArea_Treated'] = subbasin_attributes.at[subbasin,'Bioretention_DrainageArea_Treated'] * 0.5"
   ]
  },
  {
   "cell_type": "code",
   "execution_count": 22,
   "metadata": {},
   "outputs": [
    {
     "data": {
      "text/plain": [
       "47.21345301413609"
      ]
     },
     "execution_count": 22,
     "metadata": {},
     "output_type": "execute_result"
    }
   ],
   "source": [
    "subbasin_attributes['Bioretention_%PervArea_Treated']=\"\"\n",
    "for subbasin in subbasin_attributes.index:\n",
    "    subbasin_attributes.at[subbasin,'Bioretention_%PervArea_Treated'] = 100*subbasin_attributes.at[subbasin,'Bioretention_PervArea_Treated']/subbasin_attributes.at[subbasin,'Perv_Area']\n",
    "    \n",
    "subbasin_attributes.at[73571,'Bioretention_%PervArea_Treated']    "
   ]
  },
  {
   "cell_type": "code",
   "execution_count": 23,
   "metadata": {},
   "outputs": [
    {
     "data": {
      "text/plain": [
       "47.21345301413609"
      ]
     },
     "execution_count": 23,
     "metadata": {},
     "output_type": "execute_result"
    }
   ],
   "source": [
    "for subbasin in subbasin_attributes.index:\n",
    "    if subbasin_attributes.at[subbasin,'Bioretention_%PervArea_Treated'] > 100:\n",
    "        subbasin_attributes.at[subbasin,'Bioretention_%PervArea_Treated'] = 100\n",
    "subbasin_attributes.at[73571,'Bioretention_%PervArea_Treated']        "
   ]
  },
  {
   "cell_type": "markdown",
   "metadata": {},
   "source": [
    "## Grass Swale LID Usage Editor Parameter Changes!"
   ]
  },
  {
   "cell_type": "markdown",
   "metadata": {},
   "source": [
    "### Percent of Impervious Area Treated Calculations for each Subbasin"
   ]
  },
  {
   "cell_type": "code",
   "execution_count": 24,
   "metadata": {},
   "outputs": [],
   "source": [
    "subbasin_attributes['GrassSwale_Total_Units']=\"\"\n",
    "\n",
    "for subbasin in subbasin_attributes.index:\n",
    "    subbasin_attributes.at[subbasin,'GrassSwale_Total_Units'] = (subbasin_attributes.at[subbasin,'GrassSwale_Assigned_Areas']/subbasin_attributes.at[subbasin,'GrassSwale_Standard_Surface_Area'])   "
   ]
  },
  {
   "cell_type": "code",
   "execution_count": 25,
   "metadata": {},
   "outputs": [],
   "source": [
    "subbasin_attributes['GrassSwale_DrainageArea_Treated']=\"\"\n",
    "\n",
    "for subbasin in subbasin_attributes.index:\n",
    "    subbasin_attributes.at[subbasin,'GrassSwale_DrainageArea_Treated']= subbasin_attributes.at[subbasin,'GrassSwale_Total_Units']*163350   "
   ]
  },
  {
   "cell_type": "code",
   "execution_count": 26,
   "metadata": {},
   "outputs": [],
   "source": [
    "subbasin_attributes['GrassSwale_ImpervArea_Treated']=\"\"\n",
    "\n",
    "for subbasin in subbasin_attributes.index:\n",
    "    subbasin_attributes.at[subbasin,'GrassSwale_ImpervArea_Treated'] = subbasin_attributes.at[subbasin,'GrassSwale_DrainageArea_Treated']* 0.5"
   ]
  },
  {
   "cell_type": "code",
   "execution_count": 27,
   "metadata": {},
   "outputs": [],
   "source": [
    "subbasin_attributes['GrassSwale_%ImpArea_Treated']=\"\"\n",
    "\n",
    "for subbasin in subbasin_attributes.index:\n",
    "    subbasin_attributes.at[subbasin,'GrassSwale_%ImpArea_Treated'] = (subbasin_attributes.at[subbasin,'GrassSwale_ImpervArea_Treated']*100/subbasin_attributes.at[subbasin,'Updated_Imp_Areas'])"
   ]
  },
  {
   "cell_type": "code",
   "execution_count": 28,
   "metadata": {},
   "outputs": [],
   "source": [
    "for subbasin in subbasin_attributes.index:\n",
    "    if subbasin_attributes.at[subbasin,'GrassSwale_%ImpArea_Treated'] > 100:\n",
    "        subbasin_attributes.at[subbasin,'GrassSwale_%ImpArea_Treated'] = 100"
   ]
  },
  {
   "cell_type": "markdown",
   "metadata": {},
   "source": [
    "### Percent of pervious Area Treated Calculations for each Subbasin"
   ]
  },
  {
   "cell_type": "code",
   "execution_count": 29,
   "metadata": {},
   "outputs": [],
   "source": [
    "subbasin_attributes['GrassSwale_PervArea_Treated'] =\"\"\n",
    "\n",
    "for subbasin in subbasin_attributes.index:\n",
    "    subbasin_attributes.at[subbasin,'GrassSwale_PervArea_Treated'] = subbasin_attributes.at[subbasin,'GrassSwale_DrainageArea_Treated'] * 0.5"
   ]
  },
  {
   "cell_type": "code",
   "execution_count": 30,
   "metadata": {},
   "outputs": [],
   "source": [
    "subbasin_attributes['GrassSwale_%PervArea_Treated']=\"\"\n",
    "for subbasin in subbasin_attributes.index:\n",
    "    subbasin_attributes.at[subbasin,'GrassSwale_%PervArea_Treated'] = 100*subbasin_attributes.at[subbasin,'GrassSwale_PervArea_Treated']/subbasin_attributes.at[subbasin,'Perv_Area']   "
   ]
  },
  {
   "cell_type": "code",
   "execution_count": 31,
   "metadata": {},
   "outputs": [],
   "source": [
    "for subbasin in subbasin_attributes.index:\n",
    "    if subbasin_attributes.at[subbasin,'GrassSwale_%PervArea_Treated'] > 100:\n",
    "        subbasin_attributes.at[subbasin,'GrassSwale_%PervArea_Treated'] = 100    "
   ]
  },
  {
   "cell_type": "markdown",
   "metadata": {},
   "source": [
    "## Capping total %impervious and %pervious area treated at 100% for each subcatchment-LID combo. "
   ]
  },
  {
   "cell_type": "code",
   "execution_count": 32,
   "metadata": {},
   "outputs": [],
   "source": [
    "subbasin_attributes['%Imp_Treated']=\"\"\n",
    "\n",
    "for subbasin in subbasin_attributes.index:\n",
    "    subbasin_attributes.at[subbasin,'%Imp_Treated'] = (subbasin_attributes.at[subbasin,'RainGarden_%ImpArea_Treated'] + \n",
    "                                                      subbasin_attributes.at[subbasin,'Bioretention_%ImpArea_Treated'] +\n",
    "                                                      subbasin_attributes.at[subbasin,'PermeablePavement_%ImpArea_Treated']+\n",
    "                                                      subbasin_attributes.at[subbasin,'GrassSwale_%ImpArea_Treated'])"
   ]
  },
  {
   "cell_type": "code",
   "execution_count": 33,
   "metadata": {},
   "outputs": [
    {
     "data": {
      "text/plain": [
       "42.612388201496564"
      ]
     },
     "execution_count": 33,
     "metadata": {},
     "output_type": "execute_result"
    }
   ],
   "source": [
    "subbasin_attributes['%Perv_Treated']=\"\"\n",
    "\n",
    "for subbasin in subbasin_attributes.index:\n",
    "    subbasin_attributes.at[subbasin,'%Perv_Treated']= (subbasin_attributes.at[subbasin,'RainGarden_%PervArea_Treated']+\n",
    "                                                       subbasin_attributes.at[subbasin,'Bioretention_%PervArea_Treated']+\n",
    "                                                       subbasin_attributes.at[subbasin,'GrassSwale_%PervArea_Treated'])\n",
    "subbasin_attributes.at[73461,'%Perv_Treated']"
   ]
  },
  {
   "cell_type": "code",
   "execution_count": 34,
   "metadata": {},
   "outputs": [],
   "source": [
    "# Pervious Surface Treated \"Shaving\"\n",
    "\n",
    "for subbasin in subbasin_attributes.index:\n",
    "\n",
    "    while subbasin_attributes.at[subbasin,'%Perv_Treated'] > 100:\n",
    "        subbasin_attributes.at[subbasin,'RainGarden_%PervArea_Treated']= subbasin_attributes.at[subbasin,'RainGarden_%PervArea_Treated']-1\n",
    "        subbasin_attributes.at[subbasin,'Bioretention_%PervArea_Treated']=subbasin_attributes.at[subbasin,'Bioretention_%PervArea_Treated']-0.25\n",
    "        subbasin_attributes.at[subbasin,'GrassSwale_%PervArea_Treated']=subbasin_attributes.at[subbasin,'GrassSwale_%PervArea_Treated']-0.25\n",
    "        \n",
    "        if subbasin_attributes.at[subbasin,'RainGarden_%PervArea_Treated'] < 0:\n",
    "            subbasin_attributes.at[subbasin,'RainGarden_%PervArea_Treated'] = 0\n",
    "        if subbasin_attributes.at[subbasin,'Bioretention_%PervArea_Treated'] < 0:\n",
    "            subbasin_attributes.at[subbasin,'Bioretention_%PervArea_Treated'] = 0\n",
    "        if subbasin_attributes.at[subbasin,'GrassSwale_%PervArea_Treated'] < 0:\n",
    "            subbasin_attributes.at[subbasin,'GrassSwale_%PervArea_Treated'] = 0\n",
    "        \n",
    "        subbasin_attributes.at[subbasin, '%Perv_Treated'] = (subbasin_attributes.at[subbasin,'RainGarden_%PervArea_Treated']+\n",
    "                                                           subbasin_attributes.at[subbasin,'Bioretention_%PervArea_Treated']+\n",
    "                                                           subbasin_attributes.at[subbasin,'GrassSwale_%PervArea_Treated'])\n",
    "\n",
    "        \n",
    "        \n",
    "        \n",
    "        \n",
    "        \n",
    "  #__________________________________________________________________________________________________________          \n",
    "\n",
    "\n",
    "\n",
    "\n",
    "\n",
    "# Impervious Surface Treated \"Shaving\"\n",
    "\n",
    "for subbasin in subbasin_attributes.index:\n",
    "    \n",
    "    while subbasin_attributes.at[subbasin,'%Imp_Treated'] > 100:\n",
    "        subbasin_attributes.at[subbasin,'RainGarden_%ImpArea_Treated']=subbasin_attributes.at[subbasin,'RainGarden_%ImpArea_Treated']-1\n",
    "        subbasin_attributes.at[subbasin,'Bioretention_%ImpArea_Treated']=subbasin_attributes.at[subbasin,'Bioretention_%ImpArea_Treated']-0.25\n",
    "        subbasin_attributes.at[subbasin,'PermeablePavement_%ImpArea_Treated']=subbasin_attributes.at[subbasin,'PermeablePavement_%ImpArea_Treated']-0.25\n",
    "        subbasin_attributes.at[subbasin,'GrassSwale_%ImpArea_Treated']=subbasin_attributes.at[subbasin,'GrassSwale_%ImpArea_Treated']-0.25        \n",
    "        \n",
    "        \n",
    "        if subbasin_attributes.at[subbasin,'RainGarden_%ImpArea_Treated'] < 0:\n",
    "            subbasin_attributes.at[subbasin,'RainGarden_%ImpArea_Treated'] = 0\n",
    "        if subbasin_attributes.at[subbasin,'Bioretention_%ImpArea_Treated'] < 0:\n",
    "            subbasin_attributes.at[subbasin,'Bioretention_%ImpArea_Treated'] = 0\n",
    "        if subbasin_attributes.at[subbasin,'PermeablePavement_%ImpArea_Treated'] < 0:\n",
    "            subbasin_attributes.at[subbasin,'PermeablePavement_%ImpArea_Treated'] = 0\n",
    "        if subbasin_attributes.at[subbasin,'GrassSwale_%ImpArea_Treated'] < 0:\n",
    "            subbasin_attributes.at[subbasin,'GrassSwale_%ImpArea_Treated'] = 0\n",
    "        \n",
    "        \n",
    "        \n",
    "        \n",
    "        subbasin_attributes.at[subbasin, '%Imp_Treated'] = (subbasin_attributes.at[subbasin,'RainGarden_%ImpArea_Treated']+\n",
    "                                                           subbasin_attributes.at[subbasin,'Bioretention_%ImpArea_Treated']+\n",
    "                                                           subbasin_attributes.at[subbasin,'PermeablePavement_%ImpArea_Treated']+\n",
    "                                                           subbasin_attributes.at[subbasin,'GrassSwale_%ImpArea_Treated'])\n",
    "        \n"
   ]
  },
  {
   "cell_type": "code",
   "execution_count": 35,
   "metadata": {},
   "outputs": [
    {
     "data": {
      "text/plain": [
       "62.90114388664475"
      ]
     },
     "execution_count": 35,
     "metadata": {},
     "output_type": "execute_result"
    }
   ],
   "source": [
    "subbasin_attributes['Updated_%Imp']=\"\"\n",
    "\n",
    "for subbasin in subbasin_attributes.index:\n",
    "    subbasin_attributes.at[subbasin,'Updated_%Imp'] = subbasin_attributes.at[subbasin,'Updated_Imp_Areas']*100 / subbasin_attributes.at[subbasin,'Areas']\n",
    "    \n",
    "subbasin_attributes.at[73461,'Updated_%Imp']"
   ]
  },
  {
   "cell_type": "markdown",
   "metadata": {},
   "source": [
    "# Calculating Permeable Pavement & Green Roof Costs"
   ]
  },
  {
   "cell_type": "code",
   "execution_count": 36,
   "metadata": {},
   "outputs": [],
   "source": [
    "#calculating costs for different LID scenarios\n",
    "\n",
    "subbasin_attributes[\"PermeablePavement_Costs\"]=\"\"\n",
    "\n",
    "#assuming pervious concrete, installation ONLY - O&M unclear/makes price too high\n",
    "\n",
    "for subbasin in subbasin_attributes.index:\n",
    "     subbasin_attributes.at[subbasin,'PermeablePavement_Costs'] = subbasin_attributes.at[subbasin,'PermeablePavement_Assigned_Areas'] * 9.79\n",
    "\n",
    "        \n",
    "subbasin_attributes[\"GreenRoof_Costs\"]=\"\"\n",
    "\n",
    "for subbasin in subbasin_attributes.index:\n",
    "     subbasin_attributes.at[subbasin,'GreenRoof_Costs'] = subbasin_attributes.at[subbasin,'GreenRoof_Assigned_Areas'] * 11.66        "
   ]
  },
  {
   "cell_type": "markdown",
   "metadata": {},
   "source": [
    "# Calculating Rain Garden Costs"
   ]
  },
  {
   "cell_type": "code",
   "execution_count": 37,
   "metadata": {},
   "outputs": [
    {
     "data": {
      "text/plain": [
       "Subbasin\n",
       "72591     196753\n",
       "72631     111407\n",
       "72671     275638\n",
       "72731     135035\n",
       "72781     162248\n",
       "72951     286358\n",
       "73081    89106.5\n",
       "73121     143482\n",
       "73171          0\n",
       "73181    16307.9\n",
       "73201    48930.5\n",
       "73211     104842\n",
       "73301    3280.79\n",
       "73321    2974.16\n",
       "73391    55852.4\n",
       "73421          0\n",
       "73461    24900.3\n",
       "73531      96567\n",
       "73551    53295.7\n",
       "73571    37924.2\n",
       "Name: Updated_RainGarden_ImpArea_Treated, dtype: object"
      ]
     },
     "execution_count": 37,
     "metadata": {},
     "output_type": "execute_result"
    }
   ],
   "source": [
    "subbasin_attributes[\"Updated_RainGarden_ImpArea_Treated\"] = \"\"\n",
    "for subbasin in subbasin_attributes.index:\n",
    "    subbasin_attributes.at[subbasin,'Updated_RainGarden_ImpArea_Treated'] = (subbasin_attributes.at[subbasin,'RainGarden_%ImpArea_Treated']/100) * subbasin_attributes.at[subbasin,'Updated_Imp_Areas']\n",
    "    \n",
    "    \n",
    "subbasin_attributes['Updated_RainGarden_ImpArea_Treated']    "
   ]
  },
  {
   "cell_type": "code",
   "execution_count": 38,
   "metadata": {},
   "outputs": [
    {
     "data": {
      "text/plain": [
       "58266.76157252408"
      ]
     },
     "execution_count": 38,
     "metadata": {},
     "output_type": "execute_result"
    }
   ],
   "source": [
    "subbasin_attributes['RainGarden_Costs']=\"\"\n",
    "\n",
    "for subbasin in subbasin_attributes.index:\n",
    "    subbasin_attributes.at[subbasin,'RainGarden_Costs'] = subbasin_attributes.at[subbasin,'Updated_RainGarden_ImpArea_Treated'] * 2.34\n",
    "\n",
    "subbasin_attributes.at[73461,'RainGarden_Costs']\n",
    "    "
   ]
  },
  {
   "cell_type": "markdown",
   "metadata": {},
   "source": [
    "# Calculating Bioretention Costs"
   ]
  },
  {
   "cell_type": "code",
   "execution_count": 39,
   "metadata": {},
   "outputs": [
    {
     "data": {
      "text/plain": [
       "Subbasin\n",
       "72591    16619.8\n",
       "72631    17421.7\n",
       "72671    17306.2\n",
       "72731    59773.8\n",
       "72781    162.225\n",
       "72951    4678.63\n",
       "73081          0\n",
       "73121    93041.5\n",
       "73171          0\n",
       "73181          0\n",
       "73201          0\n",
       "73211          0\n",
       "73301          0\n",
       "73321          0\n",
       "73391    19163.3\n",
       "73421          0\n",
       "73461          0\n",
       "73531    14348.3\n",
       "73551          0\n",
       "73571    54587.8\n",
       "Name: Updated_Bioretention_ImpArea_Treated, dtype: object"
      ]
     },
     "execution_count": 39,
     "metadata": {},
     "output_type": "execute_result"
    }
   ],
   "source": [
    "subbasin_attributes[\"Updated_Bioretention_ImpArea_Treated\"] = \"\"\n",
    "for subbasin in subbasin_attributes.index:\n",
    "    subbasin_attributes.at[subbasin,'Updated_Bioretention_ImpArea_Treated'] = (subbasin_attributes.at[subbasin,'Bioretention_%ImpArea_Treated']/100) * subbasin_attributes.at[subbasin,'Updated_Imp_Areas']\n",
    "    \n",
    "    \n",
    "subbasin_attributes['Updated_Bioretention_ImpArea_Treated']  "
   ]
  },
  {
   "cell_type": "code",
   "execution_count": 40,
   "metadata": {},
   "outputs": [],
   "source": [
    "subbasin_attributes['Bioretention_Costs']=\"\"\n",
    "\n",
    "for subbasin in subbasin_attributes.index:\n",
    "    subbasin_attributes.at[subbasin,'Bioretention_Costs'] = 2.34 * subbasin_attributes.at[subbasin,'Updated_Bioretention_ImpArea_Treated']    "
   ]
  },
  {
   "cell_type": "markdown",
   "metadata": {},
   "source": [
    "# Calculating Grass Swale Costs"
   ]
  },
  {
   "cell_type": "code",
   "execution_count": 41,
   "metadata": {},
   "outputs": [
    {
     "data": {
      "text/plain": [
       "Subbasin\n",
       "72591    13202.6\n",
       "72631    22506.5\n",
       "72671          0\n",
       "72731          0\n",
       "72781          0\n",
       "72951    93318.2\n",
       "73081    59789.3\n",
       "73121    16026.3\n",
       "73171          0\n",
       "73181          0\n",
       "73201         -0\n",
       "73211          0\n",
       "73301          0\n",
       "73321          0\n",
       "73391    87318.9\n",
       "73421          0\n",
       "73461          0\n",
       "73531          0\n",
       "73551          0\n",
       "73571    28266.8\n",
       "Name: Updated_GrassSwale_ImpArea_Treated, dtype: object"
      ]
     },
     "execution_count": 41,
     "metadata": {},
     "output_type": "execute_result"
    }
   ],
   "source": [
    "subbasin_attributes[\"Updated_GrassSwale_ImpArea_Treated\"] = \"\"\n",
    "for subbasin in subbasin_attributes.index:\n",
    "    subbasin_attributes.at[subbasin,'Updated_GrassSwale_ImpArea_Treated'] = (subbasin_attributes.at[subbasin,'GrassSwale_%ImpArea_Treated']/100) * subbasin_attributes.at[subbasin,'Updated_Imp_Areas']\n",
    "    \n",
    "    \n",
    "subbasin_attributes['Updated_GrassSwale_ImpArea_Treated']  "
   ]
  },
  {
   "cell_type": "code",
   "execution_count": 42,
   "metadata": {},
   "outputs": [
    {
     "data": {
      "text/plain": [
       "0.0"
      ]
     },
     "execution_count": 42,
     "metadata": {},
     "output_type": "execute_result"
    }
   ],
   "source": [
    "subbasin_attributes['GrassSwale_Costs']=\"\"\n",
    "\n",
    "for subbasin in subbasin_attributes.index:\n",
    "    subbasin_attributes.at[subbasin,'GrassSwale_Costs'] = 1.45 * subbasin_attributes.at[subbasin,'Updated_GrassSwale_ImpArea_Treated']\n",
    "\n",
    "subbasin_attributes.at[73461,'GrassSwale_Costs']"
   ]
  },
  {
   "cell_type": "markdown",
   "metadata": {},
   "source": [
    "# The following block updates the SWMM input file by adjusting the subcatchment percent impervious and widths using SWMMIO (parameters not adjustable using pyswmm alone)\n"
   ]
  },
  {
   "cell_type": "code",
   "execution_count": 43,
   "metadata": {},
   "outputs": [],
   "source": [
    "#initialize a baseline model object in swmmio\n",
    "baseline = sio.Model(r'C:\\Users\\R. Seth Herbst\\Desktop\\SWMM Programs and Files\\MeadowCreekSWMM')\n",
    "\n",
    "#isolate subcatchments dataframe\n",
    "subcatchments = baseline.inp.subcatchments\n",
    "\n",
    "#Set subcatchment parameters\n",
    "\n",
    "#Percent Impervious Adjustments\n",
    "\n",
    "subcatchments.loc['73081','PercImperv'] = subbasin_attributes.at[73081,'Updated_%Imp']\n",
    "subcatchments.loc['72671','PercImperv'] = subbasin_attributes.at[72671,'Updated_%Imp']\n",
    "subcatchments.loc['72591','PercImperv'] = subbasin_attributes.at[72591,'Updated_%Imp']\n",
    "subcatchments.loc['72631','PercImperv'] = subbasin_attributes.at[72631,'Updated_%Imp']\n",
    "subcatchments.loc['72781','PercImperv'] = subbasin_attributes.at[72781,'Updated_%Imp']\n",
    "subcatchments.loc['72731','PercImperv'] = subbasin_attributes.at[72731,'Updated_%Imp']\n",
    "subcatchments.loc['72951','PercImperv'] = subbasin_attributes.at[72951,'Updated_%Imp']\n",
    "subcatchments.loc['73211','PercImperv'] = subbasin_attributes.at[73211,'Updated_%Imp']\n",
    "subcatchments.loc['73181','PercImperv'] = subbasin_attributes.at[73181,'Updated_%Imp']\n",
    "subcatchments.loc['73171','PercImperv'] = subbasin_attributes.at[73171,'Updated_%Imp']\n",
    "subcatchments.loc['73121','PercImperv'] = subbasin_attributes.at[73121,'Updated_%Imp']\n",
    "subcatchments.loc['73201','PercImperv'] = subbasin_attributes.at[73201,'Updated_%Imp']\n",
    "subcatchments.loc['73301','PercImperv'] = subbasin_attributes.at[73301,'Updated_%Imp']\n",
    "subcatchments.loc['73321','PercImperv'] = subbasin_attributes.at[73321,'Updated_%Imp']\n",
    "subcatchments.loc['73391','PercImperv'] = subbasin_attributes.at[73391,'Updated_%Imp']\n",
    "subcatchments.loc['73461','PercImperv'] = subbasin_attributes.at[73461,'Updated_%Imp']\n",
    "subcatchments.loc['73551','PercImperv'] = subbasin_attributes.at[73551,'Updated_%Imp']\n",
    "subcatchments.loc['73421','PercImperv'] = subbasin_attributes.at[73421,'Updated_%Imp']\n",
    "subcatchments.loc['73531','PercImperv'] = subbasin_attributes.at[73531,'Updated_%Imp']\n",
    "subcatchments.loc['73571','PercImperv'] = subbasin_attributes.at[73571,'Updated_%Imp']\n",
    "\n",
    "#Width Adjustment((SUBBASIN AREA/Flow Length) - LID Width)\n",
    "\n",
    "subcatchments.loc['73081','Width'] = ((subcatchments.loc['73081','Area'] * 43560)/subbasin_attributes.at[73081,'FlowLengths']) - (subbasin_attributes.at[73081,'Total_LID_Area']/subbasin_attributes.at[73081,'FlowLengths'])\n",
    "subcatchments.loc['72671','Width'] = ((subcatchments.loc['72671','Area'] * 43560)/subbasin_attributes.at[72671,'FlowLengths']) - (subbasin_attributes.at[72671,'Total_LID_Area']/subbasin_attributes.at[72671,'FlowLengths'])\n",
    "subcatchments.loc['72591','Width'] = ((subcatchments.loc['72591','Area'] * 43560)/subbasin_attributes.at[72591,'FlowLengths']) - (subbasin_attributes.at[72591,'Total_LID_Area']/subbasin_attributes.at[72591,'FlowLengths'])\n",
    "subcatchments.loc['72631','Width'] = ((subcatchments.loc['72631','Area'] * 43560)/subbasin_attributes.at[72631,'FlowLengths']) - (subbasin_attributes.at[72631,'Total_LID_Area']/subbasin_attributes.at[72631,'FlowLengths'])\n",
    "subcatchments.loc['72781','Width'] = ((subcatchments.loc['72781','Area'] * 43560)/subbasin_attributes.at[72781,'FlowLengths']) - (subbasin_attributes.at[72781,'Total_LID_Area']/subbasin_attributes.at[72781,'FlowLengths'])\n",
    "subcatchments.loc['72731','Width'] = ((subcatchments.loc['72731','Area'] * 43560)/subbasin_attributes.at[72731,'FlowLengths']) - (subbasin_attributes.at[72731,'Total_LID_Area']/subbasin_attributes.at[72731,'FlowLengths'])\n",
    "subcatchments.loc['72951','Width'] = ((subcatchments.loc['72951','Area'] * 43560)/subbasin_attributes.at[72951,'FlowLengths']) - (subbasin_attributes.at[72951,'Total_LID_Area']/subbasin_attributes.at[72951,'FlowLengths'])\n",
    "subcatchments.loc['73211','Width'] = ((subcatchments.loc['73211','Area'] * 43560)/subbasin_attributes.at[73211,'FlowLengths']) - (subbasin_attributes.at[73211,'Total_LID_Area']/subbasin_attributes.at[73211,'FlowLengths'])\n",
    "subcatchments.loc['73181','Width'] = ((subcatchments.loc['73181','Area'] * 43560)/subbasin_attributes.at[73181,'FlowLengths']) - (subbasin_attributes.at[73181,'Total_LID_Area']/subbasin_attributes.at[73181,'FlowLengths'])\n",
    "subcatchments.loc['73171','Width'] = ((subcatchments.loc['73171','Area'] * 43560)/subbasin_attributes.at[73171,'FlowLengths']) - (subbasin_attributes.at[73171,'Total_LID_Area']/subbasin_attributes.at[73171,'FlowLengths'])\n",
    "subcatchments.loc['73121','Width'] = ((subcatchments.loc['73121','Area'] * 43560)/subbasin_attributes.at[73121,'FlowLengths']) - (subbasin_attributes.at[73121,'Total_LID_Area']/subbasin_attributes.at[73121,'FlowLengths'])\n",
    "subcatchments.loc['73201','Width'] = ((subcatchments.loc['73201','Area'] * 43560)/subbasin_attributes.at[73201,'FlowLengths']) - (subbasin_attributes.at[73201,'Total_LID_Area']/subbasin_attributes.at[73201,'FlowLengths'])\n",
    "subcatchments.loc['73301','Width'] = ((subcatchments.loc['73301','Area'] * 43560)/subbasin_attributes.at[73301,'FlowLengths']) - (subbasin_attributes.at[73301,'Total_LID_Area']/subbasin_attributes.at[73301,'FlowLengths'])\n",
    "subcatchments.loc['73321','Width'] = ((subcatchments.loc['73321','Area'] * 43560)/subbasin_attributes.at[73321,'FlowLengths']) - (subbasin_attributes.at[73321,'Total_LID_Area']/subbasin_attributes.at[73321,'FlowLengths'])\n",
    "subcatchments.loc['73391','Width'] = ((subcatchments.loc['73391','Area'] * 43560)/subbasin_attributes.at[73391,'FlowLengths']) - (subbasin_attributes.at[73391,'Total_LID_Area']/subbasin_attributes.at[73391,'FlowLengths'])\n",
    "subcatchments.loc['73461','Width'] = ((subcatchments.loc['73461','Area'] * 43560)/subbasin_attributes.at[73461,'FlowLengths']) - (subbasin_attributes.at[73461,'Total_LID_Area']/subbasin_attributes.at[73461,'FlowLengths'])\n",
    "subcatchments.loc['73551','Width'] = ((subcatchments.loc['73551','Area'] * 43560)/subbasin_attributes.at[73551,'FlowLengths']) - (subbasin_attributes.at[73551,'Total_LID_Area']/subbasin_attributes.at[73551,'FlowLengths'])\n",
    "subcatchments.loc['73421','Width'] = ((subcatchments.loc['73421','Area'] * 43560)/subbasin_attributes.at[73421,'FlowLengths']) - (subbasin_attributes.at[73421,'Total_LID_Area']/subbasin_attributes.at[73421,'FlowLengths'])\n",
    "subcatchments.loc['73531','Width'] = ((subcatchments.loc['73531','Area'] * 43560)/subbasin_attributes.at[73531,'FlowLengths']) - (subbasin_attributes.at[73531,'Total_LID_Area']/subbasin_attributes.at[73531,'FlowLengths'])\n",
    "subcatchments.loc['73571','Width'] = ((subcatchments.loc['73571','Area'] * 43560)/subbasin_attributes.at[73571,'FlowLengths']) - (subbasin_attributes.at[73571,'Total_LID_Area']/subbasin_attributes.at[73571,'FlowLengths'])\n",
    "\n",
    "#save subcatchment dataframe changes to whole inp dataframe\n",
    "baseline.inp.subcatchments = subcatchments\n",
    "\n",
    "#create the new inp file to use. \n",
    "newfilepath = os.path.join(r\"C:\\Users\\R. Seth Herbst\\Desktop\\SWMM Programs and Files\\SWMMIO_Altered_INPUTS\", baseline.inp.name + \"_\" + 'Adjusted_SB_Parameters' + '.inp')\n",
    "    \n",
    "#Write the subcatchment section of the new model with the adjusted data\n",
    "\n",
    "baseline.inp.save(newfilepath)"
   ]
  },
  {
   "cell_type": "markdown",
   "metadata": {},
   "source": [
    "# "
   ]
  },
  {
   "cell_type": "markdown",
   "metadata": {},
   "source": [
    "# PYSWMM simulation with LID adjustments"
   ]
  },
  {
   "cell_type": "code",
   "execution_count": 44,
   "metadata": {},
   "outputs": [],
   "source": [
    "with Simulation(r\"C:\\Users\\R. Seth Herbst\\Desktop\\SWMM Programs and Files\\SWMMIO_Altered_INPUTS\\Meadow_Creek_Hydrology_Model_UpdatedMar2021_Adjusted_SB_Parameters.inp\", reportfile = r'C:\\Users\\R. Seth Herbst\\Desktop\\SWMM Programs and Files\\SWMMIO_Altered_INPUTS\\Meadow_Creek_Hydrology_Model_UpdatedMar2021_Adjusted_SB_Parameters.txt') as sim:\n",
    "    \n",
    "    \n",
    "    control_time_step = 86400*3\n",
    "    sim.step_advance(control_time_step)\n",
    "    \n",
    "    \n",
    "    #Load in subcatchment lid list\n",
    "    \n",
    "    lid_sub_73081 = LidGroups(sim)['73081']\n",
    "    lid_sub_72671 = LidGroups(sim)['72671']\n",
    "    lid_sub_72591 = LidGroups(sim)['72591']\n",
    "    lid_sub_72631 = LidGroups(sim)['72631']\n",
    "    lid_sub_72781 = LidGroups(sim)['72781']\n",
    "    lid_sub_72731 = LidGroups(sim)['72731']\n",
    "    lid_sub_72951 = LidGroups(sim)['72951']\n",
    "    lid_sub_73211 = LidGroups(sim)['73211']\n",
    "    lid_sub_73181 = LidGroups(sim)['73181']\n",
    "    lid_sub_73171 = LidGroups(sim)['73171']\n",
    "    lid_sub_73121 = LidGroups(sim)['73121']\n",
    "    lid_sub_73201 = LidGroups(sim)['73201']\n",
    "    lid_sub_73301 = LidGroups(sim)['73301']\n",
    "    lid_sub_73321 = LidGroups(sim)['73321']\n",
    "    lid_sub_73391 = LidGroups(sim)['73391']\n",
    "    lid_sub_73461 = LidGroups(sim)['73461']\n",
    "    lid_sub_73551 = LidGroups(sim)['73551']\n",
    "    lid_sub_73421 = LidGroups(sim)['73421']\n",
    "    lid_sub_73531 = LidGroups(sim)['73531']\n",
    "    lid_sub_73571 = LidGroups(sim)['73571']\n",
    "    \n",
    "    \n",
    "#     #Set LID Areas!\n",
    "\n",
    "    \n",
    "    lid_sub_73081[0].unit_area = subbasin_attributes.at[73081,'GreenRoof_Assigned_Areas']\n",
    "    lid_sub_73081[1].unit_area = subbasin_attributes.at[73081,'PermeablePavement_Assigned_Areas']\n",
    "    lid_sub_73081[2].unit_area = subbasin_attributes.at[73081,'RainGarden_Assigned_Areas']\n",
    "    lid_sub_73081[3].unit_area = subbasin_attributes.at[73081,'Bioretention_Assigned_Areas']\n",
    "    lid_sub_73081[4].unit_area = subbasin_attributes.at[73081,'GrassSwale_Assigned_Areas']\n",
    "    \n",
    "    lid_sub_72671[0].unit_area = subbasin_attributes.at[72671,'GreenRoof_Assigned_Areas']\n",
    "    lid_sub_72671[1].unit_area = subbasin_attributes.at[72671,'PermeablePavement_Assigned_Areas']\n",
    "    lid_sub_72671[2].unit_area = subbasin_attributes.at[72671,'RainGarden_Assigned_Areas']\n",
    "    lid_sub_72671[3].unit_area = subbasin_attributes.at[72671,'Bioretention_Assigned_Areas']\n",
    "    lid_sub_72671[4].unit_area = subbasin_attributes.at[72671,'GrassSwale_Assigned_Areas']\n",
    "    \n",
    "    lid_sub_72591[0].unit_area = subbasin_attributes.at[72591,'GreenRoof_Assigned_Areas']\n",
    "    lid_sub_72591[1].unit_area = subbasin_attributes.at[72591,'PermeablePavement_Assigned_Areas']\n",
    "    lid_sub_72591[2].unit_area = subbasin_attributes.at[72591,'RainGarden_Assigned_Areas']\n",
    "    lid_sub_72591[3].unit_area = subbasin_attributes.at[72591,'Bioretention_Assigned_Areas']\n",
    "    lid_sub_72591[4].unit_area = subbasin_attributes.at[72591,'GrassSwale_Assigned_Areas']\n",
    "    \n",
    "    lid_sub_72631[0].unit_area = subbasin_attributes.at[72631,'GreenRoof_Assigned_Areas']\n",
    "    lid_sub_72631[1].unit_area = subbasin_attributes.at[72631,'PermeablePavement_Assigned_Areas']\n",
    "    lid_sub_72631[2].unit_area = subbasin_attributes.at[72631,'RainGarden_Assigned_Areas']\n",
    "    lid_sub_72631[3].unit_area = subbasin_attributes.at[72631,'Bioretention_Assigned_Areas']\n",
    "    lid_sub_72631[4].unit_area = subbasin_attributes.at[72631,'GrassSwale_Assigned_Areas']\n",
    "    \n",
    "    lid_sub_72781[0].unit_area = subbasin_attributes.at[72781,'GreenRoof_Assigned_Areas']\n",
    "    lid_sub_72781[1].unit_area = subbasin_attributes.at[72781,'PermeablePavement_Assigned_Areas']\n",
    "    lid_sub_72781[2].unit_area = subbasin_attributes.at[72781,'RainGarden_Assigned_Areas']\n",
    "    lid_sub_72781[3].unit_area = subbasin_attributes.at[72781,'Bioretention_Assigned_Areas']\n",
    "    lid_sub_72781[4].unit_area = subbasin_attributes.at[72781,'GrassSwale_Assigned_Areas']\n",
    "    \n",
    "    lid_sub_72731[0].unit_area = subbasin_attributes.at[72731,'GreenRoof_Assigned_Areas']\n",
    "    lid_sub_72731[1].unit_area = subbasin_attributes.at[72731,'PermeablePavement_Assigned_Areas']\n",
    "    lid_sub_72731[2].unit_area = subbasin_attributes.at[72731,'RainGarden_Assigned_Areas']\n",
    "    lid_sub_72731[3].unit_area = subbasin_attributes.at[72731,'Bioretention_Assigned_Areas']\n",
    "    lid_sub_72731[4].unit_area = subbasin_attributes.at[72731,'GrassSwale_Assigned_Areas']\n",
    "    \n",
    "    lid_sub_72951[0].unit_area = subbasin_attributes.at[72951,'GreenRoof_Assigned_Areas']\n",
    "    lid_sub_72951[1].unit_area = subbasin_attributes.at[72951,'PermeablePavement_Assigned_Areas']\n",
    "    lid_sub_72951[2].unit_area = subbasin_attributes.at[72951,'RainGarden_Assigned_Areas']\n",
    "    lid_sub_72951[3].unit_area = subbasin_attributes.at[72951,'PermeablePavement_Assigned_Areas']\n",
    "    lid_sub_72951[4].unit_area = subbasin_attributes.at[72951,'GrassSwale_Assigned_Areas']\n",
    "    \n",
    "    lid_sub_73211[0].unit_area = subbasin_attributes.at[73211,'GreenRoof_Assigned_Areas']\n",
    "    lid_sub_73211[1].unit_area = subbasin_attributes.at[73211,'PermeablePavement_Assigned_Areas']\n",
    "    lid_sub_73211[2].unit_area = subbasin_attributes.at[73211,'RainGarden_Assigned_Areas']\n",
    "    lid_sub_73211[3].unit_area = subbasin_attributes.at[73211,'Bioretention_Assigned_Areas']\n",
    "    lid_sub_73211[4].unit_area = subbasin_attributes.at[73211,'GrassSwale_Assigned_Areas']\n",
    "    \n",
    "    lid_sub_73181[0].unit_area = subbasin_attributes.at[73181,'GreenRoof_Assigned_Areas']\n",
    "    lid_sub_73181[1].unit_area = subbasin_attributes.at[73181,'PermeablePavement_Assigned_Areas']\n",
    "    lid_sub_73181[2].unit_area = subbasin_attributes.at[73181,'RainGarden_Assigned_Areas']\n",
    "    lid_sub_73181[3].unit_area = subbasin_attributes.at[73181,'Bioretention_Assigned_Areas']\n",
    "    lid_sub_73181[4].unit_area = subbasin_attributes.at[73181,'GrassSwale_Assigned_Areas']\n",
    "    \n",
    "    lid_sub_73171[0].unit_area = subbasin_attributes.at[73171,'GreenRoof_Assigned_Areas']\n",
    "    lid_sub_73171[1].unit_area = subbasin_attributes.at[73171,'PermeablePavement_Assigned_Areas']\n",
    "    lid_sub_73171[2].unit_area = subbasin_attributes.at[73171,'RainGarden_Assigned_Areas']\n",
    "    lid_sub_73171[3].unit_area = subbasin_attributes.at[73171,'Bioretention_Assigned_Areas']\n",
    "    lid_sub_73171[4].unit_area = subbasin_attributes.at[73171,'GrassSwale_Assigned_Areas']\n",
    "    \n",
    "    lid_sub_73121[0].unit_area = subbasin_attributes.at[73121,'GreenRoof_Assigned_Areas']\n",
    "    lid_sub_73121[1].unit_area = subbasin_attributes.at[73121,'PermeablePavement_Assigned_Areas']\n",
    "    lid_sub_73121[2].unit_area = subbasin_attributes.at[73121,'RainGarden_Assigned_Areas']\n",
    "    lid_sub_73121[3].unit_area = subbasin_attributes.at[73121,'Bioretention_Assigned_Areas']\n",
    "    lid_sub_73121[4].unit_area = subbasin_attributes.at[73121,'GrassSwale_Assigned_Areas']\n",
    "    \n",
    "    lid_sub_73201[0].unit_area = subbasin_attributes.at[73201,'GreenRoof_Assigned_Areas']\n",
    "    lid_sub_73201[1].unit_area = subbasin_attributes.at[73201,'PermeablePavement_Assigned_Areas']\n",
    "    lid_sub_73201[2].unit_area = subbasin_attributes.at[73201,'RainGarden_Assigned_Areas']\n",
    "    lid_sub_73201[3].unit_area = subbasin_attributes.at[73201,'Bioretention_Assigned_Areas']\n",
    "    lid_sub_73201[4].unit_area = subbasin_attributes.at[73201,'GrassSwale_Assigned_Areas']\n",
    "    \n",
    "    lid_sub_73301[0].unit_area = subbasin_attributes.at[73301,'GreenRoof_Assigned_Areas']\n",
    "    lid_sub_73301[1].unit_area = subbasin_attributes.at[73301,'PermeablePavement_Assigned_Areas']\n",
    "    lid_sub_73301[2].unit_area = subbasin_attributes.at[73301,'RainGarden_Assigned_Areas']\n",
    "    lid_sub_73301[3].unit_area = subbasin_attributes.at[73301,'Bioretention_Assigned_Areas']\n",
    "    lid_sub_73301[4].unit_area = subbasin_attributes.at[73301,'GrassSwale_Assigned_Areas']\n",
    "    \n",
    "    lid_sub_73321[0].unit_area = subbasin_attributes.at[73321,'GreenRoof_Assigned_Areas']\n",
    "    lid_sub_73321[1].unit_area = subbasin_attributes.at[73321,'PermeablePavement_Assigned_Areas']\n",
    "    lid_sub_73321[2].unit_area = subbasin_attributes.at[73321,'RainGarden_Assigned_Areas']\n",
    "    lid_sub_73321[3].unit_area = subbasin_attributes.at[73321,'Bioretention_Assigned_Areas']\n",
    "    lid_sub_73321[4].unit_area = subbasin_attributes.at[73321,'GrassSwale_Assigned_Areas']\n",
    "    \n",
    "    lid_sub_73391[0].unit_area = subbasin_attributes.at[73391,'GreenRoof_Assigned_Areas']\n",
    "    lid_sub_73391[1].unit_area = subbasin_attributes.at[73391,'PermeablePavement_Assigned_Areas']\n",
    "    lid_sub_73391[2].unit_area = subbasin_attributes.at[73391,'RainGarden_Assigned_Areas']\n",
    "    lid_sub_73391[3].unit_area = subbasin_attributes.at[73391,'Bioretention_Assigned_Areas']\n",
    "    lid_sub_73391[4].unit_area = subbasin_attributes.at[73391,'GrassSwale_Assigned_Areas']\n",
    "    \n",
    "    lid_sub_73461[0].unit_area = subbasin_attributes.at[73461,'GreenRoof_Assigned_Areas']\n",
    "    lid_sub_73461[1].unit_area = subbasin_attributes.at[73461,'PermeablePavement_Assigned_Areas']\n",
    "    lid_sub_73461[2].unit_area = subbasin_attributes.at[73461,'RainGarden_Assigned_Areas']\n",
    "    lid_sub_73461[3].unit_area = subbasin_attributes.at[73461,'Bioretention_Assigned_Areas']\n",
    "    lid_sub_73461[4].unit_area = subbasin_attributes.at[73461,'GrassSwale_Assigned_Areas']\n",
    "    \n",
    "    lid_sub_73551[0].unit_area = subbasin_attributes.at[73551,'GreenRoof_Assigned_Areas']\n",
    "    lid_sub_73551[1].unit_area = subbasin_attributes.at[73551,'PermeablePavement_Assigned_Areas']\n",
    "    lid_sub_73551[2].unit_area = subbasin_attributes.at[73551,'RainGarden_Assigned_Areas']\n",
    "    lid_sub_73551[3].unit_area = subbasin_attributes.at[73551,'Bioretention_Assigned_Areas']\n",
    "    lid_sub_73551[4].unit_area = subbasin_attributes.at[73551,'GrassSwale_Assigned_Areas']\n",
    "    \n",
    "    lid_sub_73421[0].unit_area = subbasin_attributes.at[73421,'GreenRoof_Assigned_Areas']\n",
    "    lid_sub_73421[1].unit_area = subbasin_attributes.at[73421,'PermeablePavement_Assigned_Areas']\n",
    "    lid_sub_73421[2].unit_area = subbasin_attributes.at[73421,'RainGarden_Assigned_Areas']\n",
    "    lid_sub_73421[3].unit_area = subbasin_attributes.at[73421,'Bioretention_Assigned_Areas']\n",
    "    lid_sub_73421[4].unit_area = subbasin_attributes.at[73421,'GrassSwale_Assigned_Areas']\n",
    "    \n",
    "    lid_sub_73531[0].unit_area = subbasin_attributes.at[73531,'GreenRoof_Assigned_Areas']\n",
    "    lid_sub_73531[1].unit_area = subbasin_attributes.at[73531,'PermeablePavement_Assigned_Areas']\n",
    "    lid_sub_73531[2].unit_area = subbasin_attributes.at[73531,'RainGarden_Assigned_Areas']\n",
    "    lid_sub_73531[3].unit_area = subbasin_attributes.at[73531,'Bioretention_Assigned_Areas']\n",
    "    lid_sub_73531[4].unit_area = subbasin_attributes.at[73531,'GrassSwale_Assigned_Areas']\n",
    "    \n",
    "    lid_sub_73571[0].unit_area = subbasin_attributes.at[73571,'GreenRoof_Assigned_Areas']\n",
    "    lid_sub_73571[1].unit_area = subbasin_attributes.at[73571,'PermeablePavement_Assigned_Areas']\n",
    "    lid_sub_73571[2].unit_area = subbasin_attributes.at[73571,'RainGarden_Assigned_Areas']\n",
    "    lid_sub_73571[3].unit_area = subbasin_attributes.at[73571,'Bioretention_Assigned_Areas']\n",
    "    lid_sub_73571[4].unit_area = subbasin_attributes.at[73571,'GrassSwale_Assigned_Areas']\n",
    "    \n",
    "    \n",
    "    \n",
    "#Set Percent Impervious Areas Treated\n",
    "\n",
    "\n",
    "    lid_sub_73081[1].from_impervious = subbasin_attributes.at[73081,'PermeablePavement_%ImpArea_Treated'] \n",
    "    lid_sub_73081[2].from_impervious = subbasin_attributes.at[73081,'RainGarden_%ImpArea_Treated'] \n",
    "    lid_sub_73081[3].from_impervious = subbasin_attributes.at[73081,'Bioretention_%ImpArea_Treated'] \n",
    "    lid_sub_73081[4].from_impervious = subbasin_attributes.at[73081,'GrassSwale_%ImpArea_Treated'] \n",
    "    \n",
    "    lid_sub_72671[1].from_impervious = subbasin_attributes.at[72671,'PermeablePavement_%ImpArea_Treated'] \n",
    "    lid_sub_72671[2].from_impervious = subbasin_attributes.at[72671,'RainGarden_%ImpArea_Treated'] \n",
    "    lid_sub_72671[3].from_impervious = subbasin_attributes.at[72671,'Bioretention_%ImpArea_Treated'] \n",
    "    lid_sub_72671[4].from_impervious = subbasin_attributes.at[72671,'GrassSwale_%ImpArea_Treated'] \n",
    "    \n",
    "    lid_sub_72591[1].from_impervious = subbasin_attributes.at[72591,'PermeablePavement_%ImpArea_Treated'] \n",
    "    lid_sub_72591[2].from_impervious = subbasin_attributes.at[72591,'RainGarden_%ImpArea_Treated'] \n",
    "    lid_sub_72591[3].from_impervious = subbasin_attributes.at[72591,'Bioretention_%ImpArea_Treated'] \n",
    "    lid_sub_72591[4].from_impervious = subbasin_attributes.at[72591,'GrassSwale_%ImpArea_Treated'] \n",
    "    \n",
    "    lid_sub_72631[1].from_impervious = subbasin_attributes.at[72631,'PermeablePavement_%ImpArea_Treated'] \n",
    "    lid_sub_72631[2].from_impervious = subbasin_attributes.at[72631,'RainGarden_%ImpArea_Treated'] \n",
    "    lid_sub_72631[3].from_impervious = subbasin_attributes.at[72631,'Bioretention_%ImpArea_Treated'] \n",
    "    lid_sub_72631[4].from_impervious = subbasin_attributes.at[72631,'GrassSwale_%ImpArea_Treated'] \n",
    "    \n",
    "    lid_sub_72781[1].from_impervious = subbasin_attributes.at[72781,'PermeablePavement_%ImpArea_Treated'] \n",
    "    lid_sub_72781[2].from_impervious = subbasin_attributes.at[72781,'RainGarden_%ImpArea_Treated'] \n",
    "    lid_sub_72781[3].from_impervious = subbasin_attributes.at[72781,'Bioretention_%ImpArea_Treated'] \n",
    "    lid_sub_72781[4].from_impervious = subbasin_attributes.at[72781,'GrassSwale_%ImpArea_Treated'] \n",
    "    \n",
    "    lid_sub_72731[1].from_impervious = subbasin_attributes.at[72731,'PermeablePavement_%ImpArea_Treated'] \n",
    "    lid_sub_72731[2].from_impervious = subbasin_attributes.at[72731,'RainGarden_%ImpArea_Treated'] \n",
    "    lid_sub_72731[3].from_impervious = subbasin_attributes.at[72731,'Bioretention_%ImpArea_Treated'] \n",
    "    lid_sub_72731[4].from_impervious = subbasin_attributes.at[72731,'GrassSwale_%ImpArea_Treated'] \n",
    "    \n",
    "    lid_sub_72951[1].from_impervious = subbasin_attributes.at[72951,'PermeablePavement_%ImpArea_Treated'] \n",
    "    lid_sub_72951[2].from_impervious = subbasin_attributes.at[72951,'RainGarden_%ImpArea_Treated'] \n",
    "    lid_sub_72951[3].from_impervious = subbasin_attributes.at[72951,'Bioretention_%ImpArea_Treated'] \n",
    "    lid_sub_72951[4].from_impervious = subbasin_attributes.at[72951,'GrassSwale_%ImpArea_Treated'] \n",
    "    \n",
    "    \n",
    "    lid_sub_73211[1].from_impervious = subbasin_attributes.at[73211,'PermeablePavement_%ImpArea_Treated'] \n",
    "    lid_sub_73211[2].from_impervious = subbasin_attributes.at[73211,'RainGarden_%ImpArea_Treated'] \n",
    "    lid_sub_73211[3].from_impervious = subbasin_attributes.at[73211,'Bioretention_%ImpArea_Treated'] \n",
    "    lid_sub_73211[4].from_impervious = subbasin_attributes.at[73211,'GrassSwale_%ImpArea_Treated'] \n",
    "    \n",
    "    lid_sub_73181[1].from_impervious = subbasin_attributes.at[73181,'PermeablePavement_%ImpArea_Treated'] \n",
    "    lid_sub_73181[2].from_impervious = subbasin_attributes.at[73181,'RainGarden_%ImpArea_Treated'] \n",
    "    lid_sub_73181[3].from_impervious = subbasin_attributes.at[73181,'Bioretention_%ImpArea_Treated'] \n",
    "    lid_sub_73181[4].from_impervious = subbasin_attributes.at[73181,'GrassSwale_%ImpArea_Treated'] \n",
    "    \n",
    "    lid_sub_73171[1].from_impervious = subbasin_attributes.at[73181,'PermeablePavement_%ImpArea_Treated'] \n",
    "    lid_sub_73171[2].from_impervious = subbasin_attributes.at[73181,'RainGarden_%ImpArea_Treated'] \n",
    "    lid_sub_73171[3].from_impervious = subbasin_attributes.at[73181,'Bioretention_%ImpArea_Treated'] \n",
    "    lid_sub_73171[4].from_impervious = subbasin_attributes.at[73181,'GrassSwale_%ImpArea_Treated'] \n",
    "    \n",
    "    lid_sub_73121[1].from_impervious = subbasin_attributes.at[73121,'PermeablePavement_%ImpArea_Treated'] \n",
    "    lid_sub_73121[2].from_impervious = subbasin_attributes.at[73121,'RainGarden_%ImpArea_Treated'] \n",
    "    lid_sub_73121[3].from_impervious = subbasin_attributes.at[73121,'Bioretention_%ImpArea_Treated'] \n",
    "    lid_sub_73121[4].from_impervious = subbasin_attributes.at[73121,'GrassSwale_%ImpArea_Treated'] \n",
    "    \n",
    "    lid_sub_73201[1].from_impervious = subbasin_attributes.at[73201,'PermeablePavement_%ImpArea_Treated'] \n",
    "    lid_sub_73201[2].from_impervious = subbasin_attributes.at[73201,'RainGarden_%ImpArea_Treated'] \n",
    "    lid_sub_73201[3].from_impervious = subbasin_attributes.at[73201,'Bioretention_%ImpArea_Treated'] \n",
    "    lid_sub_73201[4].from_impervious = subbasin_attributes.at[73201,'GrassSwale_%ImpArea_Treated'] \n",
    "    \n",
    "    lid_sub_73301[1].from_impervious = subbasin_attributes.at[73301,'PermeablePavement_%ImpArea_Treated'] \n",
    "    lid_sub_73301[2].from_impervious = subbasin_attributes.at[73301,'RainGarden_%ImpArea_Treated'] \n",
    "    lid_sub_73301[3].from_impervious = subbasin_attributes.at[73301,'Bioretention_%ImpArea_Treated'] \n",
    "    lid_sub_73301[4].from_impervious = subbasin_attributes.at[73301,'GrassSwale_%ImpArea_Treated'] \n",
    "    \n",
    "    lid_sub_73321[1].from_impervious = subbasin_attributes.at[73321,'PermeablePavement_%ImpArea_Treated'] \n",
    "    lid_sub_73321[2].from_impervious = subbasin_attributes.at[73321,'RainGarden_%ImpArea_Treated'] \n",
    "    lid_sub_73321[3].from_impervious = subbasin_attributes.at[73321,'Bioretention_%ImpArea_Treated'] \n",
    "    lid_sub_73321[4].from_impervious = subbasin_attributes.at[73321,'GrassSwale_%ImpArea_Treated'] \n",
    "    \n",
    "    lid_sub_73391[1].from_impervious = subbasin_attributes.at[73391,'PermeablePavement_%ImpArea_Treated'] \n",
    "    lid_sub_73391[2].from_impervious = subbasin_attributes.at[73391,'RainGarden_%ImpArea_Treated'] \n",
    "    lid_sub_73391[3].from_impervious = subbasin_attributes.at[73391,'Bioretention_%ImpArea_Treated'] \n",
    "    lid_sub_73391[4].from_impervious = subbasin_attributes.at[73391,'GrassSwale_%ImpArea_Treated'] \n",
    "    \n",
    "    lid_sub_73461[1].from_impervious = subbasin_attributes.at[73461,'PermeablePavement_%ImpArea_Treated'] \n",
    "    lid_sub_73461[2].from_impervious = subbasin_attributes.at[73461,'RainGarden_%ImpArea_Treated'] \n",
    "    lid_sub_73461[3].from_impervious = subbasin_attributes.at[73461,'Bioretention_%ImpArea_Treated'] \n",
    "    lid_sub_73461[4].from_impervious = subbasin_attributes.at[73461,'GrassSwale_%ImpArea_Treated'] \n",
    "    \n",
    "    lid_sub_73551[1].from_impervious = subbasin_attributes.at[73551,'PermeablePavement_%ImpArea_Treated'] \n",
    "    lid_sub_73551[2].from_impervious = subbasin_attributes.at[73551,'RainGarden_%ImpArea_Treated'] \n",
    "    lid_sub_73551[3].from_impervious = subbasin_attributes.at[73551,'Bioretention_%ImpArea_Treated'] \n",
    "    lid_sub_73551[4].from_impervious = subbasin_attributes.at[73551,'GrassSwale_%ImpArea_Treated'] \n",
    "    \n",
    "    lid_sub_73421[1].from_impervious = subbasin_attributes.at[73421,'PermeablePavement_%ImpArea_Treated'] \n",
    "    lid_sub_73421[2].from_impervious = subbasin_attributes.at[73421,'RainGarden_%ImpArea_Treated'] \n",
    "    lid_sub_73421[3].from_impervious = subbasin_attributes.at[73421,'Bioretention_%ImpArea_Treated'] \n",
    "    lid_sub_73421[4].from_impervious = subbasin_attributes.at[73421,'GrassSwale_%ImpArea_Treated'] \n",
    "    \n",
    "    lid_sub_73531[1].from_impervious = subbasin_attributes.at[73531,'PermeablePavement_%ImpArea_Treated'] \n",
    "    lid_sub_73531[2].from_impervious = subbasin_attributes.at[73531,'RainGarden_%ImpArea_Treated'] \n",
    "    lid_sub_73531[3].from_impervious = subbasin_attributes.at[73531,'Bioretention_%ImpArea_Treated'] \n",
    "    lid_sub_73531[4].from_impervious = subbasin_attributes.at[73531,'GrassSwale_%ImpArea_Treated'] \n",
    "    \n",
    "    lid_sub_73571[1].from_impervious = subbasin_attributes.at[73571,'PermeablePavement_%ImpArea_Treated'] \n",
    "    lid_sub_73571[2].from_impervious = subbasin_attributes.at[73571,'RainGarden_%ImpArea_Treated'] \n",
    "    lid_sub_73571[3].from_impervious = subbasin_attributes.at[73571,'Bioretention_%ImpArea_Treated'] \n",
    "    lid_sub_73571[4].from_impervious = subbasin_attributes.at[73571,'GrassSwale_%ImpArea_Treated'] \n",
    "\n",
    "# Set % Pervious Areas Treated\n",
    "    \n",
    "    lid_sub_73081[2].from_pervious = subbasin_attributes.at[73081,'RainGarden_%PervArea_Treated']  \n",
    "    lid_sub_73081[3].from_pervious = subbasin_attributes.at[73081,'Bioretention_%PervArea_Treated']  \n",
    "    lid_sub_73081[4].from_pervious = subbasin_attributes.at[73081,'GrassSwale_%PervArea_Treated']  \n",
    "    \n",
    "    lid_sub_72671[2].from_pervious = subbasin_attributes.at[72671,'RainGarden_%PervArea_Treated']  \n",
    "    lid_sub_72671[3].from_pervious = subbasin_attributes.at[72671,'Bioretention_%PervArea_Treated']  \n",
    "    lid_sub_72671[4].from_pervious = subbasin_attributes.at[72671,'GrassSwale_%PervArea_Treated']  \n",
    "    \n",
    "    lid_sub_72591[2].from_pervious = subbasin_attributes.at[72591,'RainGarden_%PervArea_Treated']  \n",
    "    lid_sub_72591[3].from_pervious = subbasin_attributes.at[72591,'Bioretention_%PervArea_Treated']  \n",
    "    lid_sub_72591[4].from_pervious = subbasin_attributes.at[72591,'GrassSwale_%PervArea_Treated']  \n",
    "    \n",
    "    lid_sub_72631[2].from_pervious = subbasin_attributes.at[72631,'RainGarden_%PervArea_Treated']  \n",
    "    lid_sub_72631[3].from_pervious = subbasin_attributes.at[72631,'Bioretention_%PervArea_Treated']  \n",
    "    lid_sub_72631[4].from_pervious = subbasin_attributes.at[72631,'GrassSwale_%PervArea_Treated']  \n",
    "    \n",
    "    lid_sub_72781[2].from_pervious = subbasin_attributes.at[72781,'RainGarden_%PervArea_Treated']  \n",
    "    lid_sub_72781[3].from_pervious = subbasin_attributes.at[72781,'Bioretention_%PervArea_Treated']  \n",
    "    lid_sub_72781[4].from_pervious = subbasin_attributes.at[72781,'GrassSwale_%PervArea_Treated']  \n",
    "    \n",
    "    lid_sub_72731[2].from_pervious = subbasin_attributes.at[72731,'RainGarden_%PervArea_Treated']  \n",
    "    lid_sub_72731[3].from_pervious = subbasin_attributes.at[72731,'Bioretention_%PervArea_Treated']  \n",
    "    lid_sub_72731[4].from_pervious = subbasin_attributes.at[72731,'GrassSwale_%PervArea_Treated']  \n",
    "    \n",
    "    lid_sub_72951[2].from_pervious = subbasin_attributes.at[72951,'RainGarden_%PervArea_Treated']  \n",
    "    lid_sub_72951[3].from_pervious = subbasin_attributes.at[72951,'Bioretention_%PervArea_Treated']  \n",
    "    lid_sub_72951[4].from_pervious = subbasin_attributes.at[72951,'GrassSwale_%PervArea_Treated']  \n",
    "    \n",
    "    lid_sub_73211[2].from_pervious = subbasin_attributes.at[73211,'RainGarden_%PervArea_Treated']  \n",
    "    lid_sub_73211[3].from_pervious = subbasin_attributes.at[73211,'Bioretention_%PervArea_Treated']  \n",
    "    lid_sub_73211[4].from_pervious = subbasin_attributes.at[73211,'GrassSwale_%PervArea_Treated']  \n",
    "    \n",
    "    lid_sub_73181[2].from_pervious = subbasin_attributes.at[73181,'RainGarden_%PervArea_Treated']  \n",
    "    lid_sub_73181[3].from_pervious = subbasin_attributes.at[73181,'Bioretention_%PervArea_Treated']  \n",
    "    lid_sub_73181[4].from_pervious = subbasin_attributes.at[73181,'GrassSwale_%PervArea_Treated']  \n",
    "    \n",
    "    lid_sub_73171[2].from_pervious = subbasin_attributes.at[73171,'RainGarden_%PervArea_Treated']  \n",
    "    lid_sub_73171[3].from_pervious = subbasin_attributes.at[73171,'Bioretention_%PervArea_Treated']  \n",
    "    lid_sub_73171[4].from_pervious = subbasin_attributes.at[73171,'GrassSwale_%PervArea_Treated']  \n",
    "    \n",
    "    lid_sub_73121[2].from_pervious = subbasin_attributes.at[73121,'RainGarden_%PervArea_Treated']  \n",
    "    lid_sub_73121[3].from_pervious = subbasin_attributes.at[73121,'Bioretention_%PervArea_Treated']  \n",
    "    lid_sub_73121[4].from_pervious = subbasin_attributes.at[73121,'GrassSwale_%PervArea_Treated']  \n",
    "    \n",
    "    lid_sub_73201[2].from_pervious = subbasin_attributes.at[73201,'RainGarden_%PervArea_Treated']  \n",
    "    lid_sub_73201[3].from_pervious = subbasin_attributes.at[73201,'Bioretention_%PervArea_Treated']  \n",
    "    lid_sub_73201[4].from_pervious = subbasin_attributes.at[73201,'GrassSwale_%PervArea_Treated']  \n",
    "    \n",
    "    lid_sub_73301[2].from_pervious = subbasin_attributes.at[73301,'RainGarden_%PervArea_Treated']  \n",
    "    lid_sub_73301[3].from_pervious = subbasin_attributes.at[73301,'Bioretention_%PervArea_Treated']  \n",
    "    lid_sub_73301[4].from_pervious = subbasin_attributes.at[73301,'GrassSwale_%PervArea_Treated']  \n",
    "    \n",
    "    lid_sub_73321[2].from_pervious = subbasin_attributes.at[73321,'RainGarden_%PervArea_Treated']  \n",
    "    lid_sub_73321[3].from_pervious = subbasin_attributes.at[73321,'Bioretention_%PervArea_Treated']  \n",
    "    lid_sub_73321[4].from_pervious = subbasin_attributes.at[73321,'GrassSwale_%PervArea_Treated']  \n",
    "    \n",
    "    lid_sub_73391[2].from_pervious = subbasin_attributes.at[73391,'RainGarden_%PervArea_Treated']  \n",
    "    lid_sub_73391[3].from_pervious = subbasin_attributes.at[73391,'Bioretention_%PervArea_Treated']  \n",
    "    lid_sub_73391[4].from_pervious = subbasin_attributes.at[73391,'GrassSwale_%PervArea_Treated']  \n",
    "    \n",
    "    lid_sub_73461[2].from_pervious = subbasin_attributes.at[73391,'RainGarden_%PervArea_Treated']  \n",
    "    lid_sub_73461[3].from_pervious = subbasin_attributes.at[73391,'Bioretention_%PervArea_Treated']  \n",
    "    lid_sub_73461[4].from_pervious = subbasin_attributes.at[73391,'GrassSwale_%PervArea_Treated']  \n",
    "    \n",
    "    lid_sub_73551[2].from_pervious = subbasin_attributes.at[73551,'RainGarden_%PervArea_Treated']  \n",
    "    lid_sub_73551[3].from_pervious = subbasin_attributes.at[73551,'Bioretention_%PervArea_Treated']  \n",
    "    lid_sub_73551[4].from_pervious = subbasin_attributes.at[73551,'GrassSwale_%PervArea_Treated']  \n",
    "    \n",
    "    lid_sub_73421[2].from_pervious = subbasin_attributes.at[73421,'RainGarden_%PervArea_Treated']  \n",
    "    lid_sub_73421[3].from_pervious = subbasin_attributes.at[73421,'Bioretention_%PervArea_Treated']  \n",
    "    lid_sub_73421[4].from_pervious = subbasin_attributes.at[73421,'GrassSwale_%PervArea_Treated']  \n",
    "    \n",
    "    lid_sub_73531[2].from_pervious = subbasin_attributes.at[73531,'RainGarden_%PervArea_Treated']  \n",
    "    lid_sub_73531[3].from_pervious = subbasin_attributes.at[73531,'Bioretention_%PervArea_Treated']  \n",
    "    lid_sub_73531[4].from_pervious = subbasin_attributes.at[73531,'GrassSwale_%PervArea_Treated']  \n",
    "    \n",
    "    lid_sub_73571[2].from_pervious = subbasin_attributes.at[73571,'RainGarden_%PervArea_Treated']  \n",
    "    lid_sub_73571[3].from_pervious = subbasin_attributes.at[73571,'Bioretention_%PervArea_Treated']  \n",
    "    lid_sub_73571[4].from_pervious = subbasin_attributes.at[73571,'GrassSwale_%PervArea_Treated']  \n",
    "\n",
    "\n",
    "    \n",
    "# Run the simulation\n",
    "    for step in sim:\n",
    "        pass\n",
    "    sim.report()\n",
    "    sim.close()\n",
    "                       \n",
    "                       \n"
   ]
  },
  {
   "cell_type": "markdown",
   "metadata": {},
   "source": [
    "## "
   ]
  },
  {
   "cell_type": "markdown",
   "metadata": {},
   "source": [
    "# Results Analysis!!"
   ]
  },
  {
   "cell_type": "markdown",
   "metadata": {},
   "source": [
    "## Input Results CSV's"
   ]
  },
  {
   "cell_type": "code",
   "execution_count": 45,
   "metadata": {},
   "outputs": [],
   "source": [
    "#Subbasin CSV\n",
    "pyswmm_results = pd.read_csv (r\"C:\\Users\\R. Seth Herbst\\Desktop\\SWMM Programs and Files\\PYTHON CSV files for MC\\Target_MC_Subbasin_Results_Analysis.csv\")\n",
    "pyswmm_results = pyswmm_results.set_index('Subbasin')\n",
    "pyswmm_results\n",
    "\n",
    "#Outfall CSV\n",
    "outfall_results = pd.read_csv (r\"C:\\Users\\R. Seth Herbst\\Desktop\\SWMM Programs and Files\\PYTHON CSV files for MC\\pyswmm_Outfall_Results.csv\")\n",
    "outfall_results = outfall_results.set_index('Outlet')"
   ]
  },
  {
   "cell_type": "markdown",
   "metadata": {},
   "source": [
    "## Subcatchment 73081"
   ]
  },
  {
   "cell_type": "code",
   "execution_count": 46,
   "metadata": {},
   "outputs": [],
   "source": [
    "# This is for your Subcatchment 73081\n",
    "reportColumns = [str(i) for i in np.arange(0,7)]\n",
    "rpt_73081 = pd.read_csv(r'C:\\Users\\R. Seth Herbst\\Desktop\\SWMM Programs and Files\\SWMMIO_Altered_INPUTS\\Meadow_Creek_Hydrology_Model_UpdatedMar2021_Adjusted_SB_Parameters.txt', skiprows = 6339, nrows = 78, sep=\"   |    \", names = reportColumns, header = None, engine = 'python')\n",
    "rpt_73081.dropna(axis = 1, inplace = True); # This might be redundant\n",
    "# Check df.head before renaming the columns\n",
    "rpt_73081.rename(columns = {'0':'Date','2':'Precip (in/hr)','3':'Losses (in/hr)','4':'Runoff (CFS)','5':'Total Nitrogen (mg/L)','6':'Total Phosphorous (mg/L)'},inplace = True)"
   ]
  },
  {
   "cell_type": "markdown",
   "metadata": {},
   "source": [
    "### TotalRunoff"
   ]
  },
  {
   "cell_type": "code",
   "execution_count": 47,
   "metadata": {
    "scrolled": true
   },
   "outputs": [
    {
     "name": "stdout",
     "output_type": "stream",
     "text": [
      "Total runoff volume from subbasin 73081 = 36847.87615384616 cubic feet\n"
     ]
    },
    {
     "data": {
      "text/plain": [
       "36847.87615384616"
      ]
     },
     "execution_count": 47,
     "metadata": {},
     "output_type": "execute_result"
    }
   ],
   "source": [
    "totalrunoff_73081 = (rpt_73081['Runoff (CFS)'].mean())*38.5*3600\n",
    "print(\"Total runoff volume from subbasin 73081 = {} cubic feet\" .format(totalrunoff_73081))\n",
    "pyswmm_results.at[73081,'Total Runoff (CF)'] = totalrunoff_73081\n",
    "pyswmm_results.at[73081,'Total Runoff (CF)']"
   ]
  },
  {
   "cell_type": "code",
   "execution_count": 48,
   "metadata": {},
   "outputs": [
    {
     "data": {
      "text/plain": [
       "14810.831538461534"
      ]
     },
     "execution_count": 48,
     "metadata": {},
     "output_type": "execute_result"
    }
   ],
   "source": [
    "runoff_perc_reduction_73081 = ((51658.7076923077 - totalrunoff_73081)/51658.7076923077) *100\n",
    "pyswmm_results.at[73081,'Total Runoff Volume % Reduction'] = runoff_perc_reduction_73081\n",
    "pyswmm_results.at[73081,'Total Runoff Volume % Reduction']\n",
    "\n",
    "runoff_reduction_73081 = 51658.7076923077 - totalrunoff_73081\n",
    "pyswmm_results.at[73081,'Total Runoff Volume Reduction (CF)'] = runoff_reduction_73081\n",
    "pyswmm_results.at[73081,'Total Runoff Volume Reduction (CF)']"
   ]
  },
  {
   "cell_type": "markdown",
   "metadata": {},
   "source": [
    "### Peak Runoff"
   ]
  },
  {
   "cell_type": "code",
   "execution_count": 49,
   "metadata": {},
   "outputs": [
    {
     "name": "stdout",
     "output_type": "stream",
     "text": [
      "Peak runoff from subbasin 73081 = 11.4786 CFS\n"
     ]
    },
    {
     "data": {
      "text/plain": [
       "11.4786"
      ]
     },
     "execution_count": 49,
     "metadata": {},
     "output_type": "execute_result"
    }
   ],
   "source": [
    "peakflow_73081 = rpt_73081['Runoff (CFS)'].max()\n",
    "print('Peak runoff from subbasin 73081 = {} CFS'.format(peakflow_73081))\n",
    "pyswmm_results.at[73081,'Peak Flow (CFS)'] = peakflow_73081\n",
    "pyswmm_results.at[73081,'Peak Flow (CFS)']"
   ]
  },
  {
   "cell_type": "code",
   "execution_count": 50,
   "metadata": {},
   "outputs": [
    {
     "data": {
      "text/plain": [
       "3.8771000000000004"
      ]
     },
     "execution_count": 50,
     "metadata": {},
     "output_type": "execute_result"
    }
   ],
   "source": [
    "peak_runoff_reduction_percentage_73081 = ((15.3557 - peakflow_73081)/15.3557)*100\n",
    "pyswmm_results.at[73081,'Peak Flow % Reduction'] = peak_runoff_reduction_percentage_73081\n",
    "pyswmm_results.at[73081,'Peak Flow % Reduction'] \n",
    "\n",
    "peak_runoff_reduction_73081 = 15.3557 - peakflow_73081\n",
    "pyswmm_results.at[73081,'Peak Flow Reduction (CFS)'] = peak_runoff_reduction_73081\n",
    "pyswmm_results.at[73081,'Peak Flow Reduction (CFS)'] \n"
   ]
  },
  {
   "cell_type": "markdown",
   "metadata": {},
   "source": [
    "### TN Load Analysis"
   ]
  },
  {
   "cell_type": "code",
   "execution_count": 51,
   "metadata": {},
   "outputs": [
    {
     "name": "stdout",
     "output_type": "stream",
     "text": [
      "Total TN load = 410.998075338148 grams \n"
     ]
    },
    {
     "data": {
      "text/plain": [
       "410.998075338148"
      ]
     },
     "execution_count": 51,
     "metadata": {},
     "output_type": "execute_result"
    }
   ],
   "source": [
    "load_TN_73081 = (rpt_73081['Runoff (CFS)'].mean() * rpt_73081['Total Nitrogen (mg/L)'].mean() * 28.3168 * 38.5*3600) /1000\n",
    "print('Total TN load = {} grams '.format(load_TN_73081))\n",
    "pyswmm_results.at[73081,'TN Load (grams)'] = load_TN_73081\n",
    "pyswmm_results.at[73081,'TN Load (grams)']"
   ]
  },
  {
   "cell_type": "code",
   "execution_count": 52,
   "metadata": {},
   "outputs": [
    {
     "data": {
      "text/plain": [
       "424.49107910900017"
      ]
     },
     "execution_count": 52,
     "metadata": {},
     "output_type": "execute_result"
    }
   ],
   "source": [
    "total_nitrogen_reduction_percentage_73081 = ((835.4891544471482 - load_TN_73081)/835.4891544471482)*100\n",
    "pyswmm_results.at[73081,'TN Load % Reduction']=total_nitrogen_reduction_percentage_73081\n",
    "pyswmm_results.at[73081,'TN Load % Reduction']\n",
    "\n",
    "total_nitrogen_reduction_73081 = 835.4891544471482 - load_TN_73081\n",
    "pyswmm_results.at[73081,'TN Load Reduction (grams)']= total_nitrogen_reduction_73081\n",
    "pyswmm_results.at[73081,'TN Load Reduction (grams)']\n",
    "\n"
   ]
  },
  {
   "cell_type": "markdown",
   "metadata": {},
   "source": [
    "### TP Load Analysis"
   ]
  },
  {
   "cell_type": "code",
   "execution_count": 53,
   "metadata": {},
   "outputs": [
    {
     "name": "stdout",
     "output_type": "stream",
     "text": [
      "Total TP load = 132.27278248091426 grams \n"
     ]
    },
    {
     "data": {
      "text/plain": [
       "132.27278248091426"
      ]
     },
     "execution_count": 53,
     "metadata": {},
     "output_type": "execute_result"
    }
   ],
   "source": [
    "load_TP_73081 = (rpt_73081['Runoff (CFS)'].mean() * rpt_73081['Total Phosphorous (mg/L)'].mean() * 28.3168 * 38.5*3600) /1000\n",
    "print('Total TP load = {} grams '.format(load_TP_73081))\n",
    "pyswmm_results.at[73081,'TP Load (grams)'] = load_TP_73081\n",
    "pyswmm_results.at[73081,'TP Load (grams)']"
   ]
  },
  {
   "cell_type": "code",
   "execution_count": 54,
   "metadata": {
    "scrolled": true
   },
   "outputs": [
    {
     "data": {
      "text/plain": [
       "136.9403895076116"
      ]
     },
     "execution_count": 54,
     "metadata": {},
     "output_type": "execute_result"
    }
   ],
   "source": [
    "total_phosphorus_reduction_percentage_73081 = ((269.21317198852586- load_TP_73081)/269.21317198852586)*100\n",
    "pyswmm_results.at[73081,'TP Load % Reduction'] = total_phosphorus_reduction_percentage_73081\n",
    "pyswmm_results.at[73081,'TP Load % Reduction']\n",
    "\n",
    "total_phosphorus_reduction_73081 = 269.21317198852586- load_TP_73081\n",
    "pyswmm_results.at[73081,'TP Load Reduction (grams)'] = total_phosphorus_reduction_73081\n",
    "pyswmm_results.at[73081,'TP Load Reduction (grams)']"
   ]
  },
  {
   "cell_type": "markdown",
   "metadata": {},
   "source": [
    "### Mean Runoff"
   ]
  },
  {
   "cell_type": "code",
   "execution_count": 55,
   "metadata": {},
   "outputs": [
    {
     "data": {
      "text/plain": [
       "28.670542102366536"
      ]
     },
     "execution_count": 55,
     "metadata": {},
     "output_type": "execute_result"
    }
   ],
   "source": [
    "mean_runoff_73081= rpt_73081['Runoff (CFS)'].mean()\n",
    "pyswmm_results.at[73081,'Mean Runoff'] = mean_runoff_73081\n",
    "pyswmm_results.at[73081,'Mean Runoff']\n",
    "\n",
    "mean_runoff_reduction_percentage_73081= ((0.3727179487179488-mean_runoff_73081)/0.3727179487179488)*100\n",
    "pyswmm_results.at[73081,'Mean Runoff % Reduction']= mean_runoff_reduction_percentage_73081\n",
    "pyswmm_results.at[73081,'Mean Runoff % Reduction']"
   ]
  },
  {
   "cell_type": "code",
   "execution_count": 56,
   "metadata": {
    "scrolled": false
   },
   "outputs": [
    {
     "data": {
      "image/png": "[encoded data removed]",
      "text/plain": [
       "<Figure size 432x360 with 2 Axes>"
      ]
     },
     "metadata": {
      "needs_background": "light"
     },
     "output_type": "display_data"
    }
   ],
   "source": [
    "fig,ax1 = plt.subplots(figsize=(6,5))\n",
    "line1 = ax1.plot(rpt_73081['Runoff (CFS)']); plt.ylim((-0.001,50)); plt.xlabel('Time Instances (Hours)'); plt.ylabel('Runoff (CFS)');\n",
    "ax1.legend(['Runoff'],loc='lower left'); ax2 = ax1.twinx(); line2 = ax2.plot(rpt_73081['Precip (in/hr)'],color='orangered');\n",
    "plt.ylim((-0.01,1.4)); plt.ylabel('Precipitation (in/hr)'); plt.gca().invert_yaxis(); ax2.grid(False); ax2.legend(['Precip'],loc='upper right');"
   ]
  },
  {
   "cell_type": "markdown",
   "metadata": {},
   "source": [
    "## Subcatchment 72671"
   ]
  },
  {
   "cell_type": "code",
   "execution_count": 57,
   "metadata": {},
   "outputs": [
    {
     "data": {
      "image/png": "[encoded data removed]",
      "text/plain": [
       "<Figure size 432x360 with 2 Axes>"
      ]
     },
     "metadata": {
      "needs_background": "light"
     },
     "output_type": "display_data"
    }
   ],
   "source": [
    "# This is for your Subcatchment 72671\n",
    "reportColumns = [str(i) for i in np.arange(0,7)]\n",
    "rpt_72671 = pd.read_csv(r'C:\\Users\\R. Seth Herbst\\Desktop\\SWMM Programs and Files\\SWMMIO_Altered_INPUTS\\Meadow_Creek_Hydrology_Model_UpdatedMar2021_Adjusted_SB_Parameters.txt', skiprows = 5829, nrows = 78, sep=\"   |    \", names = reportColumns, header = None, engine = 'python')\n",
    "rpt_72671.dropna(axis = 1, inplace = True); # This might be redundant\n",
    "# Check df.head before renaming the columns\n",
    "rpt_72671.rename(columns = {'0':'Date','2':'Precip (in/hr)','3':'Losses (in/hr)','4':'Runoff (CFS)','5':'Total Nitrogen (mg/L)','6':'Total Phosphorous (mg/L)'},inplace = True)\n",
    "\n",
    "fig,ax1 = plt.subplots(figsize=(6,5))\n",
    "line1 = ax1.plot(rpt_72671['Runoff (CFS)']); plt.ylim((-0.001,25)); plt.xlabel('Time Instances (Hours)'); plt.ylabel('Runoff (CFS)');\n",
    "ax1.legend(['Runoff'],loc='lower left'); ax2 = ax1.twinx(); line2 = ax2.plot(rpt_72671['Precip (in/hr)'],color='orangered');\n",
    "plt.ylim((-0.01,1.4)); plt.ylabel('Precipitation (in/hr)'); plt.gca().invert_yaxis(); ax2.grid(False); ax2.legend(['Precip'],loc='upper right');"
   ]
  },
  {
   "cell_type": "markdown",
   "metadata": {},
   "source": [
    "### Total Runoff"
   ]
  },
  {
   "cell_type": "code",
   "execution_count": 58,
   "metadata": {},
   "outputs": [
    {
     "data": {
      "text/plain": [
       "6974.956153846154"
      ]
     },
     "execution_count": 58,
     "metadata": {},
     "output_type": "execute_result"
    }
   ],
   "source": [
    "totalrunoff_72671 = (rpt_72671['Runoff (CFS)'].mean())*38.5*3600\n",
    "pyswmm_results.at[72671,'Total Runoff (CF)'] = totalrunoff_72671\n",
    "pyswmm_results.at[72671,'Total Runoff (CF)']"
   ]
  },
  {
   "cell_type": "code",
   "execution_count": 59,
   "metadata": {},
   "outputs": [
    {
     "data": {
      "text/plain": [
       "20693.157692307683"
      ]
     },
     "execution_count": 59,
     "metadata": {},
     "output_type": "execute_result"
    }
   ],
   "source": [
    "runoff_perc_reduction_72671 = ((27668.113846153836 - totalrunoff_72671)/27668.113846153836) *100\n",
    "pyswmm_results.at[72671,'Total Runoff Volume % Reduction'] = runoff_perc_reduction_72671\n",
    "pyswmm_results.at[72671,'Total Runoff Volume % Reduction']\n",
    "\n",
    "runoff_reduction_72671 = 27668.113846153836 - totalrunoff_72671\n",
    "pyswmm_results.at[72671,'Total Runoff Volume Reduction (CF)'] = runoff_reduction_72671\n",
    "pyswmm_results.at[72671,'Total Runoff Volume Reduction (CF)']"
   ]
  },
  {
   "cell_type": "markdown",
   "metadata": {},
   "source": [
    "### Peak Flow"
   ]
  },
  {
   "cell_type": "code",
   "execution_count": 60,
   "metadata": {},
   "outputs": [
    {
     "data": {
      "text/plain": [
       "0.9278"
      ]
     },
     "execution_count": 60,
     "metadata": {},
     "output_type": "execute_result"
    }
   ],
   "source": [
    "peakflow_72671 = rpt_72671['Runoff (CFS)'].max()\n",
    "pyswmm_results.at[72671,'Peak Flow (CFS)'] = peakflow_72671\n",
    "pyswmm_results.at[72671,'Peak Flow (CFS)']"
   ]
  },
  {
   "cell_type": "code",
   "execution_count": 61,
   "metadata": {},
   "outputs": [
    {
     "data": {
      "text/plain": [
       "7.3217"
      ]
     },
     "execution_count": 61,
     "metadata": {},
     "output_type": "execute_result"
    }
   ],
   "source": [
    "peak_runoff_reduction_percentage_72671 = ((8.2495 - peakflow_72671)/8.2495)*100\n",
    "pyswmm_results.at[72671,'Peak Flow % Reduction'] = peak_runoff_reduction_percentage_72671\n",
    "pyswmm_results.at[72671,'Peak Flow % Reduction'] \n",
    "\n",
    "peak_runoff_reduction_72671 = 8.2495 - peakflow_72671\n",
    "pyswmm_results.at[72671,'Peak Flow Reduction (CFS)'] = peak_runoff_reduction_72671\n",
    "pyswmm_results.at[72671,'Peak Flow Reduction (CFS)'] "
   ]
  },
  {
   "cell_type": "markdown",
   "metadata": {},
   "source": [
    "### TN Load Analysis"
   ]
  },
  {
   "cell_type": "code",
   "execution_count": 62,
   "metadata": {},
   "outputs": [
    {
     "data": {
      "text/plain": [
       "12.258183979202746"
      ]
     },
     "execution_count": 62,
     "metadata": {},
     "output_type": "execute_result"
    }
   ],
   "source": [
    "load_TN_72671 = (rpt_72671['Runoff (CFS)'].mean() * rpt_72671['Total Nitrogen (mg/L)'].mean() * 28.3168 * 38.5*3600) /1000\n",
    "pyswmm_results.at[72671,'TN Load (grams)'] = load_TN_72671\n",
    "pyswmm_results.at[72671,'TN Load (grams)']"
   ]
  },
  {
   "cell_type": "code",
   "execution_count": 63,
   "metadata": {},
   "outputs": [
    {
     "data": {
      "text/plain": [
       "367.44470588866625"
      ]
     },
     "execution_count": 63,
     "metadata": {},
     "output_type": "execute_result"
    }
   ],
   "source": [
    "total_nitrogen_reduction_percentage_72671 = ((379.702889867869 - load_TN_72671)/379.702889867869)*100\n",
    "pyswmm_results.at[72671,'TN Load % Reduction']=total_nitrogen_reduction_percentage_72671\n",
    "pyswmm_results.at[72671,'TN Load % Reduction']\n",
    "\n",
    "total_nitrogen_reduction_72671 = 379.702889867869 - load_TN_72671\n",
    "pyswmm_results.at[72671,'TN Load Reduction (grams)']=total_nitrogen_reduction_72671\n",
    "pyswmm_results.at[72671,'TN Load Reduction (grams)']"
   ]
  },
  {
   "cell_type": "markdown",
   "metadata": {},
   "source": [
    "### TP Load Analysis"
   ]
  },
  {
   "cell_type": "code",
   "execution_count": 64,
   "metadata": {},
   "outputs": [
    {
     "data": {
      "text/plain": [
       "4.1451450472949585"
      ]
     },
     "execution_count": 64,
     "metadata": {},
     "output_type": "execute_result"
    }
   ],
   "source": [
    "load_TP_72671 = (rpt_72671['Runoff (CFS)'].mean() * rpt_72671['Total Phosphorous (mg/L)'].mean() * 28.3168 * 38.5*3600) /1000\n",
    "pyswmm_results.at[72671,'TP Load (grams)'] = load_TP_72671\n",
    "pyswmm_results.at[72671,'TP Load (grams)']"
   ]
  },
  {
   "cell_type": "code",
   "execution_count": 65,
   "metadata": {},
   "outputs": [
    {
     "data": {
      "text/plain": [
       "124.34433612274307"
      ]
     },
     "execution_count": 65,
     "metadata": {},
     "output_type": "execute_result"
    }
   ],
   "source": [
    "total_phosphorus_reduction_percentage_72671 = ((128.48948117003803- load_TP_72671)/128.48948117003803)*100\n",
    "pyswmm_results.at[72671,'TP Load % Reduction'] = total_phosphorus_reduction_percentage_72671\n",
    "pyswmm_results.at[72671,'TP Load % Reduction']\n",
    "\n",
    "total_phosphorus_reduction_72671 = 128.48948117003803- load_TP_72671\n",
    "pyswmm_results.at[72671,'TP Load Reduction (grams)'] = total_phosphorus_reduction_72671\n",
    "pyswmm_results.at[72671,'TP Load Reduction (grams)']"
   ]
  },
  {
   "cell_type": "markdown",
   "metadata": {},
   "source": [
    "### Mean Runoff"
   ]
  },
  {
   "cell_type": "code",
   "execution_count": 66,
   "metadata": {},
   "outputs": [
    {
     "data": {
      "text/plain": [
       "74.79063375035322"
      ]
     },
     "execution_count": 66,
     "metadata": {},
     "output_type": "execute_result"
    }
   ],
   "source": [
    "mean_runoff_72671= rpt_72671['Runoff (CFS)'].mean()\n",
    "pyswmm_results.at[72671,'Mean Runoff'] = mean_runoff_72671\n",
    "pyswmm_results.at[72671,'Mean Runoff']\n",
    "\n",
    "mean_runoff_reduction_percentage_72671= ((0.19962564102564095-mean_runoff_72671)/0.19962564102564095)*100\n",
    "pyswmm_results.at[72671,'Mean Runoff % Reduction']= mean_runoff_reduction_percentage_72671\n",
    "pyswmm_results.at[72671,'Mean Runoff % Reduction']"
   ]
  },
  {
   "cell_type": "markdown",
   "metadata": {},
   "source": [
    "## Subcatchment 72591"
   ]
  },
  {
   "cell_type": "code",
   "execution_count": 67,
   "metadata": {
    "scrolled": false
   },
   "outputs": [
    {
     "data": {
      "image/png": "[encoded data removed]",
      "text/plain": [
       "<Figure size 432x360 with 2 Axes>"
      ]
     },
     "metadata": {
      "needs_background": "light"
     },
     "output_type": "display_data"
    }
   ],
   "source": [
    "# This is for your Subcatchment 72591\n",
    "reportColumns = [str(i) for i in np.arange(0,7)]\n",
    "rpt_72591 = pd.read_csv(r'C:\\Users\\R. Seth Herbst\\Desktop\\SWMM Programs and Files\\SWMMIO_Altered_INPUTS\\Meadow_Creek_Hydrology_Model_UpdatedMar2021_Adjusted_SB_Parameters.txt', skiprows = 5659, nrows = 78, sep=\"   |    \", names = reportColumns, header = None, engine = 'python')\n",
    "rpt_72591.dropna(axis = 1, inplace = True); # This might be redundant\n",
    "# Check df.head before renaming the columns\n",
    "rpt_72591.rename(columns = {'0':'Date','2':'Precip (in/hr)','3':'Losses (in/hr)','4':'Runoff (CFS)','5':'Total Nitrogen (mg/L)','6':'Total Phosphorous (mg/L)'},inplace = True)\n",
    "\n",
    "fig,ax1 = plt.subplots(figsize=(6,5))\n",
    "line1 = ax1.plot(rpt_72591['Runoff (CFS)']); plt.ylim((-0.001,18)); plt.xlabel('Time Instances (Hours)'); plt.ylabel('Runoff (CFS)');\n",
    "ax1.legend(['Runoff'],loc='lower left'); ax2 = ax1.twinx(); line2 = ax2.plot(rpt_72591['Precip (in/hr)'],color='orangered');\n",
    "plt.ylim((-0.01,1.4)); plt.ylabel('Precipitation (in/hr)'); plt.gca().invert_yaxis(); ax2.grid(False); ax2.legend(['Precip'],loc='upper right');"
   ]
  },
  {
   "cell_type": "markdown",
   "metadata": {},
   "source": [
    "### Total Runoff"
   ]
  },
  {
   "cell_type": "code",
   "execution_count": 68,
   "metadata": {
    "scrolled": true
   },
   "outputs": [
    {
     "data": {
      "text/plain": [
       "1330.2046153846154"
      ]
     },
     "execution_count": 68,
     "metadata": {},
     "output_type": "execute_result"
    }
   ],
   "source": [
    "totalrunoff_72591 = (rpt_72591['Runoff (CFS)'].mean())*38.5*3600\n",
    "pyswmm_results.at[72591,'Total Runoff (CF)'] = totalrunoff_72591\n",
    "pyswmm_results.at[72591,'Total Runoff (CF)']"
   ]
  },
  {
   "cell_type": "code",
   "execution_count": 69,
   "metadata": {},
   "outputs": [
    {
     "data": {
      "text/plain": [
       "20243.063076923067"
      ]
     },
     "execution_count": 69,
     "metadata": {},
     "output_type": "execute_result"
    }
   ],
   "source": [
    "runoff_perc_reduction_72591 = ((21573.267692307683 - totalrunoff_72591)/21573.267692307683) *100\n",
    "pyswmm_results.at[72591,'Total Runoff Volume % Reduction'] = runoff_perc_reduction_72591\n",
    "pyswmm_results.at[72591,'Total Runoff Volume % Reduction']\n",
    "\n",
    "runoff_reduction_72591 = 21573.267692307683 - totalrunoff_72591\n",
    "pyswmm_results.at[72591,'Total Runoff Volume Reduction (CF)'] = runoff_reduction_72591\n",
    "pyswmm_results.at[72591,'Total Runoff Volume Reduction (CF)']"
   ]
  },
  {
   "cell_type": "markdown",
   "metadata": {},
   "source": [
    "### Peak Flow"
   ]
  },
  {
   "cell_type": "code",
   "execution_count": 70,
   "metadata": {},
   "outputs": [
    {
     "data": {
      "text/plain": [
       "0.4321"
      ]
     },
     "execution_count": 70,
     "metadata": {},
     "output_type": "execute_result"
    }
   ],
   "source": [
    "peakflow_72591 = rpt_72591['Runoff (CFS)'].max()\n",
    "pyswmm_results.at[72591,'Peak Flow (CFS)'] = peakflow_72591\n",
    "pyswmm_results.at[72591,'Peak Flow (CFS)']"
   ]
  },
  {
   "cell_type": "code",
   "execution_count": 71,
   "metadata": {},
   "outputs": [
    {
     "data": {
      "text/plain": [
       "6.0887"
      ]
     },
     "execution_count": 71,
     "metadata": {},
     "output_type": "execute_result"
    }
   ],
   "source": [
    "peak_runoff_reduction_percentage_72591 = ((6.5208 - peakflow_72591)/6.5208)*100\n",
    "pyswmm_results.at[72591,'Peak Flow % Reduction'] = peak_runoff_reduction_percentage_72591\n",
    "pyswmm_results.at[72591,'Peak Flow % Reduction'] \n",
    "\n",
    "peak_runoff_reduction_72591 = 6.5208 - peakflow_72591\n",
    "pyswmm_results.at[72591,'Peak Flow Reduction (CFS)'] = peak_runoff_reduction_72591\n",
    "pyswmm_results.at[72591,'Peak Flow Reduction (CFS)'] "
   ]
  },
  {
   "cell_type": "markdown",
   "metadata": {},
   "source": [
    "### TN Load Analysis"
   ]
  },
  {
   "cell_type": "code",
   "execution_count": 72,
   "metadata": {},
   "outputs": [
    {
     "data": {
      "text/plain": [
       "0.8653783511645916"
      ]
     },
     "execution_count": 72,
     "metadata": {},
     "output_type": "execute_result"
    }
   ],
   "source": [
    "load_TN_72591 = (rpt_72591['Runoff (CFS)'].mean() * rpt_72591['Total Nitrogen (mg/L)'].mean() * 28.3168 * 38.5*3600) /1000\n",
    "pyswmm_results.at[72591,'TN Load (grams)'] = load_TN_72591\n",
    "pyswmm_results.at[72591,'TN Load (grams)']"
   ]
  },
  {
   "cell_type": "code",
   "execution_count": 73,
   "metadata": {},
   "outputs": [
    {
     "data": {
      "text/plain": [
       "210.03123309297763"
      ]
     },
     "execution_count": 73,
     "metadata": {},
     "output_type": "execute_result"
    }
   ],
   "source": [
    "total_nitrogen_reduction_percentage_72591 = ((210.89661144414222 - load_TN_72591)/210.89661144414222)*100\n",
    "pyswmm_results.at[72591,'TN Load % Reduction']=total_nitrogen_reduction_percentage_72591\n",
    "pyswmm_results.at[72591,'TN Load % Reduction']\n",
    "\n",
    "total_nitrogen_reduction_72591 = 210.89661144414222 - load_TN_72591\n",
    "pyswmm_results.at[72591,'TN Load Reduction (grams)']=total_nitrogen_reduction_72591\n",
    "pyswmm_results.at[72591,'TN Load Reduction (grams)']"
   ]
  },
  {
   "cell_type": "markdown",
   "metadata": {},
   "source": [
    "### TP Load Analysis"
   ]
  },
  {
   "cell_type": "code",
   "execution_count": 74,
   "metadata": {},
   "outputs": [
    {
     "data": {
      "text/plain": [
       "0.27815732716004743"
      ]
     },
     "execution_count": 74,
     "metadata": {},
     "output_type": "execute_result"
    }
   ],
   "source": [
    "load_TP_72591 = (rpt_72591['Runoff (CFS)'].mean() * rpt_72591['Total Phosphorous (mg/L)'].mean() * 28.3168 * 38.5*3600) /1000\n",
    "pyswmm_results.at[72591,'TP Load (grams)'] = load_TP_72591\n",
    "pyswmm_results.at[72591,'TP Load (grams)']"
   ]
  },
  {
   "cell_type": "code",
   "execution_count": 75,
   "metadata": {},
   "outputs": [
    {
     "data": {
      "text/plain": [
       "67.38920463352731"
      ]
     },
     "execution_count": 75,
     "metadata": {},
     "output_type": "execute_result"
    }
   ],
   "source": [
    "total_phosphorus_reduction_percentage_72591 = ((67.66736196068736- load_TP_72591)/67.66736196068736)*100\n",
    "pyswmm_results.at[72591,'TP Load % Reduction'] = total_phosphorus_reduction_percentage_72591\n",
    "pyswmm_results.at[72591,'TP Load % Reduction']\n",
    "\n",
    "total_phosphorus_reduction_72591 = 67.66736196068736- load_TP_72591\n",
    "pyswmm_results.at[72591,'TP Load Reduction (grams)'] = total_phosphorus_reduction_72591\n",
    "pyswmm_results.at[72591,'TP Load Reduction (grams)']"
   ]
  },
  {
   "cell_type": "markdown",
   "metadata": {},
   "source": [
    "### Mean Runoff"
   ]
  },
  {
   "cell_type": "code",
   "execution_count": 76,
   "metadata": {},
   "outputs": [
    {
     "data": {
      "text/plain": [
       "93.83401423299948"
      ]
     },
     "execution_count": 76,
     "metadata": {},
     "output_type": "execute_result"
    }
   ],
   "source": [
    "mean_runoff_72591= rpt_72591['Runoff (CFS)'].mean()\n",
    "pyswmm_results.at[72591,'Mean Runoff'] = mean_runoff_72591\n",
    "pyswmm_results.at[72591,'Mean Runoff']\n",
    "\n",
    "mean_runoff_reduction_percentage_72591= ((0.15565128205128198-mean_runoff_72591)/0.15565128205128198)*100\n",
    "pyswmm_results.at[72591,'Mean Runoff % Reduction']= mean_runoff_reduction_percentage_72591\n",
    "pyswmm_results.at[72591,'Mean Runoff % Reduction']"
   ]
  },
  {
   "cell_type": "markdown",
   "metadata": {},
   "source": [
    "## Subcatchment 72631"
   ]
  },
  {
   "cell_type": "code",
   "execution_count": 77,
   "metadata": {
    "scrolled": true
   },
   "outputs": [
    {
     "data": {
      "image/png": "[encoded data removed]",
      "text/plain": [
       "<Figure size 432x360 with 2 Axes>"
      ]
     },
     "metadata": {
      "needs_background": "light"
     },
     "output_type": "display_data"
    }
   ],
   "source": [
    "# This is for your Subcatchment 72631\n",
    "reportColumns = [str(i) for i in np.arange(0,7)]\n",
    "rpt_72631 = pd.read_csv(r'C:\\Users\\R. Seth Herbst\\Desktop\\SWMM Programs and Files\\SWMMIO_Altered_INPUTS\\Meadow_Creek_Hydrology_Model_UpdatedMar2021_Adjusted_SB_Parameters.txt', skiprows = 5744, nrows = 78, sep=\"   |    \", names = reportColumns, header = None, engine = 'python')\n",
    "rpt_72631.dropna(axis = 1, inplace = True); # This might be redundant\n",
    "# Check df.head before renaming the columns\n",
    "rpt_72631.rename(columns = {'0':'Date','2':'Precip (in/hr)','3':'Losses (in/hr)','4':'Runoff (CFS)','5':'Total Nitrogen (mg/L)','6':'Total Phosphorous (mg/L)'},inplace = True)\n",
    "\n",
    "fig,ax1 = plt.subplots(figsize=(6,5))\n",
    "line1 = ax1.plot(rpt_72631['Runoff (CFS)']); plt.ylim((-0.001,30)); plt.xlabel('Time Instances (Hours)'); plt.ylabel('Runoff (CFS)');\n",
    "ax1.legend(['Runoff'],loc='lower left'); ax2 = ax1.twinx(); line2 = ax2.plot(rpt_72631['Precip (in/hr)'],color='orangered');\n",
    "plt.ylim((-0.01,1.4)); plt.ylabel('Precipitation (in/hr)'); plt.gca().invert_yaxis(); ax2.grid(False); ax2.legend(['Precip'],loc='upper right');"
   ]
  },
  {
   "cell_type": "markdown",
   "metadata": {},
   "source": [
    "### Total Runoff"
   ]
  },
  {
   "cell_type": "code",
   "execution_count": 78,
   "metadata": {},
   "outputs": [
    {
     "data": {
      "text/plain": [
       "13991.847692307692"
      ]
     },
     "execution_count": 78,
     "metadata": {},
     "output_type": "execute_result"
    }
   ],
   "source": [
    "totalrunoff_72631 = (rpt_72631['Runoff (CFS)'].mean())*38.5*3600\n",
    "pyswmm_results.at[72631,'Total Runoff (CF)'] = totalrunoff_72631\n",
    "pyswmm_results.at[72631,'Total Runoff (CF)']\n",
    "\n",
    "runoff_perc_reduction_72631 = ((39704.63538461538 - totalrunoff_72631)/39704.63538461538) *100\n",
    "pyswmm_results.at[72631,'Total Runoff Volume % Reduction'] = runoff_perc_reduction_72631\n",
    "pyswmm_results.at[72631,'Total Runoff Volume % Reduction']\n",
    "\n",
    "runoff_reduction_72631 = 39704.63538461538 - totalrunoff_72631\n",
    "pyswmm_results.at[72631,'Total Runoff Volume Reduction (CF)'] = runoff_reduction_72631\n",
    "pyswmm_results.at[72631,'Total Runoff Volume Reduction (CF)']"
   ]
  },
  {
   "cell_type": "markdown",
   "metadata": {},
   "source": [
    "### Peak Flow"
   ]
  },
  {
   "cell_type": "code",
   "execution_count": 79,
   "metadata": {},
   "outputs": [
    {
     "data": {
      "text/plain": [
       "4.129600000000001"
      ]
     },
     "execution_count": 79,
     "metadata": {},
     "output_type": "execute_result"
    }
   ],
   "source": [
    "peakflow_72631 = rpt_72631['Runoff (CFS)'].max()\n",
    "pyswmm_results.at[72631,'Peak Flow (CFS)'] = peakflow_72631\n",
    "pyswmm_results.at[72631,'Peak Flow (CFS)']\n",
    "\n",
    "peak_runoff_reduction_percentage_72631 = ((11.739 - peakflow_72631)/11.739)*100\n",
    "pyswmm_results.at[72631,'Peak Flow % Reduction'] = peak_runoff_reduction_percentage_72631\n",
    "pyswmm_results.at[72631,'Peak Flow % Reduction'] \n",
    "\n",
    "peak_runoff_reduction_72631 = 11.739 - peakflow_72631\n",
    "pyswmm_results.at[72631,'Peak Flow Reduction (CFS)'] = peak_runoff_reduction_72631\n",
    "pyswmm_results.at[72631,'Peak Flow Reduction (CFS)'] "
   ]
  },
  {
   "cell_type": "markdown",
   "metadata": {},
   "source": [
    "### TN Load Analysis"
   ]
  },
  {
   "cell_type": "code",
   "execution_count": 80,
   "metadata": {},
   "outputs": [
    {
     "data": {
      "text/plain": [
       "367.871462651922"
      ]
     },
     "execution_count": 80,
     "metadata": {},
     "output_type": "execute_result"
    }
   ],
   "source": [
    "load_TN_72631 = (rpt_72631['Runoff (CFS)'].mean() * rpt_72631['Total Nitrogen (mg/L)'].mean() * 28.3168 * 38.5*3600) /1000\n",
    "pyswmm_results.at[72631,'TN Load (grams)'] = load_TN_72631\n",
    "pyswmm_results.at[72631,'TN Load (grams)']\n",
    "\n",
    "total_nitrogen_reduction_percentage_72631 = ((654.5203541040532 - load_TN_72631)/654.5203541040532)*100\n",
    "pyswmm_results.at[72631,'TN Load % Reduction']=total_nitrogen_reduction_percentage_72631\n",
    "pyswmm_results.at[72631,'TN Load % Reduction']\n",
    "\n",
    "total_nitrogen_reduction_72631 = 654.5203541040532 - load_TN_72631\n",
    "pyswmm_results.at[72631,'TN Load Reduction (grams)']=total_nitrogen_reduction_72631\n",
    "pyswmm_results.at[72631,'TN Load Reduction (grams)']"
   ]
  },
  {
   "cell_type": "markdown",
   "metadata": {},
   "source": [
    "### TP Load Analysis"
   ]
  },
  {
   "cell_type": "code",
   "execution_count": 81,
   "metadata": {},
   "outputs": [
    {
     "data": {
      "text/plain": [
       "102.15357565555422"
      ]
     },
     "execution_count": 81,
     "metadata": {},
     "output_type": "execute_result"
    }
   ],
   "source": [
    "load_TP_72631 = (rpt_72631['Runoff (CFS)'].mean() * rpt_72631['Total Phosphorous (mg/L)'].mean() * 28.3168 * 38.5*3600) /1000\n",
    "pyswmm_results.at[72631,'TP Load (grams)'] = load_TP_72631\n",
    "pyswmm_results.at[72631,'TP Load (grams)']\n",
    "\n",
    "total_phosphorus_reduction_percentage_72631 = ((181.96496102469976- load_TP_72631)/181.96496102469976)*100\n",
    "pyswmm_results.at[72631,'TP Load % Reduction'] = total_phosphorus_reduction_percentage_72631\n",
    "pyswmm_results.at[72631,'TP Load % Reduction']\n",
    "\n",
    "total_phosphorus_reduction_72631 = 181.96496102469976- load_TP_72631\n",
    "pyswmm_results.at[72631,'TP Load Reduction (grams)'] = total_phosphorus_reduction_72631\n",
    "pyswmm_results.at[72631,'TP Load Reduction (grams)']"
   ]
  },
  {
   "cell_type": "markdown",
   "metadata": {},
   "source": [
    "### Mean Runoff"
   ]
  },
  {
   "cell_type": "code",
   "execution_count": 82,
   "metadata": {},
   "outputs": [
    {
     "data": {
      "text/plain": [
       "35.239834232879524"
      ]
     },
     "execution_count": 82,
     "metadata": {},
     "output_type": "execute_result"
    }
   ],
   "source": [
    "mean_runoff_72631= rpt_72631['Runoff (CFS)'].mean()\n",
    "pyswmm_results.at[72631,'Mean Runoff'] = mean_runoff_72631\n",
    "pyswmm_results.at[72631,'Mean Runoff']\n",
    "\n",
    "mean_runoff_reduction_percentage_72631= ((0.2864692307692307-mean_runoff_72631)/0.2864692307692307)*100\n",
    "pyswmm_results.at[72631,'Mean Runoff % Reduction']= mean_runoff_reduction_percentage_72631\n",
    "pyswmm_results.at[72631,'Mean Runoff % Reduction']"
   ]
  },
  {
   "cell_type": "markdown",
   "metadata": {},
   "source": [
    "## Subcatchment 72781"
   ]
  },
  {
   "cell_type": "code",
   "execution_count": 83,
   "metadata": {
    "scrolled": true
   },
   "outputs": [
    {
     "data": {
      "image/png": "[encoded data removed]",
      "text/plain": [
       "<Figure size 432x360 with 2 Axes>"
      ]
     },
     "metadata": {
      "needs_background": "light"
     },
     "output_type": "display_data"
    }
   ],
   "source": [
    "# This is for your Subcatchment 72781\n",
    "reportColumns = [str(i) for i in np.arange(0,7)]\n",
    "rpt_72781 = pd.read_csv(r'C:\\Users\\R. Seth Herbst\\Desktop\\SWMM Programs and Files\\SWMMIO_Altered_INPUTS\\Meadow_Creek_Hydrology_Model_UpdatedMar2021_Adjusted_SB_Parameters.txt', skiprows = 5999, nrows = 78, sep=\"   |    \", names = reportColumns, header = None, engine = 'python')\n",
    "rpt_72781.dropna(axis = 1, inplace = True); # This might be redundant\n",
    "# Check df.head before renaming the columns\n",
    "rpt_72781.rename(columns = {'0':'Date','2':'Precip (in/hr)','3':'Losses (in/hr)','4':'Runoff (CFS)','5':'Total Nitrogen (mg/L)','6':'Total Phosphorous (mg/L)'},inplace = True)\n",
    "\n",
    "fig,ax1 = plt.subplots(figsize=(6,5))\n",
    "line1 = ax1.plot(rpt_72781['Runoff (CFS)']); plt.ylim((-0.001,45)); plt.xlabel('Time Instances (Hours)'); plt.ylabel('Runoff (CFS)');\n",
    "ax1.legend(['Runoff'],loc='lower left'); ax2 = ax1.twinx(); line2 = ax2.plot(rpt_72781['Precip (in/hr)'],color='orangered');\n",
    "plt.ylim((-0.01,1.4)); plt.ylabel('Precipitation (in/hr)'); plt.gca().invert_yaxis(); ax2.grid(False); ax2.legend(['Precip'],loc='upper right');"
   ]
  },
  {
   "cell_type": "markdown",
   "metadata": {},
   "source": [
    "### Total Runoff"
   ]
  },
  {
   "cell_type": "code",
   "execution_count": 84,
   "metadata": {},
   "outputs": [
    {
     "data": {
      "text/plain": [
       "16568.030769230747"
      ]
     },
     "execution_count": 84,
     "metadata": {},
     "output_type": "execute_result"
    }
   ],
   "source": [
    "totalrunoff_72781 = (rpt_72781['Runoff (CFS)'].mean())*38.5*3600\n",
    "pyswmm_results.at[72781,'Total Runoff (CF)'] = totalrunoff_72781\n",
    "pyswmm_results.at[72781,'Total Runoff (CF)']\n",
    "\n",
    "runoff_perc_reduction_72781 = ((50077.24615384615 - totalrunoff_72781)/50077.24615384615) *100\n",
    "pyswmm_results.at[72781,'Total Runoff Volume % Reduction'] = runoff_perc_reduction_72781\n",
    "pyswmm_results.at[72781,'Total Runoff Volume % Reduction']\n",
    "\n",
    "runoff_reduction_72781 = 50077.24615384615 - totalrunoff_72781\n",
    "pyswmm_results.at[72781,'Total Runoff Volume Reduction (CF)'] = runoff_reduction_72781\n",
    "pyswmm_results.at[72781,'Total Runoff Volume Reduction (CF)']"
   ]
  },
  {
   "cell_type": "markdown",
   "metadata": {},
   "source": [
    "### Peak Flow"
   ]
  },
  {
   "cell_type": "code",
   "execution_count": 85,
   "metadata": {},
   "outputs": [
    {
     "data": {
      "text/plain": [
       "5.541399999999999"
      ]
     },
     "execution_count": 85,
     "metadata": {},
     "output_type": "execute_result"
    }
   ],
   "source": [
    "peakflow_72781 = rpt_72781['Runoff (CFS)'].max()\n",
    "pyswmm_results.at[72781,'Peak Flow (CFS)'] = peakflow_72781\n",
    "pyswmm_results.at[72781,'Peak Flow (CFS)']\n",
    "\n",
    "peak_runoff_reduction_percentage_72781 = ((14.7972 - peakflow_72781)/14.7972)*100\n",
    "pyswmm_results.at[72781,'Peak Flow % Reduction'] = peak_runoff_reduction_percentage_72781\n",
    "pyswmm_results.at[72781,'Peak Flow % Reduction'] \n",
    "\n",
    "peak_runoff_reduction_72781 = 14.7972 - peakflow_72781\n",
    "pyswmm_results.at[72781,'Peak Flow Reduction (CFS)'] = peak_runoff_reduction_72781\n",
    "pyswmm_results.at[72781,'Peak Flow Reduction (CFS)'] "
   ]
  },
  {
   "cell_type": "markdown",
   "metadata": {},
   "source": [
    "### TN Load Analysis"
   ]
  },
  {
   "cell_type": "code",
   "execution_count": 86,
   "metadata": {},
   "outputs": [
    {
     "data": {
      "text/plain": [
       "363.3156633706501"
      ]
     },
     "execution_count": 86,
     "metadata": {},
     "output_type": "execute_result"
    }
   ],
   "source": [
    "load_TN_72781 = (rpt_72781['Runoff (CFS)'].mean() * rpt_72781['Total Nitrogen (mg/L)'].mean() * 28.3168 * 38.5*3600) /1000\n",
    "pyswmm_results.at[72781,'TN Load (grams)'] = load_TN_72781\n",
    "pyswmm_results.at[72781,'TN Load (grams)']\n",
    "\n",
    "total_nitrogen_reduction_percentage_72781 = ((683.9255055065745 - load_TN_72781)/683.9255055065745)*100\n",
    "pyswmm_results.at[72781,'TN Load % Reduction']=total_nitrogen_reduction_percentage_72781\n",
    "pyswmm_results.at[72781,'TN Load % Reduction']\n",
    "\n",
    "total_nitrogen_reduction_72781 = 683.9255055065745 - load_TN_72781\n",
    "pyswmm_results.at[72781,'TN Load Reduction (grams)']=total_nitrogen_reduction_72781\n",
    "pyswmm_results.at[72781,'TN Load Reduction (grams)']"
   ]
  },
  {
   "cell_type": "markdown",
   "metadata": {},
   "source": [
    "### TP Load Analysis"
   ]
  },
  {
   "cell_type": "code",
   "execution_count": 87,
   "metadata": {},
   "outputs": [
    {
     "data": {
      "text/plain": [
       "113.04803071590229"
      ]
     },
     "execution_count": 87,
     "metadata": {},
     "output_type": "execute_result"
    }
   ],
   "source": [
    "load_TP_72781 = (rpt_72781['Runoff (CFS)'].mean() * rpt_72781['Total Phosphorous (mg/L)'].mean() * 28.3168 * 38.5*3600) /1000\n",
    "pyswmm_results.at[72781,'TP Load (grams)'] = load_TP_72781\n",
    "pyswmm_results.at[72781,'TP Load (grams)']\n",
    "\n",
    "total_phosphorus_reduction_percentage_72781 = ((212.70410458338446- load_TP_72781)/212.70410458338446)*100\n",
    "pyswmm_results.at[72781,'TP Load % Reduction'] = total_phosphorus_reduction_percentage_72781\n",
    "pyswmm_results.at[72781,'TP Load % Reduction']\n",
    "\n",
    "total_phosphorus_reduction_72781 = 212.70410458338446- load_TP_72781\n",
    "pyswmm_results.at[72781,'TP Load Reduction (grams)'] = total_phosphorus_reduction_72781\n",
    "pyswmm_results.at[72781,'TP Load Reduction (grams)']"
   ]
  },
  {
   "cell_type": "markdown",
   "metadata": {},
   "source": [
    "### Mean Runoff"
   ]
  },
  {
   "cell_type": "code",
   "execution_count": 88,
   "metadata": {},
   "outputs": [
    {
     "data": {
      "text/plain": [
       "33.084947839046166"
      ]
     },
     "execution_count": 88,
     "metadata": {},
     "output_type": "execute_result"
    }
   ],
   "source": [
    "mean_runoff_72781= rpt_72781['Runoff (CFS)'].mean()\n",
    "pyswmm_results.at[72781,'Mean Runoff'] = mean_runoff_72781\n",
    "pyswmm_results.at[72781,'Mean Runoff']\n",
    "\n",
    "mean_runoff_reduction_percentage_72781= ((0.3613076923076923-mean_runoff_72781)/0.3613076923076923)*100\n",
    "pyswmm_results.at[72781,'Mean Runoff % Reduction']= mean_runoff_reduction_percentage_72781\n",
    "pyswmm_results.at[72781,'Mean Runoff % Reduction']"
   ]
  },
  {
   "cell_type": "markdown",
   "metadata": {},
   "source": [
    "## Subcatchment 72731"
   ]
  },
  {
   "cell_type": "code",
   "execution_count": 89,
   "metadata": {
    "scrolled": true
   },
   "outputs": [
    {
     "data": {
      "image/png": "[encoded data removed]",
      "text/plain": [
       "<Figure size 432x360 with 2 Axes>"
      ]
     },
     "metadata": {
      "needs_background": "light"
     },
     "output_type": "display_data"
    }
   ],
   "source": [
    "# This is for your Subcatchment 72731\n",
    "reportColumns = [str(i) for i in np.arange(0,7)]\n",
    "rpt_72731 = pd.read_csv(r'C:\\Users\\R. Seth Herbst\\Desktop\\SWMM Programs and Files\\SWMMIO_Altered_INPUTS\\Meadow_Creek_Hydrology_Model_UpdatedMar2021_Adjusted_SB_Parameters.txt', skiprows = 5914, nrows = 78, sep=\"   |    \", names = reportColumns, header = None, engine = 'python')\n",
    "rpt_72731.dropna(axis = 1, inplace = True); # This might be redundant\n",
    "# Check df.head before renaming the columns\n",
    "rpt_72731.rename(columns = {'0':'Date','2':'Precip (in/hr)','3':'Losses (in/hr)','4':'Runoff (CFS)','5':'Total Nitrogen (mg/L)','6':'Total Phosphorous (mg/L)'},inplace = True)\n",
    "\n",
    "fig,ax1 = plt.subplots(figsize=(6,5))\n",
    "line1 = ax1.plot(rpt_72731['Runoff (CFS)']); plt.ylim((-0.001,30)); plt.xlabel('Time Instances (Hours)'); plt.ylabel('Runoff (CFS)');\n",
    "ax1.legend(['Runoff'],loc='lower left'); ax2 = ax1.twinx(); line2 = ax2.plot(rpt_72731['Precip (in/hr)'],color='orangered');\n",
    "plt.ylim((-0.01,1.4)); plt.ylabel('Precipitation (in/hr)'); plt.gca().invert_yaxis(); ax2.grid(False); ax2.legend(['Precip'],loc='upper right');"
   ]
  },
  {
   "cell_type": "markdown",
   "metadata": {},
   "source": [
    "### Total Runoff"
   ]
  },
  {
   "cell_type": "code",
   "execution_count": 90,
   "metadata": {},
   "outputs": [
    {
     "data": {
      "text/plain": [
       "22030.82538461539"
      ]
     },
     "execution_count": 90,
     "metadata": {},
     "output_type": "execute_result"
    }
   ],
   "source": [
    "totalrunoff_72731 = (rpt_72731['Runoff (CFS)'].mean())*38.5*3600\n",
    "pyswmm_results.at[72731,'Total Runoff (CF)'] = totalrunoff_72731\n",
    "pyswmm_results.at[72731,'Total Runoff (CF)']\n",
    "\n",
    "runoff_perc_reduction_72731 = ((47383.60846153846 - totalrunoff_72731)/47383.60846153846) *100\n",
    "pyswmm_results.at[72731,'Total Runoff Volume % Reduction'] = runoff_perc_reduction_72731\n",
    "pyswmm_results.at[72731,'Total Runoff Volume % Reduction']\n",
    "\n",
    "runoff_reduction_72731 = 47383.60846153846 - totalrunoff_72731\n",
    "pyswmm_results.at[72731,'Total Runoff Volume Reduction (CF)'] = runoff_reduction_72731\n",
    "pyswmm_results.at[72731,'Total Runoff Volume Reduction (CF)']"
   ]
  },
  {
   "cell_type": "markdown",
   "metadata": {},
   "source": [
    "### Peak Flow"
   ]
  },
  {
   "cell_type": "code",
   "execution_count": 91,
   "metadata": {},
   "outputs": [
    {
     "data": {
      "text/plain": [
       "6.730300000000001"
      ]
     },
     "execution_count": 91,
     "metadata": {},
     "output_type": "execute_result"
    }
   ],
   "source": [
    "peakflow_72731 = rpt_72731['Runoff (CFS)'].max()\n",
    "pyswmm_results.at[72731,'Peak Flow (CFS)'] = peakflow_72731\n",
    "pyswmm_results.at[72731,'Peak Flow (CFS)']\n",
    "\n",
    "peak_runoff_reduction_percentage_72731 = ((13.602 - peakflow_72731)/13.602)*100\n",
    "pyswmm_results.at[72731,'Peak Flow % Reduction'] = peak_runoff_reduction_percentage_72731\n",
    "pyswmm_results.at[72731,'Peak Flow % Reduction'] \n",
    "\n",
    "peak_runoff_reduction_72731 = 13.602 - peakflow_72731\n",
    "pyswmm_results.at[72731,'Peak Flow Reduction (CFS)'] = peak_runoff_reduction_72731\n",
    "pyswmm_results.at[72731,'Peak Flow Reduction (CFS)'] "
   ]
  },
  {
   "cell_type": "markdown",
   "metadata": {},
   "source": [
    "### TN Load Analysis"
   ]
  },
  {
   "cell_type": "code",
   "execution_count": 92,
   "metadata": {},
   "outputs": [
    {
     "data": {
      "text/plain": [
       "433.940579976638"
      ]
     },
     "execution_count": 92,
     "metadata": {},
     "output_type": "execute_result"
    }
   ],
   "source": [
    "load_TN_72731 = (rpt_72731['Runoff (CFS)'].mean() * rpt_72731['Total Nitrogen (mg/L)'].mean() * 28.3168 * 38.5*3600) /1000\n",
    "pyswmm_results.at[72731,'TN Load (grams)'] = load_TN_72731\n",
    "pyswmm_results.at[72731,'TN Load (grams)']\n",
    "\n",
    "total_nitrogen_reduction_percentage_72731 = ((678.7201716164893 - load_TN_72731)/678.7201716164893)*100\n",
    "pyswmm_results.at[72731,'TN Load % Reduction']=total_nitrogen_reduction_percentage_72731\n",
    "pyswmm_results.at[72731,'TN Load % Reduction']\n",
    "\n",
    "total_nitrogen_reduction_72731 = 678.7201716164893 - load_TN_72731\n",
    "pyswmm_results.at[72731,'TN Load Reduction (grams)']=total_nitrogen_reduction_72731\n",
    "pyswmm_results.at[72731,'TN Load Reduction (grams)']"
   ]
  },
  {
   "cell_type": "markdown",
   "metadata": {},
   "source": [
    "### TP Load Analysis"
   ]
  },
  {
   "cell_type": "code",
   "execution_count": 93,
   "metadata": {},
   "outputs": [
    {
     "data": {
      "text/plain": [
       "124.46252964754359"
      ]
     },
     "execution_count": 93,
     "metadata": {},
     "output_type": "execute_result"
    }
   ],
   "source": [
    "load_TP_72731 = (rpt_72731['Runoff (CFS)'].mean() * rpt_72731['Total Phosphorous (mg/L)'].mean() * 28.3168 * 38.5*3600) /1000\n",
    "pyswmm_results.at[72731,'TP Load (grams)'] = load_TP_72731\n",
    "pyswmm_results.at[72731,'TP Load (grams)']\n",
    "\n",
    "total_phosphorus_reduction_percentage_72731 = ((194.86369890692404- load_TP_72731)/194.86369890692404)*100\n",
    "pyswmm_results.at[72731,'TP Load % Reduction'] = total_phosphorus_reduction_percentage_72731\n",
    "pyswmm_results.at[72731,'TP Load % Reduction']\n",
    "\n",
    "total_phosphorus_reduction_72731 = 194.86369890692404- load_TP_72731\n",
    "pyswmm_results.at[72731,'TP Load Reduction (grams)'] = total_phosphorus_reduction_72731\n",
    "pyswmm_results.at[72731,'TP Load Reduction (grams)']"
   ]
  },
  {
   "cell_type": "markdown",
   "metadata": {},
   "source": [
    "### Mean Runoff"
   ]
  },
  {
   "cell_type": "code",
   "execution_count": 94,
   "metadata": {},
   "outputs": [
    {
     "data": {
      "text/plain": [
       "46.49461301052649"
      ]
     },
     "execution_count": 94,
     "metadata": {},
     "output_type": "execute_result"
    }
   ],
   "source": [
    "mean_runoff_72731= rpt_72731['Runoff (CFS)'].mean()\n",
    "pyswmm_results.at[72731,'Mean Runoff'] = mean_runoff_72731\n",
    "pyswmm_results.at[72731,'Mean Runoff']\n",
    "\n",
    "mean_runoff_reduction_percentage_72731= ((0.34187307692307695-mean_runoff_72731)/00.34187307692307695)*100\n",
    "pyswmm_results.at[72731,'Mean Runoff % Reduction']= mean_runoff_reduction_percentage_72731\n",
    "pyswmm_results.at[72731,'Mean Runoff % Reduction']"
   ]
  },
  {
   "cell_type": "markdown",
   "metadata": {},
   "source": [
    "## Subcatchment 72951"
   ]
  },
  {
   "cell_type": "code",
   "execution_count": 95,
   "metadata": {
    "scrolled": false
   },
   "outputs": [
    {
     "data": {
      "image/png": "[encoded data removed]",
      "text/plain": [
       "<Figure size 432x360 with 2 Axes>"
      ]
     },
     "metadata": {
      "needs_background": "light"
     },
     "output_type": "display_data"
    }
   ],
   "source": [
    "# This is for your Subcatchment 72951\n",
    "reportColumns = [str(i) for i in np.arange(0,7)]\n",
    "rpt_72951 = pd.read_csv(r'C:\\Users\\R. Seth Herbst\\Desktop\\SWMM Programs and Files\\SWMMIO_Altered_INPUTS\\Meadow_Creek_Hydrology_Model_UpdatedMar2021_Adjusted_SB_Parameters.txt', skiprows = 6169, nrows = 78, sep=\"   |    \", names = reportColumns, header = None, engine = 'python')\n",
    "rpt_72951.dropna(axis = 1, inplace = True); # This might be redundant\n",
    "# Check df.head before renaming the columns\n",
    "rpt_72951.rename(columns = {'0':'Date','2':'Precip (in/hr)','3':'Losses (in/hr)','4':'Runoff (CFS)','5':'Total Nitrogen (mg/L)','6':'Total Phosphorous (mg/L)'},inplace = True)\n",
    "\n",
    "fig,ax1 = plt.subplots(figsize=(6,5))\n",
    "line1 = ax1.plot(rpt_72951['Runoff (CFS)']); plt.ylim((-0.001,50)); plt.xlabel('Time Instances (Hours)'); plt.ylabel('Runoff (CFS)');\n",
    "ax1.legend(['Runoff'],loc='lower left'); ax2 = ax1.twinx(); line2 = ax2.plot(rpt_72951['Precip (in/hr)'],color='orangered');\n",
    "plt.ylim((-0.01,1.4)); plt.ylabel('Precipitation (in/hr)'); plt.gca().invert_yaxis(); ax2.grid(False); ax2.legend(['Precip'],loc='upper right');\n"
   ]
  },
  {
   "cell_type": "markdown",
   "metadata": {},
   "source": [
    "### Total Runoff"
   ]
  },
  {
   "cell_type": "code",
   "execution_count": 96,
   "metadata": {},
   "outputs": [
    {
     "data": {
      "text/plain": [
       "27114.957692307686"
      ]
     },
     "execution_count": 96,
     "metadata": {},
     "output_type": "execute_result"
    }
   ],
   "source": [
    "totalrunoff_72951 = (rpt_72951['Runoff (CFS)'].mean())*38.5*3600\n",
    "pyswmm_results.at[72951,'Total Runoff (CF)'] = totalrunoff_72951\n",
    "pyswmm_results.at[72951,'Total Runoff (CF)']\n",
    "\n",
    "runoff_perc_reduction_72951 = ((39283.85999999999 - totalrunoff_72951)/39283.85999999999) *100\n",
    "pyswmm_results.at[72951,'Total Runoff Volume % Reduction'] = runoff_perc_reduction_72951\n",
    "pyswmm_results.at[72951,'Total Runoff Volume % Reduction']\n",
    "\n",
    "runoff_reduction_72951 = 39283.85999999999 - totalrunoff_72951\n",
    "pyswmm_results.at[72951,'Total Runoff Volume Reduction (CF)'] = runoff_reduction_72951\n",
    "pyswmm_results.at[72951,'Total Runoff Volume Reduction (CF)']"
   ]
  },
  {
   "cell_type": "markdown",
   "metadata": {},
   "source": [
    "### Peak Flow"
   ]
  },
  {
   "cell_type": "code",
   "execution_count": 97,
   "metadata": {},
   "outputs": [
    {
     "data": {
      "text/plain": [
       "8.2564"
      ]
     },
     "execution_count": 97,
     "metadata": {},
     "output_type": "execute_result"
    }
   ],
   "source": [
    "peakflow_72951 = rpt_72951['Runoff (CFS)'].max()\n",
    "pyswmm_results.at[72951,'Peak Flow (CFS)'] = peakflow_72951\n",
    "pyswmm_results.at[72951,'Peak Flow (CFS)']\n",
    "\n",
    "peak_runoff_reduction_percentage_72951 = ((11.8811 - peakflow_72951)/11.8811)*100\n",
    "pyswmm_results.at[72951,'Peak Flow % Reduction'] = peak_runoff_reduction_percentage_72951\n",
    "pyswmm_results.at[72951,'Peak Flow % Reduction'] \n",
    "\n",
    "peak_runoff_reduction_72951 = (11.8811 - peakflow_72951)\n",
    "pyswmm_results.at[72951,'Peak Flow Reduction (CFS)'] = peak_runoff_reduction_72951\n",
    "pyswmm_results.at[72951,'Peak Flow Reduction (CFS)'] "
   ]
  },
  {
   "cell_type": "markdown",
   "metadata": {},
   "source": [
    "### TN Load Analysis"
   ]
  },
  {
   "cell_type": "code",
   "execution_count": 98,
   "metadata": {},
   "outputs": [
    {
     "data": {
      "text/plain": [
       "307.28482633842344"
      ]
     },
     "execution_count": 98,
     "metadata": {},
     "output_type": "execute_result"
    }
   ],
   "source": [
    "load_TN_72951 = (rpt_72951['Runoff (CFS)'].mean() * rpt_72951['Total Nitrogen (mg/L)'].mean() * 28.3168 * 38.5*3600) /1000\n",
    "pyswmm_results.at[72951,'TN Load (grams)'] = load_TN_72951\n",
    "pyswmm_results.at[72951,'TN Load (grams)']\n",
    "\n",
    "total_nitrogen_reduction_percentage_72951 = ((320.88265582153844 - load_TN_72951)/320.88265582153844)*100\n",
    "pyswmm_results.at[72951,'TN Load % Reduction']=total_nitrogen_reduction_percentage_72951\n",
    "pyswmm_results.at[72951,'TN Load % Reduction']\n",
    "\n",
    "total_nitrogen_reduction_72951 = 320.88265582153844 - load_TN_72951\n",
    "pyswmm_results.at[72951,'TN Load Reduction (grams)']=total_nitrogen_reduction_72951\n",
    "pyswmm_results.at[72951,'TN Load Reduction (grams)']"
   ]
  },
  {
   "cell_type": "markdown",
   "metadata": {},
   "source": [
    "### TP Load Analysis"
   ]
  },
  {
   "cell_type": "code",
   "execution_count": 99,
   "metadata": {},
   "outputs": [
    {
     "data": {
      "text/plain": [
       "88.49124432396945"
      ]
     },
     "execution_count": 99,
     "metadata": {},
     "output_type": "execute_result"
    }
   ],
   "source": [
    "load_TP_72951 = (rpt_72951['Runoff (CFS)'].mean() * rpt_72951['Total Phosphorous (mg/L)'].mean() * 28.3168 * 38.5*3600) /1000\n",
    "pyswmm_results.at[72951,'TP Load (grams)'] = load_TP_72951\n",
    "pyswmm_results.at[72951,'TP Load (grams)']\n",
    "\n",
    "total_phosphorus_reduction_percentage_72951 = ((92.41420487660302 - load_TP_72951)/92.41420487660302)*100\n",
    "pyswmm_results.at[72951,'TP Load % Reduction'] = total_phosphorus_reduction_percentage_72951\n",
    "pyswmm_results.at[72951,'TP Load % Reduction']\n",
    "\n",
    "total_phosphorus_reduction_72951 = 92.41420487660302 - load_TP_72951\n",
    "pyswmm_results.at[72951,'TP Load Reduction (grams)'] = total_phosphorus_reduction_72951\n",
    "pyswmm_results.at[72951,'TP Load Reduction (grams)']"
   ]
  },
  {
   "cell_type": "markdown",
   "metadata": {},
   "source": [
    "### Mean Runoff"
   ]
  },
  {
   "cell_type": "code",
   "execution_count": 100,
   "metadata": {},
   "outputs": [
    {
     "data": {
      "text/plain": [
       "69.02315020038175"
      ]
     },
     "execution_count": 100,
     "metadata": {},
     "output_type": "execute_result"
    }
   ],
   "source": [
    "mean_runoff_72951= rpt_72951['Runoff (CFS)'].mean()\n",
    "pyswmm_results.at[72951,'Mean Runoff'] = mean_runoff_72951\n",
    "pyswmm_results.at[72951,'Mean Runoff']\n",
    "\n",
    "mean_runoff_reduction_percentage_72951= ((0.28343333333333326-mean_runoff_72951)/0.28343333333333326)*100\n",
    "pyswmm_results.at[72951,'Mean Runoff % Reduction']= mean_runoff_reduction_percentage_72951\n",
    "pyswmm_results.at[72951,'Mean Runoff % Reduction']"
   ]
  },
  {
   "cell_type": "markdown",
   "metadata": {},
   "source": [
    "## Subcatchment 73211"
   ]
  },
  {
   "cell_type": "code",
   "execution_count": 101,
   "metadata": {
    "scrolled": true
   },
   "outputs": [
    {
     "data": {
      "image/png": "[encoded data removed]",
      "text/plain": [
       "<Figure size 432x360 with 2 Axes>"
      ]
     },
     "metadata": {
      "needs_background": "light"
     },
     "output_type": "display_data"
    }
   ],
   "source": [
    "# This is for your Subcatchment 73211\n",
    "reportColumns = [str(i) for i in np.arange(0,7)]\n",
    "rpt_73211 = pd.read_csv(r'C:\\Users\\R. Seth Herbst\\Desktop\\SWMM Programs and Files\\SWMMIO_Altered_INPUTS\\Meadow_Creek_Hydrology_Model_UpdatedMar2021_Adjusted_SB_Parameters.txt', skiprows = 6764, nrows = 78, sep=\"   |    \", names = reportColumns, header = None, engine = 'python')\n",
    "rpt_73211.dropna(axis = 1, inplace = True); # This might be redundant\n",
    "# Check df.head before renaming the columns\n",
    "rpt_73211.rename(columns = {'0':'Date','2':'Precip (in/hr)','3':'Losses (in/hr)','4':'Runoff (CFS)','5':'Total Nitrogen (mg/L)','6':'Total Phosphorous (mg/L)'},inplace = True)\n",
    "\n",
    "fig,ax1 = plt.subplots(figsize=(6,5))\n",
    "line1 = ax1.plot(rpt_73211['Runoff (CFS)']); plt.ylim((-0.001,40)); plt.xlabel('Time Instances (Hours)'); plt.ylabel('Runoff (CFS)');\n",
    "ax1.legend(['Runoff'],loc='lower left'); ax2 = ax1.twinx(); line2 = ax2.plot(rpt_73211['Precip (in/hr)'],color='orangered');\n",
    "plt.ylim((-0.01,1.4)); plt.ylabel('Precipitation (in/hr)'); plt.gca().invert_yaxis(); ax2.grid(False); ax2.legend(['Precip'],loc='upper right');"
   ]
  },
  {
   "cell_type": "markdown",
   "metadata": {},
   "source": [
    "### Total Runoff"
   ]
  },
  {
   "cell_type": "code",
   "execution_count": 102,
   "metadata": {},
   "outputs": [
    {
     "data": {
      "text/plain": [
       "7735.834615384621"
      ]
     },
     "execution_count": 102,
     "metadata": {},
     "output_type": "execute_result"
    }
   ],
   "source": [
    "totalrunoff_73211 = (rpt_73211['Runoff (CFS)'].mean())*38.5*3600\n",
    "pyswmm_results.at[73211,'Total Runoff (CF)'] = totalrunoff_73211\n",
    "pyswmm_results.at[73211,'Total Runoff (CF)']\n",
    "\n",
    "runoff_perc_reduction_73211 = ((40660.08692307693 - totalrunoff_73211)/40660.08692307693) *100\n",
    "pyswmm_results.at[73211,'Total Runoff Volume % Reduction'] = runoff_perc_reduction_73211\n",
    "pyswmm_results.at[73211,'Total Runoff Volume % Reduction']\n",
    "\n",
    "runoff_reduction_73211 = 40660.08692307693 - totalrunoff_73211\n",
    "pyswmm_results.at[73211,'Total Runoff Volume Reduction (CF)'] = runoff_reduction_73211\n",
    "pyswmm_results.at[73211,'Total Runoff Volume Reduction (CF)']"
   ]
  },
  {
   "cell_type": "markdown",
   "metadata": {},
   "source": [
    "### Peak Flow"
   ]
  },
  {
   "cell_type": "code",
   "execution_count": 103,
   "metadata": {},
   "outputs": [
    {
     "data": {
      "text/plain": [
       "2.8663999999999987"
      ]
     },
     "execution_count": 103,
     "metadata": {},
     "output_type": "execute_result"
    }
   ],
   "source": [
    "peakflow_73211 = rpt_73211['Runoff (CFS)'].max()\n",
    "pyswmm_results.at[73211,'Peak Flow (CFS)'] = peakflow_73211\n",
    "pyswmm_results.at[73211,'Peak Flow (CFS)']\n",
    "\n",
    "peak_runoff_reduction_percentage_73211 = ((11.9934 - peakflow_73211)/11.9934)*100\n",
    "pyswmm_results.at[73211,'Peak Flow % Reduction'] = peak_runoff_reduction_percentage_73211\n",
    "pyswmm_results.at[73211,'Peak Flow % Reduction'] \n",
    "\n",
    "peak_runoff_reduction_73211 = 11.9934 - peakflow_73211\n",
    "pyswmm_results.at[73211,'Peak Flow Reduction (CFS)'] = peak_runoff_reduction_73211\n",
    "pyswmm_results.at[73211,'Peak Flow Reduction (CFS)'] "
   ]
  },
  {
   "cell_type": "markdown",
   "metadata": {},
   "source": [
    "### TN Load Analysis"
   ]
  },
  {
   "cell_type": "code",
   "execution_count": 104,
   "metadata": {},
   "outputs": [
    {
     "data": {
      "text/plain": [
       "164.9024637911795"
      ]
     },
     "execution_count": 104,
     "metadata": {},
     "output_type": "execute_result"
    }
   ],
   "source": [
    "load_TN_73211 = (rpt_73211['Runoff (CFS)'].mean() * rpt_73211['Total Nitrogen (mg/L)'].mean() * 28.3168 * 38.5*3600) /1000\n",
    "pyswmm_results.at[73211,'TN Load (grams)'] = load_TN_73211\n",
    "pyswmm_results.at[73211,'TN Load (grams)']\n",
    "\n",
    "total_nitrogen_reduction_percentage_73211 = ((438.4038130344428 - load_TN_73211)/438.4038130344428)*100\n",
    "pyswmm_results.at[73211,'TN Load % Reduction']=total_nitrogen_reduction_percentage_73211\n",
    "pyswmm_results.at[73211,'TN Load % Reduction']\n",
    "\n",
    "total_nitrogen_reduction_73211 = 438.4038130344428 - load_TN_73211\n",
    "pyswmm_results.at[73211,'TN Load Reduction (grams)']=total_nitrogen_reduction_73211\n",
    "pyswmm_results.at[73211,'TN Load Reduction (grams)']"
   ]
  },
  {
   "cell_type": "markdown",
   "metadata": {},
   "source": [
    "### TP Load Analysis"
   ]
  },
  {
   "cell_type": "code",
   "execution_count": 105,
   "metadata": {},
   "outputs": [
    {
     "data": {
      "text/plain": [
       "47.58924368446044"
      ]
     },
     "execution_count": 105,
     "metadata": {},
     "output_type": "execute_result"
    }
   ],
   "source": [
    "load_TP_73211 = (rpt_73211['Runoff (CFS)'].mean() * rpt_73211['Total Phosphorous (mg/L)'].mean() * 28.3168 * 38.5*3600) /1000\n",
    "pyswmm_results.at[73211,'TP Load (grams)'] = load_TP_73211\n",
    "pyswmm_results.at[73211,'TP Load (grams)']\n",
    "\n",
    "total_phosphorus_reduction_percentage_73211 = ((126.87140649936141 - load_TP_73211)/126.87140649936141)*100\n",
    "pyswmm_results.at[73211,'TP Load % Reduction'] = total_phosphorus_reduction_percentage_73211\n",
    "pyswmm_results.at[73211,'TP Load % Reduction']\n",
    "\n",
    "total_phosphorus_reduction_73211 = 126.87140649936141 - load_TP_73211\n",
    "pyswmm_results.at[73211,'TP Load Reduction (grams)'] = total_phosphorus_reduction_73211\n",
    "pyswmm_results.at[73211,'TP Load Reduction (grams)']"
   ]
  },
  {
   "cell_type": "markdown",
   "metadata": {},
   "source": [
    "### Mean Runoff"
   ]
  },
  {
   "cell_type": "code",
   "execution_count": 106,
   "metadata": {},
   "outputs": [
    {
     "data": {
      "text/plain": [
       "19.02562242431924"
      ]
     },
     "execution_count": 106,
     "metadata": {},
     "output_type": "execute_result"
    }
   ],
   "source": [
    "mean_runoff_73211= rpt_73211['Runoff (CFS)'].mean()\n",
    "pyswmm_results.at[73211,'Mean Runoff'] = mean_runoff_73211\n",
    "pyswmm_results.at[73211,'Mean Runoff']\n",
    "\n",
    "mean_runoff_reduction_percentage_73211= ((0.2933628205128206-mean_runoff_73211)/0.2933628205128206)*100\n",
    "pyswmm_results.at[73211,'Mean Runoff % Reduction']= mean_runoff_reduction_percentage_73211\n",
    "pyswmm_results.at[73211,'Mean Runoff % Reduction']"
   ]
  },
  {
   "cell_type": "markdown",
   "metadata": {},
   "source": [
    "## Subcatchment 73181"
   ]
  },
  {
   "cell_type": "code",
   "execution_count": 107,
   "metadata": {
    "scrolled": true
   },
   "outputs": [
    {
     "data": {
      "image/png": "[encoded data removed]",
      "text/plain": [
       "<Figure size 432x360 with 2 Axes>"
      ]
     },
     "metadata": {
      "needs_background": "light"
     },
     "output_type": "display_data"
    }
   ],
   "source": [
    "# This is for your Subcatchment 73181\n",
    "reportColumns = [str(i) for i in np.arange(0,7)]\n",
    "rpt_73181 = pd.read_csv(r'C:\\Users\\R. Seth Herbst\\Desktop\\SWMM Programs and Files\\SWMMIO_Altered_INPUTS\\Meadow_Creek_Hydrology_Model_UpdatedMar2021_Adjusted_SB_Parameters.txt', skiprows = 6594, nrows = 78, sep=\"   |    \", names = reportColumns, header = None, engine = 'python')\n",
    "rpt_73181.dropna(axis = 1, inplace = True); # This might be redundant\n",
    "# Check df.head before renaming the columns\n",
    "rpt_73181.rename(columns = {'0':'Date','2':'Precip (in/hr)','3':'Losses (in/hr)','4':'Runoff (CFS)','5':'Total Nitrogen (mg/L)','6':'Total Phosphorous (mg/L)'},inplace = True)\n",
    "\n",
    "fig,ax1 = plt.subplots(figsize=(6,5))\n",
    "line1 = ax1.plot(rpt_73181['Runoff (CFS)']); plt.ylim((-0.001,20)); plt.xlabel('Time Instances (Hours)'); plt.ylabel('Runoff (CFS)');\n",
    "ax1.legend(['Runoff'],loc='lower left'); ax2 = ax1.twinx(); line2 = ax2.plot(rpt_73181['Precip (in/hr)'],color='orangered');\n",
    "plt.ylim((-0.01,1.4)); plt.ylabel('Precipitation (in/hr)'); plt.gca().invert_yaxis(); ax2.grid(False); ax2.legend(['Precip'],loc='upper right');"
   ]
  },
  {
   "cell_type": "markdown",
   "metadata": {},
   "source": [
    "### Total Runoff"
   ]
  },
  {
   "cell_type": "code",
   "execution_count": 108,
   "metadata": {},
   "outputs": [
    {
     "data": {
      "text/plain": [
       "4806.75461538462"
      ]
     },
     "execution_count": 108,
     "metadata": {},
     "output_type": "execute_result"
    }
   ],
   "source": [
    "totalrunoff_73181 = (rpt_73181['Runoff (CFS)'].mean())*38.5*3600\n",
    "pyswmm_results.at[73181,'Total Runoff (CF)'] = totalrunoff_73181\n",
    "pyswmm_results.at[73181,'Total Runoff (CF)']\n",
    "\n",
    "runoff_perc_reduction_73181 = ((38669.22230769232 - totalrunoff_73181)/38669.22230769232) *100\n",
    "pyswmm_results.at[73181,'Total Runoff Volume % Reduction'] = runoff_perc_reduction_73181\n",
    "pyswmm_results.at[73181,'Total Runoff Volume % Reduction']\n",
    "\n",
    "runoff_reduction_73181 = 38669.22230769232 - totalrunoff_73181\n",
    "pyswmm_results.at[73181,'Total Runoff Volume Reduction (CF)'] = runoff_reduction_73181\n",
    "pyswmm_results.at[73181,'Total Runoff Volume Reduction (CF)']"
   ]
  },
  {
   "cell_type": "markdown",
   "metadata": {},
   "source": [
    "### Peak Flow"
   ]
  },
  {
   "cell_type": "code",
   "execution_count": 109,
   "metadata": {},
   "outputs": [
    {
     "data": {
      "text/plain": [
       "1.2215000000000007"
      ]
     },
     "execution_count": 109,
     "metadata": {},
     "output_type": "execute_result"
    }
   ],
   "source": [
    "peakflow_73181 = rpt_73181['Runoff (CFS)'].max()\n",
    "pyswmm_results.at[73181,'Peak Flow (CFS)'] = peakflow_73181\n",
    "pyswmm_results.at[73181,'Peak Flow (CFS)']\n",
    "\n",
    "peak_runoff_reduction_percentage_73181 = ((9.9181 - peakflow_73181)/9.9181)*100\n",
    "pyswmm_results.at[73181,'Peak Flow % Reduction'] = peak_runoff_reduction_percentage_73181\n",
    "pyswmm_results.at[73181,'Peak Flow % Reduction'] \n",
    "\n",
    "peak_runoff_reduction_73181 = 9.9181 - peakflow_73181\n",
    "pyswmm_results.at[73181,'Peak Flow Reduction (CFS)'] = peak_runoff_reduction_73181\n",
    "pyswmm_results.at[73181,'Peak Flow Reduction (CFS)'] "
   ]
  },
  {
   "cell_type": "markdown",
   "metadata": {},
   "source": [
    "### TN Load Analysis"
   ]
  },
  {
   "cell_type": "code",
   "execution_count": 110,
   "metadata": {},
   "outputs": [
    {
     "data": {
      "text/plain": [
       "164.8234762591452"
      ]
     },
     "execution_count": 110,
     "metadata": {},
     "output_type": "execute_result"
    }
   ],
   "source": [
    "load_TN_73181 = (rpt_73181['Runoff (CFS)'].mean() * rpt_73181['Total Nitrogen (mg/L)'].mean() * 28.3168 * 38.5*3600) /1000\n",
    "pyswmm_results.at[73181,'TN Load (grams)'] = load_TN_73181\n",
    "pyswmm_results.at[73181,'TN Load (grams)']\n",
    "\n",
    "total_nitrogen_reduction_percentage_73181 = ((839.0982134094918 - load_TN_73181)/839.0982134094918)*100\n",
    "pyswmm_results.at[73181,'TN Load % Reduction']=total_nitrogen_reduction_percentage_73181\n",
    "pyswmm_results.at[73181,'TN Load % Reduction']\n",
    "\n",
    "total_nitrogen_reduction_73181 = 839.0982134094918 - load_TN_73181\n",
    "pyswmm_results.at[73181,'TN Load Reduction (grams)']=total_nitrogen_reduction_73181\n",
    "pyswmm_results.at[73181,'TN Load Reduction (grams)']"
   ]
  },
  {
   "cell_type": "markdown",
   "metadata": {},
   "source": [
    "### TP Load Analysis"
   ]
  },
  {
   "cell_type": "code",
   "execution_count": 111,
   "metadata": {},
   "outputs": [
    {
     "data": {
      "text/plain": [
       "44.46648506718799"
      ]
     },
     "execution_count": 111,
     "metadata": {},
     "output_type": "execute_result"
    }
   ],
   "source": [
    "load_TP_73181 = (rpt_73181['Runoff (CFS)'].mean() * rpt_73181['Total Phosphorous (mg/L)'].mean() * 28.3168 * 38.5*3600) /1000\n",
    "pyswmm_results.at[73181,'TP Load (grams)'] = load_TP_73181\n",
    "pyswmm_results.at[73181,'TP Load (grams)']\n",
    "\n",
    "total_phosphorus_reduction_percentage_73181 = ((227.67340602749013 - load_TP_73181)/227.67340602749013)*100\n",
    "pyswmm_results.at[73181,'TP Load % Reduction'] = total_phosphorus_reduction_percentage_73181\n",
    "pyswmm_results.at[73181,'TP Load % Reduction']\n",
    "\n",
    "total_phosphorus_reduction_73181 = 227.67340602749013 - load_TP_73181\n",
    "pyswmm_results.at[73181,'TP Load Reduction (grams)'] = total_phosphorus_reduction_73181\n",
    "pyswmm_results.at[73181,'TP Load Reduction (grams)']"
   ]
  },
  {
   "cell_type": "markdown",
   "metadata": {},
   "source": [
    "### Mean Runoff"
   ]
  },
  {
   "cell_type": "code",
   "execution_count": 112,
   "metadata": {},
   "outputs": [
    {
     "data": {
      "text/plain": [
       "12.430440356770319"
      ]
     },
     "execution_count": 112,
     "metadata": {},
     "output_type": "execute_result"
    }
   ],
   "source": [
    "mean_runoff_73181= rpt_73181['Runoff (CFS)'].mean()\n",
    "pyswmm_results.at[73181,'Mean Runoff'] = mean_runoff_73181\n",
    "pyswmm_results.at[73181,'Mean Runoff']\n",
    "\n",
    "mean_runoff_reduction_percentage_73181= ((0.278998717948718-mean_runoff_73181)/0.278998717948718)*100\n",
    "pyswmm_results.at[73181,'Mean Runoff % Reduction']= mean_runoff_reduction_percentage_73181\n",
    "pyswmm_results.at[73181,'Mean Runoff % Reduction']"
   ]
  },
  {
   "cell_type": "markdown",
   "metadata": {},
   "source": [
    "## Subcatchment 73171"
   ]
  },
  {
   "cell_type": "code",
   "execution_count": 113,
   "metadata": {
    "scrolled": true
   },
   "outputs": [
    {
     "data": {
      "image/png": "[encoded data removed]",
      "text/plain": [
       "<Figure size 432x360 with 2 Axes>"
      ]
     },
     "metadata": {
      "needs_background": "light"
     },
     "output_type": "display_data"
    }
   ],
   "source": [
    "# This is for your Subcatchment 73171\n",
    "reportColumns = [str(i) for i in np.arange(0,7)]\n",
    "rpt_73171 = pd.read_csv(r'C:\\Users\\R. Seth Herbst\\Desktop\\SWMM Programs and Files\\SWMMIO_Altered_INPUTS\\Meadow_Creek_Hydrology_Model_UpdatedMar2021_Adjusted_SB_Parameters.txt', skiprows = 6509, nrows = 78, sep=\"   |    \", names = reportColumns, header = None, engine = 'python')\n",
    "rpt_73171.dropna(axis = 1, inplace = True); # This might be redundant\n",
    "# Check df.head before renaming the columns\n",
    "rpt_73171.rename(columns = {'0':'Date','2':'Precip (in/hr)','3':'Losses (in/hr)','4':'Runoff (CFS)','5':'Total Nitrogen (mg/L)','6':'Total Phosphorous (mg/L)'},inplace = True)\n",
    "\n",
    "fig,ax1 = plt.subplots(figsize=(6,5))\n",
    "line1 = ax1.plot(rpt_73171['Runoff (CFS)']); plt.ylim((-0.001,30)); plt.xlabel('Time Instances (Hours)'); plt.ylabel('Runoff (CFS)');\n",
    "ax1.legend(['Runoff'],loc='lower left'); ax2 = ax1.twinx(); line2 = ax2.plot(rpt_73171['Precip (in/hr)'],color='orangered');\n",
    "plt.ylim((-0.01,1.4)); plt.ylabel('Precipitation (in/hr)'); plt.gca().invert_yaxis(); ax2.grid(False); ax2.legend(['Precip'],loc='upper right');"
   ]
  },
  {
   "cell_type": "markdown",
   "metadata": {},
   "source": [
    "### Total Runoff"
   ]
  },
  {
   "cell_type": "code",
   "execution_count": 114,
   "metadata": {},
   "outputs": [
    {
     "data": {
      "text/plain": [
       "4775.125384615403"
      ]
     },
     "execution_count": 114,
     "metadata": {},
     "output_type": "execute_result"
    }
   ],
   "source": [
    "totalrunoff_73171 = (rpt_73171['Runoff (CFS)'].mean())*38.5*3600\n",
    "pyswmm_results.at[73171,'Total Runoff (CF)'] = totalrunoff_73171\n",
    "pyswmm_results.at[73171,'Total Runoff (CF)']\n",
    "\n",
    "runoff_perc_reduction_73171 = ((37062.528461538466 - totalrunoff_73171)/37062.528461538466) *100\n",
    "pyswmm_results.at[73171,'Total Runoff Volume % Reduction'] = runoff_perc_reduction_73171\n",
    "pyswmm_results.at[73171,'Total Runoff Volume % Reduction']\n",
    "\n",
    "runoff_reduction_73171 = 37062.528461538466 - totalrunoff_73171\n",
    "pyswmm_results.at[73171,'Total Runoff Volume Reduction (CF)'] = runoff_reduction_73171\n",
    "pyswmm_results.at[73171,'Total Runoff Volume Reduction (CF)']"
   ]
  },
  {
   "cell_type": "markdown",
   "metadata": {},
   "source": [
    "### Peak Flow"
   ]
  },
  {
   "cell_type": "code",
   "execution_count": 115,
   "metadata": {},
   "outputs": [
    {
     "data": {
      "text/plain": [
       "1.3975000000000009"
      ]
     },
     "execution_count": 115,
     "metadata": {},
     "output_type": "execute_result"
    }
   ],
   "source": [
    "peakflow_73171 = rpt_73171['Runoff (CFS)'].max()\n",
    "pyswmm_results.at[73171,'Peak Flow (CFS)'] = peakflow_73171\n",
    "pyswmm_results.at[73171,'Peak Flow (CFS)']\n",
    "\n",
    "peak_runoff_reduction_percentage_73171 = ((10.944 - peakflow_73171)/10.944)*100\n",
    "pyswmm_results.at[73171,'Peak Flow % Reduction'] = peak_runoff_reduction_percentage_73171\n",
    "pyswmm_results.at[73171,'Peak Flow % Reduction'] \n",
    "\n",
    "peak_runoff_reduction_73171 = 10.944 - peakflow_73171\n",
    "pyswmm_results.at[73171,'Peak Flow Reduction (CFS)'] = peak_runoff_reduction_73171\n",
    "pyswmm_results.at[73171,'Peak Flow Reduction (CFS)'] "
   ]
  },
  {
   "cell_type": "markdown",
   "metadata": {},
   "source": [
    "### TN Load Analysis"
   ]
  },
  {
   "cell_type": "code",
   "execution_count": 116,
   "metadata": {},
   "outputs": [
    {
     "data": {
      "text/plain": [
       "141.50676227865182"
      ]
     },
     "execution_count": 116,
     "metadata": {},
     "output_type": "execute_result"
    }
   ],
   "source": [
    "load_TN_73171 = (rpt_73171['Runoff (CFS)'].mean() * rpt_73171['Total Nitrogen (mg/L)'].mean() * 28.3168 * 38.5*3600) /1000\n",
    "pyswmm_results.at[73171,'TN Load (grams)'] = load_TN_73171\n",
    "pyswmm_results.at[73171,'TN Load (grams)']\n",
    "\n",
    "total_nitrogen_reduction_percentage_73171 = ((649.0705642888561 - load_TN_73171)/649.0705642888561)*100\n",
    "pyswmm_results.at[73171,'TN Load % Reduction']=total_nitrogen_reduction_percentage_73171\n",
    "pyswmm_results.at[73171,'TN Load % Reduction']\n",
    "\n",
    "total_nitrogen_reduction_73171 = 649.0705642888561 - load_TN_73171\n",
    "pyswmm_results.at[73171,'TN Load Reduction (grams)']=total_nitrogen_reduction_73171\n",
    "pyswmm_results.at[73171,'TN Load Reduction (grams)']"
   ]
  },
  {
   "cell_type": "markdown",
   "metadata": {},
   "source": [
    "### TP Load Analysis"
   ]
  },
  {
   "cell_type": "code",
   "execution_count": 117,
   "metadata": {},
   "outputs": [
    {
     "data": {
      "text/plain": [
       "40.24098974185978"
      ]
     },
     "execution_count": 117,
     "metadata": {},
     "output_type": "execute_result"
    }
   ],
   "source": [
    "load_TP_73171 = (rpt_73171['Runoff (CFS)'].mean() * rpt_73171['Total Phosphorous (mg/L)'].mean() * 28.3168 * 38.5*3600) /1000\n",
    "pyswmm_results.at[73171,'TP Load (grams)'] = load_TP_73171\n",
    "pyswmm_results.at[73171,'TP Load (grams)']\n",
    "\n",
    "total_phosphorus_reduction_percentage_73171 = ((183.41894553038333 - load_TP_73171)/183.41894553038333)*100\n",
    "pyswmm_results.at[73171,'TP Load % Reduction'] = total_phosphorus_reduction_percentage_73171\n",
    "pyswmm_results.at[73171,'TP Load % Reduction']\n",
    "\n",
    "total_phosphorus_reduction_73171 = 183.41894553038333 - load_TP_73171\n",
    "pyswmm_results.at[73171,'TP Load Reduction (grams)'] = total_phosphorus_reduction_73171\n",
    "pyswmm_results.at[73171,'TP Load Reduction (grams)']"
   ]
  },
  {
   "cell_type": "markdown",
   "metadata": {},
   "source": [
    "### Mean Runoff"
   ]
  },
  {
   "cell_type": "code",
   "execution_count": 118,
   "metadata": {},
   "outputs": [
    {
     "data": {
      "text/plain": [
       "12.883970907626473"
      ]
     },
     "execution_count": 118,
     "metadata": {},
     "output_type": "execute_result"
    }
   ],
   "source": [
    "mean_runoff_73171= rpt_73171['Runoff (CFS)'].mean()\n",
    "pyswmm_results.at[73171,'Mean Runoff'] = mean_runoff_73171\n",
    "pyswmm_results.at[73171,'Mean Runoff']\n",
    "\n",
    "mean_runoff_reduction_percentage_73171= ((0.26740641025641027-mean_runoff_73171)/0.26740641025641027)*100\n",
    "pyswmm_results.at[73171,'Mean Runoff % Reduction']= mean_runoff_reduction_percentage_73171\n",
    "pyswmm_results.at[73171,'Mean Runoff % Reduction']"
   ]
  },
  {
   "cell_type": "markdown",
   "metadata": {},
   "source": [
    "## Subcatchment 73121"
   ]
  },
  {
   "cell_type": "code",
   "execution_count": 119,
   "metadata": {
    "scrolled": true
   },
   "outputs": [
    {
     "data": {
      "image/png": "[encoded data removed]",
      "text/plain": [
       "<Figure size 432x360 with 2 Axes>"
      ]
     },
     "metadata": {
      "needs_background": "light"
     },
     "output_type": "display_data"
    }
   ],
   "source": [
    "# This is for your Subcatchment 73121\n",
    "reportColumns = [str(i) for i in np.arange(0,7)]\n",
    "rpt_73121 = pd.read_csv(r'C:\\Users\\R. Seth Herbst\\Desktop\\SWMM Programs and Files\\SWMMIO_Altered_INPUTS\\Meadow_Creek_Hydrology_Model_UpdatedMar2021_Adjusted_SB_Parameters.txt', skiprows = 6424, nrows = 78, sep=\"   |    \", names = reportColumns, header = None, engine = 'python')\n",
    "rpt_73121.dropna(axis = 1, inplace = True); # This might be redundant\n",
    "# Check df.head before renaming the columns\n",
    "rpt_73121.rename(columns = {'0':'Date','2':'Precip (in/hr)','3':'Losses (in/hr)','4':'Runoff (CFS)','5':'Total Nitrogen (mg/L)','6':'Total Phosphorous (mg/L)'},inplace = True)\n",
    "\n",
    "fig,ax1 = plt.subplots(figsize=(6,5))\n",
    "line1 = ax1.plot(rpt_73121['Runoff (CFS)']); plt.ylim((-0.001,25)); plt.xlabel('Time Instances (Hours)'); plt.ylabel('Runoff (CFS)');\n",
    "ax1.legend(['Runoff'],loc='lower left'); ax2 = ax1.twinx(); line2 = ax2.plot(rpt_73121['Precip (in/hr)'],color='orangered');\n",
    "plt.ylim((-0.01,1.4)); plt.ylabel('Precipitation (in/hr)'); plt.gca().invert_yaxis(); ax2.grid(False); ax2.legend(['Precip'],loc='upper right');"
   ]
  },
  {
   "cell_type": "markdown",
   "metadata": {},
   "source": [
    "### Total Runoff"
   ]
  },
  {
   "cell_type": "code",
   "execution_count": 120,
   "metadata": {},
   "outputs": [
    {
     "data": {
      "text/plain": [
       "24574.31307692307"
      ]
     },
     "execution_count": 120,
     "metadata": {},
     "output_type": "execute_result"
    }
   ],
   "source": [
    "totalrunoff_73121 = (rpt_73121['Runoff (CFS)'].mean())*38.5*3600\n",
    "pyswmm_results.at[73121,'Total Runoff (CF)'] = totalrunoff_73121\n",
    "pyswmm_results.at[73121,'Total Runoff (CF)']\n",
    "\n",
    "runoff_perc_reduction_73121 = ((63324.74076923076 - totalrunoff_73121)/63324.74076923076) *100\n",
    "pyswmm_results.at[73121,'Total Runoff Volume % Reduction'] = runoff_perc_reduction_73121\n",
    "pyswmm_results.at[73121,'Total Runoff Volume % Reduction']\n",
    "\n",
    "runoff_reduction_73121 = 63324.74076923076 - totalrunoff_73121\n",
    "pyswmm_results.at[73121,'Total Runoff Volume Reduction (CF)'] = runoff_reduction_73121\n",
    "pyswmm_results.at[73121,'Total Runoff Volume Reduction (CF)']"
   ]
  },
  {
   "cell_type": "markdown",
   "metadata": {},
   "source": [
    "### Peak Flow"
   ]
  },
  {
   "cell_type": "code",
   "execution_count": 121,
   "metadata": {},
   "outputs": [
    {
     "data": {
      "text/plain": [
       "6.341899999999999"
      ]
     },
     "execution_count": 121,
     "metadata": {},
     "output_type": "execute_result"
    }
   ],
   "source": [
    "peakflow_73121 = rpt_73121['Runoff (CFS)'].max()\n",
    "pyswmm_results.at[73121,'Peak Flow (CFS)'] = peakflow_73121\n",
    "pyswmm_results.at[73121,'Peak Flow (CFS)']\n",
    "\n",
    "peak_runoff_reduction_percentage_73121 = ((15.6503 - peakflow_73121)/15.6503)*100\n",
    "pyswmm_results.at[73121,'Peak Flow % Reduction'] = peak_runoff_reduction_percentage_73121\n",
    "pyswmm_results.at[73121,'Peak Flow % Reduction'] \n",
    "\n",
    "peak_runoff_reduction_73121 = 15.6503 - peakflow_73121\n",
    "pyswmm_results.at[73121,'Peak Flow Reduction (CFS)'] = peak_runoff_reduction_73121\n",
    "pyswmm_results.at[73121,'Peak Flow Reduction (CFS)'] "
   ]
  },
  {
   "cell_type": "markdown",
   "metadata": {},
   "source": [
    "### TN Load Analysis"
   ]
  },
  {
   "cell_type": "code",
   "execution_count": 122,
   "metadata": {},
   "outputs": [
    {
     "data": {
      "text/plain": [
       "617.4545820238166"
      ]
     },
     "execution_count": 122,
     "metadata": {},
     "output_type": "execute_result"
    }
   ],
   "source": [
    "load_TN_73121 = (rpt_73121['Runoff (CFS)'].mean() * rpt_73121['Total Nitrogen (mg/L)'].mean() * 28.3168 * 38.5*3600) /1000\n",
    "pyswmm_results.at[73121,'TN Load (grams)'] = load_TN_73121\n",
    "pyswmm_results.at[73121,'TN Load (grams)']\n",
    "\n",
    "total_nitrogen_reduction_percentage_73121 = ((1181.826433718497 - load_TN_73121)/1181.826433718497)*100\n",
    "pyswmm_results.at[73121,'TN Load % Reduction']=total_nitrogen_reduction_percentage_73121\n",
    "pyswmm_results.at[73121,'TN Load % Reduction']\n",
    "\n",
    "total_nitrogen_reduction_73121 = 1181.826433718497 - load_TN_73121\n",
    "pyswmm_results.at[73121,'TN Load Reduction (grams)']=total_nitrogen_reduction_73121\n",
    "pyswmm_results.at[73121,'TN Load Reduction (grams)']"
   ]
  },
  {
   "cell_type": "markdown",
   "metadata": {},
   "source": [
    "### TP Load Analysis"
   ]
  },
  {
   "cell_type": "code",
   "execution_count": 123,
   "metadata": {},
   "outputs": [
    {
     "data": {
      "text/plain": [
       "194.9340061501163"
      ]
     },
     "execution_count": 123,
     "metadata": {},
     "output_type": "execute_result"
    }
   ],
   "source": [
    "load_TP_73121 = (rpt_73121['Runoff (CFS)'].mean() * rpt_73121['Total Phosphorous (mg/L)'].mean() * 28.3168 * 38.5*3600) /1000\n",
    "pyswmm_results.at[73121,'TP Load (grams)'] = load_TP_73121\n",
    "pyswmm_results.at[73121,'TP Load (grams)']\n",
    "\n",
    "total_phosphorus_reduction_percentage_73121 = ((372.97603603814355 - load_TP_73121)/372.97603603814355)*100\n",
    "pyswmm_results.at[73121,'TP Load % Reduction'] = total_phosphorus_reduction_percentage_73121\n",
    "pyswmm_results.at[73121,'TP Load % Reduction']\n",
    "\n",
    "total_phosphorus_reduction_73121 = 372.97603603814355 - load_TP_73121\n",
    "pyswmm_results.at[73121,'TP Load Reduction (grams)'] = total_phosphorus_reduction_73121\n",
    "pyswmm_results.at[73121,'TP Load Reduction (grams)']"
   ]
  },
  {
   "cell_type": "markdown",
   "metadata": {},
   "source": [
    "### Mean Runoff"
   ]
  },
  {
   "cell_type": "code",
   "execution_count": 124,
   "metadata": {},
   "outputs": [
    {
     "data": {
      "text/plain": [
       "38.80681196386931"
      ]
     },
     "execution_count": 124,
     "metadata": {},
     "output_type": "execute_result"
    }
   ],
   "source": [
    "mean_runoff_73121= rpt_73121['Runoff (CFS)'].mean()\n",
    "pyswmm_results.at[73121,'Mean Runoff'] = mean_runoff_73121\n",
    "pyswmm_results.at[73121,'Mean Runoff']\n",
    "\n",
    "mean_runoff_reduction_percentage_73121= ((0.45688846153846147-mean_runoff_73121)/0.45688846153846147)*100\n",
    "pyswmm_results.at[73121,'Mean Runoff % Reduction']= mean_runoff_reduction_percentage_73121\n",
    "pyswmm_results.at[73121,'Mean Runoff % Reduction']"
   ]
  },
  {
   "cell_type": "markdown",
   "metadata": {},
   "source": [
    "## Subcatchment 73201"
   ]
  },
  {
   "cell_type": "code",
   "execution_count": 125,
   "metadata": {
    "scrolled": true
   },
   "outputs": [
    {
     "data": {
      "image/png": "[encoded data removed]",
      "text/plain": [
       "<Figure size 432x360 with 2 Axes>"
      ]
     },
     "metadata": {
      "needs_background": "light"
     },
     "output_type": "display_data"
    }
   ],
   "source": [
    "# This is for your Subcatchment 73201\n",
    "reportColumns = [str(i) for i in np.arange(0,7)]\n",
    "rpt_73201 = pd.read_csv(r'C:\\Users\\R. Seth Herbst\\Desktop\\SWMM Programs and Files\\SWMMIO_Altered_INPUTS\\Meadow_Creek_Hydrology_Model_UpdatedMar2021_Adjusted_SB_Parameters.txt', skiprows = 6679, nrows = 78, sep=\"   |    \", names = reportColumns, header = None, engine = 'python')\n",
    "rpt_73201.dropna(axis = 1, inplace = True); # This might be redundant\n",
    "# Check df.head before renaming the columns\n",
    "rpt_73201.rename(columns = {'0':'Date','2':'Precip (in/hr)','3':'Losses (in/hr)','4':'Runoff (CFS)','5':'Total Nitrogen (mg/L)','6':'Total Phosphorous (mg/L)'},inplace = True)\n",
    "\n",
    "fig,ax1 = plt.subplots(figsize=(6,5))\n",
    "line1 = ax1.plot(rpt_73201['Runoff (CFS)']); plt.ylim((-0.001,30)); plt.xlabel('Time Instances (Hours)'); plt.ylabel('Runoff (CFS)');\n",
    "ax1.legend(['Runoff'],loc='lower left'); ax2 = ax1.twinx(); line2 = ax2.plot(rpt_73201['Precip (in/hr)'],color='orangered');\n",
    "plt.ylim((-0.01,1.4)); plt.ylabel('Precipitation (in/hr)'); plt.gca().invert_yaxis(); ax2.grid(False); ax2.legend(['Precip'],loc='upper right');"
   ]
  },
  {
   "cell_type": "markdown",
   "metadata": {},
   "source": [
    "### Total Runoff"
   ]
  },
  {
   "cell_type": "code",
   "execution_count": 126,
   "metadata": {},
   "outputs": [
    {
     "data": {
      "text/plain": [
       "17145.886153846153"
      ]
     },
     "execution_count": 126,
     "metadata": {},
     "output_type": "execute_result"
    }
   ],
   "source": [
    "totalrunoff_73201 = (rpt_73201['Runoff (CFS)'].mean())*38.5*3600\n",
    "pyswmm_results.at[73201,'Total Runoff (CF)'] = totalrunoff_73201\n",
    "pyswmm_results.at[73201,'Total Runoff (CF)']\n",
    "\n",
    "runoff_perc_reduction_73201 = ((45618.768461538464 - totalrunoff_73201)/45618.768461538464) *100\n",
    "pyswmm_results.at[73201,'Total Runoff Volume % Reduction'] = runoff_perc_reduction_73201\n",
    "pyswmm_results.at[73201,'Total Runoff Volume % Reduction']\n",
    "\n",
    "runoff_reduction_73201 = 45618.768461538464 - totalrunoff_73201\n",
    "pyswmm_results.at[73201,'Total Runoff Volume Reduction (CF)'] = runoff_reduction_73201\n",
    "pyswmm_results.at[73201,'Total Runoff Volume Reduction (CF)']"
   ]
  },
  {
   "cell_type": "markdown",
   "metadata": {},
   "source": [
    "### Peak Flow"
   ]
  },
  {
   "cell_type": "code",
   "execution_count": 127,
   "metadata": {},
   "outputs": [
    {
     "data": {
      "text/plain": [
       "4.750699999999999"
      ]
     },
     "execution_count": 127,
     "metadata": {},
     "output_type": "execute_result"
    }
   ],
   "source": [
    "peakflow_73201 = rpt_73201['Runoff (CFS)'].max()\n",
    "pyswmm_results.at[73201,'Peak Flow (CFS)'] = peakflow_73201\n",
    "pyswmm_results.at[73201,'Peak Flow (CFS)']\n",
    "\n",
    "peak_runoff_reduction_percentage_73201 = ((12.6269 - peakflow_73201)/12.6269)*100\n",
    "pyswmm_results.at[73201,'Peak Flow % Reduction'] = peak_runoff_reduction_percentage_73201\n",
    "pyswmm_results.at[73201,'Peak Flow % Reduction'] \n",
    "\n",
    "peak_runoff_reduction_73201 = 12.6269 - peakflow_73201\n",
    "pyswmm_results.at[73201,'Peak Flow Reduction (CFS)'] = peak_runoff_reduction_73201\n",
    "pyswmm_results.at[73201,'Peak Flow Reduction (CFS)'] "
   ]
  },
  {
   "cell_type": "markdown",
   "metadata": {},
   "source": [
    "### TN Load Analysis"
   ]
  },
  {
   "cell_type": "code",
   "execution_count": 128,
   "metadata": {},
   "outputs": [
    {
     "data": {
      "text/plain": [
       "439.3978726681325"
      ]
     },
     "execution_count": 128,
     "metadata": {},
     "output_type": "execute_result"
    }
   ],
   "source": [
    "load_TN_73201 = (rpt_73201['Runoff (CFS)'].mean() * rpt_73201['Total Nitrogen (mg/L)'].mean() * 28.3168 * 38.5*3600) /1000\n",
    "pyswmm_results.at[73201,'TN Load (grams)'] = load_TN_73201\n",
    "pyswmm_results.at[73201,'TN Load (grams)']\n",
    "\n",
    "total_nitrogen_reduction_percentage_73201 = ((828.5428036836543 - load_TN_73201)/828.5428036836543)*100\n",
    "pyswmm_results.at[73201,'TN Load % Reduction']=total_nitrogen_reduction_percentage_73201\n",
    "pyswmm_results.at[73201,'TN Load % Reduction']\n",
    "\n",
    "total_nitrogen_reduction_73201 = 828.5428036836543 - load_TN_73201\n",
    "pyswmm_results.at[73201,'TN Load Reduction (grams)']=total_nitrogen_reduction_73201\n",
    "pyswmm_results.at[73201,'TN Load Reduction (grams)']"
   ]
  },
  {
   "cell_type": "markdown",
   "metadata": {},
   "source": [
    "### TP Load Analysis"
   ]
  },
  {
   "cell_type": "code",
   "execution_count": 129,
   "metadata": {},
   "outputs": [
    {
     "data": {
      "text/plain": [
       "119.98241563414061"
      ]
     },
     "execution_count": 129,
     "metadata": {},
     "output_type": "execute_result"
    }
   ],
   "source": [
    "load_TP_73201 = (rpt_73201['Runoff (CFS)'].mean() * rpt_73201['Total Phosphorous (mg/L)'].mean() * 28.3168 * 38.5*3600) /1000\n",
    "pyswmm_results.at[73201,'TP Load (grams)'] = load_TP_73201\n",
    "pyswmm_results.at[73201,'TP Load (grams)']\n",
    "\n",
    "total_phosphorus_reduction_percentage_73201 = ((226.40885624656158 - load_TP_73201)/226.40885624656158)*100\n",
    "pyswmm_results.at[73201,'TP Load % Reduction'] = total_phosphorus_reduction_percentage_73201\n",
    "pyswmm_results.at[73201,'TP Load % Reduction']\n",
    "\n",
    "total_phosphorus_reduction_73201 = 226.40885624656158 - load_TP_73201\n",
    "pyswmm_results.at[73201,'TP Load Reduction (grams)'] = total_phosphorus_reduction_73201\n",
    "pyswmm_results.at[73201,'TP Load Reduction (grams)']"
   ]
  },
  {
   "cell_type": "markdown",
   "metadata": {},
   "source": [
    "### Mean Runoff"
   ]
  },
  {
   "cell_type": "code",
   "execution_count": 130,
   "metadata": {},
   "outputs": [
    {
     "data": {
      "text/plain": [
       "37.58515789022666"
      ]
     },
     "execution_count": 130,
     "metadata": {},
     "output_type": "execute_result"
    }
   ],
   "source": [
    "mean_runoff_73201= rpt_73201['Runoff (CFS)'].mean()\n",
    "pyswmm_results.at[73201,'Mean Runoff'] = mean_runoff_73201\n",
    "pyswmm_results.at[73201,'Mean Runoff']\n",
    "\n",
    "mean_runoff_reduction_percentage_73201= ((0.3291397435897436-mean_runoff_73201)/0.3291397435897436)*100\n",
    "pyswmm_results.at[73201,'Mean Runoff % Reduction']= mean_runoff_reduction_percentage_73201\n",
    "pyswmm_results.at[73201,'Mean Runoff % Reduction']"
   ]
  },
  {
   "cell_type": "markdown",
   "metadata": {},
   "source": [
    "## Subcatchment 73301"
   ]
  },
  {
   "cell_type": "code",
   "execution_count": 131,
   "metadata": {
    "scrolled": true
   },
   "outputs": [
    {
     "data": {
      "image/png": "[encoded data removed]",
      "text/plain": [
       "<Figure size 432x360 with 2 Axes>"
      ]
     },
     "metadata": {
      "needs_background": "light"
     },
     "output_type": "display_data"
    }
   ],
   "source": [
    "## This is for your Subcatchment 73301\n",
    "reportColumns = [str(i) for i in np.arange(0,7)]\n",
    "rpt_73301 = pd.read_csv(r'C:\\Users\\R. Seth Herbst\\Desktop\\SWMM Programs and Files\\SWMMIO_Altered_INPUTS\\Meadow_Creek_Hydrology_Model_UpdatedMar2021_Adjusted_SB_Parameters.txt', skiprows = 6934, nrows = 78, sep=\"   |    \", names = reportColumns, header = None, engine = 'python')\n",
    "rpt_73301.dropna(axis = 1, inplace = True); # This might be redundant\n",
    "# Check df.head before renaming the columns\n",
    "rpt_73301.rename(columns = {'0':'Date','2':'Precip (in/hr)','3':'Losses (in/hr)','4':'Runoff (CFS)','5':'Total Nitrogen (mg/L)','6':'Total Phosphorous (mg/L)'},inplace = True)\n",
    "\n",
    "fig,ax1 = plt.subplots(figsize=(6,5))\n",
    "line1 = ax1.plot(rpt_73301['Runoff (CFS)']); plt.ylim((-0.001,30)); plt.xlabel('Time Instances (Hours)'); plt.ylabel('Runoff (CFS)');\n",
    "ax1.legend(['Runoff'],loc='lower left'); ax2 = ax1.twinx(); line2 = ax2.plot(rpt_73301['Precip (in/hr)'],color='orangered');\n",
    "plt.ylim((-0.01,1.4)); plt.ylabel('Precipitation (in/hr)'); plt.gca().invert_yaxis(); ax2.grid(False); ax2.legend(['Precip'],loc='upper right');"
   ]
  },
  {
   "cell_type": "markdown",
   "metadata": {},
   "source": [
    "### Total Runoff"
   ]
  },
  {
   "cell_type": "code",
   "execution_count": 132,
   "metadata": {},
   "outputs": [
    {
     "data": {
      "text/plain": [
       "7466.98615384617"
      ]
     },
     "execution_count": 132,
     "metadata": {},
     "output_type": "execute_result"
    }
   ],
   "source": [
    "totalrunoff_73301 = (rpt_73301['Runoff (CFS)'].mean())*38.5*3600\n",
    "pyswmm_results.at[73301,'Total Runoff (CF)'] = totalrunoff_73301\n",
    "pyswmm_results.at[73301,'Total Runoff (CF)']\n",
    "\n",
    "runoff_perc_reduction_73301 = ((57276.09461538463 - totalrunoff_73301)/57276.09461538463) *100\n",
    "pyswmm_results.at[73301,'Total Runoff Volume % Reduction'] = runoff_perc_reduction_73301\n",
    "pyswmm_results.at[73301,'Total Runoff Volume % Reduction']\n",
    "\n",
    "runoff_reduction_73301 = 57276.09461538463 - totalrunoff_73301\n",
    "pyswmm_results.at[73301,'Total Runoff Volume Reduction (CF)'] = runoff_reduction_73301\n",
    "pyswmm_results.at[73301,'Total Runoff Volume Reduction (CF)']"
   ]
  },
  {
   "cell_type": "markdown",
   "metadata": {},
   "source": [
    "### Peak Runoff"
   ]
  },
  {
   "cell_type": "code",
   "execution_count": 133,
   "metadata": {},
   "outputs": [
    {
     "data": {
      "text/plain": [
       "1.8938000000000006"
      ]
     },
     "execution_count": 133,
     "metadata": {},
     "output_type": "execute_result"
    }
   ],
   "source": [
    "peakflow_73301 = rpt_73301['Runoff (CFS)'].max()\n",
    "pyswmm_results.at[73301,'Peak Flow (CFS)'] = peakflow_73301\n",
    "pyswmm_results.at[73301,'Peak Flow (CFS)']\n",
    "\n",
    "peak_runoff_reduction_percentage_73301 = ((15.2104 - peakflow_73301)/15.2104)*100\n",
    "pyswmm_results.at[73301,'Peak Flow % Reduction'] = peak_runoff_reduction_percentage_73301\n",
    "pyswmm_results.at[73301,'Peak Flow % Reduction'] \n",
    "\n",
    "peak_runoff_reduction_73301 = 15.2104 - peakflow_73301\n",
    "pyswmm_results.at[73301,'Peak Flow Reduction (CFS)'] = peak_runoff_reduction_73301\n",
    "pyswmm_results.at[73301,'Peak Flow Reduction (CFS)'] "
   ]
  },
  {
   "cell_type": "markdown",
   "metadata": {},
   "source": [
    "### TN Load Analysis"
   ]
  },
  {
   "cell_type": "code",
   "execution_count": 134,
   "metadata": {},
   "outputs": [
    {
     "data": {
      "text/plain": [
       "271.35354910862407"
      ]
     },
     "execution_count": 134,
     "metadata": {},
     "output_type": "execute_result"
    }
   ],
   "source": [
    "load_TN_73301 = (rpt_73301['Runoff (CFS)'].mean() * rpt_73301['Total Nitrogen (mg/L)'].mean() * 28.3168 * 38.5*3600) /1000\n",
    "pyswmm_results.at[73301,'TN Load (grams)'] = load_TN_73301\n",
    "pyswmm_results.at[73301,'TN Load (grams)']\n",
    "\n",
    "total_nitrogen_reduction_percentage_73301 = ((1271.550561347861 - load_TN_73301)/1271.550561347861)*100\n",
    "pyswmm_results.at[73301,'TN Load % Reduction']=total_nitrogen_reduction_percentage_73301\n",
    "pyswmm_results.at[73301,'TN Load % Reduction']\n",
    "\n",
    "total_nitrogen_reduction_73301 = 1271.550561347861 - load_TN_73301\n",
    "pyswmm_results.at[73301,'TN Load Reduction (grams)']=total_nitrogen_reduction_73301\n",
    "pyswmm_results.at[73301,'TN Load Reduction (grams)']"
   ]
  },
  {
   "cell_type": "markdown",
   "metadata": {},
   "source": [
    "### TP Load Analysis"
   ]
  },
  {
   "cell_type": "code",
   "execution_count": 135,
   "metadata": {},
   "outputs": [
    {
     "data": {
      "text/plain": [
       "78.5295767407344"
      ]
     },
     "execution_count": 135,
     "metadata": {},
     "output_type": "execute_result"
    }
   ],
   "source": [
    "load_TP_73301 = (rpt_73301['Runoff (CFS)'].mean() * rpt_73301['Total Phosphorous (mg/L)'].mean() * 28.3168 * 38.5*3600) /1000\n",
    "pyswmm_results.at[73301,'TP Load (grams)'] = load_TP_73301\n",
    "pyswmm_results.at[73301,'TP Load (grams)']\n",
    "\n",
    "total_phosphorus_reduction_percentage_73301 = ((366.29439247618944 - load_TP_73301)/366.29439247618944)*100\n",
    "pyswmm_results.at[73301,'TP Load % Reduction'] = total_phosphorus_reduction_percentage_73301\n",
    "pyswmm_results.at[73301,'TP Load % Reduction']\n",
    "\n",
    "total_phosphorus_reduction_73301 = 366.29439247618944 - load_TP_73301\n",
    "pyswmm_results.at[73301,'TP Load Reduction (grams)'] = total_phosphorus_reduction_73301\n",
    "pyswmm_results.at[73301,'TP Load Reduction (grams)']"
   ]
  },
  {
   "cell_type": "markdown",
   "metadata": {},
   "source": [
    "### Mean Runoff"
   ]
  },
  {
   "cell_type": "code",
   "execution_count": 136,
   "metadata": {},
   "outputs": [
    {
     "data": {
      "text/plain": [
       "13.03682837314209"
      ]
     },
     "execution_count": 136,
     "metadata": {},
     "output_type": "execute_result"
    }
   ],
   "source": [
    "mean_runoff_73301= rpt_73301['Runoff (CFS)'].mean()\n",
    "pyswmm_results.at[73301,'Mean Runoff'] = mean_runoff_73301\n",
    "pyswmm_results.at[73301,'Mean Runoff']\n",
    "\n",
    "mean_runoff_reduction_percentage_73301= ((0.413247435897436-mean_runoff_73301)/0.413247435897436)*100\n",
    "pyswmm_results.at[73301,'Mean Runoff % Reduction']= mean_runoff_reduction_percentage_73301\n",
    "pyswmm_results.at[73301,'Mean Runoff % Reduction']"
   ]
  },
  {
   "cell_type": "markdown",
   "metadata": {},
   "source": [
    "## Subcatchment 73321"
   ]
  },
  {
   "cell_type": "code",
   "execution_count": 137,
   "metadata": {
    "scrolled": true
   },
   "outputs": [
    {
     "data": {
      "image/png": "[encoded data removed]",
      "text/plain": [
       "<Figure size 432x360 with 2 Axes>"
      ]
     },
     "metadata": {
      "needs_background": "light"
     },
     "output_type": "display_data"
    }
   ],
   "source": [
    "# This is for your Subcatchment 73321\n",
    "reportColumns = [str(i) for i in np.arange(0,7)]\n",
    "rpt_73321 = pd.read_csv(r'C:\\Users\\R. Seth Herbst\\Desktop\\SWMM Programs and Files\\SWMMIO_Altered_INPUTS\\Meadow_Creek_Hydrology_Model_UpdatedMar2021_Adjusted_SB_Parameters.txt', skiprows = 7019, nrows = 78, sep=\"   |    \", names = reportColumns, header = None, engine = 'python')\n",
    "rpt_73321.dropna(axis = 1, inplace = True); # This might be redundant\n",
    "# Check df.head before renaming the columns\n",
    "rpt_73321.rename(columns = {'0':'Date','2':'Precip (in/hr)','3':'Losses (in/hr)','4':'Runoff (CFS)','5':'Total Nitrogen (mg/L)','6':'Total Phosphorous (mg/L)'},inplace = True)\n",
    "\n",
    "fig,ax1 = plt.subplots(figsize=(6,5))\n",
    "line1 = ax1.plot(rpt_73321['Runoff (CFS)']); plt.ylim((-0.001,20)); plt.xlabel('Time Instances (Hours)'); plt.ylabel('Runoff (CFS)');\n",
    "ax1.legend(['Runoff'],loc='lower left'); ax2 = ax1.twinx(); line2 = ax2.plot(rpt_73321['Precip (in/hr)'],color='orangered');\n",
    "plt.ylim((-0.01,1.4)); plt.ylabel('Precipitation (in/hr)'); plt.gca().invert_yaxis(); ax2.grid(False); ax2.legend(['Precip'],loc='upper right');"
   ]
  },
  {
   "cell_type": "markdown",
   "metadata": {},
   "source": [
    "### Total Runoff"
   ]
  },
  {
   "cell_type": "code",
   "execution_count": 138,
   "metadata": {},
   "outputs": [
    {
     "data": {
      "text/plain": [
       "6006.533076923079"
      ]
     },
     "execution_count": 138,
     "metadata": {},
     "output_type": "execute_result"
    }
   ],
   "source": [
    "totalrunoff_73321 = (rpt_73321['Runoff (CFS)'].mean())*38.5*3600\n",
    "pyswmm_results.at[73321,'Total Runoff (CF)'] = totalrunoff_73321\n",
    "pyswmm_results.at[73321,'Total Runoff (CF)']\n",
    "\n",
    "runoff_perc_reduction_73321 = ((40647.11538461539 - totalrunoff_73321)/40647.11538461539) *100\n",
    "pyswmm_results.at[73321,'Total Runoff Volume % Reduction'] = runoff_perc_reduction_73321\n",
    "pyswmm_results.at[73321,'Total Runoff Volume % Reduction']\n",
    "\n",
    "runoff_reduction_73321 = 40647.11538461539 - totalrunoff_73321\n",
    "pyswmm_results.at[73321,'Total Runoff Volume Reduction (CF)'] = runoff_reduction_73321\n",
    "pyswmm_results.at[73321,'Total Runoff Volume Reduction (CF)']"
   ]
  },
  {
   "cell_type": "markdown",
   "metadata": {},
   "source": [
    "### Peak Flow"
   ]
  },
  {
   "cell_type": "code",
   "execution_count": 139,
   "metadata": {},
   "outputs": [
    {
     "data": {
      "text/plain": [
       "1.6390999999999991"
      ]
     },
     "execution_count": 139,
     "metadata": {},
     "output_type": "execute_result"
    }
   ],
   "source": [
    "peakflow_73321 = rpt_73321['Runoff (CFS)'].max()\n",
    "pyswmm_results.at[73321,'Peak Flow (CFS)'] = peakflow_73321\n",
    "pyswmm_results.at[73321,'Peak Flow (CFS)']\n",
    "\n",
    "peak_runoff_reduction_percentage_73321 = ((11.4529 - peakflow_73321)/11.4529)*100\n",
    "pyswmm_results.at[73321,'Peak Flow % Reduction'] = peak_runoff_reduction_percentage_73321\n",
    "pyswmm_results.at[73321,'Peak Flow % Reduction'] \n",
    "\n",
    "peak_runoff_reduction_73321 = 11.4529 - peakflow_73321\n",
    "pyswmm_results.at[73321,'Peak Flow Reduction (CFS)'] = peak_runoff_reduction_73321\n",
    "pyswmm_results.at[73321,'Peak Flow Reduction (CFS)'] "
   ]
  },
  {
   "cell_type": "markdown",
   "metadata": {},
   "source": [
    "### TN Load Analysis"
   ]
  },
  {
   "cell_type": "code",
   "execution_count": 140,
   "metadata": {},
   "outputs": [
    {
     "data": {
      "text/plain": [
       "222.62675182985163"
      ]
     },
     "execution_count": 140,
     "metadata": {},
     "output_type": "execute_result"
    }
   ],
   "source": [
    "load_TN_73321 = (rpt_73321['Runoff (CFS)'].mean() * rpt_73321['Total Nitrogen (mg/L)'].mean() * 28.3168 * 38.5*3600) /1000\n",
    "pyswmm_results.at[73321,'TN Load (grams)'] = load_TN_73321\n",
    "pyswmm_results.at[73321,'TN Load (grams)']\n",
    "\n",
    "total_nitrogen_reduction_percentage_73321 = ((903.0893551242593 - load_TN_73321)/903.0893551242593)*100\n",
    "pyswmm_results.at[73321,'TN Load % Reduction']=total_nitrogen_reduction_percentage_73321\n",
    "pyswmm_results.at[73321,'TN Load % Reduction']\n",
    "\n",
    "total_nitrogen_reduction_73321 = 903.0893551242593 - load_TN_73321\n",
    "pyswmm_results.at[73321,'TN Load Reduction (grams)']=total_nitrogen_reduction_73321\n",
    "pyswmm_results.at[73321,'TN Load Reduction (grams)']"
   ]
  },
  {
   "cell_type": "markdown",
   "metadata": {},
   "source": [
    "### TP Load Analysis"
   ]
  },
  {
   "cell_type": "code",
   "execution_count": 141,
   "metadata": {},
   "outputs": [
    {
     "data": {
      "text/plain": [
       "56.92606839073662"
      ]
     },
     "execution_count": 141,
     "metadata": {},
     "output_type": "execute_result"
    }
   ],
   "source": [
    "load_TP_73321 = (rpt_73321['Runoff (CFS)'].mean() * rpt_73321['Total Phosphorous (mg/L)'].mean() * 28.3168 * 38.5*3600) /1000\n",
    "pyswmm_results.at[73321,'TP Load (grams)'] = load_TP_73321\n",
    "pyswmm_results.at[73321,'TP Load (grams)']\n",
    "\n",
    "total_phosphorus_reduction_percentage_73321 = ((230.93706548520734 - load_TP_73321)/230.93706548520734)*100\n",
    "pyswmm_results.at[73321,'TP Load % Reduction'] = total_phosphorus_reduction_percentage_73321\n",
    "pyswmm_results.at[73321,'TP Load % Reduction']\n",
    "\n",
    "total_phosphorus_reduction_73321 = 230.93706548520734 - load_TP_73321\n",
    "pyswmm_results.at[73321,'TP Load Reduction (grams)'] = total_phosphorus_reduction_73321\n",
    "pyswmm_results.at[73321,'TP Load Reduction (grams)']"
   ]
  },
  {
   "cell_type": "markdown",
   "metadata": {},
   "source": [
    "### Mean Runoff"
   ]
  },
  {
   "cell_type": "code",
   "execution_count": 142,
   "metadata": {},
   "outputs": [
    {
     "data": {
      "text/plain": [
       "14.77726775956285"
      ]
     },
     "execution_count": 142,
     "metadata": {},
     "output_type": "execute_result"
    }
   ],
   "source": [
    "mean_runoff_73321= rpt_73321['Runoff (CFS)'].mean()\n",
    "pyswmm_results.at[73321,'Mean Runoff'] = mean_runoff_73321\n",
    "pyswmm_results.at[73321,'Mean Runoff']\n",
    "\n",
    "mean_runoff_reduction_percentage_73321= ((0.29326923076923084-mean_runoff_73321)/0.29326923076923084)*100\n",
    "pyswmm_results.at[73321,'Mean Runoff % Reduction']= mean_runoff_reduction_percentage_73321\n",
    "pyswmm_results.at[73321,'Mean Runoff % Reduction']"
   ]
  },
  {
   "cell_type": "markdown",
   "metadata": {},
   "source": [
    "## Subcatchment 73391"
   ]
  },
  {
   "cell_type": "code",
   "execution_count": 143,
   "metadata": {
    "scrolled": true
   },
   "outputs": [
    {
     "data": {
      "image/png": "[encoded data removed]",
      "text/plain": [
       "<Figure size 432x360 with 2 Axes>"
      ]
     },
     "metadata": {
      "needs_background": "light"
     },
     "output_type": "display_data"
    }
   ],
   "source": [
    "# This is for your Subcatchment 73391\n",
    "reportColumns = [str(i) for i in np.arange(0,7)]\n",
    "rpt_73391 = pd.read_csv(r'C:\\Users\\R. Seth Herbst\\Desktop\\SWMM Programs and Files\\SWMMIO_Altered_INPUTS\\Meadow_Creek_Hydrology_Model_UpdatedMar2021_Adjusted_SB_Parameters.txt', skiprows = 7189, nrows = 78, sep=\"   |    \", names = reportColumns, header = None, engine = 'python')\n",
    "rpt_73391.dropna(axis = 1, inplace = True); # This might be redundant\n",
    "# Check df.head before renaming the columns\n",
    "rpt_73391.rename(columns = {'0':'Date','2':'Precip (in/hr)','3':'Losses (in/hr)','4':'Runoff (CFS)','5':'Total Nitrogen (mg/L)','6':'Total Phosphorous (mg/L)'},inplace = True)\n",
    "\n",
    "fig,ax1 = plt.subplots(figsize=(6,5))\n",
    "line1 = ax1.plot(rpt_73391['Runoff (CFS)']); plt.ylim((-0.001,30)); plt.xlabel('Time Instances (Hours)'); plt.ylabel('Runoff (CFS)');\n",
    "ax1.legend(['Runoff'],loc='lower left'); ax2 = ax1.twinx(); line2 = ax2.plot(rpt_73391['Precip (in/hr)'],color='orangered');\n",
    "plt.ylim((-0.01,1.4)); plt.ylabel('Precipitation (in/hr)'); plt.gca().invert_yaxis(); ax2.grid(False); ax2.legend(['Precip'],loc='upper right');"
   ]
  },
  {
   "cell_type": "markdown",
   "metadata": {},
   "source": [
    "### Total Runoff"
   ]
  },
  {
   "cell_type": "code",
   "execution_count": 144,
   "metadata": {},
   "outputs": [
    {
     "data": {
      "text/plain": [
       "9045.426923076922"
      ]
     },
     "execution_count": 144,
     "metadata": {},
     "output_type": "execute_result"
    }
   ],
   "source": [
    "totalrunoff_73391 = (rpt_73391['Runoff (CFS)'].mean())*38.5*3600\n",
    "pyswmm_results.at[73391,'Total Runoff (CF)'] = totalrunoff_73391\n",
    "pyswmm_results.at[73391,'Total Runoff (CF)']\n",
    "\n",
    "runoff_perc_reduction_73391 = ((15322.763076923076 - totalrunoff_73391)/15322.763076923076) *100\n",
    "pyswmm_results.at[73391,'Total Runoff Volume % Reduction'] = runoff_perc_reduction_73391\n",
    "pyswmm_results.at[73391,'Total Runoff Volume % Reduction']\n",
    "\n",
    "runoff_reduction_73391 = 15322.763076923076 - totalrunoff_73391\n",
    "pyswmm_results.at[73391,'Total Runoff Volume Reduction (CF)'] = runoff_reduction_73391\n",
    "pyswmm_results.at[73391,'Total Runoff Volume Reduction (CF)']"
   ]
  },
  {
   "cell_type": "markdown",
   "metadata": {},
   "source": [
    "### Peak Flow"
   ]
  },
  {
   "cell_type": "code",
   "execution_count": 145,
   "metadata": {},
   "outputs": [
    {
     "data": {
      "text/plain": [
       "1.8889999999999998"
      ]
     },
     "execution_count": 145,
     "metadata": {},
     "output_type": "execute_result"
    }
   ],
   "source": [
    "peakflow_73391 = rpt_73391['Runoff (CFS)'].max()\n",
    "pyswmm_results.at[73391,'Peak Flow (CFS)'] = peakflow_73391\n",
    "pyswmm_results.at[73391,'Peak Flow (CFS)']\n",
    "\n",
    "peak_runoff_reduction_percentage_73391 = ((4.6487 - peakflow_73391)/4.6487)*100\n",
    "pyswmm_results.at[73391,'Peak Flow % Reduction'] = peak_runoff_reduction_percentage_73391\n",
    "pyswmm_results.at[73391,'Peak Flow % Reduction'] \n",
    "\n",
    "peak_runoff_reduction_73391 = 4.6487 - peakflow_73391\n",
    "pyswmm_results.at[73391,'Peak Flow Reduction (CFS)'] = peak_runoff_reduction_73391\n",
    "pyswmm_results.at[73391,'Peak Flow Reduction (CFS)'] "
   ]
  },
  {
   "cell_type": "markdown",
   "metadata": {},
   "source": [
    "### TN Load Analysis"
   ]
  },
  {
   "cell_type": "code",
   "execution_count": 146,
   "metadata": {},
   "outputs": [
    {
     "data": {
      "text/plain": [
       "138.00205946984178"
      ]
     },
     "execution_count": 146,
     "metadata": {},
     "output_type": "execute_result"
    }
   ],
   "source": [
    "load_TN_73391 = (rpt_73391['Runoff (CFS)'].mean() * rpt_73391['Total Nitrogen (mg/L)'].mean() * 28.3168 * 38.5*3600) /1000\n",
    "pyswmm_results.at[73391,'TN Load (grams)'] = load_TN_73391\n",
    "pyswmm_results.at[73391,'TN Load (grams)']\n",
    "\n",
    "total_nitrogen_reduction_percentage_73391 = ((145.82095975713182 - load_TN_73391)/145.82095975713182)*100\n",
    "pyswmm_results.at[73391,'TN Load % Reduction']=total_nitrogen_reduction_percentage_73391\n",
    "pyswmm_results.at[73391,'TN Load % Reduction']\n",
    "\n",
    "total_nitrogen_reduction_73391 = 145.82095975713182 - load_TN_73391\n",
    "pyswmm_results.at[73391,'TN Load Reduction (grams)']=total_nitrogen_reduction_73391\n",
    "pyswmm_results.at[73391,'TN Load Reduction (grams)']"
   ]
  },
  {
   "cell_type": "markdown",
   "metadata": {},
   "source": [
    "### TP Load Analysis"
   ]
  },
  {
   "cell_type": "code",
   "execution_count": 147,
   "metadata": {},
   "outputs": [
    {
     "data": {
      "text/plain": [
       "41.88689068597169"
      ]
     },
     "execution_count": 147,
     "metadata": {},
     "output_type": "execute_result"
    }
   ],
   "source": [
    "load_TP_73391 = (rpt_73391['Runoff (CFS)'].mean() * rpt_73391['Total Phosphorous (mg/L)'].mean() * 28.3168 * 38.5*3600) /1000\n",
    "pyswmm_results.at[73391,'TP Load (grams)'] = load_TP_73391\n",
    "pyswmm_results.at[73391,'TP Load (grams)']\n",
    "\n",
    "total_phosphorus_reduction_percentage_73391 = ((44.25694498465477 - load_TP_73391)/44.25694498465477)*100\n",
    "pyswmm_results.at[73391,'TP Load % Reduction'] = total_phosphorus_reduction_percentage_73391\n",
    "pyswmm_results.at[73391,'TP Load % Reduction']\n",
    "\n",
    "total_phosphorus_reduction_73391 = 44.25694498465477 - load_TP_73391\n",
    "pyswmm_results.at[73391,'TP Load Reduction (grams)'] = total_phosphorus_reduction_73391\n",
    "pyswmm_results.at[73391,'TP Load Reduction (grams)']"
   ]
  },
  {
   "cell_type": "markdown",
   "metadata": {},
   "source": [
    "### Mean Runoff"
   ]
  },
  {
   "cell_type": "code",
   "execution_count": 148,
   "metadata": {},
   "outputs": [
    {
     "data": {
      "text/plain": [
       "59.032609704054174"
      ]
     },
     "execution_count": 148,
     "metadata": {},
     "output_type": "execute_result"
    }
   ],
   "source": [
    "mean_runoff_73391= rpt_73391['Runoff (CFS)'].mean()\n",
    "pyswmm_results.at[73391,'Mean Runoff'] = mean_runoff_73391\n",
    "pyswmm_results.at[73391,'Mean Runoff']\n",
    "\n",
    "mean_runoff_reduction_percentage_73391= ((0.11055384615384616-mean_runoff_73391)/0.11055384615384616)*100\n",
    "pyswmm_results.at[73391,'Mean Runoff % Reduction']= mean_runoff_reduction_percentage_73391\n",
    "pyswmm_results.at[73391,'Mean Runoff % Reduction']"
   ]
  },
  {
   "cell_type": "markdown",
   "metadata": {},
   "source": [
    "## Subcatchment 73551"
   ]
  },
  {
   "cell_type": "code",
   "execution_count": 149,
   "metadata": {
    "scrolled": true
   },
   "outputs": [
    {
     "data": {
      "image/png": "[encoded data removed]",
      "text/plain": [
       "<Figure size 432x360 with 2 Axes>"
      ]
     },
     "metadata": {
      "needs_background": "light"
     },
     "output_type": "display_data"
    }
   ],
   "source": [
    "# This is for your Subcatchment 73551\n",
    "reportColumns = [str(i) for i in np.arange(0,7)]\n",
    "rpt_73551 = pd.read_csv(r'C:\\Users\\R. Seth Herbst\\Desktop\\SWMM Programs and Files\\SWMMIO_Altered_INPUTS\\Meadow_Creek_Hydrology_Model_UpdatedMar2021_Adjusted_SB_Parameters.txt', skiprows = 7699, nrows = 78, sep=\"   |    \", names = reportColumns, header = None, engine = 'python')\n",
    "rpt_73551.dropna(axis = 1, inplace = True); # This might be redundant\n",
    "# Check df.head before renaming the columns\n",
    "rpt_73551.rename(columns = {'0':'Date','2':'Precip (in/hr)','3':'Losses (in/hr)','4':'Runoff (CFS)','5':'Total Nitrogen (mg/L)','6':'Total Phosphorous (mg/L)'},inplace = True)\n",
    "\n",
    "fig,ax1 = plt.subplots(figsize=(6,5))\n",
    "line1 = ax1.plot(rpt_73551['Runoff (CFS)']); plt.ylim((-0.001,20)); plt.xlabel('Time Instances (Hours)'); plt.ylabel('Runoff (CFS)');\n",
    "ax1.legend(['Runoff'],loc='lower left'); ax2 = ax1.twinx(); line2 = ax2.plot(rpt_73551['Precip (in/hr)'],color='orangered');\n",
    "plt.ylim((-0.01,1.4)); plt.ylabel('Precipitation (in/hr)'); plt.gca().invert_yaxis(); ax2.grid(False); ax2.legend(['Precip'],loc='upper right');"
   ]
  },
  {
   "cell_type": "markdown",
   "metadata": {},
   "source": [
    "### Total Runoff"
   ]
  },
  {
   "cell_type": "code",
   "execution_count": 150,
   "metadata": {},
   "outputs": [
    {
     "data": {
      "text/plain": [
       "6292.795384615376"
      ]
     },
     "execution_count": 150,
     "metadata": {},
     "output_type": "execute_result"
    }
   ],
   "source": [
    "totalrunoff_73551 = (rpt_73551['Runoff (CFS)'].mean())*38.5*3600\n",
    "pyswmm_results.at[73551,'Total Runoff (CF)'] = totalrunoff_73551\n",
    "pyswmm_results.at[73551,'Total Runoff (CF)']\n",
    "\n",
    "runoff_perc_reduction_73551 = ((38727.86076923077 - totalrunoff_73551)/38727.86076923077) *100\n",
    "pyswmm_results.at[73551,'Total Runoff Volume % Reduction'] = runoff_perc_reduction_73551\n",
    "pyswmm_results.at[73551,'Total Runoff Volume % Reduction']\n",
    "\n",
    "runoff_reduction_73551 = 38727.86076923077 - totalrunoff_73551\n",
    "pyswmm_results.at[73551,'Total Runoff Volume Reduction (CF)'] = runoff_reduction_73551\n",
    "pyswmm_results.at[73551,'Total Runoff Volume Reduction (CF)']"
   ]
  },
  {
   "cell_type": "markdown",
   "metadata": {},
   "source": [
    "### Peak Flow"
   ]
  },
  {
   "cell_type": "code",
   "execution_count": 151,
   "metadata": {},
   "outputs": [
    {
     "data": {
      "text/plain": [
       "1.9208999999999996"
      ]
     },
     "execution_count": 151,
     "metadata": {},
     "output_type": "execute_result"
    }
   ],
   "source": [
    "peakflow_73551 = rpt_73551['Runoff (CFS)'].max()\n",
    "pyswmm_results.at[73551,'Peak Flow (CFS)'] = peakflow_73551\n",
    "pyswmm_results.at[73551,'Peak Flow (CFS)']\n",
    "\n",
    "peak_runoff_reduction_percentage_73551 = ((11.1143 - peakflow_73551)/11.1143)*100\n",
    "pyswmm_results.at[73551,'Peak Flow % Reduction'] = peak_runoff_reduction_percentage_73551\n",
    "pyswmm_results.at[73551,'Peak Flow % Reduction'] \n",
    "\n",
    "peak_runoff_reduction_73551 = 11.1143 - peakflow_73551\n",
    "pyswmm_results.at[73551,'Peak Flow Reduction (CFS)'] = peak_runoff_reduction_73551\n",
    "pyswmm_results.at[73551,'Peak Flow Reduction (CFS)'] "
   ]
  },
  {
   "cell_type": "markdown",
   "metadata": {},
   "source": [
    "### TN Load Analysis"
   ]
  },
  {
   "cell_type": "code",
   "execution_count": 152,
   "metadata": {},
   "outputs": [
    {
     "data": {
      "text/plain": [
       "198.98964333076708"
      ]
     },
     "execution_count": 152,
     "metadata": {},
     "output_type": "execute_result"
    }
   ],
   "source": [
    "load_TN_73551 = (rpt_73551['Runoff (CFS)'].mean() * rpt_73551['Total Nitrogen (mg/L)'].mean() * 28.3168 * 38.5*3600) /1000\n",
    "pyswmm_results.at[73551,'TN Load (grams)'] = load_TN_73551\n",
    "pyswmm_results.at[73551,'TN Load (grams)']\n",
    "\n",
    "total_nitrogen_reduction_percentage_73551 = ((811.9421131050182 - load_TN_73551)/811.9421131050182)*100\n",
    "pyswmm_results.at[73551,'TN Load % Reduction']=total_nitrogen_reduction_percentage_73551\n",
    "pyswmm_results.at[73551,'TN Load % Reduction']\n",
    "\n",
    "total_nitrogen_reduction_73551 = 811.9421131050182 - load_TN_73551\n",
    "pyswmm_results.at[73551,'TN Load Reduction (grams)']=total_nitrogen_reduction_73551\n",
    "pyswmm_results.at[73551,'TN Load Reduction (grams)']"
   ]
  },
  {
   "cell_type": "markdown",
   "metadata": {},
   "source": [
    "### TP Load Analysis"
   ]
  },
  {
   "cell_type": "code",
   "execution_count": 153,
   "metadata": {},
   "outputs": [
    {
     "data": {
      "text/plain": [
       "51.74189741383401"
      ]
     },
     "execution_count": 153,
     "metadata": {},
     "output_type": "execute_result"
    }
   ],
   "source": [
    "load_TP_73551 = (rpt_73551['Runoff (CFS)'].mean() * rpt_73551['Total Phosphorous (mg/L)'].mean() * 28.3168 * 38.5*3600) /1000\n",
    "pyswmm_results.at[73551,'TP Load (grams)'] = load_TP_73551\n",
    "pyswmm_results.at[73551,'TP Load (grams)']\n",
    "\n",
    "total_phosphorus_reduction_percentage_73551 = ((210.8940553519529 - load_TP_73551)/210.8940553519529)*100\n",
    "pyswmm_results.at[73551,'TP Load % Reduction'] = total_phosphorus_reduction_percentage_73551\n",
    "pyswmm_results.at[73551,'TP Load % Reduction']\n",
    "\n",
    "total_phosphorus_reduction_73551 = 210.8940553519529 - load_TP_73551\n",
    "pyswmm_results.at[73551,'TP Load Reduction (grams)'] = total_phosphorus_reduction_73551\n",
    "pyswmm_results.at[73551,'TP Load Reduction (grams)']"
   ]
  },
  {
   "cell_type": "markdown",
   "metadata": {},
   "source": [
    "### Mean Runoff"
   ]
  },
  {
   "cell_type": "code",
   "execution_count": 154,
   "metadata": {},
   "outputs": [
    {
     "data": {
      "text/plain": [
       "16.248755442787044"
      ]
     },
     "execution_count": 154,
     "metadata": {},
     "output_type": "execute_result"
    }
   ],
   "source": [
    "mean_runoff_73551= rpt_73551['Runoff (CFS)'].mean()\n",
    "pyswmm_results.at[73551,'Mean Runoff'] = mean_runoff_73551\n",
    "pyswmm_results.at[73551,'Mean Runoff']\n",
    "\n",
    "mean_runoff_reduction_percentage_73551= ((0.27942179487179486-mean_runoff_73551)/0.27942179487179486)*100\n",
    "pyswmm_results.at[73551,'Mean Runoff % Reduction']= mean_runoff_reduction_percentage_73551\n",
    "pyswmm_results.at[73551,'Mean Runoff % Reduction']"
   ]
  },
  {
   "cell_type": "markdown",
   "metadata": {},
   "source": [
    "## Subcatchment 73421"
   ]
  },
  {
   "cell_type": "code",
   "execution_count": 155,
   "metadata": {
    "scrolled": true
   },
   "outputs": [
    {
     "data": {
      "image/png": "[encoded data removed]",
      "text/plain": [
       "<Figure size 432x360 with 2 Axes>"
      ]
     },
     "metadata": {
      "needs_background": "light"
     },
     "output_type": "display_data"
    }
   ],
   "source": [
    "# This is for your Subcatchment 73421\n",
    "reportColumns = [str(i) for i in np.arange(0,7)]\n",
    "rpt_73421 = pd.read_csv(r'C:\\Users\\R. Seth Herbst\\Desktop\\SWMM Programs and Files\\SWMMIO_Altered_INPUTS\\Meadow_Creek_Hydrology_Model_UpdatedMar2021_Adjusted_SB_Parameters.txt', skiprows = 7359, nrows = 78, sep=\"   |    \", names = reportColumns, header = None, engine = 'python')\n",
    "rpt_73421.dropna(axis = 1, inplace = True); # This might be redundant\n",
    "# Check df.head before renaming the columns\n",
    "rpt_73421.rename(columns = {'0':'Date','2':'Precip (in/hr)','3':'Losses (in/hr)','4':'Runoff (CFS)','5':'Total Nitrogen (mg/L)','6':'Total Phosphorous (mg/L)'},inplace = True)\n",
    "\n",
    "fig,ax1 = plt.subplots(figsize=(6,5))\n",
    "line1 = ax1.plot(rpt_73421['Runoff (CFS)']); plt.ylim((-0.001,30)); plt.xlabel('Time Instances (Hours)'); plt.ylabel('Runoff (CFS)');\n",
    "ax1.legend(['Runoff'],loc='lower left'); ax2 = ax1.twinx(); line2 = ax2.plot(rpt_73421['Precip (in/hr)'],color='orangered');\n",
    "plt.ylim((-0.01,1.4)); plt.ylabel('Precipitation (in/hr)'); plt.gca().invert_yaxis(); ax2.grid(False); ax2.legend(['Precip'],loc='upper right');"
   ]
  },
  {
   "cell_type": "markdown",
   "metadata": {},
   "source": [
    "### Total Runoff"
   ]
  },
  {
   "cell_type": "code",
   "execution_count": 156,
   "metadata": {},
   "outputs": [
    {
     "data": {
      "text/plain": [
       "5561.59153846158"
      ]
     },
     "execution_count": 156,
     "metadata": {},
     "output_type": "execute_result"
    }
   ],
   "source": [
    "totalrunoff_73421 = (rpt_73421['Runoff (CFS)'].mean())*38.5*3600\n",
    "pyswmm_results.at[73421,'Total Runoff (CF)'] = totalrunoff_73421\n",
    "pyswmm_results.at[73421,'Total Runoff (CF)']\n",
    "\n",
    "runoff_perc_reduction_73421 = ((47783.77153846156 - totalrunoff_73421)/47783.77153846156) *100\n",
    "pyswmm_results.at[73421,'Total Runoff Volume % Reduction'] = runoff_perc_reduction_73421\n",
    "pyswmm_results.at[73421,'Total Runoff Volume % Reduction']\n",
    "\n",
    "runoff_reduction_73421 = 47783.77153846156 - totalrunoff_73421\n",
    "pyswmm_results.at[73421,'Total Runoff Volume Reduction (CF)'] = runoff_reduction_73421\n",
    "pyswmm_results.at[73421,'Total Runoff Volume Reduction (CF)']"
   ]
  },
  {
   "cell_type": "markdown",
   "metadata": {},
   "source": [
    "### Peak Flow"
   ]
  },
  {
   "cell_type": "code",
   "execution_count": 157,
   "metadata": {},
   "outputs": [
    {
     "data": {
      "text/plain": [
       "1.6181999999999999"
      ]
     },
     "execution_count": 157,
     "metadata": {},
     "output_type": "execute_result"
    }
   ],
   "source": [
    "peakflow_73421 = rpt_73421['Runoff (CFS)'].max()\n",
    "pyswmm_results.at[73421,'Peak Flow (CFS)'] = peakflow_73421\n",
    "pyswmm_results.at[73421,'Peak Flow (CFS)']\n",
    "\n",
    "peak_runoff_reduction_percentage_73421 = ((14.0531 - peakflow_73421)/14.0531)*100\n",
    "pyswmm_results.at[73421,'Peak Flow % Reduction'] = peak_runoff_reduction_percentage_73421\n",
    "pyswmm_results.at[73421,'Peak Flow % Reduction'] \n",
    "\n",
    "peak_runoff_reduction_73421 = 14.0531 - peakflow_73421\n",
    "pyswmm_results.at[73421,'Peak Flow Reduction (CFS)'] = peak_runoff_reduction_73421\n",
    "pyswmm_results.at[73421,'Peak Flow Reduction (CFS)'] "
   ]
  },
  {
   "cell_type": "markdown",
   "metadata": {},
   "source": [
    "### TN Load Analysis"
   ]
  },
  {
   "cell_type": "code",
   "execution_count": 158,
   "metadata": {},
   "outputs": [
    {
     "data": {
      "text/plain": [
       "201.43684530923917"
      ]
     },
     "execution_count": 158,
     "metadata": {},
     "output_type": "execute_result"
    }
   ],
   "source": [
    "load_TN_73421 = (rpt_73421['Runoff (CFS)'].mean() * rpt_73421['Total Nitrogen (mg/L)'].mean() * 28.3168 * 38.5*3600) /1000\n",
    "pyswmm_results.at[73421,'TN Load (grams)'] = load_TN_73421\n",
    "pyswmm_results.at[73421,'TN Load (grams)']\n",
    "\n",
    "total_nitrogen_reduction_percentage_73421 = ((1050.6172975524385 - load_TN_73421)/1050.6172975524385)*100\n",
    "pyswmm_results.at[73421,'TN Load % Reduction']=total_nitrogen_reduction_percentage_73421\n",
    "pyswmm_results.at[73421,'TN Load % Reduction']\n",
    "\n",
    "total_nitrogen_reduction_73421 = 1050.6172975524385 - load_TN_73421\n",
    "pyswmm_results.at[73421,'TN Load Reduction (grams)']=total_nitrogen_reduction_73421\n",
    "pyswmm_results.at[73421,'TN Load Reduction (grams)']"
   ]
  },
  {
   "cell_type": "markdown",
   "metadata": {},
   "source": [
    "### TP Load Analysis"
   ]
  },
  {
   "cell_type": "code",
   "execution_count": 159,
   "metadata": {},
   "outputs": [
    {
     "data": {
      "text/plain": [
       "50.63511833345382"
      ]
     },
     "execution_count": 159,
     "metadata": {},
     "output_type": "execute_result"
    }
   ],
   "source": [
    "load_TP_73421 = (rpt_73421['Runoff (CFS)'].mean() * rpt_73421['Total Phosphorous (mg/L)'].mean() * 28.3168 * 38.5*3600) /1000\n",
    "pyswmm_results.at[73421,'TP Load (grams)'] = load_TP_73421\n",
    "pyswmm_results.at[73421,'TP Load (grams)']\n",
    "\n",
    "total_phosphorus_reduction_percentage_73421 = ((262.6543243881096 - load_TP_73421)/262.6543243881096)*100\n",
    "pyswmm_results.at[73421,'TP Load % Reduction'] = total_phosphorus_reduction_percentage_73421\n",
    "pyswmm_results.at[73421,'TP Load % Reduction']\n",
    "\n",
    "total_phosphorus_reduction_73421 = 262.6543243881096 - load_TP_73421\n",
    "pyswmm_results.at[73421,'TP Load Reduction (grams)'] = total_phosphorus_reduction_73421\n",
    "pyswmm_results.at[73421,'TP Load Reduction (grams)']"
   ]
  },
  {
   "cell_type": "markdown",
   "metadata": {},
   "source": [
    "### Mean Runoff"
   ]
  },
  {
   "cell_type": "code",
   "execution_count": 160,
   "metadata": {},
   "outputs": [
    {
     "data": {
      "text/plain": [
       "11.63908029734531"
      ]
     },
     "execution_count": 160,
     "metadata": {},
     "output_type": "execute_result"
    }
   ],
   "source": [
    "mean_runoff_73421= rpt_73421['Runoff (CFS)'].mean()\n",
    "pyswmm_results.at[73421,'Mean Runoff'] = mean_runoff_73421\n",
    "pyswmm_results.at[73421,'Mean Runoff']\n",
    "\n",
    "mean_runoff_reduction_percentage_73421= ((0.34476025641025654-mean_runoff_73421)/0.34476025641025654)*100\n",
    "pyswmm_results.at[73421,'Mean Runoff % Reduction']= mean_runoff_reduction_percentage_73421\n",
    "pyswmm_results.at[73421,'Mean Runoff % Reduction']"
   ]
  },
  {
   "cell_type": "markdown",
   "metadata": {},
   "source": [
    "## Subcatchment 73531"
   ]
  },
  {
   "cell_type": "code",
   "execution_count": 161,
   "metadata": {
    "scrolled": true
   },
   "outputs": [
    {
     "data": {
      "image/png": "[encoded data removed]",
      "text/plain": [
       "<Figure size 432x360 with 2 Axes>"
      ]
     },
     "metadata": {
      "needs_background": "light"
     },
     "output_type": "display_data"
    }
   ],
   "source": [
    "# This is for your Subcatchment 73531\n",
    "reportColumns = [str(i) for i in np.arange(0,7)]\n",
    "rpt_73531 = pd.read_csv(r'C:\\Users\\R. Seth Herbst\\Desktop\\SWMM Programs and Files\\SWMMIO_Altered_INPUTS\\Meadow_Creek_Hydrology_Model_UpdatedMar2021_Adjusted_SB_Parameters.txt', skiprows = 7614, nrows = 78, sep=\"   |    \", names = reportColumns, header = None, engine = 'python')\n",
    "rpt_73531.dropna(axis = 1, inplace = True); # This might be redundant\n",
    "# Check df.head before renaming the columns\n",
    "rpt_73531.rename(columns = {'0':'Date','2':'Precip (in/hr)','3':'Losses (in/hr)','4':'Runoff (CFS)','5':'Total Nitrogen (mg/L)','6':'Total Phosphorous (mg/L)'},inplace = True)\n",
    "\n",
    "fig,ax1 = plt.subplots(figsize=(6,5))\n",
    "line1 = ax1.plot(rpt_73531['Runoff (CFS)']); plt.ylim((-0.001,20)); plt.xlabel('Time Instances (Hours)'); plt.ylabel('Runoff (CFS)');\n",
    "ax1.legend(['Runoff'],loc='lower left'); ax2 = ax1.twinx(); line2 = ax2.plot(rpt_73531['Precip (in/hr)'],color='orangered');\n",
    "plt.ylim((-0.01,1.4)); plt.ylabel('Precipitation (in/hr)'); plt.gca().invert_yaxis(); ax2.grid(False); ax2.legend(['Precip'],loc='upper right');"
   ]
  },
  {
   "cell_type": "markdown",
   "metadata": {},
   "source": [
    "### Total Runoff"
   ]
  },
  {
   "cell_type": "code",
   "execution_count": 162,
   "metadata": {},
   "outputs": [
    {
     "data": {
      "text/plain": [
       "26866.899230769228"
      ]
     },
     "execution_count": 162,
     "metadata": {},
     "output_type": "execute_result"
    }
   ],
   "source": [
    "totalrunoff_73531 = (rpt_73531['Runoff (CFS)'].mean())*38.5*3600\n",
    "pyswmm_results.at[73531,'Total Runoff (CF)'] = totalrunoff_73531\n",
    "pyswmm_results.at[73531,'Total Runoff (CF)']\n",
    "\n",
    "runoff_perc_reduction_73531 = ((44180.88230769231 - totalrunoff_73531)/44180.88230769231) *100\n",
    "pyswmm_results.at[73531,'Total Runoff Volume % Reduction'] = runoff_perc_reduction_73531\n",
    "pyswmm_results.at[73531,'Total Runoff Volume % Reduction']\n",
    "\n",
    "runoff_reduction_73531 = 44180.88230769231 - totalrunoff_73531\n",
    "pyswmm_results.at[73531,'Total Runoff Volume Reduction (CF)'] = runoff_reduction_73531\n",
    "pyswmm_results.at[73531,'Total Runoff Volume Reduction (CF)']"
   ]
  },
  {
   "cell_type": "markdown",
   "metadata": {},
   "source": [
    "### Peak Flow"
   ]
  },
  {
   "cell_type": "code",
   "execution_count": 163,
   "metadata": {},
   "outputs": [
    {
     "data": {
      "text/plain": [
       "7.8225999999999996"
      ]
     },
     "execution_count": 163,
     "metadata": {},
     "output_type": "execute_result"
    }
   ],
   "source": [
    "peakflow_73531 = rpt_73531['Runoff (CFS)'].max()\n",
    "pyswmm_results.at[73531,'Peak Flow (CFS)'] = peakflow_73531\n",
    "pyswmm_results.at[73531,'Peak Flow (CFS)']\n",
    "\n",
    "peak_runoff_reduction_percentage_73531 = ((12.7471 - peakflow_73531)/12.7471)*100\n",
    "pyswmm_results.at[73531,'Peak Flow % Reduction'] = peak_runoff_reduction_percentage_73531\n",
    "pyswmm_results.at[73531,'Peak Flow % Reduction'] \n",
    "\n",
    "peak_runoff_reduction_73531 = 12.7471 - peakflow_73531\n",
    "pyswmm_results.at[73531,'Peak Flow Reduction (CFS)'] = peak_runoff_reduction_73531\n",
    "pyswmm_results.at[73531,'Peak Flow Reduction (CFS)'] "
   ]
  },
  {
   "cell_type": "markdown",
   "metadata": {},
   "source": [
    "### TN Load Analysis"
   ]
  },
  {
   "cell_type": "code",
   "execution_count": 164,
   "metadata": {},
   "outputs": [
    {
     "data": {
      "text/plain": [
       "707.4674206014337"
      ]
     },
     "execution_count": 164,
     "metadata": {},
     "output_type": "execute_result"
    }
   ],
   "source": [
    "load_TN_73531 = (rpt_73531['Runoff (CFS)'].mean() * rpt_73531['Total Nitrogen (mg/L)'].mean() * 28.3168 * 38.5*3600) /1000\n",
    "pyswmm_results.at[73531,'TN Load (grams)'] = load_TN_73531\n",
    "pyswmm_results.at[73531,'TN Load (grams)']\n",
    "\n",
    "total_nitrogen_reduction_percentage_73531 = ((925.464509091381 - load_TN_73531)/925.464509091381)*100\n",
    "pyswmm_results.at[73531,'TN Load % Reduction']=total_nitrogen_reduction_percentage_73531\n",
    "pyswmm_results.at[73531,'TN Load % Reduction']\n",
    "\n",
    "total_nitrogen_reduction_73531 = 925.464509091381 - load_TN_73531\n",
    "pyswmm_results.at[73531,'TN Load Reduction (grams)']=total_nitrogen_reduction_73531\n",
    "pyswmm_results.at[73531,'TN Load Reduction (grams)']"
   ]
  },
  {
   "cell_type": "markdown",
   "metadata": {},
   "source": [
    "### TP Load Analysis"
   ]
  },
  {
   "cell_type": "code",
   "execution_count": 165,
   "metadata": {},
   "outputs": [
    {
     "data": {
      "text/plain": [
       "183.21006950026742"
      ]
     },
     "execution_count": 165,
     "metadata": {},
     "output_type": "execute_result"
    }
   ],
   "source": [
    "load_TP_73531 = (rpt_73531['Runoff (CFS)'].mean() * rpt_73531['Total Phosphorous (mg/L)'].mean() * 28.3168 * 38.5*3600) /1000\n",
    "pyswmm_results.at[73531,'TP Load (grams)'] = load_TP_73531\n",
    "pyswmm_results.at[73531,'TP Load (grams)']\n",
    "\n",
    "total_phosphorus_reduction_percentage_73531 = ((239.78673155833837 - load_TP_73531)/239.78673155833837)*100\n",
    "pyswmm_results.at[73531,'TP Load % Reduction'] = total_phosphorus_reduction_percentage_73531\n",
    "pyswmm_results.at[73531,'TP Load % Reduction']\n",
    "\n",
    "total_phosphorus_reduction_73531 = 239.78673155833837 - load_TP_73531\n",
    "pyswmm_results.at[73531,'TP Load Reduction (grams)'] = total_phosphorus_reduction_73531\n",
    "pyswmm_results.at[73531,'TP Load Reduction (grams)']"
   ]
  },
  {
   "cell_type": "markdown",
   "metadata": {},
   "source": [
    "### Mean Runoff"
   ]
  },
  {
   "cell_type": "code",
   "execution_count": 166,
   "metadata": {},
   "outputs": [
    {
     "data": {
      "text/plain": [
       "60.811142348081724"
      ]
     },
     "execution_count": 166,
     "metadata": {},
     "output_type": "execute_result"
    }
   ],
   "source": [
    "mean_runoff_73531= rpt_73531['Runoff (CFS)'].mean()\n",
    "pyswmm_results.at[73531,'Mean Runoff'] = mean_runoff_73531\n",
    "pyswmm_results.at[73531,'Mean Runoff']\n",
    "\n",
    "mean_runoff_reduction_percentage_73531= ((0.3187653846153846-mean_runoff_73531)/0.3187653846153846)*100\n",
    "pyswmm_results.at[73531,'Mean Runoff % Reduction']= mean_runoff_reduction_percentage_73531\n",
    "pyswmm_results.at[73531,'Mean Runoff % Reduction']"
   ]
  },
  {
   "cell_type": "markdown",
   "metadata": {},
   "source": [
    "## Subcatchment 73571"
   ]
  },
  {
   "cell_type": "code",
   "execution_count": 167,
   "metadata": {
    "scrolled": true
   },
   "outputs": [
    {
     "data": {
      "image/png": "[encoded data removed]",
      "text/plain": [
       "<Figure size 432x360 with 2 Axes>"
      ]
     },
     "metadata": {
      "needs_background": "light"
     },
     "output_type": "display_data"
    }
   ],
   "source": [
    "# This is for your Subcatchment 73571\n",
    "reportColumns = [str(i) for i in np.arange(0,7)]\n",
    "rpt_73571 = pd.read_csv(r'C:\\Users\\R. Seth Herbst\\Desktop\\SWMM Programs and Files\\SWMMIO_Altered_INPUTS\\Meadow_Creek_Hydrology_Model_UpdatedMar2021_Adjusted_SB_Parameters.txt', skiprows = 7784, nrows = 78, sep=\"   |    \", names = reportColumns, header = None, engine = 'python')\n",
    "rpt_73571.dropna(axis = 1, inplace = True); # This might be redundant\n",
    "# Check df.head before renaming the columns\n",
    "rpt_73571.rename(columns = {'0':'Date','2':'Precip (in/hr)','3':'Losses (in/hr)','4':'Runoff (CFS)','5':'Total Nitrogen (mg/L)','6':'Total Phosphorous (mg/L)'},inplace = True)\n",
    "\n",
    "fig,ax1 = plt.subplots(figsize=(6,5))\n",
    "line1 = ax1.plot(rpt_73571['Runoff (CFS)']); plt.ylim((-0.001,5)); plt.xlabel('Time Instances (Hours)'); plt.ylabel('Runoff (CFS)');\n",
    "ax1.legend(['Runoff'],loc='lower left'); ax2 = ax1.twinx(); line2 = ax2.plot(rpt_73571['Precip (in/hr)'],color='orangered');\n",
    "plt.ylim((-0.01,1.4)); plt.ylabel('Precipitation (in/hr)'); plt.gca().invert_yaxis(); ax2.grid(False); ax2.legend(['Precip'],loc='upper right');"
   ]
  },
  {
   "cell_type": "markdown",
   "metadata": {},
   "source": [
    "### Total Runoff"
   ]
  },
  {
   "cell_type": "code",
   "execution_count": 168,
   "metadata": {},
   "outputs": [
    {
     "data": {
      "text/plain": [
       "19281.74769230769"
      ]
     },
     "execution_count": 168,
     "metadata": {},
     "output_type": "execute_result"
    }
   ],
   "source": [
    "totalrunoff_73571 = (rpt_73571['Runoff (CFS)'].mean())*38.5*3600\n",
    "pyswmm_results.at[73571,'Total Runoff (CF)'] = totalrunoff_73571\n",
    "pyswmm_results.at[73571,'Total Runoff (CF)']\n",
    "\n",
    "runoff_perc_reduction_73571 = ((22943.275384615383 - totalrunoff_73571)/22943.275384615383) *100\n",
    "pyswmm_results.at[73571,'Total Runoff Volume % Reduction'] = runoff_perc_reduction_73571\n",
    "pyswmm_results.at[73571,'Total Runoff Volume % Reduction']\n",
    "\n",
    "runoff_reduction_73571 = 22943.275384615383 - totalrunoff_73571\n",
    "pyswmm_results.at[73571,'Total Runoff Volume Reduction (CF)'] = runoff_reduction_73571\n",
    "pyswmm_results.at[73571,'Total Runoff Volume Reduction (CF)']"
   ]
  },
  {
   "cell_type": "markdown",
   "metadata": {},
   "source": [
    "### Peak Flow"
   ]
  },
  {
   "cell_type": "code",
   "execution_count": 169,
   "metadata": {},
   "outputs": [
    {
     "data": {
      "text/plain": [
       "4.7739"
      ]
     },
     "execution_count": 169,
     "metadata": {},
     "output_type": "execute_result"
    }
   ],
   "source": [
    "peakflow_73571 = rpt_73571['Runoff (CFS)'].max()\n",
    "pyswmm_results.at[73571,'Peak Flow (CFS)'] = peakflow_73571\n",
    "pyswmm_results.at[73571,'Peak Flow (CFS)']\n",
    "\n",
    "peak_runoff_reduction_percentage_73571 = ((6.0776 - peakflow_73571)/6.0776)*100\n",
    "pyswmm_results.at[73571,'Peak Flow % Reduction'] = peak_runoff_reduction_percentage_73571\n",
    "pyswmm_results.at[73571,'Peak Flow % Reduction'] \n",
    "\n",
    "peak_runoff_reduction_73571 = 6.0776 - peakflow_73571\n",
    "pyswmm_results.at[73571,'Peak Flow Reduction (CFS)'] = peak_runoff_reduction_73571\n",
    "pyswmm_results.at[73571,'Peak Flow Reduction (CFS)'] "
   ]
  },
  {
   "cell_type": "markdown",
   "metadata": {},
   "source": [
    "### TN Load Analysis"
   ]
  },
  {
   "cell_type": "code",
   "execution_count": 170,
   "metadata": {},
   "outputs": [
    {
     "data": {
      "text/plain": [
       "832.1892315603932"
      ]
     },
     "execution_count": 170,
     "metadata": {},
     "output_type": "execute_result"
    }
   ],
   "source": [
    "load_TN_73571 = (rpt_73531['Runoff (CFS)'].mean() * rpt_73571['Total Nitrogen (mg/L)'].mean() * 28.3168 * 38.5*3600) /1000\n",
    "pyswmm_results.at[73571,'TN Load (grams)'] = load_TN_73571\n",
    "pyswmm_results.at[73571,'TN Load (grams)']\n",
    "\n",
    "total_nitrogen_reduction_percentage_73571 = ((971.1763609269152 - load_TN_73571)/971.1763609269152)*100\n",
    "pyswmm_results.at[73571,'TN Load % Reduction']=total_nitrogen_reduction_percentage_73571\n",
    "pyswmm_results.at[73571,'TN Load % Reduction']\n",
    "\n",
    "total_nitrogen_reduction_73571 = 971.1763609269152 - load_TN_73571\n",
    "pyswmm_results.at[73571,'TN Load Reduction (grams)']=total_nitrogen_reduction_73571\n",
    "pyswmm_results.at[73571,'TN Load Reduction (grams)']"
   ]
  },
  {
   "cell_type": "markdown",
   "metadata": {},
   "source": [
    "### TP Load Analysis"
   ]
  },
  {
   "cell_type": "code",
   "execution_count": 171,
   "metadata": {},
   "outputs": [
    {
     "data": {
      "text/plain": [
       "120.01330774740529"
      ]
     },
     "execution_count": 171,
     "metadata": {},
     "output_type": "execute_result"
    }
   ],
   "source": [
    "load_TP_73571 = (rpt_73571['Runoff (CFS)'].mean() * rpt_73571['Total Phosphorous (mg/L)'].mean() * 28.3168 * 38.5*3600) /1000\n",
    "pyswmm_results.at[73571,'TP Load (grams)'] = load_TP_73571\n",
    "pyswmm_results.at[73571,'TP Load (grams)']\n",
    "\n",
    "total_phosphorus_reduction_percentage_73571 = ((127.4372583114034 - load_TP_73571)/127.4372583114034)*100\n",
    "pyswmm_results.at[73571,'TP Load % Reduction'] = total_phosphorus_reduction_percentage_73571\n",
    "pyswmm_results.at[73571,'TP Load % Reduction']\n",
    "\n",
    "total_phosphorus_reduction_73571 = 127.4372583114034 - load_TP_73571\n",
    "pyswmm_results.at[73571,'TP Load Reduction (grams)'] = total_phosphorus_reduction_73571\n",
    "pyswmm_results.at[73571,'TP Load Reduction (grams)']"
   ]
  },
  {
   "cell_type": "markdown",
   "metadata": {},
   "source": [
    "### Mean Runoff"
   ]
  },
  {
   "cell_type": "code",
   "execution_count": 172,
   "metadata": {},
   "outputs": [
    {
     "data": {
      "text/plain": [
       "84.040954785545"
      ]
     },
     "execution_count": 172,
     "metadata": {},
     "output_type": "execute_result"
    }
   ],
   "source": [
    "mean_runoff_73571= rpt_73571['Runoff (CFS)'].mean()\n",
    "pyswmm_results.at[73571,'Mean Runoff'] = mean_runoff_73571\n",
    "pyswmm_results.at[73571,'Mean Runoff']\n",
    "\n",
    "mean_runoff_reduction_percentage_73571= ((0.16553589743589742-mean_runoff_73571)/0.16553589743589742)*100\n",
    "pyswmm_results.at[73571,'Mean Runoff % Reduction']= mean_runoff_reduction_percentage_73571\n",
    "pyswmm_results.at[73571,'Mean Runoff % Reduction']"
   ]
  },
  {
   "cell_type": "markdown",
   "metadata": {},
   "source": [
    "## Subcatchment 73461"
   ]
  },
  {
   "cell_type": "code",
   "execution_count": 173,
   "metadata": {},
   "outputs": [
    {
     "data": {
      "image/png": "[encoded data removed]",
      "text/plain": [
       "<Figure size 432x360 with 2 Axes>"
      ]
     },
     "metadata": {
      "needs_background": "light"
     },
     "output_type": "display_data"
    }
   ],
   "source": [
    "# This is for your Subcatchment 73461\n",
    "reportColumns = [str(i) for i in np.arange(0,7)]\n",
    "rpt_73461 = pd.read_csv(r'C:\\Users\\R. Seth Herbst\\Desktop\\SWMM Programs and Files\\SWMMIO_Altered_INPUTS\\Meadow_Creek_Hydrology_Model_UpdatedMar2021_Adjusted_SB_Parameters.txt', skiprows = 7444, nrows = 78, sep=\"   |    \", names = reportColumns, header = None, engine = 'python')\n",
    "rpt_73461.dropna(axis = 1, inplace = True); # This might be redundant\n",
    "# Check df.head before renaming the columns\n",
    "rpt_73461.rename(columns = {'0':'Date','2':'Precip (in/hr)','3':'Losses (in/hr)','4':'Runoff (CFS)','5':'Total Nitrogen (mg/L)','6':'Total Phosphorous (mg/L)'},inplace = True)\n",
    "\n",
    "\n",
    "fig,ax1 = plt.subplots(figsize=(6,5))\n",
    "line1 = ax1.plot(rpt_73461['Runoff (CFS)']); plt.ylim((-0.001,25)); plt.xlabel('Time Instances (Hours)'); plt.ylabel('Runoff (CFS)');\n",
    "ax1.legend(['Runoff'],loc='lower left'); ax2 = ax1.twinx(); line2 = ax2.plot(rpt_73461['Precip (in/hr)'],color='orangered');\n",
    "plt.ylim((-0.01,1.4)); plt.ylabel('Precipitation (in/hr)'); plt.gca().invert_yaxis(); ax2.grid(False); ax2.legend(['Precip'],loc='upper right');\n"
   ]
  },
  {
   "cell_type": "markdown",
   "metadata": {},
   "source": [
    "# Subcatchment 73461 Data Analysis"
   ]
  },
  {
   "cell_type": "markdown",
   "metadata": {},
   "source": [
    "### Total Runoff"
   ]
  },
  {
   "cell_type": "code",
   "execution_count": 174,
   "metadata": {},
   "outputs": [
    {
     "data": {
      "text/plain": [
       "21060.98076923079"
      ]
     },
     "execution_count": 174,
     "metadata": {},
     "output_type": "execute_result"
    }
   ],
   "source": [
    "totalrunoff_73461 = (rpt_73461['Runoff (CFS)'].mean())*38.5*3600\n",
    "pyswmm_results.at[73461,'Total Runoff (CF)'] = totalrunoff_73461\n",
    "pyswmm_results.at[73461,'Total Runoff (CF)']\n",
    "\n",
    "runoff_perc_reduction_73461 = ((49318.677692307705 - totalrunoff_73461)/49318.677692307705) *100\n",
    "pyswmm_results.at[73461,'Total Runoff Volume % Reduction'] = runoff_perc_reduction_73461\n",
    "pyswmm_results.at[73461,'Total Runoff Volume % Reduction']\n",
    "\n",
    "runoff_reduction_73461 = 49318.677692307705 - totalrunoff_73461\n",
    "pyswmm_results.at[73461,'Total Runoff Volume Reduction (CF)'] = runoff_reduction_73461\n",
    "pyswmm_results.at[73461,'Total Runoff Volume Reduction (CF)']"
   ]
  },
  {
   "cell_type": "markdown",
   "metadata": {},
   "source": [
    "### Peak Flow"
   ]
  },
  {
   "cell_type": "code",
   "execution_count": 175,
   "metadata": {},
   "outputs": [
    {
     "data": {
      "text/plain": [
       "5.712300000000001"
      ]
     },
     "execution_count": 175,
     "metadata": {},
     "output_type": "execute_result"
    }
   ],
   "source": [
    "peakflow_73461 = rpt_73461['Runoff (CFS)'].max()\n",
    "pyswmm_results.at[73461,'Peak Flow (CFS)'] = peakflow_73461\n",
    "pyswmm_results.at[73461,'Peak Flow (CFS)']\n",
    "\n",
    "peak_runoff_reduction_percentage_73461 = ((13.72 - peakflow_73461)/13.72)*100\n",
    "pyswmm_results.at[73461,'Peak Flow % Reduction'] = peak_runoff_reduction_percentage_73461\n",
    "pyswmm_results.at[73461,'Peak Flow % Reduction'] \n",
    "\n",
    "peak_runoff_reduction_73461 = 13.72 - peakflow_73461\n",
    "pyswmm_results.at[73461,'Peak Flow Reduction (CFS)'] = peak_runoff_reduction_73461\n",
    "pyswmm_results.at[73461,'Peak Flow Reduction (CFS)'] "
   ]
  },
  {
   "cell_type": "markdown",
   "metadata": {},
   "source": [
    "### TN Load Analysis"
   ]
  },
  {
   "cell_type": "code",
   "execution_count": 176,
   "metadata": {},
   "outputs": [
    {
     "data": {
      "text/plain": [
       "731.5561400930113"
      ]
     },
     "execution_count": 176,
     "metadata": {},
     "output_type": "execute_result"
    }
   ],
   "source": [
    "load_TN_73461 = (rpt_73461['Runoff (CFS)'].mean() * rpt_73461['Total Nitrogen (mg/L)'].mean() * 28.3168 * 38.5*3600) /1000\n",
    "pyswmm_results.at[73461,'TN Load (grams)'] = load_TN_73461\n",
    "pyswmm_results.at[73461,'TN Load (grams)']\n",
    "\n",
    "total_nitrogen_reduction_percentage_73461 = ((1201.6750941456735 - load_TN_73461)/1201.6750941456735)*100\n",
    "pyswmm_results.at[73461,'TN Load % Reduction']=total_nitrogen_reduction_percentage_73461\n",
    "pyswmm_results.at[73461,'TN Load % Reduction']\n",
    "\n",
    "total_nitrogen_reduction_73461 = 1201.6750941456735 - load_TN_73461\n",
    "pyswmm_results.at[73461,'TN Load Reduction (grams)']=total_nitrogen_reduction_73461\n",
    "pyswmm_results.at[73461,'TN Load Reduction (grams)']"
   ]
  },
  {
   "cell_type": "markdown",
   "metadata": {},
   "source": [
    "### TP Load Analysis "
   ]
  },
  {
   "cell_type": "code",
   "execution_count": 177,
   "metadata": {},
   "outputs": [
    {
     "data": {
      "text/plain": [
       "189.13520047333253"
      ]
     },
     "execution_count": 177,
     "metadata": {},
     "output_type": "execute_result"
    }
   ],
   "source": [
    "load_TP_73461 = (rpt_73461['Runoff (CFS)'].mean() * rpt_73461['Total Phosphorous (mg/L)'].mean() * 28.3168 * 38.5*3600) /1000\n",
    "pyswmm_results.at[73461,'TP Load (grams)'] = load_TP_73461\n",
    "pyswmm_results.at[73461,'TP Load (grams)']\n",
    "\n",
    "total_phosphorus_reduction_percentage_73461 = ((310.4631702200066 - load_TP_73461)/310.4631702200066)*100\n",
    "pyswmm_results.at[73461,'TP Load % Reduction'] = total_phosphorus_reduction_percentage_73461\n",
    "pyswmm_results.at[73461,'TP Load % Reduction']\n",
    "\n",
    "total_phosphorus_reduction_73461 = 310.4631702200066 - load_TP_73461\n",
    "pyswmm_results.at[73461,'TP Load Reduction (grams)'] = total_phosphorus_reduction_73461\n",
    "pyswmm_results.at[73461,'TP Load Reduction (grams)']"
   ]
  },
  {
   "cell_type": "markdown",
   "metadata": {},
   "source": [
    "### Mean Runoff"
   ]
  },
  {
   "cell_type": "code",
   "execution_count": 178,
   "metadata": {},
   "outputs": [
    {
     "data": {
      "text/plain": [
       "42.70386343410764"
      ]
     },
     "execution_count": 178,
     "metadata": {},
     "output_type": "execute_result"
    }
   ],
   "source": [
    "mean_runoff_73461= rpt_73461['Runoff (CFS)'].mean()\n",
    "pyswmm_results.at[73461,'Mean Runoff'] = mean_runoff_73461\n",
    "pyswmm_results.at[73461,'Mean Runoff']\n",
    "\n",
    "mean_runoff_reduction_percentage_73461= ((0.35583461538461547-mean_runoff_73461)/0.35583461538461547)*100\n",
    "pyswmm_results.at[73461,'Mean Runoff % Reduction']= mean_runoff_reduction_percentage_73461\n",
    "pyswmm_results.at[73461,'Mean Runoff % Reduction']"
   ]
  },
  {
   "cell_type": "code",
   "execution_count": null,
   "metadata": {},
   "outputs": [],
   "source": []
  },
  {
   "cell_type": "code",
   "execution_count": 179,
   "metadata": {},
   "outputs": [],
   "source": [
    "pyswmm_results['Total_LID_Costs ($)'] = \"\"\n",
    "\n",
    "for subbasin in pyswmm_results.index:\n",
    "    pyswmm_results.at[subbasin,'Total_LID_Costs ($)'] = (subbasin_attributes.at[subbasin,'GreenRoof_Costs']+\n",
    "                                                         subbasin_attributes.at[subbasin,'PermeablePavement_Costs']+\n",
    "                                                         subbasin_attributes.at[subbasin,'RainGarden_Costs']+\n",
    "                                                         subbasin_attributes.at[subbasin,'Bioretention_Costs']+\n",
    "                                                         subbasin_attributes.at[subbasin,'GrassSwale_Costs'])"
   ]
  },
  {
   "cell_type": "code",
   "execution_count": 180,
   "metadata": {},
   "outputs": [],
   "source": [
    "pyswmm_results['Runoff/Area']=\"\"\n",
    "\n",
    "for subbasin in pyswmm_results.index:\n",
    "    pyswmm_results.at[subbasin,'Runoff/Area'] = pyswmm_results.at[subbasin,'Total Runoff (CF)']/pyswmm_results.at[subbasin,'Areas']"
   ]
  },
  {
   "cell_type": "code",
   "execution_count": 181,
   "metadata": {},
   "outputs": [],
   "source": [
    "pyswmm_results['% of Total Volume'] =\"\"\n",
    "\n",
    "for subbasin in pyswmm_results.index:\n",
    "    pyswmm_results.at[subbasin,'% of Total Volume']= (pyswmm_results.at[subbasin,'Total Runoff (CF)']*100/pyswmm_results['Total Runoff (CF)'].sum())"
   ]
  },
  {
   "cell_type": "code",
   "execution_count": 182,
   "metadata": {},
   "outputs": [],
   "source": [
    "pyswmm_results['TN/Area']=\"\"\n",
    "\n",
    "for subbasin in pyswmm_results.index:\n",
    "    pyswmm_results.at[subbasin,'TN/Area']=pyswmm_results.at[subbasin,'TN Load (grams)']/pyswmm_results.at[subbasin,'Areas']"
   ]
  },
  {
   "cell_type": "code",
   "execution_count": 183,
   "metadata": {},
   "outputs": [],
   "source": [
    "pyswmm_results['% of Total TN']=\"\"\n",
    "\n",
    "for subbasin in pyswmm_results.index:\n",
    "    pyswmm_results.at[subbasin,'% of Total TN']=pyswmm_results.at[subbasin,'TN Load (grams)']*100/pyswmm_results['TN Load (grams)'].sum()"
   ]
  },
  {
   "cell_type": "code",
   "execution_count": 184,
   "metadata": {},
   "outputs": [],
   "source": [
    "pyswmm_results['TP/Area']=\"\"\n",
    "\n",
    "for subbasin in pyswmm_results.index:\n",
    "    pyswmm_results.at[subbasin,'TP/Area']=pyswmm_results.at[subbasin,'TP Load (grams)']/pyswmm_results.at[subbasin,'Areas']"
   ]
  },
  {
   "cell_type": "code",
   "execution_count": 185,
   "metadata": {},
   "outputs": [],
   "source": [
    "pyswmm_results['% of Total TP']=\"\"\n",
    "\n",
    "for subbasin in pyswmm_results.index:\n",
    "    pyswmm_results.at[subbasin,'% of Total TP']=pyswmm_results.at[subbasin,'TP Load (grams)']*100/pyswmm_results['TP Load (grams)'].sum()"
   ]
  },
  {
   "cell_type": "code",
   "execution_count": 186,
   "metadata": {},
   "outputs": [],
   "source": [
    "pyswmm_results['Mean Runoff/Area']=\"\"\n",
    "\n",
    "for subbasin in pyswmm_results.index:\n",
    "    pyswmm_results.at[subbasin,'Mean Runoff/Area']=pyswmm_results.at[subbasin, 'Mean Runoff']/ pyswmm_results.at[subbasin,'Areas']"
   ]
  },
  {
   "cell_type": "code",
   "execution_count": 187,
   "metadata": {},
   "outputs": [],
   "source": [
    "pyswmm_results['% of Total Mean Runoff']=\"\"\n",
    "\n",
    "for subbasin in pyswmm_results.index:\n",
    "    pyswmm_results.at[subbasin,'% of Total Mean Runoff']=pyswmm_results.at[subbasin,'Mean Runoff']*100/pyswmm_results['Mean Runoff'].sum()"
   ]
  },
  {
   "cell_type": "code",
   "execution_count": 188,
   "metadata": {},
   "outputs": [],
   "source": [
    "pyswmm_results['% of Peak Runoff']=\"\"\n",
    "\n",
    "for subbasin in pyswmm_results.index:\n",
    "    pyswmm_results.at[subbasin,'% of Peak Runoff'] = pyswmm_results.at[subbasin,'Peak Flow (CFS)']*100/pyswmm_results['Peak Flow (CFS)'].sum()"
   ]
  },
  {
   "cell_type": "code",
   "execution_count": null,
   "metadata": {},
   "outputs": [],
   "source": []
  },
  {
   "cell_type": "code",
   "execution_count": null,
   "metadata": {},
   "outputs": [],
   "source": []
  },
  {
   "cell_type": "markdown",
   "metadata": {},
   "source": [
    "### Subcatchment Costs"
   ]
  },
  {
   "attachments": {},
   "cell_type": "markdown",
   "metadata": {},
   "source": [
    "# Outflow near MC7 (In stream, near outlet of SWMM Model)\n",
    "\n",
    "\n",
    "### No LID Scenario for Comparison\n"
   ]
  },
  {
   "cell_type": "code",
   "execution_count": 189,
   "metadata": {},
   "outputs": [
    {
     "data": {
      "image/png": "[encoded data removed]",
      "text/plain": [
       "<IPython.core.display.Image object>"
      ]
     },
     "execution_count": 189,
     "metadata": {},
     "output_type": "execute_result"
    }
   ],
   "source": [
    "from IPython.display import Image\n",
    "Image(filename=r\"C:\\Users\\R. Seth Herbst\\Desktop\\SWMM Programs and Files\\SWMMIO_Altered_INPUTS\\BaseScenarioOutfallData.PNG\") "
   ]
  },
  {
   "cell_type": "code",
   "execution_count": 190,
   "metadata": {},
   "outputs": [],
   "source": [
    "# Outfall\n",
    "reportColumns = [str(i) for i in np.arange(0,15)]\n",
    "rpt_1405 = pd.read_csv(r'C:\\Users\\R. Seth Herbst\\Desktop\\SWMM Programs and Files\\SWMMIO_Altered_INPUTS\\Meadow_Creek_Hydrology_Model_UpdatedMar2021_Adjusted_SB_Parameters.txt', skiprows = 37646, nrows = 1, sep=\"   |    \", names = reportColumns, header = None, engine = 'python')\n",
    "rpt_1405.dropna(axis = 1, inplace = True); # This might be redundant\n",
    "# Check df.head before renaming the columns\n",
    "rpt_1405.rename(columns = {'0':'Outfall Node','6':'Flow Freq %','7':'Avg Flow (CFS)','8':'Max Flow (CFS)','10':'Total Volume (10^6 Gallons)','12':'Total Nitrogen Load (lbs)','14':'Total Phosphorous Load (lbs)'},inplace = True)"
   ]
  },
  {
   "cell_type": "code",
   "execution_count": 191,
   "metadata": {},
   "outputs": [
    {
     "data": {
      "text/html": [
       "<div>\n",
       "<style scoped>\n",
       "    .dataframe tbody tr th:only-of-type {\n",
       "        vertical-align: middle;\n",
       "    }\n",
       "\n",
       "    .dataframe tbody tr th {\n",
       "        vertical-align: top;\n",
       "    }\n",
       "\n",
       "    .dataframe thead th {\n",
       "        text-align: right;\n",
       "    }\n",
       "</style>\n",
       "<table border=\"1\" class=\"dataframe\">\n",
       "  <thead>\n",
       "    <tr style=\"text-align: right;\">\n",
       "      <th></th>\n",
       "      <th>Outfall Node</th>\n",
       "      <th>Flow Freq %</th>\n",
       "      <th>...</th>\n",
       "      <th>Total Nitrogen Load (lbs)</th>\n",
       "      <th>Total Phosphorous Load (lbs)</th>\n",
       "    </tr>\n",
       "  </thead>\n",
       "  <tbody>\n",
       "    <tr>\n",
       "      <th>0</th>\n",
       "      <td>1405</td>\n",
       "      <td>99.37</td>\n",
       "      <td>...</td>\n",
       "      <td>205.492</td>\n",
       "      <td>65.693</td>\n",
       "    </tr>\n",
       "  </tbody>\n",
       "</table>\n",
       "<p>1 rows × 7 columns</p>\n",
       "</div>"
      ],
      "text/plain": [
       "   Outfall Node  Flow Freq %  ...  Total Nitrogen Load (lbs)  \\\n",
       "0          1405        99.37  ...                    205.492   \n",
       "\n",
       "   Total Phosphorous Load (lbs)  \n",
       "0                        65.693  \n",
       "\n",
       "[1 rows x 7 columns]"
      ]
     },
     "execution_count": 191,
     "metadata": {},
     "output_type": "execute_result"
    }
   ],
   "source": [
    "rpt_1405.head()"
   ]
  },
  {
   "cell_type": "code",
   "execution_count": 192,
   "metadata": {},
   "outputs": [
    {
     "data": {
      "text/plain": [
       "463.49"
      ]
     },
     "execution_count": 192,
     "metadata": {},
     "output_type": "execute_result"
    }
   ],
   "source": [
    "rpt_1405.at[0,'Max Flow (CFS)']"
   ]
  },
  {
   "cell_type": "markdown",
   "metadata": {},
   "source": [
    "## Total_Costs"
   ]
  },
  {
   "cell_type": "code",
   "execution_count": 193,
   "metadata": {},
   "outputs": [
    {
     "data": {
      "text/plain": [
       "11467264"
      ]
     },
     "execution_count": 193,
     "metadata": {},
     "output_type": "execute_result"
    }
   ],
   "source": [
    "outfall_results.at[1405,'Total Costs ($)'] = pyswmm_results['Total_LID_Costs ($)'].sum()\n",
    "\n",
    "outfall_results.at[1405,'Total Costs ($)']"
   ]
  },
  {
   "cell_type": "markdown",
   "metadata": {},
   "source": [
    "## Total Reduction Calculations"
   ]
  },
  {
   "cell_type": "code",
   "execution_count": 194,
   "metadata": {},
   "outputs": [
    {
     "data": {
      "text/plain": [
       "5"
      ]
     },
     "execution_count": 194,
     "metadata": {},
     "output_type": "execute_result"
    }
   ],
   "source": [
    "outfall_results.at[1405,'Total Volume (10^6 Gallons)'] = rpt_1405.at[0,'Total Volume (10^6 Gallons)']\n",
    "\n",
    "volume_reduction = 32.092 - rpt_1405.at[0,'Total Volume (10^6 Gallons)']\n",
    "\n",
    "for o in outfall_results.index:\n",
    "    outfall_results.at[o,'Volume Reduction (10^6 Gallons)'] = volume_reduction\n",
    "outfall_results.at[o,'Volume Reduction (10^6 Gallons)']\n",
    "\n",
    "\n",
    "volume_reduction_percentage = ((32.092- rpt_1405.at[0,'Total Volume (10^6 Gallons)'])/32.092)*100\n",
    "\n",
    "for o in outfall_results.index:\n",
    "    outfall_results.at[o,'Volume Reduction %'] = volume_reduction_percentage\n",
    "outfall_results.at[1405,'Volume Reduction %']"
   ]
  },
  {
   "cell_type": "code",
   "execution_count": 195,
   "metadata": {},
   "outputs": [
    {
     "data": {
      "text/plain": [
       "7"
      ]
     },
     "execution_count": 195,
     "metadata": {},
     "output_type": "execute_result"
    }
   ],
   "source": [
    "outfall_results.at[1405,'Max Flow (CFS)'] = rpt_1405.at[0,'Max Flow (CFS)']\n",
    "\n",
    "peakflow_reduction = 499.1 - rpt_1405.at[0,'Max Flow (CFS)']\n",
    "\n",
    "for o in outfall_results.index:\n",
    "    outfall_results.at[o,'Peak Flow Reduction (CFS)'] = peakflow_reduction\n",
    "    \n",
    "peakflow_reduction_percentage = ((499.1 - rpt_1405.at[0,'Max Flow (CFS)'])/499.1)*100\n",
    "\n",
    "for subbasin in outfall_results.index:\n",
    "    outfall_results.at[o,'Peak Flow Reduction %'] = peakflow_reduction_percentage\n",
    "\n",
    "outfall_results.at[1405,'Peak Flow Reduction %']"
   ]
  },
  {
   "cell_type": "code",
   "execution_count": 196,
   "metadata": {},
   "outputs": [
    {
     "data": {
      "text/plain": [
       "8"
      ]
     },
     "execution_count": 196,
     "metadata": {},
     "output_type": "execute_result"
    }
   ],
   "source": [
    "outfall_results.at[1405,'Total Nitrogen Load (lbs)']= rpt_1405.at[0,'Total Nitrogen Load (lbs)']\n",
    "\n",
    "TN_reduction = 223.84799999999998 - rpt_1405.at[0,'Total Nitrogen Load (lbs)']\n",
    "\n",
    "for o in outfall_results.index:\n",
    "    outfall_results.at[o,'TN Load Reduction (lbs)'] = TN_reduction\n",
    "    \n",
    "TN_reduction_percentage = ((223.84799999999998- rpt_1405.at[0,'Total Nitrogen Load (lbs)'])/223.84799999999998)*100\n",
    "\n",
    "for o in outfall_results.index:\n",
    "    outfall_results.at[o,'TN Load Reduction %'] = TN_reduction_percentage\n",
    "\n",
    "outfall_results.at[1405,'TN Load Reduction %']  "
   ]
  },
  {
   "cell_type": "code",
   "execution_count": 197,
   "metadata": {},
   "outputs": [],
   "source": [
    "outfall_results.at[1405,'Total Phosphorous Loads (lbs)'] = rpt_1405.at[0,'Total Phosphorous Load (lbs)']\n",
    "\n",
    "TP_reduction = 70.872 - rpt_1405.at[0,'Total Phosphorous Load (lbs)']\n",
    "\n",
    "for o in outfall_results.index:\n",
    "    outfall_results.at[o,'TP Load Reduction (lbs)'] = TP_reduction\n",
    "    \n",
    "TP_reduction_percentage = ((70.872 - rpt_1405.at[0,'Total Phosphorous Load (lbs)'])/70.872)*100\n",
    "\n",
    "for o in outfall_results.index:\n",
    "    outfall_results.at[1405,'TP Load Reduction %'] = TP_reduction_percentage\n",
    "\n"
   ]
  },
  {
   "cell_type": "markdown",
   "metadata": {},
   "source": [
    "## Output Files"
   ]
  },
  {
   "cell_type": "code",
   "execution_count": 198,
   "metadata": {},
   "outputs": [],
   "source": [
    "subbasin_attributes.to_csv(r\"C:\\Users\\R. Seth Herbst\\Desktop\\SWMM Programs and Files\\PYTHON CSV files for MC\\FinalDF.csv\", index=True)"
   ]
  },
  {
   "cell_type": "code",
   "execution_count": 200,
   "metadata": {
    "scrolled": true
   },
   "outputs": [],
   "source": [
    "pyswmm_results.to_csv(r\"C:\\Users\\R. Seth Herbst\\Desktop\\SWMM Programs and Files\\PYTHON CSV files for MC\\Target_Subbasin_Analysis.csv\", index=True)"
   ]
  },
  {
   "cell_type": "code",
   "execution_count": 201,
   "metadata": {},
   "outputs": [],
   "source": [
    "outfall_results.to_csv(r\"C:\\Users\\R. Seth Herbst\\Desktop\\SWMM Programs and Files\\PYTHON CSV files for MC\\pyswmm_Outfall_Results.csv\", index=True)"
   ]
  }
 ],
 "metadata": {
  "kernelspec": {
   "display_name": "Python 3",
   "language": "python",
   "name": "python3"
  },
  "language_info": {
   "codemirror_mode": {
    "name": "ipython",
    "version": 3
   },
   "file_extension": ".py",
   "mimetype": "text/x-python",
   "name": "python",
   "nbconvert_exporter": "python",
   "pygments_lexer": "ipython3",
   "version": "3.8.5"
  }
 },
 "nbformat": 4,
 "nbformat_minor": 4
}
